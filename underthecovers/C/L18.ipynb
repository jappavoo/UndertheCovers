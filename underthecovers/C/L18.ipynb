{
 "cells": [
  {
   "cell_type": "code",
   "execution_count": null,
   "id": "13061aca",
   "metadata": {
    "slideshow": {
     "slide_type": "skip"
    },
    "tags": [
     "remove-cell"
    ]
   },
   "outputs": [],
   "source": [
    "%run -i ../python/common.py\n",
    "UC_SKIPTERMS=True\n",
    "%run -i ../python/ln_preamble.py"
   ]
  },
  {
   "cell_type": "markdown",
   "id": "92339c00-a8c6-4fde-818a-b2d4044f5f34",
   "metadata": {
    "slideshow": {
     "slide_type": "slide"
    }
   },
   "source": [
    "# UC-SLS Lecture 18 : Using C to write and organize opcode bytes - Functions"
   ]
  },
  {
   "cell_type": "code",
   "execution_count": null,
   "id": "09c4eb48",
   "metadata": {
    "hide_input": false,
    "tags": [
     "remove-input"
    ]
   },
   "outputs": [],
   "source": [
    "# setup for sumit examples\n",
    "appdir=os.getenv('HOME')\n",
    "appdir=appdir + \"/cfuncs\"\n",
    "#print(movdir)\n",
    "output=runTermCmd(\"[[ -d \" + appdir + \" ]] &&  rm -rf \"+ appdir + \n",
    "             \";mkdir \" + appdir + \n",
    "             \";cp ../src/Makefile ../src/setup.gdb ../src/myadd.c ../src/myadd.h ../src/callmyadd.c ../src/myfunc0.c ../src/myfunc1.c ../src/myfunc2.c ../src/myfunc3.c ../src/main0e.c ../src/main0.c \" + appdir)\n",
    "\n",
    "display(Markdown('''\n",
    "- create a directory `mkdir cfuncs; cd cfuncs`\n",
    "- copy examples\n",
    "- add a `Makefile` to automate assembling and linking\n",
    "    - we are going run the commands by hand this time to highlight the details\n",
    "- add our `setup.gdb` to make working in gdb easier\n",
    "- normally you would want to track everything in git\n",
    "'''))\n",
    "TermShellCmd(\"ls \" + appdir)"
   ]
  },
  {
   "cell_type": "markdown",
   "id": "02a9d76e",
   "metadata": {
    "slideshow": {
     "slide_type": "slide"
    }
   },
   "source": [
    "## Opcodes and C\n",
    "\n",
    "When we write assembly code we are free to layout our opcodes and use registers in any way we like.  \n",
    "- We can place labels anywhere in our opcodes \n",
    "- We can specify a jump to any arbitrary location \n",
    "- While we can use processor support for passing return address via instructions, like `call` and `ret, we are not required too \n",
    "- We are not forced to use the registers in any particular way\n"
   ]
  },
  {
   "cell_type": "markdown",
   "id": "bca362c1",
   "metadata": {
    "slideshow": {
     "slide_type": "slide"
    }
   },
   "source": [
    "### C Standardizes how to organize and write opcodes\n",
    "\n",
    "- Its all about standardizing how things are done\n",
    "    - https://www.uclibc.org/docs/psABI-x86_64.pdf\n",
    "    - this way code written by different people or tools can inter-operate \n",
    "    - there are rules they can rely on \n",
    "- \"C\" forces us to decompose and organize opcodes into \"functions\"\n",
    "  - global label - single entry point\n",
    "  - block of opcodes ending in a \"return\"\n",
    "  - standardizes use of registers \n",
    "  - standardizes use of stack \n",
    "    - call frames - automatic storage of locals\n",
    "  - separation into declaration (many) and definition (one)\n",
    "  - compiler can get smart and optimize functions and variables away\n",
    "    - in-line\n",
    "    - dead-code elimination\n",
    "    - register only variables"
   ]
  },
  {
   "cell_type": "markdown",
   "id": "8fc3680c",
   "metadata": {
    "slideshow": {
     "slide_type": "notes"
    }
   },
   "source": [
    "### C Standardizes how to organize and write opcodes\n",
    "\n",
    "Overall summary\n",
    "\n",
    "- \"C\" forces us to decompose and organize opcodes into \"functions\"\n",
    "- \"C\" functions:\n",
    "  - Have a unique global label that identifies a single starting address for the function\n",
    "     - the label is formed from the function's name which must conform to certain rules\n",
    "  - Form a contiguous block of memory that does not overlap with another function or data\n",
    "     - Therefore they have a clear size in bytes that spans their first opcode to the last\n",
    "  - Are written so that there is a standard way for passing arguments to them \n",
    "     - a fixed way for passing arguments eg. basics on x86_64\n",
    "         - arg1 $\\rightarrow$ `rdi`\n",
    "         - arg2 $\\rightarrow$ `rsi`\n",
    "         - arg3 $\\rightarrow$ `rdx`\n",
    "         - arg4 $\\rightarrow$ `r8`\n",
    "         - arg5 $\\rightarrow$ `r9`\n",
    "         - rest are pushed on stack in reverse order (arg6 is last to be pushed)\n",
    "     - a fixed way for passing a return value eg. basics on x86_64\n",
    "         - return value $\\rightarrow$ `rax`\n",
    "     - details for cpu and OS are in specification documents eg:\n",
    "       - https://www.uclibc.org/docs/psABI-x86_64.pdf\n",
    "  - Execution from a function must end with a return to the next instruction after the call\n",
    "     - eg on x86_64 `call` and `ret` are used \n",
    "  - Support local variables that are automatically managed\n",
    "     - eg. on x86_64 the processor stack is used\n",
    "        - each call to a function creates a new stack frame\n",
    "           - each frame represents a call to a function\n",
    "             - the frame contains a version of the local variables for that call\n",
    "               - thus each call has its own locals\n",
    "               - when a function returns to its call the stack frame for the call is popped\n",
    "        - thus support recursion \n",
    "- Separates declaration from definition\n",
    "    - declaration: only specify its name but does not define any opcodes\n",
    "      - the function declaration is needed to generate the assembly code to call the function\n",
    "      - given the rules above for how arguments are passed and a unique entry point\n",
    "         - compiler can generate the assembly code for a call with the declaration \n",
    "           - does not need the body\n",
    "         - declarations are placed in \"header\" files.\n",
    "         - definitions are placed in \"c\" files.\n",
    "    - definition: repeats the declaration but include a body that defines the functions opcodes\n",
    "      - there can only be one of these \n",
    "- A compiler is allowed to \"inline\" a function if certain optimizations are enabled and criteria are met\n",
    "  - there are times in which the overhead of calling a function is not worth it \n",
    "     - it is better to just create a version of the opcodes in place where the call is being made\n",
    "        - inlined"
   ]
  },
  {
   "cell_type": "markdown",
   "id": "e53b7105",
   "metadata": {
    "slideshow": {
     "slide_type": "slide"
    }
   },
   "source": [
    "### Let's start at the beginning\n",
    "\n",
    "- we will use the compiler and our ability to read assembly code to learn how \"C\" works"
   ]
  },
  {
   "cell_type": "markdown",
   "id": "fc7b2429",
   "metadata": {
    "slideshow": {
     "slide_type": "slide"
    }
   },
   "source": [
    "#### Function Name $\\rightarrow$ global label for its Entry point (start of its opcode)"
   ]
  },
  {
   "cell_type": "code",
   "execution_count": null,
   "id": "289d68b1",
   "metadata": {
    "cell_style": "split",
    "hide_input": true,
    "tags": [
     "remove-input"
    ]
   },
   "outputs": [],
   "source": [
    "display(Markdown(FileCodeBox(\n",
    "    file=appdir + \"/myfunc0.c\", \n",
    "    lang=\"c\", \n",
    "    title=\"<b>C: \",\n",
    "    h=\"100%\", \n",
    "    w=\"107em\"\n",
    ")))\n",
    "TermShellCmd(\"[[ -a myfunc0.s ]] && rm myfunc0.s;make ASFLAGS='' myfunc0.s\", cwd=appdir, prompt='')"
   ]
  },
  {
   "cell_type": "code",
   "execution_count": null,
   "id": "dbaa304b",
   "metadata": {
    "cell_style": "split",
    "hide_input": true,
    "tags": [
     "remove-input"
    ]
   },
   "outputs": [],
   "source": [
    "display(Markdown(FileCodeBox(\n",
    "    file=appdir + \"/myfunc0.s\", \n",
    "    lang=\"gas\", \n",
    "    title=\"<b>Assembly: \",\n",
    "    h=\"100%\", \n",
    "    w=\"107em\"\n",
    ")))"
   ]
  },
  {
   "cell_type": "markdown",
   "id": "f6aaec64",
   "metadata": {},
   "source": [
    "- function name \"myfunc\" introduces a global label `myfunc` in the text section\n",
    "- return type prefixes function `void` is the \"no\" type\n",
    "  - a `void` return type means that the function does not return anything\n",
    "- parenthesis after function name `(` and `)` demarks parameter list\n",
    "  - a `void` in parameter list means function takes no parameters \n",
    "- `{` and `}` demarks body\n",
    "  - a set of statements that will be converted into opcodes\n",
    "  - implicitly every function has at least one statement \n",
    "    - `return` \n",
    "      - if not written the compiler assumes one\n",
    "      - generates instructions to return to the caller \n",
    "         - X86 : `ret`"
   ]
  },
  {
   "cell_type": "markdown",
   "id": "ccb45f7d",
   "metadata": {
    "slideshow": {
     "slide_type": "slide"
    }
   },
   "source": [
    "#### Calling a function"
   ]
  },
  {
   "cell_type": "code",
   "execution_count": null,
   "id": "364c6157",
   "metadata": {
    "cell_style": "split",
    "hide_input": false,
    "tags": [
     "remove-input"
    ]
   },
   "outputs": [],
   "source": [
    "display(Markdown(FileCodeBox(\n",
    "    file=appdir + \"/myfunc1.c\", \n",
    "    lang=\"c\", \n",
    "    title=\"<b>C: \",\n",
    "    h=\"100%\", \n",
    "    w=\"107em\"\n",
    ")))\n",
    "TermShellCmd(\"[[ -a myfunc1.s ]] && rm myfunc1.s;make ASFLAGS='' myfunc1.s\", cwd=appdir, prompt='')"
   ]
  },
  {
   "cell_type": "code",
   "execution_count": null,
   "id": "bc968723",
   "metadata": {
    "cell_style": "split",
    "hide_input": false,
    "tags": [
     "remove-input"
    ]
   },
   "outputs": [],
   "source": [
    "display(Markdown(FileCodeBox(\n",
    "    file=appdir + \"/myfunc1.s\", \n",
    "    lang=\"gas\", \n",
    "    title=\"<b>Assembly \",\n",
    "    h=\"100%\", \n",
    "    w=\"107em\"\n",
    ")))"
   ]
  },
  {
   "cell_type": "markdown",
   "id": "2a448e8a",
   "metadata": {},
   "source": [
    "- avoid compiler for optimizing away noinline and use of return value\n",
    "- exactly what we expected in assembly right?"
   ]
  },
  {
   "cell_type": "markdown",
   "id": "2df784a3",
   "metadata": {
    "cell_style": "center",
    "hide_input": true,
    "slideshow": {
     "slide_type": "slide"
    }
   },
   "source": [
    "### Interlude : _start vs main()\n",
    "\n",
    "- As we have seen the linker marks where execution should begin in our binary via the `_start` symbol\n",
    "- However when we are writing 'C' we normally do not write raw assembly \n",
    "  - all our code is in functions \n",
    "- In the last lectures we wrote our own `_start` in an assembly file that called our C generated assembly \n",
    "  - and linked it by hand avoid all the defaults\n",
    "- However normally we don't do this.\n",
    "  - the C compiler come with some startup code along with the standard C library of functions\n",
    "  - this code is usually in an object files of the name `crt*.o`\n",
    "    - The \"c\" runtime a bunch of code that runs before the code you write\n",
    "      - runs setup code for you initializing c library and other aspects \n",
    "      - when done calls `main` function passing in some standard parameters\n",
    "         - `argc`, `argv` and on Unix `envp`\n",
    "  - use `-v` to see it get added \n",
    "- So lets write a main and use gcc to link it in the \"normal\" way"
   ]
  },
  {
   "cell_type": "code",
   "execution_count": null,
   "id": "c919144e",
   "metadata": {
    "cell_style": "center",
    "hide_input": false,
    "slideshow": {
     "slide_type": "slide"
    },
    "tags": [
     "remove-input"
    ]
   },
   "outputs": [],
   "source": [
    "display(Markdown(FileCodeBox(\n",
    "    file=appdir + \"/main0e.c\", \n",
    "    lang=\"c\", \n",
    "    title=\"<b>C: \",\n",
    "    h=\"100%\", \n",
    "    w=\"107em\"\n",
    ")))\n",
    "TermShellCmd(\"[[ -a main0e.s ]] && rm main0e.s;make ASFLAGS='' main0e.s\", cwd=appdir, prompt='')"
   ]
  },
  {
   "cell_type": "markdown",
   "id": "8000c94a",
   "metadata": {
    "slideshow": {
     "slide_type": "slide"
    }
   },
   "source": [
    "**What's the fix?**"
   ]
  },
  {
   "cell_type": "markdown",
   "id": "d3529ac1",
   "metadata": {
    "slideshow": {
     "slide_type": "slide"
    }
   },
   "source": [
    "#### Function Declarations vs Definitions\n",
    "\n",
    "- When C encounters code that calls another function \n",
    "  - it cannot know how to generate the assembly for the call \n",
    "    - unless it knows \n",
    "      - name\n",
    "      - arguments: type and order\n",
    "      - and return value type\n",
    "  - a function declaration is exactly this - just the signature of the function \n",
    "     - does not generate any code itself just allows calls to be correctly created\n",
    "  - a single definition either in the same file or another that will end up in a .o must exist\n",
    "  - linker will stitch them together"
   ]
  },
  {
   "cell_type": "markdown",
   "id": "422df46b",
   "metadata": {
    "slideshow": {
     "slide_type": "slide"
    }
   },
   "source": [
    "**Add a declaration of `myfunc` that matches its defintion to the `main.c` file**"
   ]
  },
  {
   "cell_type": "markdown",
   "id": "3f8b2704",
   "metadata": {},
   "source": [
    "**Normally we would put this into a header file eg. myfunc0.h**\n",
    "- this way any file in which we want to call `myfunc` in we would simply include the header \n"
   ]
  },
  {
   "cell_type": "code",
   "execution_count": null,
   "id": "a844a7ef",
   "metadata": {
    "cell_style": "split",
    "hide_input": true,
    "slideshow": {
     "slide_type": "-"
    },
    "tags": [
     "remove-input"
    ]
   },
   "outputs": [],
   "source": [
    "display(Markdown(FileCodeBox(\n",
    "    file=appdir + \"/main0.c\", \n",
    "    lang=\"c\", \n",
    "    title=\"<b>C: \",\n",
    "    h=\"100%\", \n",
    "    w=\"107em\"\n",
    ")))\n",
    "TermShellCmd(\"[[ -a main0.s ]] && rm main0.s;make ASFLAGS='' main0.s\", cwd=appdir, prompt='')"
   ]
  },
  {
   "cell_type": "code",
   "execution_count": null,
   "id": "d803007e",
   "metadata": {
    "cell_style": "split",
    "hide_input": true,
    "tags": [
     "remove-input"
    ]
   },
   "outputs": [],
   "source": [
    "display(Markdown(FileCodeBox(\n",
    "    file=appdir + \"/main0.s\", \n",
    "    lang=\"gas\", \n",
    "    title=\"<b>Assembly\",\n",
    "    h=\"100%\", \n",
    "    w=\"107em\"\n",
    ")))"
   ]
  },
  {
   "cell_type": "code",
   "execution_count": null,
   "id": "2f8b48ce",
   "metadata": {
    "tags": [
     "remove-input"
    ]
   },
   "outputs": [],
   "source": [
    "TermShellCmd(\"[[ -a main0 ]] && rm main0;make ASFLAGS='' main0\", cwd=appdir, prompt='')"
   ]
  },
  {
   "cell_type": "markdown",
   "id": "b5be4575",
   "metadata": {},
   "source": [
    "**Lets add the verbose flag so that we can see what is really going on**"
   ]
  },
  {
   "cell_type": "code",
   "execution_count": null,
   "id": "e4ca6adf",
   "metadata": {
    "tags": [
     "remove-input"
    ]
   },
   "outputs": [],
   "source": [
    "TermShellCmd(\"[[ -a main0 ]] && rm main0;make VERBOSE='-v' ASFLAGS='' main0\", cwd=appdir, prompt='')"
   ]
  },
  {
   "cell_type": "markdown",
   "id": "6cb327ca",
   "metadata": {},
   "source": [
    "**Much bigger than we might have expected**"
   ]
  },
  {
   "cell_type": "code",
   "execution_count": null,
   "id": "8e0117ba",
   "metadata": {
    "tags": [
     "remove-input"
    ]
   },
   "outputs": [],
   "source": [
    "TermShellCmd(\"ls -lh main0\", cwd=appdir, prompt='')"
   ]
  },
  {
   "cell_type": "markdown",
   "id": "147ffd0a",
   "metadata": {},
   "source": [
    "**Why so big?**"
   ]
  },
  {
   "cell_type": "markdown",
   "id": "b74959ec",
   "metadata": {
    "slideshow": {
     "slide_type": "slide"
    }
   },
   "source": [
    "1. All the extra stuff\n",
    "2. We have suppressed dynamic link/loading"
   ]
  },
  {
   "cell_type": "markdown",
   "id": "8ccb2990",
   "metadata": {
    "slideshow": {
     "slide_type": "slide"
    }
   },
   "source": [
    "**Normally we just take all this on faith ... but since we know how now let's look at it at least just this once at what all this stuff is**"
   ]
  },
  {
   "cell_type": "code",
   "execution_count": null,
   "id": "4fa492ea",
   "metadata": {
    "tags": [
     "remove-input"
    ]
   },
   "outputs": [],
   "source": [
    "TermShellCmd(\"make  main0.dis\", cwd=appdir, prompt='')"
   ]
  },
  {
   "cell_type": "code",
   "execution_count": null,
   "id": "67d7242a",
   "metadata": {
    "hide_input": true,
    "tags": [
     "remove-input"
    ]
   },
   "outputs": [],
   "source": [
    "display(showET())"
   ]
  },
  {
   "cell_type": "markdown",
   "id": "9a3ff2b6",
   "metadata": {
    "slideshow": {
     "slide_type": "slide"
    }
   },
   "source": [
    "### Variables declared in body of function are function local\n",
    "- If the compiler needs memory for a local variable then it adds it to stack frame for call"
   ]
  },
  {
   "cell_type": "code",
   "execution_count": null,
   "id": "470ca94b",
   "metadata": {
    "cell_style": "split",
    "hide_input": true,
    "tags": [
     "remove-input"
    ]
   },
   "outputs": [],
   "source": [
    "display(Markdown(FileCodeBox(\n",
    "    file=appdir + \"/myfunc2.c\", \n",
    "    lang=\"c\", \n",
    "    title=\"<b>C: \",\n",
    "    h=\"100%\", \n",
    "    w=\"107em\"\n",
    ")))\n",
    "TermShellCmd(\"[[ -a myfunc2.s ]] && rm myfunc2.s;make ASFLAGS='' myfunc2.s\", cwd=appdir, prompt='')"
   ]
  },
  {
   "cell_type": "code",
   "execution_count": null,
   "id": "7053325b",
   "metadata": {
    "cell_style": "split",
    "hide_input": true,
    "tags": [
     "remove-input"
    ]
   },
   "outputs": [],
   "source": [
    "display(Markdown(FileCodeBox(\n",
    "    file=appdir + \"/myfunc2.s\", \n",
    "    lang=\"gas\", \n",
    "    title=\"<b>Assembly \",\n",
    "    h=\"100%\", \n",
    "    w=\"107em\"\n",
    ")))"
   ]
  },
  {
   "cell_type": "markdown",
   "id": "4bb4f3f3",
   "metadata": {},
   "source": [
    "- must play some games to get the compiler to create a local with such simple functions\n",
    "- notice what this code is doing?\n",
    "- `sub rsp, 16` what is this?\n",
    "- what **is** `rsp + 8`\n",
    "- Local variables have not fixed location in memory!\n",
    "- PS this code is dangerous and not something you would normally do\n",
    "  - but C lets you cheat if you want too!"
   ]
  },
  {
   "cell_type": "markdown",
   "id": "9aacedd8",
   "metadata": {
    "slideshow": {
     "slide_type": "-"
    }
   },
   "source": [
    "### LEA\n",
    "<center>\n",
    "<img src=\"../images/C-001/C-001.031.png\" >\n",
    "</center>"
   ]
  },
  {
   "cell_type": "markdown",
   "id": "95bdc4bd",
   "metadata": {
    "slideshow": {
     "slide_type": "slide"
    }
   },
   "source": [
    "### Passing arguments and simple return value\n"
   ]
  },
  {
   "cell_type": "code",
   "execution_count": null,
   "id": "c77a8331",
   "metadata": {
    "cell_style": "split",
    "tags": [
     "remove-input"
    ]
   },
   "outputs": [],
   "source": [
    "display(Markdown(FileCodeBox(\n",
    "    file=appdir + \"/myfunc3.c\", \n",
    "    lang=\"c\", \n",
    "    title=\"<b>C: \",\n",
    "    h=\"100%\", \n",
    "    w=\"107em\"\n",
    ")))\n",
    "TermShellCmd(\"[[ -a myfunc3.s ]] && rm myfunc3.s;make ASFLAGS='' myfunc3.s\", cwd=appdir, prompt='')"
   ]
  },
  {
   "cell_type": "code",
   "execution_count": null,
   "id": "c96baf4c",
   "metadata": {
    "cell_style": "split",
    "tags": [
     "remove-input"
    ]
   },
   "outputs": [],
   "source": [
    "display(Markdown(FileCodeBox(\n",
    "    file=appdir + \"/myfunc3.s\", \n",
    "    lang=\"gas\", \n",
    "    title=\"<b>Assembly \",\n",
    "    h=\"100%\", \n",
    "    w=\"107em\"\n",
    ")))"
   ]
  },
  {
   "cell_type": "markdown",
   "id": "a57581ac",
   "metadata": {},
   "source": [
    "- What is `lea` being used for here?\n",
    "- Why `eax`, `rdi` and `rsi` (`esi`) being used the way they are? "
   ]
  },
  {
   "cell_type": "markdown",
   "id": "9f1611c2",
   "metadata": {
    "slideshow": {
     "slide_type": "-"
    }
   },
   "source": [
    "**LEA**\n",
    "- The compiler is smart and figure out that it can use `lea` for arbitrary math that does not require flags update\n"
   ]
  },
  {
   "cell_type": "markdown",
   "id": "08703619",
   "metadata": {
    "slideshow": {
     "slide_type": "slide"
    }
   },
   "source": [
    "**Why these Register?**"
   ]
  },
  {
   "cell_type": "markdown",
   "id": "8a17bc74",
   "metadata": {
    "slideshow": {
     "slide_type": "slide"
    }
   },
   "source": [
    "<center>\n",
    "<img src=\"../images/C-001/C-001.033.png\" >\n",
    "</center>"
   ]
  },
  {
   "cell_type": "markdown",
   "id": "ee0115a5",
   "metadata": {
    "slideshow": {
     "slide_type": "slide"
    }
   },
   "source": [
    "<center>\n",
    "<img src=\"../images/C-001/C-001.034.png\" >\n",
    "</center>"
   ]
  },
  {
   "cell_type": "markdown",
   "id": "b10c8a75",
   "metadata": {
    "slideshow": {
     "slide_type": "slide"
    }
   },
   "source": [
    "**But remember the real truth or the rules for any given CPU and OS is in a standard somewhere**\n",
    "https://www.uclibc.org/docs/psABI-x86_64.pdf \n",
    "- 3.2.3 Parameter Passing p17\n",
    "- Figure 3.4: Register Usage p21"
   ]
  },
  {
   "cell_type": "markdown",
   "id": "e6d6b9b5",
   "metadata": {
    "slideshow": {
     "slide_type": "slide"
    }
   },
   "source": [
    "<center>\n",
    "<img src=\"../images/C-001/C-001.035.png\" >\n",
    "</center>"
   ]
  },
  {
   "cell_type": "markdown",
   "id": "da0c5c77",
   "metadata": {
    "slideshow": {
     "slide_type": "slide"
    }
   },
   "source": [
    "<center>\n",
    "<img src=\"../images/C-001/C-001.036.png\" >\n",
    "</center>"
   ]
  },
  {
   "cell_type": "markdown",
   "id": "02ba88a8",
   "metadata": {
    "hide_input": true,
    "slideshow": {
     "slide_type": "slide"
    }
   },
   "source": [
    "<center>\n",
    "<img src=\"../images/C-001/C-001.037.png\" >\n",
    "</center>"
   ]
  },
  {
   "cell_type": "markdown",
   "id": "8e20519b",
   "metadata": {
    "hide_input": true,
    "slideshow": {
     "slide_type": "slide"
    }
   },
   "source": [
    "<center>\n",
    "<img src=\"../images/C-001/C-001.038.png\" >\n",
    "</center>"
   ]
  },
  {
   "cell_type": "markdown",
   "id": "1792910f",
   "metadata": {
    "hide_input": true,
    "slideshow": {
     "slide_type": "slide"
    }
   },
   "source": [
    "<center>\n",
    "<img src=\"../images/C-001/C-001.039.png\" >\n",
    "</center>"
   ]
  },
  {
   "cell_type": "markdown",
   "id": "54b0a97c",
   "metadata": {
    "hide_input": true,
    "slideshow": {
     "slide_type": "slide"
    }
   },
   "source": [
    "<center>\n",
    "<img src=\"../images/C-001/C-001.040.png\" >\n",
    "</center>"
   ]
  },
  {
   "cell_type": "markdown",
   "id": "3f36e3c0",
   "metadata": {
    "hide_input": true,
    "slideshow": {
     "slide_type": "slide"
    }
   },
   "source": [
    "<center>\n",
    "<img src=\"../images/C-001/C-001.041.png\" >\n",
    "</center>"
   ]
  },
  {
   "cell_type": "markdown",
   "id": "4a53f279",
   "metadata": {
    "hide_input": true,
    "slideshow": {
     "slide_type": "slide"
    }
   },
   "source": [
    "<center>\n",
    "<img src=\"../images/C-001/C-001.042.png\" >\n",
    "</center>"
   ]
  },
  {
   "cell_type": "markdown",
   "id": "741cd417",
   "metadata": {
    "hide_input": true,
    "slideshow": {
     "slide_type": "slide"
    }
   },
   "source": [
    "<center>\n",
    "<img src=\"../images/C-001/C-001.043.png\" >\n",
    "</center>"
   ]
  },
  {
   "cell_type": "markdown",
   "id": "79642170",
   "metadata": {
    "hide_input": true,
    "slideshow": {
     "slide_type": "slide"
    }
   },
   "source": [
    "<center>\n",
    "<img src=\"../images/C-001/C-001.044.png\" >\n",
    "</center>"
   ]
  },
  {
   "cell_type": "markdown",
   "id": "fa459edd",
   "metadata": {
    "hide_input": true,
    "slideshow": {
     "slide_type": "slide"
    }
   },
   "source": [
    "<center>\n",
    "<img src=\"../images/C-001/C-001.045.png\" >\n",
    "</center>"
   ]
  },
  {
   "cell_type": "markdown",
   "id": "4ad65083",
   "metadata": {
    "hide_input": true,
    "slideshow": {
     "slide_type": "slide"
    }
   },
   "source": [
    "<center>\n",
    "<img src=\"../images/C-001/C-001.046.png\" >\n",
    "</center>"
   ]
  },
  {
   "cell_type": "markdown",
   "id": "290c10e2",
   "metadata": {
    "hide_input": true,
    "slideshow": {
     "slide_type": "slide"
    }
   },
   "source": [
    "<center>\n",
    "<img src=\"../images/C-001/C-001.047.png\" >\n",
    "</center>"
   ]
  },
  {
   "cell_type": "markdown",
   "id": "868b4906",
   "metadata": {
    "hide_input": true,
    "slideshow": {
     "slide_type": "slide"
    }
   },
   "source": [
    "<center>\n",
    "<img src=\"../images/C-001/C-001.048.png\" >\n",
    "</center>"
   ]
  },
  {
   "cell_type": "markdown",
   "id": "ede402fe",
   "metadata": {
    "hide_input": true,
    "slideshow": {
     "slide_type": "slide"
    }
   },
   "source": [
    "<center>\n",
    "<img src=\"../images/C-001/C-001.049.png\" >\n",
    "</center>"
   ]
  },
  {
   "cell_type": "markdown",
   "id": "b074a233",
   "metadata": {
    "hide_input": true,
    "slideshow": {
     "slide_type": "slide"
    }
   },
   "source": [
    "<center>\n",
    "<img src=\"../images/C-001/C-001.050.png\" >\n",
    "</center>"
   ]
  },
  {
   "cell_type": "markdown",
   "id": "3c773337",
   "metadata": {
    "slideshow": {
     "slide_type": "slide"
    }
   },
   "source": [
    "## An example: Trace this code and visualize the stack"
   ]
  },
  {
   "cell_type": "code",
   "execution_count": null,
   "id": "3e5033fc",
   "metadata": {
    "cell_style": "split",
    "hide_input": true,
    "tags": [
     "remove-input"
    ]
   },
   "outputs": [],
   "source": [
    "display(Markdown(FileCodeBox(\n",
    "    file=appdir + \"/myadd.c\", \n",
    "    lang=\"c\", \n",
    "    title=\"<b>C: myadd.c\",\n",
    "    h=\"100%\", \n",
    "    w=\"107em\"\n",
    ")))\n",
    "TermShellCmd(\"[[ -a myadd.s ]] && rm myadd.s;make ASFLAGS='' myadd.s\", cwd=appdir, prompt='')"
   ]
  },
  {
   "cell_type": "code",
   "execution_count": null,
   "id": "3d755beb",
   "metadata": {
    "cell_style": "split",
    "hide_input": true,
    "tags": [
     "remove-input"
    ]
   },
   "outputs": [],
   "source": [
    "display(Markdown(FileCodeBox(\n",
    "    file=appdir + \"/myadd.s\", \n",
    "    lang=\"gas\", \n",
    "    title=\"<b>Assembly \",\n",
    "    h=\"100%\", \n",
    "    w=\"107em\"\n",
    ")))"
   ]
  },
  {
   "cell_type": "code",
   "execution_count": null,
   "id": "6d2cd1b4",
   "metadata": {
    "hide_input": true,
    "tags": [
     "remove-input"
    ]
   },
   "outputs": [],
   "source": [
    "display(Markdown(FileCodeBox(\n",
    "    file=appdir + \"/myadd.h\", \n",
    "    lang=\"c\", \n",
    "    title=\"<b>C: myadd.h\",\n",
    "    h=\"100%\", \n",
    "    w=\"107em\"\n",
    ")))"
   ]
  },
  {
   "cell_type": "code",
   "execution_count": null,
   "id": "f5e01e34",
   "metadata": {
    "cell_style": "split",
    "hide_input": false,
    "tags": [
     "remove-input"
    ]
   },
   "outputs": [],
   "source": [
    "display(Markdown(FileCodeBox(\n",
    "    file=appdir + \"/callmyadd.c\", \n",
    "    lang=\"c\", \n",
    "    title=\"<b>C: callmyadd.c\",\n",
    "    h=\"100%\", \n",
    "    w=\"107em\"\n",
    ")))\n",
    "TermShellCmd(\"[[ -a callmyadd.s ]] && rm callmyadd.s;make ASFLAGS='' callmyadd.s\", cwd=appdir, prompt='')"
   ]
  },
  {
   "cell_type": "code",
   "execution_count": null,
   "id": "77f9bca1",
   "metadata": {
    "cell_style": "split",
    "hide_input": true,
    "tags": [
     "remove-input"
    ]
   },
   "outputs": [],
   "source": [
    "display(Markdown(FileCodeBox(\n",
    "    file=appdir + \"/callmyadd.s\", \n",
    "    lang=\"gas\", \n",
    "    title=\"<b>Assembly \",\n",
    "    h=\"100%\", \n",
    "    w=\"107em\"\n",
    ")))"
   ]
  }
 ],
 "metadata": {
  "celltoolbar": "Slideshow",
  "hide_input": true,
  "kernelspec": {
   "display_name": "Python 3 (ipykernel)",
   "language": "python",
   "name": "python3"
  },
  "language_info": {
   "codemirror_mode": {
    "name": "ipython",
    "version": 3
   },
   "file_extension": ".py",
   "mimetype": "text/x-python",
   "name": "python",
   "nbconvert_exporter": "python",
   "pygments_lexer": "ipython3",
   "version": "3.9.6"
  },
  "rise": {
   "autolaunch": false,
   "enable_chalkboard": true,
   "footer": "UC-SLS -- Lecture 18",
   "header": "C: Organizing Opcodes",
   "height": "100%",
   "scroll": true,
   "start_slideshow_at": "selected",
   "theme": "black",
   "transition": "none",
   "width": "100%"
  }
 },
 "nbformat": 4,
 "nbformat_minor": 5
}
