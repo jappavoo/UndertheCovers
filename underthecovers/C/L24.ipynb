{
 "cells": [
  {
   "cell_type": "markdown",
   "id": "9942e6b4-5a66-48bf-a404-a3263e22be01",
   "metadata": {},
   "source": [
    "# SLS Lecture 24 : Topics"
   ]
  }
 ],
 "metadata": {
  "hide_input": false,
  "kernelspec": {
   "display_name": "Python 3 (ipykernel)",
   "language": "python",
   "name": "python3"
  },
  "language_info": {
   "codemirror_mode": {
    "name": "ipython",
    "version": 3
   },
   "file_extension": ".py",
   "mimetype": "text/x-python",
   "name": "python",
   "nbconvert_exporter": "python",
   "pygments_lexer": "ipython3",
   "version": "3.9.6"
  }
 },
 "nbformat": 4,
 "nbformat_minor": 5
}
