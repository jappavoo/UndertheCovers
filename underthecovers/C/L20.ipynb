{
 "cells": [
  {
   "cell_type": "code",
   "execution_count": null,
   "id": "713c9893",
   "metadata": {
    "slideshow": {
     "slide_type": "skip"
    },
    "tags": [
     "remove-cell"
    ]
   },
   "outputs": [],
   "source": [
    "%run -i ../python/common.py\n",
    "UC_SKIPTERMS=True\n",
    "%run -i ../python/ln_preamble.py"
   ]
  },
  {
   "cell_type": "markdown",
   "id": "50d6bf36-6374-4939-b64e-a60fb92850f3",
   "metadata": {},
   "source": [
    "# UC-SLS Lecture 20 : Using LibC to access the OS and escape the confines our process\n",
    "- Preliminaries\n",
    "  - libraries\n",
    "  - Standard library : `libc.a[.so]`\n",
    "- Address Space management:\n",
    "  - dynamic memory for data items: `malloc` and `free`\n",
    "  - more powerfully control using `mmap` and `munmap`\n",
    "- I/O\n",
    "  - low-level file descriptor based: `open`, `read`, `write`, `close`, `getc`, `getchar`, `gets`, `putc`, `putchar`, `puts`\n",
    "  - Formatted and Buffered IO: `fopen`, `fread`, `fwrite`, `fclose`, `fprintf`/`printf`,\n",
    "  `fscanf`/`scanf`, `fgetc`, `fgets`, `fputs`, `fputc`, `fgetpos`, `fsetpos`, `fseek`, `fflush`, "
   ]
  },
  {
   "cell_type": "code",
   "execution_count": null,
   "id": "0f435bfd",
   "metadata": {
    "hide_input": true,
    "tags": [
     "remove-input"
    ]
   },
   "outputs": [],
   "source": [
    "# setup for sumit examples\n",
    "appdir=os.getenv('HOME')\n",
    "appdir=appdir + \"/libc\"\n",
    "#print(movdir)\n",
    "output=runTermCmd(\"[[ -d \" + appdir + \" ]] &&  rm -rf \"+ appdir + \n",
    "             \";mkdir \" + appdir + \n",
    "             \";cp ../src/Makefile ../src/cexp.c ../src/badmsgcode.c ../src/dynmem.c ../src/dynmemsyscalls.c \" + appdir)\n",
    "\n",
    "display(Markdown('''\n",
    "- create a directory `mkdir libc; cd libc`\n",
    "- copy examples\n",
    "- add a `Makefile` to automate assembling and linking\n",
    "    - we are going run the commands by hand this time to highlight the details\n",
    "- normally you would want to track everything in git\n",
    "'''))\n",
    "TermShellCmd(\"ls \" + appdir)"
   ]
  },
  {
   "cell_type": "markdown",
   "id": "7b14a8d5",
   "metadata": {
    "slideshow": {
     "slide_type": "slide"
    }
   },
   "source": [
    "## Overview"
   ]
  },
  {
   "cell_type": "markdown",
   "id": "7f224232",
   "metadata": {
    "slideshow": {
     "slide_type": "slide"
    }
   },
   "source": [
    "<center>\n",
    "<img src=\"../images/LibC-001.png\" >\n",
    "</center>"
   ]
  },
  {
   "cell_type": "markdown",
   "id": "7fb674cf",
   "metadata": {
    "slideshow": {
     "slide_type": "slide"
    }
   },
   "source": [
    "<center>\n",
    "<img src=\"../images/LibC-002.png\" >\n",
    "</center>"
   ]
  },
  {
   "cell_type": "markdown",
   "id": "9ab3dcac",
   "metadata": {
    "slideshow": {
     "slide_type": "slide"
    }
   },
   "source": [
    "<center>\n",
    "<img src=\"../images/LibC-003.png\" >\n",
    "</center>"
   ]
  },
  {
   "cell_type": "markdown",
   "id": "0b24a62b",
   "metadata": {
    "slideshow": {
     "slide_type": "slide"
    }
   },
   "source": [
    "## Preliminaries \n",
    "### SDKs \n",
    "\n",
    "Developers package and distribute \"native\" code for an specific computer and OS as collection of documentation, header files, and libraries.  We often call this collection a Software Development ToolKit (SDK).  The functions and types defined in an SDK are often referred to as an Application Programmer Interface.  "
   ]
  },
  {
   "cell_type": "markdown",
   "id": "1da49636",
   "metadata": {
    "slideshow": {
     "slide_type": "slide"
    }
   },
   "source": [
    "#### Documentation\n",
    "\n",
    "Developers provide documentation that explains the API in terms of the functions and types that their code provides for your use.  Traditionally on UNIX systems this comprises as set of man pages.  "
   ]
  },
  {
   "cell_type": "markdown",
   "id": "60689749",
   "metadata": {
    "slideshow": {
     "slide_type": "slide"
    }
   },
   "source": [
    "**man complex**"
   ]
  },
  {
   "cell_type": "code",
   "execution_count": null,
   "id": "bdbf14f0",
   "metadata": {
    "hide_input": true,
    "tags": [
     "remove-input"
    ]
   },
   "outputs": [],
   "source": [
    "TermShellCmd(\"man complex\", noposttext=True, markdown=False)"
   ]
  },
  {
   "cell_type": "markdown",
   "id": "003b2187",
   "metadata": {
    "slideshow": {
     "slide_type": "slide"
    }
   },
   "source": [
    "**man cexp**"
   ]
  },
  {
   "cell_type": "code",
   "execution_count": null,
   "id": "38a6079f",
   "metadata": {
    "hide_input": true,
    "tags": [
     "remove-input"
    ]
   },
   "outputs": [],
   "source": [
    "TermShellCmd(\"man cexp\", noposttext=True, markdown=False)"
   ]
  },
  {
   "cell_type": "markdown",
   "id": "2e59c920",
   "metadata": {
    "slideshow": {
     "slide_type": "slide"
    }
   },
   "source": [
    "**Documentation tells us**\n",
    "    \n",
    "0. Tells us how to use the functions, macros and types of a SDK\n",
    "1. What header files we must include in our source to call particular functions\n",
    "2. What libraries we must include when we link"
   ]
  },
  {
   "cell_type": "markdown",
   "id": "84d87abc",
   "metadata": {
    "slideshow": {
     "slide_type": "slide"
    }
   },
   "source": [
    "#### Header files\n",
    "\n",
    "As we discussed to generate assembly for a call to a function compiler must have\n",
    "1. A declaration for a function \n",
    "2. Definitions for all types it requires\n",
    "3. and possibly preprocessor macros \n",
    "\n",
    "The headers files of a library provide these things so that your code can compile with calls to the libraries functions. Remember we use preprocessor `#include <file>` to substitute the contents of `<file>` into our own source."
   ]
  },
  {
   "cell_type": "markdown",
   "id": "a09d9bd4",
   "metadata": {
    "slideshow": {
     "slide_type": "slide"
    }
   },
   "source": [
    "#### Libraries\n",
    "\n",
    "Libraries are a new kind of file for us. The are \"archives\" of object files.\n",
    "\n",
    "Two main types on\n",
    "1. Static archive eg. Linux: `libm.a` \n",
    "2. Dynamic archive eg. Linux: `libm.so` \n",
    "\n",
    "Statically linking requires static library and dynamic linking requires dynamic"
   ]
  },
  {
   "cell_type": "markdown",
   "id": "24bdae6d",
   "metadata": {
    "slideshow": {
     "slide_type": "slide"
    }
   },
   "source": [
    "##### Linker and Libraries\n",
    " \n",
    "We can add a library when we link our executable by passing the right parameters to the linker.  \n",
    "\n",
    "eg.  `-l<name>` will tell linker to use objects from `lib<name>.a` or `lib<name>.so` if it needs too\n",
    "\n",
    "Specifically the library file contains a table of contents with all the object files and symbols define in those objects.  If your our object files reference a symbol that you do not define the linker will look for it in the table of contents.  If there is an object file in the library that defines the symbol it will include the necessary object file as if you had specified as one of your object files."
   ]
  },
  {
   "cell_type": "markdown",
   "id": "28a71b29",
   "metadata": {
    "slideshow": {
     "slide_type": "slide"
    }
   },
   "source": [
    "#### Example"
   ]
  },
  {
   "cell_type": "code",
   "execution_count": null,
   "id": "123cbe07",
   "metadata": {
    "hide_input": false,
    "tags": [
     "remove-input"
    ]
   },
   "outputs": [],
   "source": [
    "display(Markdown('<font size=\"6rem\">' + FileCodeBox(\n",
    "    file=appdir + \"/cexp.c\", \n",
    "    lang=\"c\", \n",
    "    title=\"<b>C: cexp.c\",\n",
    "    h=\"100%\", \n",
    "    w=\"100%\"\n",
    ") + '</font>'))\n",
    "TermShellCmd(\"[[ -a cexp ]] && rm cexp;make cexp\", cwd=appdir, prompt='', noposttext=True)\n",
    "TermShellCmd(\"./cexp\", cwd=appdir, noposttext=True)"
   ]
  },
  {
   "cell_type": "markdown",
   "id": "55c819a1",
   "metadata": {
    "slideshow": {
     "slide_type": "slide"
    }
   },
   "source": [
    "**How does the preprocessor and linker know where to find things**\n",
    "\n",
    "The compiler driver, in our case `gcc` passes parameters to both the preprocessor and linker\n",
    "- `-I <dir>` tells preprocessor to look for header files in `<dir>` \n",
    "   - several standard directories are specified by default\n",
    "     - eg. `-I/usr/include`"
   ]
  },
  {
   "cell_type": "code",
   "execution_count": null,
   "id": "f13fbbd9",
   "metadata": {
    "hide_input": true,
    "tags": [
     "remove-input"
    ]
   },
   "outputs": [],
   "source": [
    "TermShellCmd(\"ls -la /usr/include/math.h /usr/include/stdio.h /usr/include/complex.h\", noposttext=True)"
   ]
  },
  {
   "cell_type": "markdown",
   "id": "daeffdd5",
   "metadata": {
    "hide_input": true,
    "slideshow": {
     "slide_type": "slide"
    }
   },
   "source": [
    "- We can look at look at these files if we want to see the details "
   ]
  },
  {
   "cell_type": "markdown",
   "id": "bbcbddaf",
   "metadata": {
    "slideshow": {
     "slide_type": "slide"
    }
   },
   "source": [
    "- `-L <dir>` similarly tells the linker to look for libraries in `<dir>`\n",
    "  - several standard directories are specified by default\n",
    "       - eg. `-L/usr/lib/x86_64-linux-gnu`"
   ]
  },
  {
   "cell_type": "markdown",
   "id": "4d11de17",
   "metadata": {
    "slideshow": {
     "slide_type": "slide"
    }
   },
   "source": [
    "**The linker map file lets us see all the .o's that got linked in and where they came from**\n"
   ]
  },
  {
   "cell_type": "code",
   "execution_count": null,
   "id": "8636de07",
   "metadata": {
    "hide_input": true,
    "tags": [
     "remove-input"
    ]
   },
   "outputs": [],
   "source": [
    "TermShellCmd(\"head -20 cexp.map \", cwd=appdir, noposttext=True)"
   ]
  },
  {
   "cell_type": "markdown",
   "id": "d5ff9e36",
   "metadata": {
    "slideshow": {
     "slide_type": "slide"
    }
   },
   "source": [
    "**`ar` is a tool for working with static libraries**\n",
    "see `man ar` for details\n",
    "\n",
    "We can use it to list the table of contents of the `.o` in the archive"
   ]
  },
  {
   "cell_type": "code",
   "execution_count": null,
   "id": "6cd269d5",
   "metadata": {
    "hide_input": true,
    "tags": [
     "remove-input"
    ]
   },
   "outputs": [],
   "source": [
    "TermShellCmd(\"ar t /usr/lib/x86_64-linux-gnu/libm-2.31.a | head\", cwd=appdir, noposttext=True)"
   ]
  },
  {
   "cell_type": "markdown",
   "id": "e290b5e7",
   "metadata": {
    "slideshow": {
     "slide_type": "slide"
    }
   },
   "source": [
    "We can even use it to extract a member (just like the linker does when linking)"
   ]
  },
  {
   "cell_type": "code",
   "execution_count": null,
   "id": "0e03034a",
   "metadata": {
    "hide_input": true,
    "tags": [
     "remove-input"
    ]
   },
   "outputs": [],
   "source": [
    "TermShellCmd(\"ar x /usr/lib/x86_64-linux-gnu/libm-2.31.a s_cexp.o; ls -l s_cexp.o\", cwd=appdir, noposttext=True)"
   ]
  },
  {
   "cell_type": "markdown",
   "id": "d51672d8",
   "metadata": {
    "slideshow": {
     "slide_type": "slide"
    }
   },
   "source": [
    "**And no surprise it is an object file like the kind we have been creating**"
   ]
  },
  {
   "cell_type": "code",
   "execution_count": null,
   "id": "7e8bb5d2",
   "metadata": {
    "hide_input": true,
    "tags": [
     "remove-input"
    ]
   },
   "outputs": [],
   "source": [
    "TermShellCmd(\"objdump -d -Mintel s_cexp.o | head -20\", cwd=appdir, noposttext=True)"
   ]
  },
  {
   "cell_type": "markdown",
   "id": "f52b068c",
   "metadata": {
    "slideshow": {
     "slide_type": "slide"
    }
   },
   "source": [
    "**What about `_start`, `atof` and `fprintf`**\n",
    "\n",
    "- Where did they come from????\n",
    "   - Lets look for them in the map file\n",
    "      - map file can even tell not only what file a symbol came from but also where it ends up being placed in the memory image of our executable"
   ]
  },
  {
   "cell_type": "code",
   "execution_count": null,
   "id": "18c6157c",
   "metadata": {
    "hide_input": true,
    "slideshow": {
     "slide_type": "fragment"
    },
    "tags": [
     "remove-input"
    ]
   },
   "outputs": [],
   "source": [
    "TermShellCmd(\"grep -B 1 ' _start$' cexp.map\", cwd=appdir, noposttext=True)"
   ]
  },
  {
   "cell_type": "code",
   "execution_count": null,
   "id": "226bfd36",
   "metadata": {
    "hide_input": true,
    "slideshow": {
     "slide_type": "fragment"
    },
    "tags": [
     "remove-input"
    ]
   },
   "outputs": [],
   "source": [
    "TermShellCmd(\"grep -B 1 ' atof$' cexp.map\", cwd=appdir, noposttext=True)"
   ]
  },
  {
   "cell_type": "code",
   "execution_count": null,
   "id": "04a6374b",
   "metadata": {
    "hide_input": true,
    "slideshow": {
     "slide_type": "fragment"
    },
    "tags": [
     "remove-input"
    ]
   },
   "outputs": [],
   "source": [
    "TermShellCmd(\"grep -B 1 ' fprintf$' cexp.map\", cwd=appdir, noposttext=True)"
   ]
  },
  {
   "cell_type": "markdown",
   "id": "3fdfef51",
   "metadata": {
    "slideshow": {
     "slide_type": "slide"
    }
   },
   "source": [
    "#### Defaults\n",
    "\n",
    "- C compiler driver ensures that we always link against a set of standard object files and libraries\n",
    "- But the core one is `libc` -- The C standard library!\n"
   ]
  },
  {
   "cell_type": "markdown",
   "id": "1ebc1c34",
   "metadata": {
    "slideshow": {
     "slide_type": "slide"
    }
   },
   "source": [
    "## C Standard Library `libc` (`-lc`)"
   ]
  },
  {
   "cell_type": "markdown",
   "id": "e084d164",
   "metadata": {},
   "source": [
    "The C standard library was developed at the same time as the core language\n",
    "- There are standards a C compiler and C standard library implementation can conform too\n",
    "  - eg. https://www.iso.org/standard/17782.html\n",
    "- The gnu C compiler `gcc` has its associated gnu libc `glibc`\n",
    "  - https://www.gnu.org/software/libc/manual/html_node/index.html\n",
    "  - These are the standards it conforms too\n",
    "    - https://www.gnu.org/software/libc/manual/html_node/Standards-and-Portability.html#Standards-and-Portability"
   ]
  },
  {
   "cell_type": "markdown",
   "id": "ae8ea803",
   "metadata": {
    "slideshow": {
     "slide_type": "slide"
    }
   },
   "source": [
    "### Overview\n",
    "\n",
    "- The C Standard library is very large and provides many categories of routines"
   ]
  },
  {
   "cell_type": "markdown",
   "id": "75de801c",
   "metadata": {
    "slideshow": {
     "slide_type": "slide"
    }
   },
   "source": [
    "- We will only consider a small fraction of its functionality\n",
    "  2. Dynamic Memory Management \n",
    "  3. Basic overview of IO"
   ]
  },
  {
   "cell_type": "markdown",
   "id": "59ceaba3",
   "metadata": {
    "slideshow": {
     "slide_type": "slide"
    }
   },
   "source": [
    "### Dynamic Memory Management\n",
    "- https://www.gnu.org/software/libc/manual/html_mono/libc.html#Memory-Concepts\n",
    "- https://www.gnu.org/software/libc/manual/html_mono/libc.html#Dynamic-Memory-Allocation\n",
    "    - C Language has no built in support for Dynamic Memory Variables \n",
    "    - other than automatics (function local variables and function parameters)\n",
    "  - Must use system calls to get and remove memory from the process\n",
    "  - Must use pointers to track it"
   ]
  },
  {
   "cell_type": "markdown",
   "id": "78bfeaf0",
   "metadata": {
    "slideshow": {
     "slide_type": "slide"
    }
   },
   "source": [
    "#### Two categories\n",
    "\n",
    "LibC provides routines that give a programmer the ability to dynamically allocate memory \n",
    "- The Memory Allocator (https://www.gnu.org/software/libc/manual/html_mono/libc.html#The-GNU-Allocator)\n",
    "  - It calls the OS system calls for the programmer \n",
    "    - There is a lot of subtlety to implementing a high performance memory allocator\n",
    "  - Basic idea is \n",
    "    1. The allocator code in libc `malloc` and `free` are called by the application code\n",
    "    2. These routines allocate large chucks of memory from the OS\n",
    "    3. They then break these large chucks down handing out pieces as requested by `malloc` calls\n",
    "    4. And coaleasing pieces back into the chucks when `free` is called\n",
    "    5. If large requests are made the libc routines call OS to create a separate mappings for these\n",
    "    6. Similarly if these large requests are freed they immediately free them to the OS\n",
    "- Directly calling `mmap` or `brk`"
   ]
  },
  {
   "cell_type": "markdown",
   "id": "6220dca3",
   "metadata": {
    "slideshow": {
     "slide_type": "notes"
    }
   },
   "source": [
    "#### Main calls\n",
    "- https://www.gnu.org/software/libc/manual/html_node/Summary-of-Malloc.html#Summary-of-Malloc\n",
    "\n",
    "```\n",
    "void *malloc (size_t size)\n",
    "// Allocate a block of size bytes. See Basic Allocation.\n",
    "\n",
    "void free (void *addr)\n",
    "// Free a block previously allocated by malloc. See Freeing after Malloc.\n",
    "\n",
    "void *realloc (void *addr, size_t size)\n",
    "// Make a block previously allocated by malloc larger or smaller, possibly by copying it to a new location. See Changing Block Size.\n",
    "\n",
    "void *reallocarray (void *ptr, size_t nmemb, size_t size)\n",
    "// Change the size of a block previously allocated by malloc to nmemb * size bytes as with realloc. See Changing Block Size.\n",
    "\n",
    "void *calloc (size_t count, size_t eltsize)\n",
    "//Allocate a block of count * eltsize bytes using malloc, and set its contents to zero. See Allocating Cleared Space.\n",
    "\n",
    "void *valloc (size_t size)\n",
    "// Allocate a block of size bytes, starting on a page boundary. See Aligned Memory Blocks.\n",
    "\n",
    "void *aligned_alloc (size_t size, size_t alignment)\n",
    "// Allocate a block of size bytes, starting on an address that is a multiple of alignment. See Aligned Memory Blocks.\n",
    "\n",
    "int posix_memalign (void **memptr, size_t alignment, size_t size)\n",
    "// Allocate a block of size bytes, starting on an address that is a multiple of alignment. See Aligned Memory Blocks.\n",
    "\n",
    "void *memalign (size_t size, size_t boundary)\n",
    "//Allocate a block of size bytes, starting on an address that is a multiple of boundary. See Aligned Memory Blocks.\n",
    "\n",
    "int mallopt (int param, int value)\n",
    "// Adjust a tunable parameter. See Malloc Tunable Parameters.\n",
    "\n",
    "int mcheck (void (*abortfn) (void))\n",
    "// Tell malloc to perform occasional consistency checks on dynamically allocated memory, and to call abortfn when an inconsistency is found. See Heap Consistency Checking.\n",
    "\n",
    "struct mallinfo2 mallinfo2 (void)\n",
    "// Return information about the current dynamic memory usage. See Statistics of Malloc.\n",
    "```"
   ]
  },
  {
   "cell_type": "markdown",
   "id": "05a41eb0",
   "metadata": {
    "slideshow": {
     "slide_type": "slide"
    }
   },
   "source": [
    "### Explore with an example"
   ]
  },
  {
   "cell_type": "markdown",
   "id": "269b88b7",
   "metadata": {},
   "source": [
    "#### man malloc"
   ]
  },
  {
   "cell_type": "code",
   "execution_count": null,
   "id": "2586ba8a",
   "metadata": {},
   "outputs": [],
   "source": [
    "TermShellCmd(\"man 3 malloc\", noposttext=True, markdown=False)"
   ]
  },
  {
   "cell_type": "markdown",
   "id": "0649ed62",
   "metadata": {
    "slideshow": {
     "slide_type": "slide"
    }
   },
   "source": [
    "**What does this code do?**\n",
    "- What do you think will happen?"
   ]
  },
  {
   "cell_type": "code",
   "execution_count": null,
   "id": "6b3153bf",
   "metadata": {
    "hide_input": false,
    "slideshow": {
     "slide_type": "-"
    },
    "tags": [
     "remove-input"
    ]
   },
   "outputs": [],
   "source": [
    "display(Markdown(\"<font size='6.5em'>\" + FileCodeBox(\n",
    "    file=appdir + \"/dynmem.c\", \n",
    "    lang=\"c\", \n",
    "    title=\"<b>C: dynmem.c\",\n",
    "    h=\"100%\", \n",
    "    w=\"100%\"\n",
    ")+\"</font>\"))\n",
    "TermShellCmd(\"[[ -a dynmem ]] && rm dynmem;make dynmem\", cwd=appdir, prompt='', noposttext=True)"
   ]
  },
  {
   "cell_type": "code",
   "execution_count": null,
   "id": "526f7f9f",
   "metadata": {
    "tags": [
     "remove-input"
    ]
   },
   "outputs": [],
   "source": [
    "display(showDT())"
   ]
  },
  {
   "cell_type": "markdown",
   "id": "2bca27de",
   "metadata": {
    "slideshow": {
     "slide_type": "notes"
    }
   },
   "source": [
    "- demonstrate strace ./dynmem\n",
    "  - what do you expect to see\n",
    "Use debugger \n",
    "  - use `jump` command and `set var n=X` to execute several malloc calls\n",
    "  - explore /proc/<pid>/maps\n",
    "  - set breakpoints on malloc, sbrk, brk, \n",
    "    - disass - brk easy see syscall\n",
    "    - break on syscall instruction - look at maps\n",
    "    - use where to show call chains\n",
    "- then add below and use strace\n",
    "\n",
    "```c\n",
    "#include <stdlib.h>\n",
    "#include <unistd.h>\n",
    "\n",
    "// Use debugger to explore what happens                                            \n",
    "\n",
    "int\n",
    "main(int argc, char **argv)\n",
    "{\n",
    "  char *cptr;\n",
    "  char c;\n",
    "\n",
    "  read(0, &c, 1);\n",
    "\n",
    "  int n = 4096;\n",
    "  cptr = malloc(n);\n",
    "  read(0, &c, 1);\n",
    "\n",
    "  n = 1024 * 1024  * 1024;\n",
    "  cptr = malloc(n);\n",
    "  read(0, &c, 1);\n",
    "\n",
    "  n = 1024 * 1024  * 1024;\n",
    "  cptr = malloc(n);\n",
    "  read(0, &c, 1);\n",
    "\n",
    "  free(cptr);\n",
    "  return 0;\n",
    "}\n",
    "```"
   ]
  },
  {
   "cell_type": "markdown",
   "id": "24712750",
   "metadata": {
    "slideshow": {
     "slide_type": "slide"
    }
   },
   "source": [
    "#### LibC typically C wrappers for OS system calls and support for making syscalls directly in C\n"
   ]
  },
  {
   "cell_type": "markdown",
   "id": "fd98f3c4",
   "metadata": {},
   "source": [
    "**libc provides C wrappers for system calls**\n",
    "\n",
    "- Wrappers expose C function interface for system calls of the OS\n",
    "- You can lookup C version and simply call it like any other C function call\n",
    "  - implementation in libc takes care of all the assembly stuff for you\n",
    "    - putting parameters in the right registers\n",
    "    - filling in the system call number"
   ]
  },
  {
   "cell_type": "markdown",
   "id": "d1ac894f",
   "metadata": {
    "slideshow": {
     "slide_type": "slide"
    }
   },
   "source": [
    "**man 2 syscalls**"
   ]
  },
  {
   "cell_type": "code",
   "execution_count": null,
   "id": "4f5398b4",
   "metadata": {
    "tags": [
     "remove-input"
    ]
   },
   "outputs": [],
   "source": [
    "TermShellCmd(\"man 2 syscalls|head -80\", noposttext=True, markdown=False)"
   ]
  },
  {
   "cell_type": "markdown",
   "id": "d26385bd",
   "metadata": {
    "slideshow": {
     "slide_type": "slide"
    }
   },
   "source": [
    "**man 2 brk**"
   ]
  },
  {
   "cell_type": "code",
   "execution_count": null,
   "id": "78532fa3",
   "metadata": {
    "hide_input": false,
    "tags": [
     "remove-input"
    ]
   },
   "outputs": [],
   "source": [
    "TermShellCmd(\"man 2 brk\", noposttext=True, markdown=False)"
   ]
  },
  {
   "cell_type": "markdown",
   "id": "275e0757",
   "metadata": {
    "slideshow": {
     "slide_type": "slide"
    }
   },
   "source": [
    "**glibc also has support for using the syscall instruction in C**"
   ]
  },
  {
   "cell_type": "markdown",
   "id": "31134d14",
   "metadata": {
    "hide_input": true
   },
   "source": [
    "**man 2 syscall**"
   ]
  },
  {
   "cell_type": "code",
   "execution_count": null,
   "id": "73b21bbf",
   "metadata": {
    "hide_input": true,
    "tags": [
     "remove-input"
    ]
   },
   "outputs": [],
   "source": [
    "TermShellCmd(\"man 2 syscall\", noposttext=True, markdown=False)"
   ]
  },
  {
   "cell_type": "markdown",
   "id": "200e0dee",
   "metadata": {
    "slideshow": {
     "slide_type": "slide"
    }
   },
   "source": [
    "**In the following example we will call brk directly rather than letting malloc call it**\n",
    "\n",
    "Do not do this -- you can screw up malloc only for example purposes\n"
   ]
  },
  {
   "cell_type": "code",
   "execution_count": null,
   "id": "82abbdd5",
   "metadata": {
    "hide_input": true,
    "slideshow": {
     "slide_type": "slide"
    },
    "tags": [
     "remove-input"
    ]
   },
   "outputs": [],
   "source": [
    "display(Markdown('<font size=\"6rem\">' + FileCodeBox(\n",
    "    file=appdir + \"/dynmemsyscalls.c\", \n",
    "    lang=\"c\", \n",
    "    title=\"<b>C: dynmemsyscalls.c\",\n",
    "    h=\"100%\", \n",
    "    w=\"107em\"\n",
    ") + \"</font>\"))\n",
    "TermShellCmd(\"[[ -a dynmemsyscalls ]] && rm dynmemsyscalls;make dynmemsyscalls\", cwd=appdir, prompt='', noposttext=True)"
   ]
  },
  {
   "cell_type": "markdown",
   "id": "7f40a24c",
   "metadata": {
    "hide_input": true,
    "slideshow": {
     "slide_type": "slide"
    }
   },
   "source": [
    "#### You can use `mmap` and `munmap` in your C programs to manage your own  dynamic address space mapping\n"
   ]
  },
  {
   "cell_type": "markdown",
   "id": "61bd6f8f",
   "metadata": {
    "slideshow": {
     "slide_type": "slide"
    }
   },
   "source": [
    "**man mmap**\n",
    "\n",
    "It is very powerful but also has a lot of parameters "
   ]
  },
  {
   "cell_type": "code",
   "execution_count": null,
   "id": "2c225cad",
   "metadata": {
    "hide_input": true,
    "tags": [
     "remove-input"
    ]
   },
   "outputs": [],
   "source": [
    "TermShellCmd(\"man 2 mmap|head -40\", noposttext=True, markdown=False)"
   ]
  },
  {
   "cell_type": "markdown",
   "id": "6ce06bc9",
   "metadata": {
    "slideshow": {
     "slide_type": "slide"
    }
   },
   "source": [
    "### Under the covers `malloc`, `free` and friends\n",
    "- are calling `brk`, `mmap` and `munmap` \n",
    "- you and your code does not need to deal with the details\n",
    "  - rather a simpler interface that is consistent across CPU types and OS\n",
    "    - get me `n` bytes of memory and return a pointer to it \n",
    "    - give back memory at this address"
   ]
  },
  {
   "cell_type": "markdown",
   "id": "fb635513",
   "metadata": {
    "slideshow": {
     "slide_type": "slide"
    }
   },
   "source": [
    "#### Important points about dynamic memory\n",
    "\n",
    "What is wrong with this code?"
   ]
  },
  {
   "cell_type": "code",
   "execution_count": null,
   "id": "cbc98087",
   "metadata": {
    "hide_input": true,
    "tags": [
     "remove-input"
    ]
   },
   "outputs": [],
   "source": [
    "display(Markdown('<font size=\"6rem\">' + FileCodeBox(\n",
    "    file=appdir + \"/badmsgcode.c\", \n",
    "    lang=\"c\", \n",
    "    title=\"<b>C: badmsgcode.c\",\n",
    "    h=\"100%\", \n",
    "    w=\"100%\"\n",
    ") + \"</font>\"))\n",
    "TermShellCmd(\"[[ -a badmsgcode.o ]] && rm badmsgcode.o;make badmsgcode.o\", cwd=appdir, prompt='', noposttext=True)"
   ]
  },
  {
   "cell_type": "markdown",
   "id": "c1c90b08",
   "metadata": {},
   "source": [
    "- this is why higher level languages have a lot of code to hide the details of dynamic memory\n",
    "  - reference counting\n",
    "  - garbage collectors"
   ]
  },
  {
   "cell_type": "markdown",
   "id": "05f6b9f1",
   "metadata": {
    "slideshow": {
     "slide_type": "slide"
    }
   },
   "source": [
    "## Layers\n",
    "\n",
    "What we see is a general pattern of layering\n",
    "\n",
    "- Assembly is at the bottom\n",
    "- OS kernel provides an assembly interface to its routines \n",
    "  - x86 Linux system calls invoked via `syscall` instruction and the right register values\n",
    "- lowest layer of libc routines provides wrappers\n",
    "- The other lib routines build on these to add more functionality eg. `malloc` and `free`\n",
    "  - thus programmers and C applications are isolated from details of OS syscalls\n",
    "    - simply need to learn libc which is ported to each computer OS pair"
   ]
  },
  {
   "cell_type": "markdown",
   "id": "a993c3c9",
   "metadata": {
    "slideshow": {
     "slide_type": "slide"
    }
   },
   "source": [
    "## IO is no different\n",
    "\n",
    "### Lowest layer is wrappers for core UNIX I/O routines\n",
    "\n",
    "- `open`, `close`, `read`, `write`, `dup`, `mkdir`, `exec`, `mmap`\n",
    "\n",
    "### A layer up buffered and formated I/O\n",
    "\n",
    "- `fopen`, `fclose`, `fread`, `fwrite`, \n",
    "- `fprintf`/`printf`, `fscanf`/`scanf`\n"
   ]
  }
 ],
 "metadata": {
  "celltoolbar": "Slideshow",
  "hide_input": true,
  "kernelspec": {
   "display_name": "Python 3 (ipykernel)",
   "language": "python",
   "name": "python3"
  },
  "language_info": {
   "codemirror_mode": {
    "name": "ipython",
    "version": 3
   },
   "file_extension": ".py",
   "mimetype": "text/x-python",
   "name": "python",
   "nbconvert_exporter": "python",
   "pygments_lexer": "ipython3",
   "version": "3.9.6"
  },
  "rise": {
   "autolaunch": false,
   "enable_chalkboard": true,
   "footer": "UC-SLS -- Lecture 18",
   "header": "C: Organizing Opcodes",
   "height": "100%",
   "scroll": true,
   "start_slideshow_at": "selected",
   "theme": "black",
   "transition": "none",
   "width": "100%"
  }
 },
 "nbformat": 4,
 "nbformat_minor": 5
}
