{
 "cells": [
  {
   "cell_type": "code",
   "execution_count": null,
   "id": "6bced946",
   "metadata": {
    "hide_input": true,
    "slideshow": {
     "slide_type": "skip"
    },
    "tags": [
     "remove-cell"
    ]
   },
   "outputs": [],
   "source": [
    "%run -i ../python/common.py\n",
    "UC_SKIPTERMS=True\n",
    "%run -i ../python/ln_preamble.py"
   ]
  },
  {
   "cell_type": "code",
   "execution_count": null,
   "id": "981e4e41",
   "metadata": {},
   "outputs": [],
   "source": []
  },
  {
   "cell_type": "markdown",
   "id": "bac1233e-ac28-43b6-a59a-c5c29c2bb4ff",
   "metadata": {
    "slideshow": {
     "slide_type": "slide"
    }
   },
   "source": [
    "# UC-SLS Lecuture 17 : In to the Light - C Intro"
   ]
  },
  {
   "cell_type": "code",
   "execution_count": null,
   "id": "53c473cc",
   "metadata": {
    "hide_input": true,
    "tags": [
     "remove-input"
    ]
   },
   "outputs": [],
   "source": [
    "# setup for sumit examples\n",
    "appdir=os.getenv('HOME')\n",
    "appdir=appdir + \"/cintro\"\n",
    "#print(movdir)\n",
    "output=runTermCmd(\"[[ -d \" + appdir + \" ]] &&  rm -rf \"+ appdir + \n",
    "             \";mkdir \" + appdir + \n",
    "             \";cp ../src/Makefile ../src/setup.gdb ../src/myfunc0.c ../src/usecsumit1.S ../src/csumit1.c ../src/10.nums ../src/misc.h ../src/loop.c \" + appdir)\n",
    "\n",
    "display(Markdown('''\n",
    "- create a directory `mkdir cintro; cd cintro`\n",
    "- copy examples\n",
    "- add a `Makefile` to automate assembling and linking\n",
    "    - we are going run the commands by hand this time to highlight the details\n",
    "- add our `setup.gdb` to make working in gdb easier\n",
    "- normally you would want to track everything in git\n",
    "'''))\n",
    "TermShellCmd(\"ls \" + appdir)"
   ]
  },
  {
   "cell_type": "markdown",
   "id": "54481b1f",
   "metadata": {
    "slideshow": {
     "slide_type": "slide"
    }
   },
   "source": [
    "## What are some the downsides of Assembly Programming?\n"
   ]
  },
  {
   "cell_type": "markdown",
   "id": "76685424",
   "metadata": {
    "slideshow": {
     "slide_type": "slide"
    }
   },
   "source": [
    "1. The human burden of assembly programming and programmer lock in\n",
    "2. The code we write is locked to a specific CPU\n",
    "3. The code we write is locked to a specific OS\n"
   ]
  },
  {
   "cell_type": "markdown",
   "id": "cf0c280d",
   "metadata": {
    "slideshow": {
     "slide_type": "slide"
    }
   },
   "source": [
    "## High level languages\n",
    "\n",
    "- downsides\n",
    "- lets look at python"
   ]
  },
  {
   "cell_type": "markdown",
   "id": "513bb388",
   "metadata": {
    "slideshow": {
     "slide_type": "slide"
    }
   },
   "source": [
    "## The ToolChain"
   ]
  },
  {
   "cell_type": "markdown",
   "id": "4b540576",
   "metadata": {
    "slideshow": {
     "slide_type": "slide"
    }
   },
   "source": [
    "<center>\n",
    "<img src=\"../images/C-001/C-001.001.png\" >\n",
    "</center>"
   ]
  },
  {
   "cell_type": "markdown",
   "id": "69c247f5",
   "metadata": {
    "slideshow": {
     "slide_type": "slide"
    }
   },
   "source": [
    "<center>\n",
    "<img src=\"../images/C-001/C-001.002.png\" >\n",
    "</center>"
   ]
  },
  {
   "cell_type": "markdown",
   "id": "afd45470",
   "metadata": {
    "slideshow": {
     "slide_type": "slide"
    }
   },
   "source": [
    "<center>\n",
    "<img src=\"../images/C-001/C-001.003.png\" >\n",
    "</center>"
   ]
  },
  {
   "cell_type": "markdown",
   "id": "f43e82de",
   "metadata": {
    "slideshow": {
     "slide_type": "slide"
    }
   },
   "source": [
    "<center>\n",
    "<img src=\"../images/C-001/C-001.004.png\" >\n",
    "</center>"
   ]
  },
  {
   "cell_type": "markdown",
   "id": "e2919513",
   "metadata": {
    "slideshow": {
     "slide_type": "slide"
    }
   },
   "source": [
    "## ToolChain in action: A simple C version of sumit"
   ]
  },
  {
   "cell_type": "code",
   "execution_count": null,
   "id": "78bb04c4",
   "metadata": {
    "cell_style": "split",
    "hide_input": false,
    "tags": [
     "remove-input"
    ]
   },
   "outputs": [],
   "source": [
    "display(Markdown(FileCodeBox(\n",
    "    file=\"../src/csumit1.c\", \n",
    "    lang=\"c\", \n",
    "    title=\"<b>CODE: csumit1.c\",\n",
    "    h=\"100%\", \n",
    "    w=\"107em\"\n",
    ")))"
   ]
  },
  {
   "cell_type": "code",
   "execution_count": null,
   "id": "e8b4b449",
   "metadata": {
    "cell_style": "split",
    "hide_input": true,
    "tags": [
     "remove-input"
    ]
   },
   "outputs": [],
   "source": [
    "display(Markdown(FileCodeBox(\n",
    "    file=\"../src/usecsumit1.S\", \n",
    "    lang=\"c\", \n",
    "    title=\"<b>CODE: usecsumit1.S\",\n",
    "    h=\"100%\", \n",
    "    w=\"107em\"\n",
    ")))"
   ]
  },
  {
   "cell_type": "markdown",
   "id": "7a0aa04f",
   "metadata": {
    "slideshow": {
     "slide_type": "slide"
    }
   },
   "source": [
    "### Run Assembler on usecsumit1.S\n",
    "**Use assembler as expected to `usecsumit1.S` $\\rightarrow$ `usecsumit1.o`"
   ]
  },
  {
   "cell_type": "code",
   "execution_count": null,
   "id": "f19efde0",
   "metadata": {
    "hide_input": false,
    "tags": [
     "remove-input"
    ]
   },
   "outputs": [],
   "source": [
    "TermShellCmd(\"[[ -a usecsumit1.o ]] && rm usecsumit1.o;make ASFLAGS='' usecsumit1.o\", cwd=appdir, prompt='')"
   ]
  },
  {
   "cell_type": "code",
   "execution_count": null,
   "id": "97bd6fa1",
   "metadata": {
    "hide_input": true,
    "tags": [
     "remove-input"
    ]
   },
   "outputs": [],
   "source": [
    "TermShellCmd(\"ls -l usecsumit1.o\", cwd=appdir, noposttext=True)"
   ]
  },
  {
   "cell_type": "markdown",
   "id": "707a58c6",
   "metadata": {
    "hide_input": true,
    "slideshow": {
     "slide_type": "slide"
    }
   },
   "source": [
    "### Run Compiler on csumit.c\n",
    "\n",
    "**A New Step - compile for `csumit1.c` $\\rightarrow$ `csumit1.s`**"
   ]
  },
  {
   "cell_type": "code",
   "execution_count": null,
   "id": "91b5e6aa",
   "metadata": {
    "hide_input": true,
    "tags": [
     "remove-input"
    ]
   },
   "outputs": [],
   "source": [
    "TermShellCmd(\"[[ -a csumit1.s ]] && rm csumit1.s; make csumit1.s\", cwd=appdir, prompt='')"
   ]
  },
  {
   "cell_type": "code",
   "execution_count": null,
   "id": "fa103b5f",
   "metadata": {
    "hide_input": true,
    "tags": [
     "remove-input"
    ]
   },
   "outputs": [],
   "source": [
    "TermShellCmd(\"ls -l csumit1.s\", cwd=appdir, noposttext=True)"
   ]
  },
  {
   "cell_type": "code",
   "execution_count": null,
   "id": "27d771fb",
   "metadata": {
    "cell_style": "split",
    "hide_input": true,
    "tags": [
     "remove-input"
    ]
   },
   "outputs": [],
   "source": [
    "display(Markdown(FileCodeBox(\n",
    "    file=\"../src/csumit1.c\", \n",
    "    lang=\"c\", \n",
    "    title=\"<b>CODE: csumit1.c\",\n",
    "    h=\"100%\", \n",
    "    w=\"107em\"\n",
    ")))"
   ]
  },
  {
   "cell_type": "code",
   "execution_count": null,
   "id": "e00af9f1",
   "metadata": {
    "cell_style": "split",
    "hide_input": true,
    "tags": [
     "remove-input"
    ]
   },
   "outputs": [],
   "source": [
    "display(Markdown(FileCodeBox(\n",
    "    file=appdir + \"/csumit1.s\", \n",
    "    lang=\"gas\", \n",
    "    title=\"<b>CODE: csumit1.s\",\n",
    "    h=\"100%\", \n",
    "    w=\"107em\"\n",
    ")))"
   ]
  },
  {
   "cell_type": "markdown",
   "id": "b6d12071",
   "metadata": {},
   "source": [
    "### Run Assembler on csumit1.s\n",
    "\n",
    "**Now same old same old for `csumit1.s` $\\rightarrow$ `csumit1.o`**"
   ]
  },
  {
   "cell_type": "code",
   "execution_count": null,
   "id": "ab2c73ec",
   "metadata": {
    "hide_input": true,
    "tags": [
     "remove-input"
    ]
   },
   "outputs": [],
   "source": [
    "TermShellCmd(\"[[ -a csumit1.o ]] && rm csumit1.o;make ASFLAGS='' csumit1.o\", cwd=appdir, prompt='')"
   ]
  },
  {
   "cell_type": "code",
   "execution_count": null,
   "id": "29e36e5e",
   "metadata": {
    "hide_input": false,
    "tags": [
     "remove-input"
    ]
   },
   "outputs": [],
   "source": [
    "TermShellCmd(\"ls -l csumit1.o\", cwd=appdir, noposttext=True)"
   ]
  },
  {
   "cell_type": "markdown",
   "id": "029b7010",
   "metadata": {
    "slideshow": {
     "slide_type": "slide"
    }
   },
   "source": [
    "### Linking it all together\n",
    "\n",
    "**Use Linker to create executable `usecsumit1.o` $+$ `csumit1.o` $\\rightarrow$ `usecsumit1`**"
   ]
  },
  {
   "cell_type": "code",
   "execution_count": null,
   "id": "2ac520a1",
   "metadata": {
    "tags": [
     "remove-input"
    ]
   },
   "outputs": [],
   "source": [
    "TermShellCmd(\"ls -l usecsumit1.* csumit1.*\", cwd=appdir, noposttext=True)"
   ]
  },
  {
   "cell_type": "code",
   "execution_count": null,
   "id": "0a147b6a",
   "metadata": {
    "tags": [
     "remove-input"
    ]
   },
   "outputs": [],
   "source": [
    "TermShellCmd(\"[[ -a usecsumit1 ]] && rm usecsumit1;make LDFLAGS='' usecsumit1\", cwd=appdir, prompt='')"
   ]
  },
  {
   "cell_type": "code",
   "execution_count": null,
   "id": "fc2f455f",
   "metadata": {
    "hide_input": true,
    "tags": [
     "remove-input"
    ]
   },
   "outputs": [],
   "source": [
    "TermShellCmd(\"ls -l usecsumit1* csumit1.*\", cwd=appdir, noposttext=True)"
   ]
  },
  {
   "cell_type": "markdown",
   "id": "8c1e5d9b",
   "metadata": {},
   "source": [
    "### Run our executable"
   ]
  },
  {
   "cell_type": "code",
   "execution_count": null,
   "id": "9c5cfc50",
   "metadata": {
    "tags": [
     "remove-input"
    ]
   },
   "outputs": [],
   "source": [
    "TermShellCmd(\"./usecsumit1\", cwd=appdir, noposttext=True)"
   ]
  },
  {
   "cell_type": "markdown",
   "id": "63c7ae21",
   "metadata": {},
   "source": [
    "#### Exercises \n",
    "\n",
    "- add io to usecsumit1\n",
    "  - read binary input in from stdin into XARRAY\n",
    "  - add a sum memory variable \n",
    "  - after call to sumit move the result in rax into the sum memory variable \n",
    "  - write value of sum memory variable to stdout\n",
    "  "
   ]
  },
  {
   "cell_type": "markdown",
   "id": "6d719a86",
   "metadata": {
    "slideshow": {
     "slide_type": "slide"
    }
   },
   "source": [
    "## Remember `objdump` is another useful tool"
   ]
  },
  {
   "cell_type": "markdown",
   "id": "3a9c5a7f",
   "metadata": {
    "cell_style": "center"
   },
   "source": [
    "- Let's us work directly with object files both relocatable and executables\n",
    "- Let's us see what's inside and where and what the loader is supposed to do\n",
    "- Has similar capabilities to debugger like `gdb` \n",
    "  - but often easer to use when you just want to look at things and not actually debug/run things. "
   ]
  },
  {
   "cell_type": "code",
   "execution_count": null,
   "id": "c342b792",
   "metadata": {
    "cell_style": "center",
    "hide_input": false,
    "tags": [
     "remove-input"
    ]
   },
   "outputs": [],
   "source": [
    "TermShellCmd(\"objdump -M intel -S -d usecsumit1\", cwd=appdir, noposttext=True)"
   ]
  },
  {
   "cell_type": "markdown",
   "id": "7d79f87b",
   "metadata": {
    "slideshow": {
     "slide_type": "subslide"
    }
   },
   "source": [
    "### OF COURSE THE DEBUGGER IS STILL OUR BEST FRIEND\n",
    "\n",
    "- we can do everything we were doing before\n",
    "- examine memory\n",
    "- list assembly source\n",
    "- disassemble\n",
    "- set break points\n",
    "- But now if we allow the assembler and linker to produce debug info `-g` then\n",
    "  - we can work with C source level\n",
    "    - list C source that corresponds to the opcodes\n",
    "    - set break points via C source lines\n",
    "    - examine C variables with the debugger knowing the correct types \n",
    "      - 1, 2, 4 or 8 byte types\n",
    "      - pointers vs variables\n",
    "      - signed versus unsigned\n",
    "      - and support for complex heterogeneous types (we will see this later)"
   ]
  },
  {
   "cell_type": "code",
   "execution_count": null,
   "id": "27872367",
   "metadata": {
    "tags": [
     "remove-input"
    ]
   },
   "outputs": [],
   "source": [
    "showDT()"
   ]
  },
  {
   "cell_type": "markdown",
   "id": "013a3774",
   "metadata": {},
   "source": [
    "- `gcc --static -g -nostartfiles -nostdlib  csumit1.c usecsumit1.S -o sum`\n",
    "  - here we let the compiler driver do all the steps for us\n",
    "    - it creates the necessary \"intermediary\" files (.s and .o files) and removes then when done\n",
    "    - it runs the \"compiler\", \"assembler\" and \"linker\" for us : use `-v` flags to sees this happend\n",
    "  - in our case since we are not using the C library or \"runtime\" we suppress their use \n",
    "    - rather we want to provide our own `_start`\n",
    "    - we are just using the compiler to avoid writing all our code in assembly\n",
    "- we can now `list sumit`\n",
    "- set breakpoints on C lines `break 8`\n",
    "- `disassemble sumit`\n",
    "- print and examine C variables\n",
    "  - `p i`\n",
    "  - `p sum`\n",
    "  - `p XARRAY`\n",
    "  - `p XARRAY[0]`\n",
    "- ask what the type of a variable is \n",
    "  - `whatis XARRAY`\n",
    "\n",
    "**In other words our use of a particular memory location is now clear and explicit**"
   ]
  },
  {
   "cell_type": "markdown",
   "id": "6beeb0d7",
   "metadata": {},
   "source": [
    "<center>\n",
    "<img src=\"../images/C-001/C-001.014.png\" >\n",
    "</center>"
   ]
  },
  {
   "cell_type": "markdown",
   "id": "b1683095",
   "metadata": {},
   "source": [
    "<center>\n",
    "<img src=\"../images/C-001/C-001.015.png\" >\n",
    "</center>"
   ]
  },
  {
   "cell_type": "markdown",
   "id": "5e90bfe4",
   "metadata": {},
   "source": [
    "<center>\n",
    "<img src=\"../images/C-001/C-001.016.png\" >\n",
    "</center>"
   ]
  },
  {
   "cell_type": "markdown",
   "id": "650c6931",
   "metadata": {},
   "source": [
    "<center>\n",
    "<img src=\"../images/C-001/C-001.017.png\" >\n",
    "</center>"
   ]
  },
  {
   "cell_type": "markdown",
   "id": "010dea71",
   "metadata": {
    "slideshow": {
     "slide_type": "slide"
    }
   },
   "source": [
    "## Before we can get really get going\n",
    "\n",
    "### Our particular compiler : GCC\n",
    "\n",
    "https://gcc.gnu.org/onlinedocs/gcc/index.html#SEC_Contents\n",
    "\n",
    "- is the back bone of the GNU Linux software environment\n",
    "- however it is by no means the only C compiler tool chain\n",
    "  - llvm\n",
    "  - xlc\n",
    "  - Microsoft's C compiler\n",
    "  - and many more"
   ]
  },
  {
   "cell_type": "markdown",
   "id": "f3cc2ff3",
   "metadata": {
    "slideshow": {
     "slide_type": "slide"
    }
   },
   "source": [
    "### Controlling the compiler with its command line options\n",
    "\n",
    "- The C compiler is a very sophisticated program and has many options that control the assembly code it creates\n",
    "- we are going to use options so that make it easier to read the code it creates\n",
    "  - normally the code it creates does not target human readability\n",
    "  - It usually includes a lot of extra directives to provide the debugger and other tools with more information\n",
    "  - and by default wants to keep compilation fast\n",
    "\n",
    "https://gcc.gnu.org/onlinedocs/gcc/Optimize-Options.html\n",
    "\n",
    "#### Optimization level `-O`\n",
    "  - by default if no optimization level is given to `gcc` the compiler suite we are using\n",
    "      - produces code that is suited for use and manipulation in the debugger\n",
    "        - this code sacrifices efficiency so that it is easy to work at the \"C\" source level\n",
    "      - we will use `-Os` to set the optimization level to `s` which\n",
    "        - does many optimizations but tries to keep the code \"small\" \n",
    "\n",
    "#### Turning off features that we don't need\n",
    "\n",
    "- We also going turn off some features designed to exploit features of the Intel processor that make the code more secure\n",
    "  - `-fcf-protection=none`\n",
    "- We are going to turn off certain debugging directives \n",
    "  - `-fno-asynchronous-unwind-tables`\n",
    "- We are going to turn off support for dynamic (load/runtime) relocation and linking \n",
    "  -  `-fno-pic`  : turn off generation of position independent code\n",
    "  - `-static`    : force static linking \n",
    "  \n",
    "#### We are going to force ourselves to write good code making all warning errors\n",
    "  - `-Werror`\n",
    "  - In general you should never have warning in your code - it is a sign that you don't know what you are doing\n",
    "  \n",
    "#### Explicitly produce assembly files\n",
    "To have the compiler driver only preprocess and compile to produce .s files\n",
    "  - `-S`\n",
    "\n",
    "#### Generate intel syntax assembly code\n",
    "To have it generate intel syntax \n",
    "  - `-masm=intel`\n",
    "  \n",
    "#### Eg. "
   ]
  },
  {
   "cell_type": "code",
   "execution_count": null,
   "id": "8a79f966",
   "metadata": {
    "hide_input": false,
    "tags": [
     "remove-input"
    ]
   },
   "outputs": [],
   "source": [
    "TermShellCmd(\"[[ -a myfunc0.s ]] && rm myfunc0.s; make myfunc0.s\", cwd=appdir, prompt='')"
   ]
  },
  {
   "cell_type": "markdown",
   "id": "dbe852b1",
   "metadata": {},
   "source": [
    "## Compiler Driver vs Compiler and \"Building\"\n",
    "\n",
    "- The term compiler is used in multiple ways\n",
    "  1. component of the tool chain that translates C into assembly\n",
    "     - or whatever language it was built for (eg. Fortran, etc) \n",
    "  2. The master command of the the tool chain that \n",
    "     - a meta command that knowns how to invoke each of the components of the tool chain\n",
    "     - passed a default set of options to the components\n",
    "       - you can override these\n",
    "     - default behavior is to try and run all steps of the toolchain to try and create and executable from the files specified\n",
    "       - eg. `gcc my1.c my2.c myasm.S neuralnet.o -o myexe`\n",
    "       - if any errors occurs it will stop and report them from which ever component failed \n",
    "       - it creates all intermediary files as temporaries and removes them once done \n",
    "         - eg. it creates `.s` and `.o` files as it needs too and deletes them when it is done\n",
    "         - you can override this behavior \n",
    "           - `-E` only pre-process \n",
    "           - `-S` pre-process and compile to produce `.s`\n",
    "           - `-c` pre-process, compile and assemble to produce `.o`\n",
    "  3. The most common use is to separated out creating `.o` from linking into an executable eg.\n",
    "      - Your program is composed from a mixture of source files:\n",
    "        - my1.c, my2.c, myasm.S\n",
    "        - for these you would separately \"compile\" each to produce a corresponding .o\n",
    "          1. `gcc -c my1.c -o my1.o` (runs pre-processor, compiler, and assembler)\n",
    "          2. `gcc -c my2.c -o my2.o` (runs pre-processor, compiler, and assembler)\n",
    "          3. `gcc -c myasm.S -o myasm.o` (runs pre-processor and assembler)\n",
    "      - Your program uses an existing object file from a library that someone gave you\n",
    "        - neuralnet.o\n",
    "      - Now you as a separate step you link all the object files together to produce your binary\n",
    "        - `gcc my1.o my2.o myasm.o neuralnet.o -o myexe`\n",
    "      - You would automate all of this with an Makefile so that when you want to \"build\" your executable\n",
    "         - make will \n",
    "           1. Only run the necessary steps \"compile\" steps depending on what source files are newer than their corresponding `.o`\n",
    "           2. Then it will re-link all the `.o`, updated ones and existing ones, to produce a new version of the executable"
   ]
  },
  {
   "cell_type": "markdown",
   "id": "27a3c870",
   "metadata": {
    "slideshow": {
     "slide_type": "slide"
    }
   },
   "source": [
    "## Another Link: The C Preprocessor"
   ]
  },
  {
   "cell_type": "markdown",
   "id": "b36a36f6",
   "metadata": {
    "slideshow": {
     "slide_type": "slide"
    }
   },
   "source": [
    "<center>\n",
    "<img src=\"../images/C-001/C-001.018.png\" >\n",
    "</center>"
   ]
  },
  {
   "cell_type": "markdown",
   "id": "09dee13c",
   "metadata": {
    "slideshow": {
     "slide_type": "slide"
    }
   },
   "source": [
    "<center>\n",
    "<img src=\"../images/C-001/C-001.019.png\" >\n",
    "</center>"
   ]
  },
  {
   "cell_type": "markdown",
   "id": "74a1446f",
   "metadata": {
    "slideshow": {
     "slide_type": "slide"
    }
   },
   "source": [
    "<center>\n",
    "<img src=\"../images/C-001/C-001.020.png\" >\n",
    "</center>"
   ]
  },
  {
   "cell_type": "markdown",
   "id": "aaa801c1",
   "metadata": {
    "slideshow": {
     "slide_type": "slide"
    }
   },
   "source": [
    "<center>\n",
    "<img src=\"../images/C-001/C-001.021.png\" >\n",
    "</center>"
   ]
  },
  {
   "cell_type": "markdown",
   "id": "1e307cca",
   "metadata": {
    "slideshow": {
     "slide_type": "slide"
    }
   },
   "source": [
    "<center>\n",
    "<img src=\"../images/C-001/C-001.022.png\" >\n",
    "</center>"
   ]
  },
  {
   "cell_type": "markdown",
   "id": "2364df1b",
   "metadata": {
    "slideshow": {
     "slide_type": "slide"
    }
   },
   "source": [
    "<center>\n",
    "<img src=\"../images/C-001/C-001.023.png\" >\n",
    "</center>"
   ]
  },
  {
   "cell_type": "markdown",
   "id": "4185e9bd",
   "metadata": {
    "slideshow": {
     "slide_type": "slide"
    }
   },
   "source": [
    "<center>\n",
    "<img src=\"../images/C-001/C-001.024.png\" >\n",
    "</center>"
   ]
  },
  {
   "cell_type": "markdown",
   "id": "f6737ddc",
   "metadata": {
    "slideshow": {
     "slide_type": "slide"
    }
   },
   "source": [
    "### Preprocessor in action"
   ]
  },
  {
   "cell_type": "code",
   "execution_count": null,
   "id": "2b25b41f",
   "metadata": {
    "cell_style": "split",
    "tags": [
     "remove-input"
    ]
   },
   "outputs": [],
   "source": [
    "display(Markdown(FileCodeBox(\n",
    "    file=\"../src/misc.h\", \n",
    "    lang=\"c\", \n",
    "    title=\"<b>CODE: misc.h\",\n",
    "    h=\"100%\", \n",
    "    w=\"107em\"\n",
    ")))"
   ]
  },
  {
   "cell_type": "code",
   "execution_count": null,
   "id": "df020dc5",
   "metadata": {
    "cell_style": "split",
    "tags": [
     "remove-input"
    ]
   },
   "outputs": [],
   "source": [
    "display(Markdown(FileCodeBox(\n",
    "    file=\"../src/loop.c\", \n",
    "    lang=\"c\", \n",
    "    title=\"<b>CODE: loop.c\",\n",
    "    h=\"100%\", \n",
    "    w=\"107em\"\n",
    ")))"
   ]
  },
  {
   "cell_type": "code",
   "execution_count": null,
   "id": "8a1ada00",
   "metadata": {
    "tags": [
     "remove-input"
    ]
   },
   "outputs": [],
   "source": [
    "TermShellCmd(\" gcc -E loop.c\", cwd=appdir, noposttext=True)"
   ]
  },
  {
   "cell_type": "markdown",
   "id": "a47ae70c",
   "metadata": {},
   "source": [
    "- In some sense the preprocessor lets us \"craft\" our code into our own creature that can be customized and controlled\n",
    "  -  We can now change our code by modifying and defining macros\n",
    "     1. Edit \"misc.h\"\n",
    "     2. or use ability to define and undefine macros via gcc command line options\n",
    "        - https://gcc.gnu.org/onlinedocs/gcc/Preprocessor-Options.html\n",
    "```\n",
    "-D name\n",
    "Predefine name as a macro, with definition 1.\n",
    "\n",
    "-D name=definition\n",
    "The contents of definition are tokenized and processed as if they appeared during translation phase three in a ‘#define’ directive. In particular, the definition is truncated by embedded newline characters.\n",
    "\n",
    "If you are invoking the preprocessor from a shell or shell-like program you may need to use the shell’s quoting syntax to protect characters such as spaces that have a meaning in the shell syntax.\n",
    "\n",
    "If you wish to define a function-like macro on the command line, write its argument list with surrounding parentheses before the equals sign (if any). Parentheses are meaningful to most shells, so you should quote the option. With sh and csh, -D'name(args…)=definition' works.\n",
    "\n",
    "-D and -U options are processed in the order they are given on the command line. All -imacros file and -include file options are processed after all -D and -U options.\n",
    "\n",
    "-U name\n",
    "Cancel any previous definition of name, either built in or provided with a -D option.\n",
    "```"
   ]
  },
  {
   "cell_type": "code",
   "execution_count": null,
   "id": "b4a65505",
   "metadata": {
    "tags": [
     "remove-input"
    ]
   },
   "outputs": [],
   "source": [
    "TermShellCmd(\" gcc -D ENABLE_TRACE_LOOP -E loop.c\", cwd=appdir, noposttext=True)"
   ]
  },
  {
   "cell_type": "code",
   "execution_count": null,
   "id": "b6c64208",
   "metadata": {
    "tags": [
     "remove-input"
    ]
   },
   "outputs": [],
   "source": [
    "TermShellCmd(\" gcc -D ENABLE_VERBOSE -E loop.c\", cwd=appdir, noposttext=True)"
   ]
  },
  {
   "cell_type": "code",
   "execution_count": null,
   "id": "e1e3b6c4",
   "metadata": {
    "tags": [
     "remove-input"
    ]
   },
   "outputs": [],
   "source": [
    "TermShellCmd(\" gcc -D ENABLE_VERBOSE -D ENABLE_TRACE_LOOP -E loop.c\", cwd=appdir, noposttext=True)"
   ]
  }
 ],
 "metadata": {
  "celltoolbar": "Slideshow",
  "hide_input": true,
  "kernelspec": {
   "display_name": "Python 3 (ipykernel)",
   "language": "python",
   "name": "python3"
  },
  "language_info": {
   "codemirror_mode": {
    "name": "ipython",
    "version": 3
   },
   "file_extension": ".py",
   "mimetype": "text/x-python",
   "name": "python",
   "nbconvert_exporter": "python",
   "pygments_lexer": "ipython3",
   "version": "3.9.6"
  },
  "rise": {
   "autolaunch": false,
   "enable_chalkboard": true,
   "footer": "UC-SLS -- Lecture 17",
   "header": "C: Into the Light Intro",
   "height": "100%",
   "scroll": true,
   "start_slideshow_at": "selected",
   "theme": "black",
   "transition": "none",
   "width": "100%"
  }
 },
 "nbformat": 4,
 "nbformat_minor": 5
}
