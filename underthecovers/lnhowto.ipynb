{
 "cells": [
  {
   "cell_type": "code",
   "execution_count": null,
   "id": "f94ef948-2412-47b5-b91e-a2a81e870013",
   "metadata": {
    "jupyter": {
     "source_hidden": true
    },
    "tags": [
     "remove-cell"
    ]
   },
   "outputs": [],
   "source": [
    "%run -i python/common.py"
   ]
  },
  {
   "cell_type": "markdown",
   "id": "ee45caec-5aaf-4d8a-8611-b4c38a9d8ab3",
   "metadata": {},
   "source": [
    "# How to \"view\" lecture notes\n",
    "\n",
    "\n",
    "The lecture notes on this site are static web pages that have been generated from a set of Jupyter Notebooks that are a part of the \"Under the Covers: The Secret Life of Software\" textbook materials.  \n",
    "The following are instructions on how to get access to the Jupyter Notebooks from the webpages and how to \"launch\" them so you can view them as one might in a lecture.\n",
    "\n",
    "## Prerequistes\n",
    "\n",
    "If you have a running [UC online server](howto.ipynb) you should save your work and shut it down ([\"Shutting Down Your Server\"](howto.ipynb)).  Then follow the instructions below to restart your server in a way that will allow you to view lectures.  After you have launched a lecture you can then open a new web browser window and access your server via the lab interface if you want o concurrently work on examples (the final step of these instructions).\n",
    "\n"
   ]
  },
  {
   "cell_type": "markdown",
   "id": "10b99c27-a122-4345-9982-aa61b4e8527e",
   "metadata": {},
   "source": [
    "## Step 1: Navigate to a static lecture page\n",
    "\n",
    "In the following we will use the following page as our example [Lecture](assembly/L10.ipynb).  "
   ]
  },
  {
   "cell_type": "markdown",
   "id": "9db9ead1-1cd7-44e6-9447-ba028e8fe1d2",
   "metadata": {},
   "source": [
    "<center>\n",
    "<img src=\"images/lnhowto/lnhowto-001.png\" >\n",
    "</center>"
   ]
  },
  {
   "cell_type": "markdown",
   "id": "7897a399-1830-4559-a293-bb9428c1c58a",
   "metadata": {},
   "source": [
    "## Step 2: Use the \"Rocket\" icon\n",
    "\n",
    "As illustrated below each launchable page such as a lecture has a rocket icon on it.  Hovering over the rocket will reveal a \"JupyterHub\" menu selection which you should click on."
   ]
  },
  {
   "cell_type": "markdown",
   "id": "d68f949f-97f4-4f5f-8fd5-ac2914c8f4c1",
   "metadata": {},
   "source": [
    "<center>\n",
    "<img src=\"images/lnhowto/lnhowto-002.png\" >\n",
    "</center>"
   ]
  },
  {
   "cell_type": "markdown",
   "id": "67cd4e4b-b3db-48e4-bbda-834699cb08ca",
   "metadata": {},
   "source": [
    "## Step 3: Launch your server\n",
    "\n",
    "The above step should lead you to a set of pages that will let you launch your server.  This process is illustrated below.  **On the last page be sure to select the correct image as illustrate.**\n"
   ]
  },
  {
   "cell_type": "code",
   "execution_count": null,
   "id": "a390cae9-194b-4d55-b89a-593412e08996",
   "metadata": {
    "jupyter": {
     "source_hidden": true
    },
    "tags": [
     "remove-input"
    ]
   },
   "outputs": [],
   "source": [
    "display(Markdown(htmlFig([[\"images/lnhowto/lnhowto-003.png\",\n",
    "     \"images/lnhowto/lnhowto-004.png\",\n",
    "     \"images/lnhowto/lnhowto-005.png\"\n",
    "                          ]])))"
   ]
  },
  {
   "cell_type": "markdown",
   "id": "3fa16193-5832-42e8-a4be-2fdd20ff7d05",
   "metadata": {},
   "source": [
    "This should then trigger the booting of you server which will take a few minutes.  You should see something like the following"
   ]
  },
  {
   "cell_type": "code",
   "execution_count": null,
   "id": "c35b986b-c7db-4b01-bb03-450d7e52f776",
   "metadata": {
    "jupyter": {
     "source_hidden": true
    },
    "tags": [
     "remove-input"
    ]
   },
   "outputs": [],
   "source": [
    "display(Markdown(htmlFig([[\"images/lnhowto/lnhowto-006.png\",\n",
    "     \"images/lnhowto/lnhowto-007.png\"]])))"
   ]
  },
  {
   "cell_type": "markdown",
   "id": "770459de-fd2e-48ae-81a5-801528440e6d",
   "metadata": {},
   "source": [
    "## Step 4: Server is booted into Jupyter Classic\n",
    "After the server is booted you should be displayed the classic jupyter notebook interface to the server as shown below.\n",
    "<center>\n",
    "<img src=\"images/lnhowto/lnhowto-008.png\" >\n",
    "</center>"
   ]
  },
  {
   "cell_type": "markdown",
   "id": "76c51f8b-df61-4ad4-b14e-3e0072e45a0a",
   "metadata": {},
   "source": [
    "## Step 5: Go back to the lecture note and relaunch \n",
    "\n",
    "At this point you want to redo the steps to launch the lecture on to your newly booted server running the classic Jupyter Notebook interface.  So go back to the original lecture note webpage and relaunch as illustated below."
   ]
  },
  {
   "cell_type": "code",
   "execution_count": null,
   "id": "f50d03d2-958b-4505-bb4b-a46718339994",
   "metadata": {
    "jupyter": {
     "source_hidden": true
    },
    "tags": [
     "remove-input"
    ]
   },
   "outputs": [],
   "source": [
    "display(Markdown(htmlFig([[\"images/lnhowto/lnhowto-001.png\",\n",
    "     \"images/lnhowto/lnhowto-002.png\"]])))"
   ]
  },
  {
   "cell_type": "markdown",
   "id": "a1f68453-7616-4496-a182-442896a28a0d",
   "metadata": {},
   "source": [
    "This time however the steps below should happen."
   ]
  },
  {
   "cell_type": "markdown",
   "id": "6f8609d7-5902-4186-8c93-878369675487",
   "metadata": {},
   "source": [
    "## Step 6: Lecture and textbook content will be cloned to your server\n",
    "\n",
    "This should happen automatically this time when you launch via the rocket icon.  "
   ]
  },
  {
   "cell_type": "markdown",
   "id": "6203df11-6129-445d-8d68-d8397fd88a10",
   "metadata": {},
   "source": [
    "<center>\n",
    "<img src=\"images/lnhowto/lnhowto-009.png\" >\n",
    "</center>"
   ]
  },
  {
   "cell_type": "markdown",
   "id": "bfa20b9d-f5ba-4de1-a0ae-3b7e8ec4ace2",
   "metadata": {},
   "source": [
    "## Step 7: Lecture Jupyter Notebook should open automatically\n",
    "\n",
    "After the content autmatically clones on to your server it should also automatically open the Jupyter Notebook of the static lecture you launched from.\n"
   ]
  },
  {
   "cell_type": "markdown",
   "id": "57b08cc6-7cfe-4457-a0ba-077accd48fe6",
   "metadata": {},
   "source": [
    "<center>\n",
    "<img src=\"images/lnhowto/lnhowto-010.png\" >\n",
    "</center>"
   ]
  },
  {
   "cell_type": "markdown",
   "id": "4c1622c1-b07a-4a80-b93c-7d8e1ab583d4",
   "metadata": {},
   "source": [
    "## Step 8: Run \"All\" cells of the notebook\n",
    "\n",
    "To setup the lecture you need to run all the cells of the Notebook.  To do this use the \"Cell\" menu and specfically select \"Run All\".  See below."
   ]
  },
  {
   "cell_type": "markdown",
   "id": "8bc822f4-7559-42c4-a7fb-13af60c8cf90",
   "metadata": {},
   "source": [
    "<center>\n",
    "<img src=\"images/lnhowto/lnhowto-011.png\" >\n",
    "</center>"
   ]
  },
  {
   "cell_type": "markdown",
   "id": "768ea4f8-0987-45e6-aaf9-516830ee8319",
   "metadata": {},
   "source": [
    "## Step 9: Cells will execute\n",
    "\n",
    "As the cells execute the notebook might scroll to various locations.\n"
   ]
  },
  {
   "cell_type": "markdown",
   "id": "8c365813-fac4-4dd0-9c87-cb8bfd26aee8",
   "metadata": {},
   "source": [
    "<center>\n",
    "<img src=\"images/lnhowto/lnhowto-012.png\" >\n",
    "</center>"
   ]
  },
  {
   "cell_type": "markdown",
   "id": "cbab2616-d3e4-41d7-985d-66aff23ef706",
   "metadata": {},
   "source": [
    "## Step 10: Scroll back to the top of the Notebook"
   ]
  },
  {
   "cell_type": "markdown",
   "id": "984a1612-00dc-49b8-8515-da40880c2a18",
   "metadata": {},
   "source": [
    "<center>\n",
    "<img src=\"images/lnhowto/lnhowto-013.png\" >\n",
    "</center>"
   ]
  },
  {
   "cell_type": "markdown",
   "id": "eef9b593-a138-4285-b51e-ddec42fdfcd2",
   "metadata": {},
   "source": [
    "## Step 11:  Click on the first content cell to select it"
   ]
  },
  {
   "cell_type": "markdown",
   "id": "99cba9e8-37cb-42ff-9097-37737973856a",
   "metadata": {},
   "source": [
    "<center>\n",
    "<img src=\"images/lnhowto/lnhowto-014.png\" >\n",
    "</center>"
   ]
  },
  {
   "cell_type": "markdown",
   "id": "80bcaa77-5d82-4c8b-af5c-54fad73625e2",
   "metadata": {},
   "source": [
    "## Step 12: Start RISE mode (presentation mode)"
   ]
  },
  {
   "cell_type": "markdown",
   "id": "7a9b16e5-42a4-4b7d-aa25-9dd397888236",
   "metadata": {},
   "source": [
    "<center>\n",
    "<img src=\"images/lnhowto/lnhowto-015.png\" >\n",
    "</center>"
   ]
  },
  {
   "cell_type": "markdown",
   "id": "79ad66c9-6c1c-47c3-810f-b014fdecd76a",
   "metadata": {},
   "source": [
    "## Step 13: View and navigate the lecture\n",
    "\n",
    "At this point you should see the lecture in presentation mode.  Use the space bar to advance slides, shift space bar to go back a slide.  The \"?\" in the lower left has an explantion of the controls.\n",
    "You can also press \"t\" to open the speaker notes window that as addtional details.\n",
    "\n",
    "<center>\n",
    "<img src=\"images/lnhowto/lnhowto-016.png\" >\n",
    "</center>"
   ]
  },
  {
   "cell_type": "markdown",
   "id": "69718bcd-ce47-43fd-8b5f-f9360600091f",
   "metadata": {},
   "source": [
    "## Step 14: Opening another connection to your server\n",
    "\n",
    "At this point you probably want to open another browser window so that you cannot work on your server while you view the lecture material.  To do this follow this link in the new window\n",
    "https://jupyterhub-redhat-ods-applications.apps.bu-rosa.8pmt.p1.openshiftapps.com/hub/user-redirect/lab\n",
    "The above assumes you are on the BU service.\n"
   ]
  }
 ],
 "metadata": {
  "kernelspec": {
   "display_name": "Python 3 (ipykernel)",
   "language": "python",
   "name": "python3"
  },
  "language_info": {
   "codemirror_mode": {
    "name": "ipython",
    "version": 3
   },
   "file_extension": ".py",
   "mimetype": "text/x-python",
   "name": "python",
   "nbconvert_exporter": "python",
   "pygments_lexer": "ipython3",
   "version": "3.9.6"
  }
 },
 "nbformat": 4,
 "nbformat_minor": 5
}
