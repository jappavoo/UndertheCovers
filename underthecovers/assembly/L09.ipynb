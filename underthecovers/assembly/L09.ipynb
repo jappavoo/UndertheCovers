{
 "cells": [
  {
   "cell_type": "code",
   "execution_count": null,
   "id": "436c18bd",
   "metadata": {
    "hide_input": false,
    "tags": [
     "remove-cell"
    ]
   },
   "outputs": [],
   "source": [
    "%run -i ../python/common.py\n",
    "UC_SKIPTERMS=True\n",
    "%run -i ../python/ln_preamble.py"
   ]
  },
  {
   "cell_type": "markdown",
   "id": "de926147-e4b1-48d7-9529-5af8052def53",
   "metadata": {},
   "source": [
    "# UC-SLS Lecture 9 : Assembly : Operations and Data Types"
   ]
  },
  {
   "cell_type": "markdown",
   "id": "5cf045d0",
   "metadata": {
    "hide_input": true,
    "slideshow": {
     "slide_type": "slide"
    }
   },
   "source": [
    "## A simple mov.S program"
   ]
  },
  {
   "cell_type": "markdown",
   "id": "4ee3f41f",
   "metadata": {},
   "source": [
    "### Setup"
   ]
  },
  {
   "cell_type": "code",
   "execution_count": null,
   "id": "46788170",
   "metadata": {
    "hide_input": false,
    "slideshow": {
     "slide_type": "-"
    },
    "tags": [
     "remove-input"
    ]
   },
   "outputs": [],
   "source": [
    "# setup for mov example\n",
    "movdir=os.getenv('HOME')\n",
    "movdir=movdir + \"/mov\"\n",
    "#print(movdir)\n",
    "output=runTermCmd(\"[[ -d \" + movdir + \" ]] &&  rm -rf \"+ movdir + \n",
    "             \";mkdir \" + movdir + \n",
    "             \";cp ../src/mov.S ../src/Makefile ../src/setup.gdb \" + movdir)\n",
    "#TermShellCmd(\"ls\", cwd=movdir)\n",
    "Markdown('''\n",
    "- create a directory `mkdir mov; cd mov`\n",
    "- create and write  `mov.S` below\n",
    "- add a `Makefile` to automate assembling and linking\n",
    "    - we are going run the commands by hand this time to highlight the details\n",
    "- add our `setup.gdb` to make working in gdb easier\n",
    "- normally you would want to track everything in git\n",
    "''')"
   ]
  },
  {
   "cell_type": "code",
   "execution_count": null,
   "id": "186f135a",
   "metadata": {
    "hide_input": false,
    "tags": [
     "remove-input"
    ]
   },
   "outputs": [],
   "source": [
    "display(Markdown(FileCodeBox(\n",
    "    file=movdir+\"/mov.S\", \n",
    "    lang=\"gas\", \n",
    "    title=\"<b>CODE: asm - mov.S\",\n",
    "    h=\"100%\", \n",
    "    w=\"107em\"\n",
    ")))"
   ]
  },
  {
   "cell_type": "markdown",
   "id": "acf10662",
   "metadata": {
    "hide_input": false,
    "slideshow": {
     "slide_type": "slide"
    }
   },
   "source": [
    "### Assemble `mov.S ` into `mov.o`  directly with assembler (as)\n",
    "- `-a` produce listing to standard out\n",
    "- we could add `-g` flag to add extra debugger information but lets skip it for now"
   ]
  },
  {
   "cell_type": "code",
   "execution_count": null,
   "id": "56682252",
   "metadata": {
    "hide_input": false,
    "tags": [
     "remove-input"
    ]
   },
   "outputs": [],
   "source": [
    "TermShellCmd(\"rm mov.o;make DEBUG='' mov.o\", prompt='', cwd=movdir)"
   ]
  },
  {
   "cell_type": "markdown",
   "id": "e53d13a0",
   "metadata": {},
   "source": [
    "#### `mov.o` is NOT an executable"
   ]
  },
  {
   "cell_type": "code",
   "execution_count": null,
   "id": "0efd9e75",
   "metadata": {
    "hide_input": false,
    "tags": [
     "remove-input"
    ]
   },
   "outputs": [],
   "source": [
    "TermShellCmd(\"ls -l mov.o\", cwd=movdir, pretext='$ ls -l mov.o', prompt='')"
   ]
  },
  {
   "cell_type": "markdown",
   "id": "7e6803a8",
   "metadata": {},
   "source": [
    "#### What kind of file is is it?"
   ]
  },
  {
   "cell_type": "code",
   "execution_count": null,
   "id": "35bdd4bb",
   "metadata": {
    "hide_input": true,
    "tags": [
     "remove-input"
    ]
   },
   "outputs": [],
   "source": [
    "TermShellCmd(\"file mov.o\", cwd=movdir, pretext='$ file mov.o', prompt='')"
   ]
  },
  {
   "cell_type": "markdown",
   "id": "03a0c151",
   "metadata": {},
   "source": [
    "#### Examine Symbol Table"
   ]
  },
  {
   "cell_type": "code",
   "execution_count": null,
   "id": "c846b7ce",
   "metadata": {
    "hide_input": true,
    "tags": [
     "remove-input"
    ]
   },
   "outputs": [],
   "source": [
    "TermShellCmd(\"objdump -t mov.o\", cwd=movdir, pretext='$ objdump -t mov.o', prompt='')"
   ]
  },
  {
   "cell_type": "markdown",
   "id": "2e6c596d",
   "metadata": {
    "hide_input": true,
    "slideshow": {
     "slide_type": "slide"
    }
   },
   "source": [
    "### Link  `mov.o` to produce the binary `mov` with linker (ld)\n",
    "- we don't really have any other files to link \n",
    "- simply need to have linker organize things as per os linker script (use `ld -verbose` to see the script )\n",
    "  - note the syntax is very cryptic\n"
   ]
  },
  {
   "cell_type": "code",
   "execution_count": null,
   "id": "4da1489f",
   "metadata": {
    "hide_input": true,
    "tags": [
     "remove-input"
    ]
   },
   "outputs": [],
   "source": [
    "TermShellCmd(\"make mov\", cwd=movdir, prompt='')"
   ]
  },
  {
   "cell_type": "code",
   "execution_count": null,
   "id": "acd759b4",
   "metadata": {
    "hide_input": true,
    "tags": [
     "remove-input"
    ]
   },
   "outputs": [],
   "source": [
    "TermShellCmd(\"ls -l mov\",cwd=movdir, pretext='$ ls -l mov', prompt='')"
   ]
  },
  {
   "cell_type": "code",
   "execution_count": null,
   "id": "92a4f868",
   "metadata": {
    "hide_input": false,
    "tags": [
     "remove-input"
    ]
   },
   "outputs": [],
   "source": [
    "TermShellCmd(\"file mov\", cwd=movdir, pretext=\"$ file mov.o\", prompt='')"
   ]
  },
  {
   "cell_type": "code",
   "execution_count": null,
   "id": "5a1e3f28",
   "metadata": {
    "hide_input": false,
    "tags": [
     "remove-input"
    ]
   },
   "outputs": [],
   "source": [
    "TermShellCmd(\"objdump -t mov\", cwd=movdir, prompt='', pretext='$ objdump -t mov') "
   ]
  },
  {
   "cell_type": "code",
   "execution_count": null,
   "id": "a47d712b",
   "metadata": {
    "tags": [
     "remove-input"
    ]
   },
   "outputs": [],
   "source": [
    "TermShellCmd(\"ld --verbose\", cwd=movdir)"
   ]
  },
  {
   "cell_type": "markdown",
   "id": "b3842bbe",
   "metadata": {},
   "source": [
    "#### recognize anything?"
   ]
  },
  {
   "cell_type": "markdown",
   "id": "9ffaa7bb",
   "metadata": {},
   "source": [
    "#### lets run it"
   ]
  },
  {
   "cell_type": "code",
   "execution_count": null,
   "id": "06e980ad",
   "metadata": {
    "hide_input": true,
    "tags": [
     "remove-input"
    ]
   },
   "outputs": [],
   "source": [
    "TermShellCmd(\"./mov; echo $?\", cwd=movdir, prompt='', pretext='$ ./mov\\n$ echo $?')"
   ]
  },
  {
   "cell_type": "markdown",
   "id": "64d009c1",
   "metadata": {},
   "source": [
    "#### We can use tools to convert the executable into a binary image\n",
    "- `objcopy` is a very useful tool like `objdump` \n",
    "   - let's us convert the executable into various formats including `raw` binary\n",
    "   - `objcopy mov --output-target=binary mov.bin`"
   ]
  },
  {
   "cell_type": "code",
   "execution_count": null,
   "id": "4a3da94b",
   "metadata": {
    "tags": [
     "remove-input"
    ]
   },
   "outputs": [],
   "source": [
    "TermShellCmd(\"objcopy mov --output-target=binary mov.bin\", cwd=movdir, prompt='', \n",
    "             pretext='objcopy mov --output-target=binary mov.bin')"
   ]
  },
  {
   "cell_type": "code",
   "execution_count": null,
   "id": "40a1acca",
   "metadata": {
    "tags": [
     "remove-input"
    ]
   },
   "outputs": [],
   "source": [
    "TermShellCmd(\"hexdump -C mov.bin\", cwd=movdir, prompt='', \n",
    "             pretext='hexdump -C mov.bin')"
   ]
  },
  {
   "cell_type": "markdown",
   "id": "0904b39c",
   "metadata": {
    "slideshow": {
     "slide_type": "slide"
    }
   },
   "source": [
    "### `gdb -tui mov -x setup.gdb `"
   ]
  },
  {
   "cell_type": "markdown",
   "id": "c30f87c7",
   "metadata": {},
   "source": [
    "#### rebuild with more debug info `-g`"
   ]
  },
  {
   "cell_type": "code",
   "execution_count": null,
   "id": "9486e360",
   "metadata": {
    "hide_input": true,
    "tags": [
     "remove-input"
    ]
   },
   "outputs": [],
   "source": [
    "TermShellCmd(\"make clean; make mov\", cwd=movdir, prompt='',pretext='')"
   ]
  },
  {
   "cell_type": "code",
   "execution_count": null,
   "id": "1db36ed0",
   "metadata": {
    "hide_input": false,
    "tags": [
     "remove-input"
    ]
   },
   "outputs": [],
   "source": [
    "\n",
    "display(showDT(\"\"))"
   ]
  },
  {
   "cell_type": "code",
   "execution_count": null,
   "id": "e4b22b7b",
   "metadata": {
    "hide_input": false,
    "slideshow": {
     "slide_type": "slide"
    },
    "tags": [
     "remove-input"
    ]
   },
   "outputs": [],
   "source": [
    "display(mkImgsAnimateBox(dir=\"../images/ASSEMBLY-PGMI\"))"
   ]
  }
 ],
 "metadata": {
  "celltoolbar": "Tags",
  "hide_input": true,
  "kernelspec": {
   "display_name": "Python 3 (ipykernel)",
   "language": "python",
   "name": "python3"
  },
  "language_info": {
   "codemirror_mode": {
    "name": "ipython",
    "version": 3
   },
   "file_extension": ".py",
   "mimetype": "text/x-python",
   "name": "python",
   "nbconvert_exporter": "python",
   "pygments_lexer": "ipython3",
   "version": "3.9.6"
  },
  "rise": {
   "autolaunch": false,
   "enable_chalkboard": true,
   "footer": "UC-SLS -- Lecture 9",
   "header": "Assembly: Operations and Data Types",
   "height": "100%",
   "scroll": true,
   "start_slideshow_at": "selected",
   "theme": "black",
   "transition": "none",
   "width": "100%"
  }
 },
 "nbformat": 4,
 "nbformat_minor": 5
}
