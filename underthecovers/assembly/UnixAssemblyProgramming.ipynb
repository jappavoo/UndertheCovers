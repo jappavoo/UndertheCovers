{
 "cells": [
  {
   "cell_type": "code",
   "execution_count": null,
   "id": "424ed823-741b-41a5-8b57-7f5b372bd47c",
   "metadata": {
    "jupyter": {
     "source_hidden": true
    },
    "tags": [
     "remove-cell"
    ]
   },
   "outputs": [],
   "source": [
    "%run -i ../python/common.py\n",
    "setupExamples(\"unixasm\", \"../src/Makefile ../src/setup.gdb ../src/empty.s ../src/empty.gdb ../src/empty256.s\")"
   ]
  },
  {
   "cell_type": "markdown",
   "id": "35923f1a-8129-49c0-a952-e4f05366e14e",
   "metadata": {},
   "source": [
    "# Executables and Processes\n",
    "\n",
    "In this chapter we will explore what \"native\" binary programs are and begin our journey to learning how to create them though assembly programming.\n",
    "\n",
    "This chapter follows two approaches to this material.  In the first part we take an self-guided discovery approach.  Here we use our knowledge and access to UNIX to follow our noses and poke around an executable to see what we can learn. In the second part of the chapter we take a more traditional textbook approach and present the conceptual model for how executables and processes relate to each other.\n",
    "\n",
    "\n",
    "**The following chapter includes several manual page entries.  A reader is not expected to read these completely.  They are mainly hear to illustrate how we can learn about the detail and document the precise way we can look them up later when we need too.  In general you should skip the first few paragraphs.  If there details that you should pickup on now the text will point you to them**"
   ]
  },
  {
   "cell_type": "markdown",
   "id": "1ea3ec8c-8015-4437-be7e-92876be15602",
   "metadata": {},
   "source": [
    "## \"Running\" Executables\n",
    "\n",
    "Perhaps the most basic thing we do on a computer is run programs.  As we have seen, on UNIX, one of the main purposes of the shell is to let us start and manage running programs -- Processes.  As a recap remember that when we type a command like `ls` into a shell, it is not a built-in command. The shell will look to see if a file, with a matching name, exists in the list of directories specified by the `PATH` environment variable.  If one is found (eg `/bin/ls`), and it's meta data marks it as \"executable\", the shell process will make calls to the UNIX kernel to create a new child process and try and \"run\" the file within the new process.    "
   ]
  },
  {
   "cell_type": "code",
   "execution_count": null,
   "id": "dd1b26bd-de82-48d6-b825-178bea5ed566",
   "metadata": {
    "jupyter": {
     "source_hidden": true
    },
    "tags": [
     "remove-input"
    ]
   },
   "outputs": [],
   "source": [
    "display(HTML(htmlFig(\n",
    "    [\n",
    "        [\n",
    "#            {'src':\"/files/work/UndertheCovers/underthecovers/images/Processes/Processes.003.png\",\n",
    "#             'caption':'A: Press Enter'\n",
    "#             'border': '1px solid black',\n",
    "#             'padding':'1px',\n",
    "#             'cellwidth':'33.33%'\n",
    "#            },\n",
    "            {'src':\"../images/Processes/Processes.004.png\",\n",
    "             'caption':'A: Bash calls kernel functions.',  \n",
    "#             'border': '1px solid black',\n",
    "#             'padding':'1px',\n",
    "          'cellwidth':'50%'\n",
    "            },\n",
    "         {'src':\"../images/Processes/Processes.005.png\",\n",
    "             'caption':'B: Kernel runs the program in new process.',\n",
    "#             'border': '1px solid black',\n",
    "#             'padding':'1px',\n",
    "             'cellwidth':'50%'\n",
    "           },\n",
    "        ]\n",
    "    ],\n",
    "    id=\"fig:shell-blankline\",\n",
    "    caption=\"<center> Figure: Shell calls kernel functions, fork and exec, to create a new process and 'runs' the 'executable' withing it</center>\"\n",
    ")))"
   ]
  },
  {
   "cell_type": "markdown",
   "id": "01f29cea-1f0e-4efb-b0bb-07b16d7c1a2b",
   "metadata": {
    "hide_input": false
   },
   "source": [
    "As the figures state, there are two basic kinds of files that the kernel knows how to \"execute\" within a process.  One is an ASCII file that has a special string at its beginning -- `#!<path of interpreter>` and the other is an **executable**.  The former is just a convenient way to allow programs like the shell to automatically be started with the contents of the file passed to it as a script to interpret.  This makes it easy to write \"scripts\" that behave as if they where programs of their own.  When in reality they are being interpreted as commands to the \"real\" program specified on the first line of the file.  But the question, of course, is what exactly are real programs or **executables**."
   ]
  },
  {
   "cell_type": "markdown",
   "id": "1b4c0e30-39f1-4e09-813c-55f762070cc6",
   "metadata": {},
   "source": [
    "## What's inside an executable\n",
    "\n",
    "Lets explore the `/bin/ls` file using our UNIX skills to see what we can figure out.\n",
    "\n",
    "### What does ls tell us about ls ;-)"
   ]
  },
  {
   "cell_type": "code",
   "execution_count": null,
   "id": "cd6967e8-0cbc-4162-bc92-99e5d5d3026f",
   "metadata": {
    "jupyter": {
     "source_hidden": true
    },
    "tags": [
     "remove-input"
    ]
   },
   "outputs": [],
   "source": [
    "TermShellCmd(\"ls -l /bin/ls\", noposttext=True, stripnl=True, markdown=False)"
   ]
  },
  {
   "cell_type": "markdown",
   "id": "957d5a16-db56-4094-9915-48c7ffe945a2",
   "metadata": {},
   "source": [
    "Running using ls to list the meta data of the file `/bin/ls` we see that it contains a sizable number of bytes.  We also see that the permissions clearly mark it as being executable by all users of the system `-rwxr-x-rx` (if you don't remember how to read this output see `man ls`).\n",
    "\n",
    "### Can we display its contents to the Terminal with `cat`?\n",
    "\n",
    "We encourage you to open a terminal and give this a shot.  What happened?  Well remember that all bytes that are sent to terminal are interpreted by the terminal as ASCII encoded information.  It should be quickly apparent to you that whatever `/bin/ls` is it is NOT predominantly ASCII encoded information!  Rather the bytes in it must be of some other kind of binary representation.  \n",
    "\n",
    "Below we pass the `-v` flag to `cat` so that it converts the non-ASCII values (things the terminal will not be able to print) in `/bin/ls` into a sequence of printable characters that represent their value,  Specifically it using '^' and 'M-' as prefixes followed by another character.  You can see the man page of `cat` and the [ASCII Table](../unix/terminal.ipynb#ASCII_sec) for more information."
   ]
  },
  {
   "cell_type": "code",
   "execution_count": null,
   "id": "2892b729-5486-4bbd-a801-5458aa278317",
   "metadata": {
    "tags": [
     "remove-input",
     "output_scroll"
    ]
   },
   "outputs": [],
   "source": [
    "TermShellCmd(\"cat -v /bin/ls\", prompt='', pretext='$ cat -v /bin/ls', height='20em', wait=False, markdown=False, noposttext=True)"
   ]
  },
  {
   "cell_type": "markdown",
   "id": "de3297ff-7370-47fa-8751-6671ea29145a",
   "metadata": {},
   "source": [
    "### Lets look at the byte values of `/bin/ls` using `xxd`\n",
    "\n",
    "So while the data in `/bin/ls` does not seem to be encoded in ASCII we can use other UNIX tools to translate the individual bytes of the file into a numeric ASCII value so that we can at least see what the values of the bytes of the file are.  There are several such tools we could use. Examples include: `od` (octal dump), `hexdump`, and `xxd`.  We will use `xxd`"
   ]
  },
  {
   "cell_type": "code",
   "execution_count": null,
   "id": "d6be8a99-4ad7-45c0-81c2-2a002c646dbd",
   "metadata": {
    "hide_input": false,
    "tags": [
     "remove-input",
     "output_scroll"
    ]
   },
   "outputs": [],
   "source": [
    "TermShellCmd(\"man xxd\", prompt='', pretext='$ man xxd', height='20em', wait=False, markdown=False, noposttext=True)"
   ]
  },
  {
   "cell_type": "markdown",
   "id": "490bed35-54db-4b15-afff-f6e29f83631f",
   "metadata": {},
   "source": [
    "`xxd` conveniently lets us look at the value of a file represented in base 2 binary digits or base 16 hexadecimal digits.   We will use the following command to display the first 256 bytes of the file in binary: `xxd -l 256 -g 1 -c 8 -b /bin/ls`\n",
    "\n",
    "Where: \n",
    " - `-l 256` is used to restrict ourselves to the first 80 bytes\n",
    " - `-g 1` is used to tell xxd to work on units/groups of single bytes\n",
    " - `-c 8` is used to print 8 units/groups per line\n",
    " - `-b` means display the values in base 2 (binary) notation\n",
    "\n",
    "This causes `xxd` to open `/bin/ls` and read the first 256 bytes.  It examines the value of each byte read and translates it so that it produces a string of eight ASCII characters of either `0` or `1` depending on the value of the bits of the byte.  In this way we can use `xxd` to display the byte values of a file.  The left hand column of the output encodes the byte position in the file that the line of data corresponds too.  These position values start at zero are in hexadecimal notation (eg. `00000010` is 16 in decimal).  On the far right of each line `xxd` prints an ASCII interpretation for any byte values that correspond to printable ASCII characters (otherwise it prints a `.`)."
   ]
  },
  {
   "cell_type": "code",
   "execution_count": null,
   "id": "3d054cb8-f1a6-4d42-a0c8-bbb79f0ac075",
   "metadata": {
    "jupyter": {
     "source_hidden": true
    },
    "tags": [
     "remove-input",
     "output_scroll"
    ]
   },
   "outputs": [],
   "source": [
    "TermShellCmd(\"xxd -l 256 -g 1 -c 8 -b /bin/ls\", wait=True, height='20em', markdown=False, noposttext=True)"
   ]
  },
  {
   "cell_type": "markdown",
   "id": "9b55b32b-634f-41f9-9543-5f5c52e318ca",
   "metadata": {},
   "source": [
    "Using hexadecimal notation we get more concise visual representation"
   ]
  },
  {
   "cell_type": "code",
   "execution_count": null,
   "id": "195e057b-4371-455c-9722-403d35d8059b",
   "metadata": {
    "jupyter": {
     "source_hidden": true
    },
    "tags": [
     "remove-input",
     "output_scroll"
    ]
   },
   "outputs": [],
   "source": [
    "TermShellCmd(\"xxd -l 256 -g 1 -c 8 /bin/ls\", wait=True, height='20em', markdown=False, noposttext=True)"
   ]
  },
  {
   "cell_type": "markdown",
   "id": "c755a457-8b90-4a48-893a-f24f4c4d436e",
   "metadata": {},
   "source": [
    "So while it might look cool, without knowing how to interpret the byte values it really does not provide us much insight as to what makes this file a program that lists the contents of directories.  "
   ]
  },
  {
   "cell_type": "markdown",
   "id": "8d98d8f6-b371-48d5-8f06-f4970b5b59df",
   "metadata": {},
   "source": [
    "### Using the UNIX `file` command on `/bin/ls`\n",
    "\n",
    "While there are no explicit file types in UNIX that tell use what kind of information is in a file (we are expected to know) there is a command that is very good at examining a file and guessing what kind of information is encoded in the file based on a large database of test.  This command is called `file`.  Here is its manual page."
   ]
  },
  {
   "cell_type": "code",
   "execution_count": null,
   "id": "35cbf963-851d-4853-a2bb-71f3b0683c76",
   "metadata": {
    "hide_input": true,
    "jupyter": {
     "source_hidden": true
    },
    "tags": [
     "remove-input",
     "output_scroll"
    ]
   },
   "outputs": [],
   "source": [
    "TermShellCmd(\"man file\", prompt='', pretext='$ man file', wait=False, height='20em', markdown=False, noposttext=True, tmout=2)"
   ]
  },
  {
   "cell_type": "markdown",
   "id": "a694d070-eb00-416f-acbd-4c6ce85f6a13",
   "metadata": {},
   "source": [
    "Well let's see what `file` has to say about `/bin/ls`."
   ]
  },
  {
   "cell_type": "code",
   "execution_count": null,
   "id": "b5e10847-c2de-49fd-8320-adee28390014",
   "metadata": {
    "jupyter": {
     "source_hidden": true
    },
    "tags": [
     "remove-input"
    ]
   },
   "outputs": [],
   "source": [
    "TermShellCmd(\"file /bin/ls\", markdown=False, stripnl=True, noposttext=True)"
   ]
  },
  {
   "cell_type": "markdown",
   "id": "181ac5ea-f4ac-49c5-9562-5b5b39258b9d",
   "metadata": {},
   "source": [
    "Ok cool!  File tells us `/bin/ls` is an **ELF** file.  You might have noticed that the xxd output showed the ASCII characters `ELF` near the beginning of the file.  This is due to the fact that this is part of the `ELF` standard format to make recognition of them easier.  \n",
    "\n",
    "\n",
    "\n",
    "### ELF Files - Executable and Linking Format Files\n",
    "\n",
    "So what exactly is an ELF file?  Lets see what the manuals have to say. P.S. You are not expected to understand what it is saying at this point."
   ]
  },
  {
   "cell_type": "code",
   "execution_count": null,
   "id": "677d6ed0-a4fe-4228-b137-eff535568261",
   "metadata": {
    "hide_input": false,
    "jupyter": {
     "source_hidden": true
    },
    "tags": [
     "remove-input",
     "output_scroll"
    ]
   },
   "outputs": [],
   "source": [
    "TermShellCmd(\"man elf\", prompt='', pretext='$ man elf', wait=False, height='20em', markdown=False, noposttext=True)"
   ]
  },
  {
   "cell_type": "markdown",
   "id": "f8153a2e-0d7a-49da-9478-5831dd6cb517",
   "metadata": {},
   "source": [
    "Wow, that's a lot of information that does not make much sense at this point.  However, it is nice to see that it seems to be a format for encoding \"executable\" files ;-)\n",
    "\n",
    "Now, as it turns out, there several tools such as `readelf` and `objdump` that are designed to decode `elf` files.  But it is not clear that this is going to help much until we get a better conceptual understanding of what it means to encode a program for execution in a process. \n",
    "\n",
    "For your interest here is the output for `readelf --all /bin/ls` and `objdump --all /bin/ls` which dump summary information about the `/bin/ls` executable.  "
   ]
  },
  {
   "cell_type": "code",
   "execution_count": null,
   "id": "4fcebaaa-14e6-4cc1-b2b2-6acf9890f088",
   "metadata": {
    "jupyter": {
     "source_hidden": true
    },
    "tags": [
     "remove-input",
     "output_scroll"
    ]
   },
   "outputs": [],
   "source": [
    "TermShellCmd(\"readelf --all /bin/ls\", wait=False, height='20em', markdown=False, noposttext=True, tmout=2)"
   ]
  },
  {
   "cell_type": "code",
   "execution_count": null,
   "id": "96144757-ec59-4147-8b96-1a6c8a1be47a",
   "metadata": {
    "jupyter": {
     "source_hidden": true
    },
    "tags": [
     "remove-input",
     "output_scroll"
    ]
   },
   "outputs": [],
   "source": [
    "TermShellCmd(\"objdump --all /bin/ls\", wait=False, height='20em', markdown=False, noposttext=True, tmout=2)"
   ]
  },
  {
   "cell_type": "markdown",
   "id": "4ec1d8a1-4cb5-40df-a1bc-85c6f097de9f",
   "metadata": {},
   "source": [
    "As a teaser here is some actual \"content\" that objdump can extract and decode from `/bin/ls`.  Specifically this command, `objdump -d /bin/ls` 'disassembles' the binary."
   ]
  },
  {
   "cell_type": "code",
   "execution_count": null,
   "id": "9e22e19e-7bd0-4b40-8f81-89e7b857904a",
   "metadata": {
    "jupyter": {
     "source_hidden": true
    },
    "tags": [
     "remove-input",
     "output_scroll"
    ]
   },
   "outputs": [],
   "source": [
    "TermShellCmd(\"objdump -d /bin/ls\", wait=False, height='20em', markdown=False, noposttext=True, tmout=2)"
   ]
  },
  {
   "cell_type": "markdown",
   "id": "9526fa82-0c2f-41e6-bd62-f6a9cf881eda",
   "metadata": {},
   "source": [
    "## Executing an Executable in a Process\n",
    "\n",
    "Lets try this from the other direction.  We know that there is a call to the OS to run an executable.  Lets see what we can find out by examining the OS documentation.  \n",
    "\n",
    "Lets start by looking up the manpage for the operating system call `exec`.  At this point we are going to ignore the programming syntax and mechanics and rather focus on what we can learn in broad strokes from the manual page.\n"
   ]
  },
  {
   "cell_type": "code",
   "execution_count": null,
   "id": "7ed4cb99-ded5-48b1-b190-3aaed3f9364d",
   "metadata": {
    "jupyter": {
     "source_hidden": true
    },
    "tags": [
     "remove-input",
     "output_scroll"
    ]
   },
   "outputs": [],
   "source": [
    "TermShellCmd(\"man 3 exec | cat -n\", wait=False, height='40em', markdown=False, noposttext=True, tmout=2)"
   ]
  },
  {
   "cell_type": "markdown",
   "id": "fc543537",
   "metadata": {},
   "source": [
    "> <img style=\"margin: 1px 5px 0px 0px;\" align=\"left\" width=\"40\" src=\"../images/fyi.svg\"> <p style=\"background-color:powderblue;\"> Notice in the above output we see line numbers for the man page. The `man` command itself does not support line numbers but the `cat` program does if you pass it the `-n` flag.  So instead of just using the command `man exec` on its own we have sent its output to `cat -n` using the pipe syntax of the shell:`|`.  So our combined shell command is:  `man exec | cat -n`.  Remember ot notice these things as UNIX can teach many good programming habits like the value of breaking our software down into small reusable parts and having a standard way for combining those parts (eg a pipe). "
   ]
  },
  {
   "cell_type": "markdown",
   "id": "e3dfaedd-5f35-46ec-a255-12b912158d47",
   "metadata": {},
   "source": [
    "We want to focus on the first two paragraphs of the description (lines 27 - 33).  These sentences imply that running a program loads a new \"process image\" over the current one.  Remember, in the Introduction we used the term memory image. It is not a random coincidence that we are seeing the same terminology here.  Further reading between the lines, the \"file\" to be executed contains or is the base of the new process image.  Given that this man page tells us that `exec` is really just a front end of `execve`, lets look at that man page and see if we can learn a little more."
   ]
  },
  {
   "cell_type": "code",
   "execution_count": null,
   "id": "afa94a09-f247-4eec-ba53-f2e122e8c6b6",
   "metadata": {
    "jupyter": {
     "source_hidden": true
    },
    "tags": [
     "remove-input",
     "output_scroll"
    ]
   },
   "outputs": [],
   "source": [
    "TermShellCmd(\"man 2 execve | cat -n\", wait=False, height='20em', markdown=False, noposttext=True, tmout=2)"
   ]
  },
  {
   "cell_type": "markdown",
   "id": "dc57875f-ca82-4210-9c8d-03193bad20b1",
   "metadata": {},
   "source": [
    "Let's focus on lines 13-21 and 41-43. Again, we see that the wording is all about replacing the contents of an existing process with the value from the executable file.  Further, we that some parts of the new process will be `newly initialized`: *stack*, *heap* and *data* *segments*. In lines 41-43 we are told that `execve`, assuming success, will overwrite certain parts of the *text*, *data* and *stack* of the process with the contents of the executable file (newly loaded program).  So, vaguely, we are starting to get the picture that an executable encodes values that get \"loaded\" into a process to initialize the execution of the program contained within it.  \n",
    "\n",
    "Our task now is to start putting the pieces together.  We need to get a better idea of processes are, their relationship to binary executable files and how we go about encoding a program into an executable."
   ]
  },
  {
   "cell_type": "markdown",
   "id": "09580943-d90c-4e49-a38c-70c84a4b1b5d",
   "metadata": {},
   "source": [
    "## Binary Executables as Process Images."
   ]
  },
  {
   "cell_type": "code",
   "execution_count": null,
   "id": "0ecb6346-d808-4adf-9fa9-98d47c4e69f8",
   "metadata": {
    "jupyter": {
     "source_hidden": true
    },
    "tags": [
     "remove-input"
    ]
   },
   "outputs": [],
   "source": [
    "display(Markdown(htmlFig(\"../images/SLS_TheMachine.png\", \n",
    "              width=\"80%\", id=\"fig:vnm\", \n",
    "             caption=\"<center>Figure: Our illustration of a von Neumann computer.  Our view is slightly updated to put the model interms of todays computers.</center>\")))"
   ]
  },
  {
   "cell_type": "markdown",
   "id": "06756b2c-1af7-47bc-9f9e-425ba4a781e7",
   "metadata": {},
   "source": [
    "Given our basic view of how a [von Neumann](../assembly/vonNeumannArchitecture.ipynb) computer operates we can see that what we load into memory drives the CPU's execution.  But how does this relate to the what is going on when we are running an operating system like UNIX  which constructs a world of running software down into an OS kernel and a set of user processes?"
   ]
  },
  {
   "cell_type": "code",
   "execution_count": null,
   "id": "61058a8b-9a4f-43fe-ba17-cb2070bb6600",
   "metadata": {
    "jupyter": {
     "source_hidden": true
    },
    "tags": [
     "remove-input"
    ]
   },
   "outputs": [],
   "source": [
    "display(Markdown(htmlFig(\"../images/UnixRunning.png\",\n",
    "             caption=\"Figure: Running Unix system.\", \n",
    "             width=\"80%\", align=\"center\", \n",
    "             margin=\"auto auto auto auto\")))"
   ]
  },
  {
   "cell_type": "markdown",
   "id": "d1726451-2f6b-40d0-a7e6-69521eceda17",
   "metadata": {},
   "source": [
    "From our perspective, as users of an operating system, we navigate the file system to find programs, in the form of executable files, to launch.  In UNIX we use a shell like bash to do this.  Bash on our behalf calls down into the UNIX Kernel requesting that it creates a new process from the specified executable file. In UNIX bash does this with two UNIX kernel system calls (fork and exec).  "
   ]
  },
  {
   "cell_type": "code",
   "execution_count": null,
   "id": "8b4342c4-67d8-42d2-8e40-a5f182ba6c94",
   "metadata": {
    "jupyter": {
     "source_hidden": true
    },
    "tags": [
     "remove-input"
    ]
   },
   "outputs": [],
   "source": [
    "display(HTML(htmlFig(\n",
    "    [\n",
    "        [\n",
    "#            {'src':\"/files/work/UndertheCovers/underthecovers/images/Processes/Processes.003.png\",\n",
    "#             'caption':'A: Press Enter', \n",
    "#             'border': '1px solid black',\n",
    "#             'padding':'1px',\n",
    "#             'cellwidth':'33.33%'\n",
    "#            },\n",
    "            {'src':\"../images/Processes/Processes.004.png\",\n",
    "#             'caption':'B: Shell \"blank line\" input processing' , \n",
    "#             'border': '1px solid black',\n",
    "#             'padding':'1px',\n",
    "#             'cellwidth':'33.33%'\n",
    "            },\n",
    "            {'src':\"../images/Processes/Processes.005.png\",\n",
    "#             'caption':'C: Shell sends Prompt back', \n",
    "#             'border': '1px solid black',\n",
    "#             'padding':'1px',\n",
    "#             'cellwidth':'33.33%'\n",
    "            },\n",
    "        ]\n",
    "    ],\n",
    "#    id=\"fig:shell-blankline\",\n",
    "#    caption=\"<center> Figure: Shell blank line behavior </center>\"\n",
    ")))"
   ]
  },
  {
   "cell_type": "markdown",
   "id": "16c17dea-9fea-410c-9f37-b8cb70660636",
   "metadata": {},
   "source": [
    "### Process Contexts\n",
    "\n",
    "To better understanding of how processes, executables and the von Neumann model of execution relate, we need to dig down a little further. "
   ]
  },
  {
   "cell_type": "code",
   "execution_count": null,
   "id": "724bb415-726e-44da-9c5b-0be83c09d831",
   "metadata": {
    "jupyter": {
     "source_hidden": true
    },
    "tags": [
     "remove-input"
    ]
   },
   "outputs": [],
   "source": [
    "display(Markdown(htmlFig(\"../images/contexts.png\",\n",
    "             caption=\"Figure: Process contexts.\", \n",
    "             width=\"80%\", align=\"center\", \n",
    "             margin=\"auto auto auto auto\")))"
   ]
  },
  {
   "cell_type": "markdown",
   "id": "43497db4-dc81-4d0a-91e4-8384b18f882a",
   "metadata": {},
   "source": [
    "Each time we ask the OS kernel to launch a binary executable, the kernel creates a new process \"Context\". \n",
    "Each context is a collection of data structures that the kernel uses to represent the memory for the process and the CPU registers.   A process is like a restricted virtual von Neumann computer.  \n",
    "\n",
    "#### Context Switch -- Scheduling Processes\n",
    "Using the [privileged execution](../assembly/vonNeummanArchitecture.ipynb) features of the hardware the kernel \"switches\", the contents on and off the real CPU and memory of the computer.  \n",
    "\n",
    "To let a particular process execute, the kernel loads the GPRS of the CPU from the context and sets SPRS of the CPU so that all \"normal\" mode memory accesses are directed to the process context's memory data structures.  Once these steps are done, the kernel resumes \"normal\" execution via a privileged instruction and the particular process will execute on the CPU in context of its own memory.  \n",
    "\n",
    "When the kernel wants to switch which process is executing, it takes over the CPU, saves the values of the GPRS into the process context of the current process, and then follows the steps above to set a different context as the currently executing one.\n",
    "\n",
    "The act of picking which process to execute on the CPU and switching between them is called scheduling and is a core function of the operating system.  Processes are what lets us treat our computers like many little sub-computers, each which can execute based on an independent view of the CPU and memory.  While it is executing, the process has control of the CPU and can conduct memory transactions.  \n",
    "\n",
    "From the perspective of the von Neumann architecture, the thing that the process is missing is the ability to conduct I/O.  This is on purpose to avoid the programs that run in processes needing to deal with the [The Ugly Underbelly](../assembly/vonNeumannArchitecture.ipynb) of I/O devices.  Rather, as we will see in other chapters to conduct I/O processes it makes requests to the kernel to control the I/O devices on it's behalf.  The OS kernel hides the details of I/O from the process and ensures that I/O is carefully arbitrated between the multiple running processes.   In UNIX the core abstract primitive for I/O it provides processes are functions for creating, writing and reading files.\n",
    "\n",
    "The exact details of how processes, contexts and scheduling are implemented vary between operating systems and the details of the hardware.  The level of detail we have covered is enough for us to continue our exploration of how processes and executables are related. "
   ]
  },
  {
   "cell_type": "markdown",
   "id": "1c1b8f57-c685-4cb0-a50a-d56a33d0d4ba",
   "metadata": {},
   "source": [
    "### Executables: Initial Images for creating Process Contexts"
   ]
  },
  {
   "cell_type": "markdown",
   "id": "ae5d2002-bf78-4c8c-bb5b-aa1ef3021960",
   "metadata": {},
   "source": [
    "We can now put things together.   In the section above we discussed how the Kernel represents processes with context data structures and uses them to schedule the CPU across processes.  But where do the initial contents of memory for a process come from?\n",
    "\n",
    "This is the primary role that binary executables files serve.   Binaries are files that describe the initial memory contents for a process; the exact values that the process contexts data structures should be initialized with and their addresses.    From this perspective, an executable is the initial memory \"image\" that the OS \"loads\" into a newly created process context.  The reason we call it an image is that it is precise map that describes what the memory of a process should initially look like.  While the process executes the memory context will change and evolve diverging from the initial image of the executable.  \n",
    "\n",
    "The figure below illustrates this relationship with a simple example."
   ]
  },
  {
   "cell_type": "code",
   "execution_count": null,
   "id": "64bdedcd-a021-4d8a-83b4-b82b3c2f0952",
   "metadata": {
    "jupyter": {
     "source_hidden": true
    },
    "tags": [
     "remove-input"
    ]
   },
   "outputs": [],
   "source": [
    "display(Markdown(htmlFig(\"../images/contexts2.png\",\n",
    "             caption=\"Figure: Example illustrating the relationships between executables and processes.\", \n",
    "             width=\"100%\", align=\"center\", \n",
    "             margin=\"auto auto auto auto\")))"
   ]
  },
  {
   "cell_type": "markdown",
   "id": "5e1b97fa-6bb7-4b38-8dca-976f80bceac4",
   "metadata": {},
   "source": [
    "At the bottom of the figure, four executable files are illustrated as colored document icons; 1) `/bin/ls` (orange), 2) `/bin/bash`, 3) `mypgm` (blue) and 4) `/bin/vim` (purple).  These files are located on the storage I/O devices. The rest of the diagram illustrates a UNIX kernel that is running four processes.  With the kernel, four contexts are shown, one for each process.  The memory of each context is colored with the color of the executable they were started with.  In this case `Context 0` was initialized with `/bin/ls`, `Context 1` and `Context 2` from `/bin/bash` and finally `Context 3` with an executable file called `mypgm`.  Above the kernel is the abstract view of the running processes that correspond to the contexts.  The kernel assigns each process a unique identifying number called a Process Identifier (pid). \n",
    "\n",
    "In UNIX the `ps` command lets us explore this view of the systems, listing the running process.  `ps` can display many attributes of the processes including the pid and the executable it was initialized with. \n",
    "\n",
    "Executables are used to initialize the memory for new process contents.  Many contents can be created from a single executable. Each process, after it is created, is an independent running instance of the executable.  In the figure, we can see that two processes have been started from the `bash` executable.    As the processes execute, they modify their memory contexts but the original executable is not modified and is preserved as a starting point for any new contexts started from it.   This is how we can have many independent \"shell\" processes running all spawned from the same binary.   Note that while many independent processes can be running at a given time, started from one or more executables, there is always only one OS kernel running that manages these processes. \n",
    "\n",
    "Once initialized the process contents are scheduled by the OS onto the CPU and memory, as described in the prior section, and continue executing until they terminate.  \n",
    "\n",
    "So now that we know how executables relate to processes, what  remains is learning how to create executables. Then we will be able to start processes from images that we constructed.  Once we understand this then the goal will be learning how to prepare the contents of an executable so that it encodes our programs!"
   ]
  },
  {
   "cell_type": "markdown",
   "id": "0bbc52c5-f995-4ad3-aa8e-8a4b64a13009",
   "metadata": {},
   "source": [
    "<div style=\"background-color:powderblue;\">\n",
    "<img style=\"margin: 1px 5px 0px 0px;\" align=\"left\" width=\"40\" src=\"../images/fyi.svg\"> \n",
    "While we call it loading most modern operating systems use advanced techniques that allow it to avoid:\n",
    "    1. Having to have entire initial image in an executable. \n",
    "    2. Needing to load the entire context when an executable is launched.  \n",
    "\n",
    "Two of the techniques used are:  1) [Dynamic loading and linking](https://en.wikipedia.org/wiki/Dynamic_loading) and 2) [Memory Paging](https://en.wikipedia.org/wiki/Memory_paging).   \n",
    "\n",
    "Rather than having every executable contain an exact copy of it's initial memory image, dynamic loading and linking allows the executable to only contain the parts of memory that are unique to the program.  Any common libraries of routines an executable uses are not in the executable.  Rather the executable simply includes a list of the libraries and routines it requires.  When creating a process for such a \"dynamically linked\" executable a dynamic loader-linker  will validate that the required files can be found.   It then ensures that as the process is run the values from the other file are added to the process context.  This approach has several nice properties.  The sizes of binaries are considerably smaller and it now possible to upgrade libraries and have new process, started from exiting binaries, automatically use them.  \n",
    "    \n",
    "The second technique, Memory Paging, refers to the OS using the [Memory Management Unit](https://en.wikipedia.org/wiki/Memory_management_unit) facilities of the CPU to avoid having the entire  memory of a process context present in the computers physical memory.  Specifically, the OS uses hardware \"paging\" features to carve up a process context memory into chunks called pages.  At any given time the only pages that need to be present are the ones that the executing process is currently conducting memory transactions too.   The other pages, of currently schedule process and, non-schedule processes can be stored on I/O devices.  The OS then shuffles the pages in and out of main memory as needed.  Treating the main memory as a form a \"cache\" for the active pages of the running processes. This allows us to run many programs who's \"virtual\" memory is larger than the physical memory of the computer.\n",
    "    </div>"
   ]
  },
  {
   "cell_type": "markdown",
   "id": "f1fc2e2f-68f7-4e78-b68a-93e86d2efe6c",
   "metadata": {},
   "source": [
    "> <img style=\"margin: 1px 5px 0px 0px;\" align=\"left\" width=\"40\" src=\"../images/fyi.svg\"> <p style=\"background-color:powderblue;\"> [Virtual Machines](https://en.wikipedia.org/wiki/System_virtual_machine) are an advanced scheme that uses CPU support to partition the computer so that multiple independent OS Kernels can be started.  Each believing it is running directly on the hardware and starting and managing it's own processes.  "
   ]
  },
  {
   "cell_type": "markdown",
   "id": "72dc3abd-4107-47c4-a6ba-786d896f6e15",
   "metadata": {},
   "source": [
    "## Creating executables\n",
    "\n",
    "Given the nature of von Neumann execution and what we know now, \"Programming\" a process means preparing an initial memory image in the form of an executable.  \n",
    "To do this we will use the two tools that are the foundation for constructing executables: an assembler and a linker.  \n",
    "\n",
    "While many high level programming languages exist in the end to get something to execute it must be represent as binary values in memory. An assembler and linker are the base tools that provide programmers the to directly specifying what the contents of an executable should be.  \n",
    "\n",
    "The rest of this chapter focuses on introducing these tools and how to practically use them to create an executable.  We will, however, defer our discussion of how to encode useful programs within executable to later chapters.  Rather, we will culminate this chapter with the ability to create an empty executable that will let us create a \"blank\" process.  While this process will not be useful on its own we will be able to use it with a  debugger to directly explore the internals of the CPU and memory of a process and learn how to use the [debugger as more than a debugger](../assembly/Debuggers.ipynb)."
   ]
  },
  {
   "cell_type": "code",
   "execution_count": null,
   "id": "bc7fdd6a-5f72-4cda-9680-3f0d9c143deb",
   "metadata": {
    "jupyter": {
     "source_hidden": true
    },
    "tags": [
     "remove-input"
    ]
   },
   "outputs": [],
   "source": [
    "\n",
    "display(HTML('''\n",
    "<i>Figure: We will be using the GNU binary utilities to work with executables.  We will focus on the GNU Assembler and Linker.</i>\n",
    "<iframe src=\"https://sourceware.org/binutils/\", height=\"400px\" width=\"100%\"></iframe>\n",
    "'''))"
   ]
  },
  {
   "cell_type": "markdown",
   "id": "57a90c1b-3b0a-4cb4-9380-8f77d0993b7f",
   "metadata": {},
   "source": [
    "### Assemblers\n",
    "\n",
    "The [assembler](https://en.wikipedia.org/wiki/Assembly_language#Assembler) is a program that processes commands in a file that directs it to create fragments of memory contents.  The linker, discussed next, will combine these fragments according to a generic layout to create an executable. \n",
    "\n",
    "The code we write in the syntax of the assembler is assembly code and is a combination of CPU specific mnemonics and special assembler specific **directives** .  We write assembly code files in ASCII with an ASCII editor.  Traditionally on UNIX systems we use the suffix `.s` or `.S` for assembly code files.  "
   ]
  },
  {
   "cell_type": "code",
   "execution_count": null,
   "id": "4f2ccc98-9c4a-43bb-81c9-94efa78e8a71",
   "metadata": {
    "jupyter": {
     "source_hidden": true
    },
    "tags": [
     "remove-input"
    ]
   },
   "outputs": [],
   "source": [
    "display(Markdown(htmlFig(\"../images/ASSEMBLY-VNA-SOFTWARE/ASSEMBLY-VNA-SOFTWARE.027.png\",\n",
    "             caption=\"Figure: Assembler.\", \n",
    "             width=\"100%\", align=\"center\", \n",
    "             margin=\"auto auto auto auto\")))"
   ]
  },
  {
   "cell_type": "markdown",
   "id": "3fa4d34e-17b3-41b1-a764-fc93b1b43dc5",
   "metadata": {},
   "source": [
    "As illustrated in the figure authors of the assembler use the CPU manufactures documentation to write the assembler.  The assembler is written to be able to translate the  CPU mnemonics, written in ASCII  into the CPU specific binary values that encode the specified instruction.\n",
    "\n",
    "The assembler directives allow us to write arbitrary values that should be placed in memory.  The assembler understands various formats (such as hex, binary, signed and unsigned integers, ASCII, etc) and sizes.  The assembler will convert the values we write, in the various formats, into the correct raw binary values that should be place in memory.  Directives also let us control both the relative and absolute placement of values.  \n",
    "\n",
    "In addition to mnemonics and directives, assemblers allow a programmer to introduce symbolic human readable labels for the addresses of particular values.  The symbolic labels, or simply symbols, allow us within our assembly code to refer to the values at the location of the symbol.  It will be the linker's job to both set the address for a label and replace the reference to the symbols address to the address it assigns to the symbol.\n",
    "\n",
    "Finally and by no means least the assembler allows us to provide comments that explain what our code is doing.  It is particularly important to carefully document assembly code given its cryptic nature.  It is not uncommon for the comments in an assembly file to far out number the actual code lines.\n",
    "\n",
    "\n",
    "Assuming that there is no errors in the assembly code, the assembler will translate our input file into what is called an **object** file.  This file, in general, will encode a sequence of values for both the [text and data](../assembly/vonNeumannArchitecture.ipynb)  of our program, however, the exact locations will not be specified.  In addition to the values the file can encode various descriptive facts so that the linker can connect up our code with code generated from other object files.  It can also contain information that can be saved in the final binary that other tools like the OS and debugger can use to understand what the bytes of the executable mean.  For example, it can contain debugger information that will allow the debugger to know what source code file and how the lines within it correspond to particular opcode bytes in memory.\n",
    "\n",
    "Traditionally assemblers can produce a \"listing\" file which is an ASCII document that describes the actions and output that the assembler took and produced while processing the input assembly source file.  The listing file can be very useful in understanding how you code we translate into byte values and what symbols it introduces and those that it references. \n",
    "\n",
    "As we progress we will understand more of the features and details of the assembler and its syntax through examples.  For the moment we are only concerned with a general understanding of it role and how."
   ]
  },
  {
   "cell_type": "markdown",
   "id": "4927e3f3-2079-4826-8b33-255b7613dbfb",
   "metadata": {},
   "source": [
    "#### GNU Assembler (gas)\n",
    "\n",
    "The particular assembler that we will be using is the GNU Assembler (gas).  As stated before we will learn its basic syntax as we work through various examples.  \n",
    "\n",
    "When we use gas to process INTEL mnemonics we will be using the mnemonic syntax that is compatible with the INTEL manuals.  There is another standard that was introduce by AT&T, for writing INTEL mnemonics but was will avoid this syntax. \n",
    "\n",
    "The following is the manual for gas.  Section 3.5 describes statements which can be very helpful in learning to read and write gas assembly."
   ]
  },
  {
   "cell_type": "code",
   "execution_count": null,
   "id": "4f2a37ef-febd-47de-a492-fd3e588edf84",
   "metadata": {
    "jupyter": {
     "source_hidden": true
    },
    "tags": [
     "remove-input"
    ]
   },
   "outputs": [],
   "source": [
    "display(HTML('''\n",
    "<i>Figure: GNU Assembler Manual.</i>\n",
    "<iframe src=\"https://sourceware.org/binutils/docs/as/\", height=\"400px\" width=\"100%\"></iframe>\n",
    "'''))"
   ]
  },
  {
   "cell_type": "markdown",
   "id": "5835498f-d49a-47a3-8006-91a8ed51bd05",
   "metadata": {},
   "source": [
    "### Linkers\n",
    "\n",
    "The process of constructing executables has purposefully been broken down into two steps to make it easier to construct programs out of a collection of code.   Specifically as we read above an assembler produces fragments of memory values called object files. \n",
    "\n",
    "The basic idea is that programmers  write various reusable chucks of assembly code that introduce data and text stored in object files.  The data and text from multiple object files can then be combined to produce a final executable by a [linker](https://en.wikipedia.org/wiki/Linker_(computing)).   Where the linker takes object files, libraries of object files and a generic description of how the text and data should be laid out, located in memory, to be compatible with the OS process model.  "
   ]
  },
  {
   "cell_type": "code",
   "execution_count": null,
   "id": "a5a5991b-6870-4b58-94bb-4a1d70ddb9d5",
   "metadata": {
    "jupyter": {
     "source_hidden": true
    },
    "tags": [
     "remove-input"
    ]
   },
   "outputs": [],
   "source": [
    "display(Markdown(htmlFig(\"../images/ASSEMBLY-AddressSpaceandIO/ASSEMBLY-AddressSpaceandIO.004.png\",\n",
    "             caption=\"Figure: Assembler.\", \n",
    "             width=\"100%\", align=\"center\", \n",
    "             margin=\"auto auto auto auto\")))"
   ]
  },
  {
   "cell_type": "markdown",
   "id": "1b882f24-a635-4a60-bfdf-1f55036c2f80",
   "metadata": {},
   "source": [
    "While this approach might seem unnecessarily complicated at first it make our lives as programmers much easier.    First it provides us with the ability to compose our programs out of our own libraries of code and code provided by others.  Secondly we don't have to worry about where exactly everything ends up in memory.  Rather the linker will be given all the inputs including general directives for how to layout the text and data of an executable for it to be compatible with a  particular OS.  With all of these this as input it will organize the values of our code into a coherent image that has the text and data correctly laid out and all symbols and their references will be carefully connect.  \n",
    "\n",
    "The operation of the linker may seem quite vague at this point.  In later chapters we will fill in the details when we discuss how memory gets assigned by the OS to a process context when \"loading\" an executable.\n",
    "\n",
    "#### GNU Linker (ld)\n",
    "\n",
    "Like the assembler the specific linker we will be using is the default linker used by the Linux Operating system, the GNU Linker (ld).  The following is the manual for ld."
   ]
  },
  {
   "cell_type": "code",
   "execution_count": null,
   "id": "dc16bcc2-d718-49dc-a866-e7bb114915d2",
   "metadata": {
    "jupyter": {
     "source_hidden": true
    },
    "tags": [
     "remove-input"
    ]
   },
   "outputs": [],
   "source": [
    "display(HTML('''\n",
    "<i>Figure: GNU Linker Manual.</i>\n",
    "<iframe src=\"https://sourceware.org/binutils/docs/ld/Overview.html#Overview\", height=\"400px\" width=\"100%\"></iframe>\n",
    "'''))"
   ]
  },
  {
   "cell_type": "markdown",
   "id": "f10a1e96-2981-42ea-b3f1-3749e7611413",
   "metadata": {},
   "source": [
    "### Creating and using our first executable.\n",
    "\n",
    "Our goal now is to put all the pieces of this chapter together to create our first executable.   While it will be a valid executable that the OS can load, it will only contain a small number of bytes that will all be zero.  As such when we go to run it we don't expect it to behave in a particularly useful way.  \n",
    "However, we will be able to use it with the debugger to explore the process that is created from the the binary. In some sense it is the simplest process we can create that has at least some initialized memory within it.\n",
    "\n",
    "#### The source code"
   ]
  },
  {
   "cell_type": "code",
   "execution_count": null,
   "id": "1f30e18a-7a92-4881-b7bd-a187ba2507f1",
   "metadata": {
    "jupyter": {
     "source_hidden": true
    },
    "tags": [
     "remove-input"
    ]
   },
   "outputs": [],
   "source": [
    "display(Markdown(FileCodeBox(\n",
    "    file=exdir + \"/empty.s\", \n",
    "    lang=\"gas\", \n",
    "    title=\"<b>CODE: Our very own 'empty' binary</b>\",\n",
    "    h=\"100%\",\n",
    "    w=\"70em\"\n",
    ")))"
   ]
  },
  {
   "cell_type": "markdown",
   "id": "114209d2-d137-41b0-910d-14ded4fb074d",
   "metadata": {},
   "source": [
    "The above code is the contents of a file we have named `empty.s`.  In reality it is not really empty but rather contains four bytes of zero.\n",
    "\n",
    "This code has been extensively commented so that we can use it to learn a little about the assembly syntax and what it lets us do.\n",
    "In general, as said before, it is good practice to write lots of \n",
    "comments in your assembly code.  The following is an un-commented version:\n",
    "\n",
    "```gas\n",
    "    .intel_syntax noprefix\n",
    "    .text \n",
    "    .global _start\n",
    "_start: \n",
    "    .byte 0x00, 0x00, 0x00, 0x00\n",
    "    .byte 0x00, 0x00, 0x00, 0x00\n",
    "```\n",
    "\n",
    "As described the keywords that start with `.` are directives.  The assembler does not attempt to interpret them as CPU mnemonics.  Rather\n",
    "they are various command that control how the assembler behaves.  \n",
    "\n",
    "Unsurprisingly, the first statement, `.intel_syntax noprefix`, tells the assembler\n",
    "that we want to use the INTEL syntax for writing mnemonics.  The next statement `.text` is a \"section\" directive, more verbosely it could have been written\n",
    "`.section .text`.  It tells the assembler to let the linker know that any values that follow belong with the text values of the final binary.  If we want to put values in other sections, such as data we would then switch sections.  The next line `.global _start` tells the assembler to place the symbolic label that is introduced on the following in the list of \"external\" symbols that this object file is making visible to the other object files.  The reason we do this is due to a requirement that every executable needs to define a symbol that tells the OS how to initialize the PC when it creates a new process context from the executable.  This symbol is call the entry point.   On Linux the default symbol the linker looks for as the entry point is `_start`.  So in combination the two lines say that file is defining an externally visible symbol `_start` and defines it to be the location of the values that follow.  Since we have not inserted any values yet we are still at the beginning of the text memory that this object file defines.  \n",
    "\n",
    "The next two lines define raw hex byte sized values that we want to place into the memory object.  The `.byte` directive expects us to list one more comma separated values that the assembler will translate into binary values and place in the object file.  The assembler understands many formats for the values.\n",
    "In our case we are using hex notation and simply specify eight bytes all zero valued.  Each byte moves the insertion point to the next offset relative to the current section.  As such these two lines tell the assembler that we want this object file to contribute 8 zero value bytes to the text values of the final linked executable.  "
   ]
  },
  {
   "cell_type": "markdown",
   "id": "3aa5b3c2-8d99-4288-a913-2475db49c480",
   "metadata": {},
   "source": [
    "#### Assembling the source into an object file\n",
    "\n",
    "The following invocation of the assembler will translate the `empty.s` into `empty.o`.  The `-g` flag tells the assembler to keep information in the object file that the debugger can use.  The `-o empty` tells the assembler what the name of the output object file it should create.  "
   ]
  },
  {
   "cell_type": "code",
   "execution_count": null,
   "id": "32dd2da9-8a2d-4b4e-a697-4d57c5d0efc8",
   "metadata": {
    "jupyter": {
     "source_hidden": true
    },
    "tags": [
     "remove-input"
    ]
   },
   "outputs": [],
   "source": [
    "display(TermShellCmd('''[[ -a empty.o ]] && rm empty.o\n",
    "make ASFLAGS='' LDFLAGS='' empty.o\n",
    "''', cwd=exdir, prompt='', pretext='', prenl=False, noposttext=True, height=\"100%\"))"
   ]
  },
  {
   "cell_type": "markdown",
   "id": "538c3027-e4c4-4972-b259-cca51ae6edde",
   "metadata": {},
   "source": [
    "Using `ls` we see that indeed the assembler created a file called `empty.o`.  Note it is quite a bit bigger than the 8 bytes that we want loaded into memory.  That is because there is lots of extra information that must be put into an object file so that link knows how to work with it.  "
   ]
  },
  {
   "cell_type": "code",
   "execution_count": null,
   "id": "15d86e29-bc81-47fc-9916-b455610ba17e",
   "metadata": {
    "jupyter": {
     "source_hidden": true
    },
    "tags": [
     "remove-input"
    ]
   },
   "outputs": [],
   "source": [
    "display(TermShellCmd('''ls -l empty.o''', \n",
    "                     cwd=exdir, noposttext=True, height=\"100%\"))"
   ]
  },
  {
   "cell_type": "markdown",
   "id": "e65ad787-a91f-4703-965a-7f85b7f6ee42",
   "metadata": {},
   "source": [
    "#### Linking the object file into an executable\n",
    "\n",
    "While we only have one object file that composes our binary we will need to have the linker process the object file and convert it into a executable object file.  The `ld` has built into a file called the link script that describes where thinks, like the text and data of the executable files need to go to be compatible with the OS, Linux in our case.  This includes encoding the address where the `_start` symbol gets place as the entry point for the binary.\n",
    "\n",
    "The following is the command to link our single object file into an executable.  Again note that we pass ld `-g` flag also telling it to generate and keep information for the debugger in the executable.  "
   ]
  },
  {
   "cell_type": "code",
   "execution_count": null,
   "id": "d3e2e395-f66a-4b41-a6de-ffa450012ee9",
   "metadata": {
    "jupyter": {
     "source_hidden": true
    },
    "tags": [
     "remove-input"
    ]
   },
   "outputs": [],
   "source": [
    "display(TermShellCmd('''[[ -a empty ]] && rm empty\n",
    "make ASFLAGS='' LDFLAGS='' empty\n",
    "''', cwd=exdir, prompt='', pretext='', prenl=False, noposttext=True, height=\"100%\"))"
   ]
  },
  {
   "cell_type": "markdown",
   "id": "5dfdd057-e324-4576-b459-fc464b4ce17c",
   "metadata": {},
   "source": [
    "Using ls again we see that the linker produced the executable `empty` as directed by the `-o empty` argument."
   ]
  },
  {
   "cell_type": "code",
   "execution_count": null,
   "id": "72113771-ff95-4454-8b1c-caddeb25233d",
   "metadata": {
    "jupyter": {
     "source_hidden": true
    },
    "tags": [
     "remove-input"
    ]
   },
   "outputs": [],
   "source": [
    "display(TermShellCmd('''ls -l empty''', \n",
    "                     cwd=exdir, noposttext=True, height=\"100%\"))"
   ]
  },
  {
   "cell_type": "markdown",
   "id": "f784ddb5-c84a-4285-bc26-26642f949d96",
   "metadata": {},
   "source": [
    "Notice this time it does have the execute permissions set."
   ]
  },
  {
   "cell_type": "markdown",
   "id": "05961cb0-f1ba-443c-a23c-728a50fe8698",
   "metadata": {},
   "source": [
    "#### Running the executable\n",
    "\n",
    "Ok lets run it."
   ]
  },
  {
   "cell_type": "code",
   "execution_count": null,
   "id": "55fedf94-9ebf-4de3-bbeb-703e0e5dc94d",
   "metadata": {
    "jupyter": {
     "source_hidden": true
    },
    "tags": [
     "remove-input"
    ]
   },
   "outputs": [],
   "source": [
    "# no output from seg faulting code .... don't have time to fix this\n",
    "display(TermShellCmd('''echo '$ ./empty\n",
    "Segmentation fault'\n",
    "''', \n",
    "                     cwd=exdir, prompt='',prenl='', noposttext=True, wait=True, height=\"100%\", tmout=4))"
   ]
  },
  {
   "cell_type": "markdown",
   "id": "89a38771-8e1b-420a-8849-fc89e6f778d5",
   "metadata": {},
   "source": [
    "#### Segmentation Fault\n",
    "The message `Segmentation fault` indicates that the kernel informed the shell that the kernel terminated the process that it started to run the `empty` executable.  Specifically the kernel told the shell that empty did an \"Invalid memory reference\" and so the kernel terminated the process.  An invalid memory reference means that the process trying to do a memory transaction to an address that did not have valid memory associated with it.  \n",
    "\n",
    "In later chapters we will discuss why memory is invalid an how to create valid memory.  For the moment it suffices to say that an memory that our process will have needed to be defined by the executable.  An in our case we only created 8 bytes of memory we knew was valid.\n",
    "\n",
    "The real use of the empty binary is that it allows us to create a very simple process that we can use the debugger with.\n"
   ]
  },
  {
   "cell_type": "markdown",
   "id": "6f575852-9934-4b02-a04b-4997595ec243",
   "metadata": {},
   "source": [
    "#### Using empty with gdb\n",
    "\n",
    "In the following session we use gdb to create a process and then explore, modify and execute an instruction within it.  Other chapters will go into the details this is just to give us a flavor of how we can use gdb to explore the relationships between an executable and a process created from it.\n",
    "\n",
    "The following is an explanation for what is was done\n",
    "\n",
    "1. set the disassembly syntax of gdb to intel\n",
    "   - `set disassembly-flavor intel`\n",
    "2. open the empty assembly file\n",
    "   - `file empty`\n",
    "3. We can now printf explore the values within the executable This includes finding out where a symbol got located including our entry point\n",
    "   - `p /x &_start`\n",
    "4. Before we start a process we want to have gdb freeze it before any instructions within it execute. So we set a break point at the address of the entry point.\n",
    "   - `b &_start`\n",
    "5. Ok let's start a process from the open executable\n",
    "   - `run`\n",
    "6. At this point the a process has been created but it is frozen at the breakpoint and we can control it from gdb. We can print information about it\n",
    "`info proc`\n",
    "7. We can look at it's registers\n",
    "`info registers`\n",
    "8. We can work with individual registers\n",
    "    - `p /x $rax`\n",
    "    - `p /t $rax`\n",
    "    - `p /d $rax`\n",
    "    - `p /x $rip`\n",
    "9. We can examine memory\n",
    "    - `x/8xb 0x401000`\n",
    "10. We can even ask gdb to disassemble memory\n",
    "    - `x/2i &_start`\n",
    "11. We can also write new values into memory. Lets uses this this ability to replace some of our zeros with the values that encode an instruction : `popcnt rbx, rax`. Each time we add a new value we will ask gdb to display the memory and to disassemble what it finds there so we can see our progress.\n",
    "    - `set {unsigned char}&_start = 0xF3`\n",
    "    - `x/5xb &_start`\n",
    "    - `x/1i &_start`\n",
    "    - `set {unsigned char}(&_start+1) = 0x48`\n",
    "    - `x/5xb &_start`\n",
    "    - `x/1i &_start`\n",
    "    - `set {unsigned char}(&_start+2) = 0x0F`\n",
    "    - `x/5xb &_start`\n",
    "    - `x/1i &_start`\n",
    "    - `set {unsigned char}(&_start+3) = 0xB8`\n",
    "    - `x/5xb &_start`\n",
    "    - `x/1i &_start`\n",
    "    - `set {unsigned char}(&_start+4) = 0xD8`\n",
    "    - `x/5xb &_start`\n",
    "    - `x/1i &_start`\n",
    "12. Cool those five bytes to encode the instruction we want. Lets display those bytes in various other forms\n",
    "    - In binary notation: `x/5tb _start`\n",
    "    - As signed decimal numbers: `x/5db _start`\n",
    "    - As unsigned decimal numbers: `x/5ub _start`\n",
    "13. Lets display the current contents of the two register that our instruction uses an operands\n",
    "    - `p/x {$rax, $rbx}`\n",
    "14. Before we execute the instruction lets remove the break point to make our life easier\n",
    "    - `delete`\n",
    "15 We can use gdb to execute one instruction at a time\n",
    "    - `stepi`\n",
    "16. Lets look to see if the registers have changed\n",
    "    - `p/x {$rax, $rbx}`\n",
    "17. Lets try again but lets put a value in rax\n",
    "    - `set $rax = 0b1011`\n",
    "18. Again we print the value of the registers to be sure we know what values are in them before we execute the instruction\n",
    "    - `p/x {$rax, $rbx}`\n",
    "19. Remember the pc tells us where the next instruction is\n",
    "    - `p /x $pc`\n",
    "20. So we need to reset it back to the address we placed the instruction which was the address of `_start`\n",
    "    - `set $pc = $_start`\n",
    "    - `stepi`\n",
    "    - `p/x {$rax, $rbx}`\n",
    "\n",
    "Cool rbx now has the number of bits set to one that the value in rax has -- its \"population count\"\n",
    "\n",
    "\n"
   ]
  },
  {
   "cell_type": "code",
   "execution_count": null,
   "id": "ee7ed8d5-2e17-4f8e-95ae-d83b84caf97b",
   "metadata": {
    "jupyter": {
     "source_hidden": true
    },
    "tags": [
     "output_scroll",
     "remove-input"
    ]
   },
   "outputs": [],
   "source": [
    "display(gdbFile(\"empty.gdb\", cwd=exdir, height=\"10em\", tmout=4))"
   ]
  },
  {
   "cell_type": "markdown",
   "id": "0850a6f7-f09e-4af9-8ab1-e11ffb46b5b7",
   "metadata": {},
   "source": [
    "### The code to create an executable for a larger empty process\n",
    "\n",
    "The following code replaces the two lines of `.byte` directives with a single `.fill` directive that inserts in this case 256 zero valued bytes into memory at `_start`"
   ]
  },
  {
   "cell_type": "code",
   "execution_count": null,
   "id": "4d1e63e8-e32b-457e-b752-54e75b94fd4f",
   "metadata": {
    "jupyter": {
     "source_hidden": true
    },
    "tags": [
     "remove-input"
    ]
   },
   "outputs": [],
   "source": [
    "display(Markdown(FileCodeBox(\n",
    "    file=exdir + \"/empty256.s\", \n",
    "    lang=\"gas\", \n",
    "    title=\"<b>CODE: An empty binary with a little more room.</b>\",\n",
    "    h=\"100%\",\n",
    "    w=\"100%\",\n",
    "    number=True\n",
    ")))"
   ]
  }
 ],
 "metadata": {
  "celltoolbar": "Tags",
  "hide_input": true,
  "kernelspec": {
   "display_name": "Python 3 (ipykernel)",
   "language": "python",
   "name": "python3"
  },
  "language_info": {
   "codemirror_mode": {
    "name": "ipython",
    "version": 3
   },
   "file_extension": ".py",
   "mimetype": "text/x-python",
   "name": "python",
   "nbconvert_exporter": "python",
   "pygments_lexer": "ipython3",
   "version": "3.10.5"
  }
 },
 "nbformat": 4,
 "nbformat_minor": 5
}
