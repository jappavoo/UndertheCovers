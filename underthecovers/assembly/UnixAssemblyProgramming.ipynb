{
 "cells": [
  {
   "cell_type": "code",
   "execution_count": null,
   "id": "424ed823-741b-41a5-8b57-7f5b372bd47c",
   "metadata": {
    "tags": [
     "remove-cell"
    ]
   },
   "outputs": [],
   "source": [
    "%run -i ../python/common.py"
   ]
  },
  {
   "cell_type": "markdown",
   "id": "35923f1a-8129-49c0-a952-e4f05366e14e",
   "metadata": {},
   "source": [
    "# Executables\n",
    "\n",
    "In this chapter we will explore what \"native\" binary programs are and begin our journey to learning how to create them though assembly programming.\n",
    "\n",
    "This chapter follows two approaches to this material.  In the first part we take an self-guided discovery approach.  Here we use our knowledge and access to UNIX to follow our noses and poke around an executable to see what we can learn. In the second part of the chapter we take a more traditional textbook approach and present the conceptual model for how executables and processes relate to each other.\n",
    "\n",
    "\n",
    "**The following chapter includes several manual page entries.  A reader is not expected to read these completely.  They are mainly hear to illustrate how we can learn about the detail and document the precise way we can look them up later when we need too.  In general you should skip the first few paragraphs.  If there details that you should pickup on now the text will point you to them**"
   ]
  },
  {
   "cell_type": "markdown",
   "id": "1ea3ec8c-8015-4437-be7e-92876be15602",
   "metadata": {},
   "source": [
    "## Processes and Executables\n",
    "\n",
    "Perhaps the most basic thing we do on a computer is run programs.  As we have seen, on UNIX, one of the main purposes of the shell is to let us start and manage running programs -- Processes.  As a recap remember that when we type a command like `ls` into a shell, that is not a built-in command (eg. `ls`), the shell will look to see if a file, with a matching name, exists in the list of directories specified by the `PATH` envionment variable.  If one is found (eg `/bin/ls`), and it's meta data marks it as \"executable\", the shell process will make calls to the UNIX kernel to create a new child process and try and \"run\" the file within then new process.    "
   ]
  },
  {
   "cell_type": "code",
   "execution_count": null,
   "id": "dd1b26bd-de82-48d6-b825-178bea5ed566",
   "metadata": {
    "jupyter": {
     "source_hidden": true
    },
    "tags": [
     "remove-input"
    ]
   },
   "outputs": [],
   "source": [
    "display(HTML(htmlFig(\n",
    "    [\n",
    "        [\n",
    "#            {'src':\"/files/work/UndertheCovers/underthecovers/images/Processes/Processes.003.png\",\n",
    "#             'caption':'A: Press Enter'\n",
    "#             'border': '1px solid black',\n",
    "#             'padding':'1px',\n",
    "#             'cellwidth':'33.33%'\n",
    "#            },\n",
    "            {'src':\"../images/Processes/Processes.004.png\",\n",
    "             'caption':'A: Bash calls kernel functions.',  \n",
    "#             'border': '1px solid black',\n",
    "#             'padding':'1px',\n",
    "          'cellwidth':'50%'\n",
    "            },\n",
    "         {'src':\"../images/Processes/Processes.005.png\",\n",
    "             'caption':'B: Kernel runs the program in new process.',\n",
    "#             'border': '1px solid black',\n",
    "#             'padding':'1px',\n",
    "             'cellwidth':'50%'\n",
    "           },\n",
    "        ]\n",
    "    ],\n",
    "    id=\"fig:shell-blankline\",\n",
    "    caption=\"<center> Figure: Shell calls kernel functions, fork and exec, to create a new process and 'runs' the 'executable' withing it</center>\"\n",
    ")))"
   ]
  },
  {
   "cell_type": "markdown",
   "id": "01f29cea-1f0e-4efb-b0bb-07b16d7c1a2b",
   "metadata": {
    "hide_input": false
   },
   "source": [
    "As the figures state there are two basic kinds of files that the kernel knows how to \"execute\" within a process.  One is an ASCII file that has a special string at its beginning -- `#!<path of interpreter>` and the other is an **executable**.  The former is just a convient way to allow programs like the shell to automatically be started with the contents of the file passed to it as a script to interpret.  This makes it easy to write \"scripts\" that behave as if they where programs of their own.  When in reality they are being interpreted as commands to the \"real\" program specified on the first line of the file.  But the quesiton of course what exactly are real programs or **executables**."
   ]
  },
  {
   "cell_type": "markdown",
   "id": "1b4c0e30-39f1-4e09-813c-55f762070cc6",
   "metadata": {},
   "source": [
    "## What's inside and executable\n",
    "\n",
    "Lets explore the `/bin/ls` file using our UNIX skills to see what we can figure out.\n",
    "\n",
    "### What does ls tell us about ls ;-)"
   ]
  },
  {
   "cell_type": "code",
   "execution_count": null,
   "id": "cd6967e8-0cbc-4162-bc92-99e5d5d3026f",
   "metadata": {
    "jupyter": {
     "source_hidden": true
    },
    "tags": [
     "remove-input"
    ]
   },
   "outputs": [],
   "source": [
    "TermShellCmd(\"ls -l /bin/ls\", markdown=False)"
   ]
  },
  {
   "cell_type": "markdown",
   "id": "957d5a16-db56-4094-9915-48c7ffe945a2",
   "metadata": {},
   "source": [
    "Running using ls to list the meta data of the file `/bin/ls` we see that it contains a sizable number of bytes.  We also see that the permisions clearly mark it as being executable by all users of the system `-rwxr-x-rx` (if you don't remember how to read this output see `man ls`).\n",
    "\n",
    "### Can we display its contents to the Terminal with `cat`?\n",
    "\n",
    "We encourage you to open a terminal and give this a shot.  What happened?  Well remember that all bytes that are sent to terminal are interpreted by the terminal as ASCII encoded information.  It should be quickly apparent to you that whatever `/bin/ls` is it is NOT predoninatly ASCII encoded information!  Rather they bytes in it must be some other kind of binary represenation.  \n",
    "\n"
   ]
  },
  {
   "cell_type": "markdown",
   "id": "de3297ff-7370-47fa-8751-6671ea29145a",
   "metadata": {},
   "source": [
    "### Lets look at the byte values of `/bin/ls` using `xxd`\n",
    "\n",
    "So while the data in `/bin/ls` does not seem to be encoded in ASCII we can use other UNIX tools to translate the individual bytes of the file into a numeric ASCII value so that we can at least see what the values of the bytes of the file are.  There are seveal such tools we could use exmaples include: `od` (octal dump), `hexdump`, and `xxd`.  We will use `xxd`"
   ]
  },
  {
   "cell_type": "code",
   "execution_count": null,
   "id": "d6be8a99-4ad7-45c0-81c2-2a002c646dbd",
   "metadata": {
    "hide_input": false,
    "jupyter": {
     "source_hidden": true
    },
    "tags": [
     "remove-input",
     "output_scroll"
    ]
   },
   "outputs": [],
   "source": [
    "TermShellCmd(\"man xxd | cat \", prompt='', pretext='$ man xxd', wait=False, markdown=False, noposttext=True)"
   ]
  },
  {
   "cell_type": "markdown",
   "id": "490bed35-54db-4b15-afff-f6e29f83631f",
   "metadata": {},
   "source": [
    "`xxd` conviently lets us look at the value of a file represent in base 2 binary digits or base 16 hexadecimal digits.   We will use the following command to display the first 256 bytes of the file in binary: `xxd -l 256 -g 1 -c 8 -b /bin/ls`\n",
    "\n",
    "Where: \n",
    " - `-l 256` is used to restrict ourselves to the first 80 bytes\n",
    " - `-g 1` is used to tell xxd to work on units/groups of single bytes\n",
    " - `-c 8` is used to print 8 units/groups per line\n",
    " - `-b` means display the values in base 2 (binary) notation\n",
    "\n",
    "This causes `xxd` to open `/bin/ls` and read the first 256 bytes.  It examines the value of each byte read and translates it so that it produces a string of eight ASCII characters of either `0` or `1` depending on the value of the bits of the byte.  In this way we can use `xxd` to diplay the byte values of a file.  The left hand column of the output encodes the byte position in the file that the line of data correponds too.  These position values start at zero are in hexadecimal notation (eg. `00000010` is 16 in decimal).  On the far right of each line `xxd` prints an ASCII interpretation for any byte values that correspond to printable ASCII characters (otherwise it prints a `.`)."
   ]
  },
  {
   "cell_type": "code",
   "execution_count": null,
   "id": "3d054cb8-f1a6-4d42-a0c8-bbb79f0ac075",
   "metadata": {
    "jupyter": {
     "source_hidden": true
    },
    "tags": [
     "remove-input",
     "output_scroll"
    ]
   },
   "outputs": [],
   "source": [
    "TermShellCmd(\"xxd -l 256 -g 1 -c 8 -b /bin/ls\", wait=True, markdown=False, noposttext=True)"
   ]
  },
  {
   "cell_type": "markdown",
   "id": "9b55b32b-634f-41f9-9543-5f5c52e318ca",
   "metadata": {},
   "source": [
    "Using hexadecimal notation we get more concise visual represention"
   ]
  },
  {
   "cell_type": "code",
   "execution_count": null,
   "id": "195e057b-4371-455c-9722-403d35d8059b",
   "metadata": {
    "jupyter": {
     "source_hidden": true
    },
    "tags": [
     "remove-input",
     "output_scroll"
    ]
   },
   "outputs": [],
   "source": [
    "TermShellCmd(\"xxd -l 256 -g 1 -c 8 /bin/ls\", wait=True, markdown=False, noposttext=True)"
   ]
  },
  {
   "cell_type": "markdown",
   "id": "c755a457-8b90-4a48-893a-f24f4c4d436e",
   "metadata": {},
   "source": [
    "So while it might look cool without knowing how to inprepret the byte values it really does not provide us much insight as to what makes this file a program that lists the contents of directories.  "
   ]
  },
  {
   "cell_type": "markdown",
   "id": "8d98d8f6-b371-48d5-8f06-f4970b5b59df",
   "metadata": {},
   "source": [
    "### Using the UNIX `file` command on `/bin/ls`\n",
    "\n",
    "While there are no explicit file types in UNIX that tell use what kind of information is in a file (we are expected to know) there is a command that is very good at examining a file and guessing what kind of information is encoded in the file based on a large database of test.  This command is called `file`.  Here is its manual page."
   ]
  },
  {
   "cell_type": "code",
   "execution_count": null,
   "id": "35cbf963-851d-4853-a2bb-71f3b0683c76",
   "metadata": {
    "hide_input": true,
    "tags": [
     "remove-input",
     "output_scroll"
    ]
   },
   "outputs": [],
   "source": [
    "TermShellCmd(\"man file | cat\", prompt='', pretext='$ man file', wait=False, markdown=False, noposttext=True, tmout=2)"
   ]
  },
  {
   "cell_type": "markdown",
   "id": "a694d070-eb00-416f-acbd-4c6ce85f6a13",
   "metadata": {},
   "source": [
    "Well let's see what `file` has to say about `/bin/ls`."
   ]
  },
  {
   "cell_type": "code",
   "execution_count": null,
   "id": "b5e10847-c2de-49fd-8320-adee28390014",
   "metadata": {
    "jupyter": {
     "source_hidden": true
    },
    "tags": [
     "remove-input"
    ]
   },
   "outputs": [],
   "source": [
    "TermShellCmd(\"file /bin/ls\", markdown=False, noposttext=True)"
   ]
  },
  {
   "cell_type": "markdown",
   "id": "181ac5ea-f4ac-49c5-9562-5b5b39258b9d",
   "metadata": {},
   "source": [
    "Ok cool!  File tells us `/bin/ls` is and **ELF** file.  You might have noticed that the xxd output showed the ASCII characters `ELF` near the begining of the file.  This is due to the fact that this is part of the `ELF` standard format to make recognition of them easier.  \n",
    "\n",
    "\n",
    "\n",
    "### ELF Files - Executable and Linking Format Files\n",
    "\n",
    "So what exactly is an ELF file?  Lets see what the manuals have to say. P.S. You are not expected to understand what it is saying at this point."
   ]
  },
  {
   "cell_type": "code",
   "execution_count": null,
   "id": "677d6ed0-a4fe-4228-b137-eff535568261",
   "metadata": {
    "hide_input": false,
    "tags": [
     "remove-input",
     "output_scroll"
    ]
   },
   "outputs": [],
   "source": [
    "TermShellCmd(\"man elf|cat\", prompt='', pretext='$ man elf', wait=False, markdown=False, noposttext=True)"
   ]
  },
  {
   "cell_type": "markdown",
   "id": "f8153a2e-0d7a-49da-9478-5831dd6cb517",
   "metadata": {},
   "source": [
    "Wow that's a lot of information that does not make much sense at this point.  However, it is nice to see that it seems to be a format for encoding \"executable\" files ;-)\n",
    "\n",
    "Now as it turns out there several tools such as `readelf` and `objdump` that we could read about that are designed for decoding with `elf` files.  But it is not clear that this is going to help that much unless we get a more conceptual understanding for what it means to encode a program for execution in a process.  \n",
    "\n",
    "For your interest here is the output for `readelf --all /bin/ls` and `objdump --all /bin/ls` which dump summary information about the `/bin/ls` executable.  "
   ]
  },
  {
   "cell_type": "code",
   "execution_count": null,
   "id": "4fcebaaa-14e6-4cc1-b2b2-6acf9890f088",
   "metadata": {
    "tags": [
     "remove-input",
     "output_scroll"
    ]
   },
   "outputs": [],
   "source": [
    "TermShellCmd(\"readelf --all /bin/ls\", wait=False, markdown=False, noposttext=True, tmout=2)"
   ]
  },
  {
   "cell_type": "code",
   "execution_count": null,
   "id": "96144757-ec59-4147-8b96-1a6c8a1be47a",
   "metadata": {
    "tags": [
     "output_scroll",
     "remove-input"
    ]
   },
   "outputs": [],
   "source": [
    "TermShellCmd(\"objdump --all /bin/ls\", wait=False, markdown=False, noposttext=True, tmout=2)"
   ]
  },
  {
   "cell_type": "markdown",
   "id": "4ec1d8a1-4cb5-40df-a1bc-85c6f097de9f",
   "metadata": {},
   "source": [
    "As a teaser here is some actual \"content\" that objdump can extract and decode from `/bin/ls`.  Specifically this command, `objdump -d /bin/ls` 'disassembles' the binary."
   ]
  },
  {
   "cell_type": "code",
   "execution_count": null,
   "id": "9e22e19e-7bd0-4b40-8f81-89e7b857904a",
   "metadata": {
    "tags": [
     "remove-input",
     "output_scroll"
    ]
   },
   "outputs": [],
   "source": [
    "TermShellCmd(\"objdump -d /bin/ls\", wait=False, markdown=False, noposttext=True, tmout=2)"
   ]
  },
  {
   "cell_type": "markdown",
   "id": "9526fa82-0c2f-41e6-bd62-f6a9cf881eda",
   "metadata": {},
   "source": [
    "## Executing and Executable in a Process\n",
    "\n",
    "Lets try this from the other direction.  We know that there is a call to the OS to run an executable.  Lets see what we can find out by examining the OS documentation.  \n",
    "\n",
    "Lets start by looking up the manpage for the operating system call `exec`.  At this point we are going to ignore the programming syntax and mechanics and rather focus on what we can learn in braod strokes from the manual page.\n"
   ]
  },
  {
   "cell_type": "code",
   "execution_count": null,
   "id": "7ed4cb99-ded5-48b1-b190-3aaed3f9364d",
   "metadata": {
    "tags": [
     "remove-input",
     "output_scroll"
    ]
   },
   "outputs": [],
   "source": [
    "TermShellCmd(\"man 3 exec | cat -n\", wait=False, markdown=False, noposttext=True, tmout=2)"
   ]
  },
  {
   "cell_type": "markdown",
   "id": "fc543537",
   "metadata": {},
   "source": [
    "> <img style=\"margin: 1px 5px 0px 0px;\" align=\"left\" width=\"40\" src=\"../images/fyi.svg\"> <p style=\"background-color:powderblue;\"> Notice in the above output we see line numbers for the man page. The `man` command itself does not support line numbers but the `cat` program does if you pass it the `-n` flag.  So instead of just using the command `man exec` on its own we have sent its output to `cat -n` using the pipe syntax of the shell:`|`.  So our combined shell command is:  `man exec | cat -n`.  Remember ot notice these things as UNIX can teach many good programming habits like the value of breaking our software down into small reusable parts and having a standard way for combining those parts (eg a pipe). "
   ]
  },
  {
   "cell_type": "markdown",
   "id": "e3dfaedd-5f35-46ec-a255-12b912158d47",
   "metadata": {},
   "source": [
    "We want to focus on the first two paragraphs of the discription (lines 27 - 33).  These sentences imply that running a program loads a new \"process image\" over the current one.  Remember in the Intoduction we used the term memory image it is not a random coincidence that we are seeing the same terminology here.  Further reading between the lines the \"file\" to be executed contains or is the base of the new process image.  Given that this man page tells us that `exec` is really just a front end of `execve` lets look at that man page and see if we can learn a little more."
   ]
  },
  {
   "cell_type": "code",
   "execution_count": null,
   "id": "afa94a09-f247-4eec-ba53-f2e122e8c6b6",
   "metadata": {
    "tags": [
     "remove-input",
     "output_scroll"
    ]
   },
   "outputs": [],
   "source": [
    "TermShellCmd(\"man 2 execve | cat -n\", wait=False, markdown=False, noposttext=True, tmout=2)"
   ]
  },
  {
   "cell_type": "markdown",
   "id": "dc57875f-ca82-4210-9c8d-03193bad20b1",
   "metadata": {},
   "source": [
    "Let's focus on lines 13-21 and 41-43. Again we see that the wording is all about replacing the contents of an existing process with the value from the executable file.  Further we that some parts of the new process will be `newly initialized`: *stack*, *heap* and *data* *segments*. In lines 41-43 we are told that `execve`, assuming success, will overwrite certain parts of the *text*, *data* and *stack* of the process with the contents of the executable file (newly loaded program).  So vaguely we are getting the picture that an executable encodes values that get \"loaded\" into a process to initialize the execution of the program contained within it.  \n",
    "\n",
    "Our task now is to start putting the pieces together.  We need to get a better idea of what a processes is and how we go about encoding a program into an executable.\n"
   ]
  },
  {
   "cell_type": "markdown",
   "id": "13ff7ff5",
   "metadata": {},
   "source": [
    "## Processes"
   ]
  }
 ],
 "metadata": {
  "celltoolbar": "Tags",
  "hide_input": true,
  "kernelspec": {
   "display_name": "Python 3 (ipykernel)",
   "language": "python",
   "name": "python3"
  },
  "language_info": {
   "codemirror_mode": {
    "name": "ipython",
    "version": 3
   },
   "file_extension": ".py",
   "mimetype": "text/x-python",
   "name": "python",
   "nbconvert_exporter": "python",
   "pygments_lexer": "ipython3",
   "version": "3.9.6"
  }
 },
 "nbformat": 4,
 "nbformat_minor": 5
}
