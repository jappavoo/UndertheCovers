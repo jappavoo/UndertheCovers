{
 "cells": [
  {
   "cell_type": "markdown",
   "id": "3931fa67-ab10-4233-bfcf-4e5d4c068b6e",
   "metadata": {},
   "source": [
    "# Assembly : Program Anatomy I\n",
    "This chapter is under construction, accompanying lecture material can be found [here](https://jappavoo.github.io/UndertheCovers/lecturenotes/assembly/L10.html)\n",
    "\n",
    "[How to view the lecture notes](https://jappavoo.github.io/UndertheCovers/lecturenotes/lnhowto.html)"
   ]
  }
 ],
 "metadata": {
  "kernelspec": {
   "display_name": "Python 3 (ipykernel)",
   "language": "python",
   "name": "python3"
  },
  "language_info": {
   "codemirror_mode": {
    "name": "ipython",
    "version": 3
   },
   "file_extension": ".py",
   "mimetype": "text/x-python",
   "name": "python",
   "nbconvert_exporter": "python",
   "pygments_lexer": "ipython3",
   "version": "3.9.6"
  }
 },
 "nbformat": 4,
 "nbformat_minor": 5
}
