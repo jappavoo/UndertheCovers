{
 "cells": [
  {
   "cell_type": "code",
   "execution_count": null,
   "id": "ce2c998e",
   "metadata": {},
   "outputs": [],
   "source": [
    "%run -i ../python/common.py"
   ]
  },
  {
   "cell_type": "markdown",
   "id": "274047aa",
   "metadata": {},
   "source": [
    "# Representing information - The Basics: Bits, Bytes and Notation\n",
    "\n",
    "\n",
    "In general most physical components of a computer store, transmit, or operate on a pattern of binary values. The pattern is a fixed size collection of bi-stable physical units. Bi-stable means that each unit within the collection can reliably take on one of two distinct states. Depend on the device various different physical mechanisms can be used to represent the values. Some devices, such a older hard drives, use magnetic polarity — north vs south magnetic force. In these devices a surface is coated with a magnetic material. By dividing the surface into non overlapping regions we form units that individual and independently can have their magnetic polarity changed and detected. Integrated into these devices is one or more electro-magnetic heads that can “write” or “read” a region, when the region is below them. Writing means setting the regions polarity to north or south and reading means detecting the regions current polarity. The head is an electrical device. When reading it generates either a high or low voltage on a wire depending on the polarity of the region. Similarly an electrical signal can be used to direct it to set the polarity if desired.\n",
    "\n",
    "Modern Solid State Drives (SSDs) and things like “USB sticks” contain electrical cells that serve as their units. No head is required for these devices as the cells can be directly accessed. Depending on the technology used the cells might represent states using electrical charge or changes in their electrical resistance.\n",
    "\n",
    "Other devices such as memory “chips” use cells that actively consume electricity to maintain there values. If electricity is lost, eg your battery dies, then their values are lost. However, unlike Hard drives, SSDs and USB sticks, devices composed of these chips can be written and read very fast using electrical voltages on wires that are directly connected to them. These components are often called the Memory or RAM (Random Access Memory) of our computers. The CPUs have direct electrical connectivity to them and they serve as the working memory for the active programs running on our computers.\n",
    "\n",
    "From our perspective the key point is that regardless of the technology storage devices and can be abstractly though of as a fixed size array of units that can take on of one two distinct states\\footnote{}. Further the devices can be controlled and accessed through electrical signals.\n",
    "\n",
    "\n",
    "This last part is important as the majority of high speed devices, like RAM and the CPUs, used in a computer use electricity or in some cases light. High vs low electrical voltage is in some sense the universal language for binary values in a computer. Circuits within the CPU operate on electrical voltages to implement functions on the patterns. Collections of wires, called busses, interconnect components of the computer and allow them to transmit patterns between each other in controlled and orderly ways. Like most things the transfers are initiated and controlled via the the instructions of our programs execute by the CPU. For example\n",
    "the following two Intel instruction sequence directs the components of the computer to transmit 64 binary values from one location in RAM to another via a register in the CPU.\n",
    "```\n",
    "mov rax, qword ptr [4208]\n",
    "mov qword ptr [4216], rax\n",
    "```\n",
    "Even our I/O device such a touch screen is really just a device which electrical charges can be used to control the individual picture element (pixels).  Specifically turning on or off specific light emitting components (such as Light Emitting Diodes). Or translate pressure on the screen into electrical signals on wires for the particular location touched.\n",
    "\n",
    "While the physical part of the computers can store (eg RAM), transmit (eg Busses) and operate on (eg CPUs) binary patterns via electrical voltages they do not enforce a particular “meaning” on the patterns. In some sense the components of the computer form a blank sheet of “paper” which a programmer can use to represent and manipulate information using patterns of electrical signals and the capabilities of the CPU, memory and I/O devices."
   ]
  },
  {
   "cell_type": "markdown",
   "id": "b921b161",
   "metadata": {},
   "source": [
    "## Information\n",
    "\n",
    "Given that the components of a computer are built to work with discrete binary, two valued, patterns it is natural for us to use arrays of binary digits (bits) to represent what values we want the components to store or the operations we want done.\n",
    "\n",
    "As such the world of software is really a world in which we translate our ideas into arrays of bits. Remember, however, as we continue our discussion of information representation the components of the computer are simply working on patterns of electrical signals, charges, resistance, magnetic polarity, etc. They do not store or operate explicitly on strings, integers, floats, functions, instructions, hexadecimal values or even ones and zeros. All these things are how we as programmers use the values within the components to represent information (including the instructions of our programs that implement algorithms)."
   ]
  },
  {
   "cell_type": "markdown",
   "id": "b79f46f0",
   "metadata": {},
   "source": [
    "### The Byte"
   ]
  },
  {
   "cell_type": "code",
   "execution_count": null,
   "id": "00181f66",
   "metadata": {
    "hide_input": true
   },
   "outputs": [],
   "source": [
    "display(Markdown(htmlFig(\"../images/8switches.png\",id=\"fig:8switches\", width=\"80%\",\n",
    "                         caption=\"Fig: A byte as 8 switches: We can visualize a byte as an array of 8 bits.  As a programmer we think of a computer as many such arrays.  Each byte has some particular location in the computer and a particular value that it current stores.  The value can be though of as the current configuration of its switches. \")))"
   ]
  },
  {
   "cell_type": "markdown",
   "id": "7edbee00",
   "metadata": {},
   "source": [
    "The standard unit that we have settled on is a pattern of 8 bits, binary digits, called a byte. Some times we break a byte down into two 4 bit quantities called a nibble. Bytes are also often grouped into larger units. The names for these larger units, however, unfortunately are not always consistent. Some conventions, such as those used Intel products, call a array of two bytes a word, four bytes a double word and 8 bytes a quad word. However other conventions refer to four byte arrays as a word, a two byte arrays as half word and a 8 byte array as a double word. Given this ambiguity it is often best to use bit lengths such as 8, 16, 32, 64, 128, 256 to avoid confusion. However, sometimes we don’t have a choice but to be aware of the convention that is in use to understand what is meant by the code or standard we are reading.\n",
    "\n",
    "#### Notation\n",
    "The obvious precise mathematical notation for us to represent the value of a particular byte is that of a vector of binary digits:\n",
    "\n",
    "$$[b_7 b_6 b_5 b_4 b_3 b_2 b_1 b_0] \\; \\text{where} \\; b_i \\in \\{0,1\\}$$  \n",
    "and where the value represent the positional sum of powers of two as follows:\n",
    "$$ \\sum_{i=0}^{n=8-1} 2^{i}$$\n",
    "\n",
    "The following scrollable table lists all the $2^8 = 256$ possible values."
   ]
  },
  {
   "cell_type": "code",
   "execution_count": null,
   "id": "d3b38ae9",
   "metadata": {
    "hide_input": false
   },
   "outputs": [],
   "source": [
    "displayBytes(bytes=[[i] for i in range(256)], td_font_size=\"1.4em\", th_font_size=\"1em\", center=True)"
   ]
  },
  {
   "cell_type": "markdown",
   "id": "ed0f96ef",
   "metadata": {},
   "source": [
    "It is worth remembering that in a computer every byte is a unique array at a particular location in the computer and that a location can only store a single value at a time (<a href=\"#fig:8switches\">A byte as 8 switches</a>).  We represent it's value as a  vector of eight binary digits.  Notationally when we want to talk about a particular array we will use capital script letters.  Further to allows us to be precise about units greater than 8 bits we will  subscript the letter with the length in bits at the location we are referring too.  Eg $X_{16}$ means a location $X$ composed of $16$ bits or two bytes.  We will use a vector of lower case script letters subscripted by the particlar bit to refer to the bits that compose a particular array.  Eg \n",
    "$$X_{16} \\equiv [x_{15} x_{14} x_{13} x_{12} x_{11} x_{10} x_{9} x_{8} x_{7} x_{6} x_{5} x_{4} x_{3} x_{2} x_{2} x_{1} x_{0}]$$\n",
    "when we want to indicate that we are assigning a particular value to the bits of a location we will use a left arrow.  Eg.  \n",
    "$$X_{16} \\leftarrow [01110000010001111]$$\n",
    "means we are assigning the the respective bits of $X$ to the corresponding binary digits.  Similarly \n",
    "$$ X_{16} \\leftarrow Y_{16} $$\n",
    "means we are assign the bits of $X$ to the corresponding current values of the bits $Y$.  It is important to remember that in such an assignment all prior values of the bits of $X$ are overwritten and the bits of $Y$ are unchanged.\n",
    "\n",
    "#### Nibbles and Hexidecimal\n",
    "\n",
    "As you can see it is unwieldy to constantly use the notation of binary, base two, digits to refer to particular patterns instead we tend to use hexadecimal (base 16) to refer to a specific binary value.   You will often see the short form **hex** to refer to hexadecimal notation where the digit corresponded to the following 16 characters $0,1,2,3,4,5,6,7,8,9,A,B,C,D,E,F$ and each position in a value represents a power of 16.\n",
    "Further to avoid ambiguity notationally '0x' is used as a prefix to indicate that a value is being expressed in hexadecimal.  Eg `0x11` indicates a the hexadecimal value that corresponds to $1\\times16^{1} + 1\\times16^{0}$. More generally given an $n$ digit hex number the value would be:\n",
    "$$\\sum_{i=0}^{n-1}16^{i}$$\n",
    "Part of the reason we use hex is due to the following *nice* relationships --   all patterns form from a group of four bits, a nibble, precisely maps to each of the 16 digits hexadecimal digits  as follows:"
   ]
  },
  {
   "cell_type": "code",
   "execution_count": null,
   "id": "692c6ef1",
   "metadata": {
    "hide_input": false
   },
   "outputs": [],
   "source": [
    "displayBytes(bytes=[[i] for i in range(16)],td_font_size=\"1.4em\", th_font_size=\"1em\", numbits=4, columns=[\"[$b_3$\", \"$b_2$\", \"$b_1$\", \"$b_0$]\"], labels=[format(i,\"1X\")for i in range(16)], labelstitle=\"HEX\", center=True)"
   ]
  },
  {
   "cell_type": "markdown",
   "id": "44c436b4",
   "metadata": {},
   "source": [
    "<center><div id=\"table:hex\">Table: Hexadecimal to nibble values (scroll to see all values)</div></center>"
   ]
  },
  {
   "cell_type": "markdown",
   "id": "4ff0e0f9",
   "metadata": {},
   "source": [
    "This means it is easy to substitute a single hex digit in place of four bits, giving us a more concise notation.    Although it might not seem like it now it become natural, as you work in hex, to associate the hex digits with its correspoding four bit binary pattern.  In time you will be able to see in your mind various mappings.  For example `0x3` \"maps\" too the *right* most two bits *on*, `0x7` \"maps\" to all bits *on* except the left most bit (lower 3 bits *on*), `8` \"maps\" to only the *high* bit *on*, `E` \"maps\" to all bits *on* except the *right* most bit, and `F` \"maps\" to all bits *on*.  And others patterns in time  will get ingrained in your mind.  Notice how we also associate relationships like *left* and *upper*, and *right* and *lower*, as well as `1` and *on* and `0` and *off*.   These all capture the fact that we use bit patterns for many different things. \n",
    "\n",
    "Finally the fact that as single hex digit corresponds to a nibble means that a binary 8 bit byte value is concisely represented by a two digit hex value that can easily be converted in your mind once you get to know <a href=\"#table:hex\">hex to nibble table</a>.  For example to covert the following binary value"
   ]
  },
  {
   "cell_type": "code",
   "execution_count": null,
   "id": "f4f82fec",
   "metadata": {
    "hide_input": true
   },
   "outputs": [],
   "source": [
    "X=np.uint8(0xae)\n",
    "XL=np.bitwise_and(X,0xf)\n",
    "XH=np.bitwise_and(np.right_shift(X,4),0xf)\n",
    "displayBytes(bytes=[[X]],td_font_size=\"1.4em\", th_font_size=\"1em\")"
   ]
  },
  {
   "cell_type": "markdown",
   "id": "fbc38b9c",
   "metadata": {},
   "source": [
    "breaks down into the following two nibbles"
   ]
  },
  {
   "cell_type": "code",
   "execution_count": null,
   "id": "72e199ca",
   "metadata": {
    "hide_input": true
   },
   "outputs": [],
   "source": [
    "displayBytes(bytes=[[XH]], td_font_size=\"1.4em\", th_font_size=\"1em\", numbits=4,columns=[\"[$b_7$\", \"$b_6$\", \"$b_5$\", \"$b_4$]\"]); displayBytes(bytes=[[XL]],td_font_size=\"1.4em\", th_font_size=\"1em\", numbits=4,columns=[\"[$b_3$\", \"$b_2$\", \"$b_1$\", \"$b_0$]\"])"
   ]
  },
  {
   "cell_type": "markdown",
   "id": "ccb36a72",
   "metadata": {},
   "source": [
    "converting each nibble to their corresponding hex digit we get `0xAE`"
   ]
  },
  {
   "cell_type": "markdown",
   "id": "37216aed",
   "metadata": {},
   "source": [
    "Depsite the heavy use will will make of hex notation remember, however, the hardware in reality does not store or operate on “Hex\" rather it is just a convient generic notation for us to express a particular binary value.  "
   ]
  },
  {
   "cell_type": "markdown",
   "id": "aaa2cb86",
   "metadata": {},
   "source": [
    "### Registers and Memory\n",
    "\n",
    "In the von <a href=\"\">Neumann computer architecture</a> there are two regions in the computer that we as general programers that we must concern ourselves with.  The CPU and Memory. \n",
    "\n",
    "#### Registers\n",
    "\n",
    "The CPU contains a set of byte locations, called **Registers**, which the operations of the CPU can refer to.  As discussed in the <a href=\"\">introduction</a>, CPU operations themselves are encoded as binary patterns. Part of the code for an operation specifies which registers the operation works with.  There are three categories of operations that 1) assign the value of a particular register, 2) peform some logical or mathematical operation of values, and 3) direct what location in memory the next operation code should be loaded from.    The serve Registers as the core locations in the computer that we use to do work.  \n",
    "\n",
    "Generically the entire set of registers in the CPU are called the Register File.  The subset that we use for general operations are called the **General Purpose Registers** (**GPRS**). The other registers of the Register File either are reserved for special use by the CPU or by the operating system software and unsurprisingly often called **Special Purpose Registers** (**SPRS**). Each CPU vendor specifies a set of symbolic names that use to indentify a particular register.\n",
    "\n",
    "For example on Intel 64Bit Processors sixteen 64 bit GPRS are; `RAX`, `RBX`, `RCX`, `RDX`, `RDI`, `RSI`, `RBP`, `RSP`, `R8`, `R9`, `R10`, `R11`, `R12`, `R13`, `R14`, `R15` (see 3.4.1.1 of the Intel 64 and IA-32 Architectures Software Developer’s Manual, Volume 1).  On ARM Arch64 Bit Processors there are thirty one 64 bit GPRS that are uniformly named `X0..X30` (see <a href=\"https://developer.arm.com/documentation/102374/0101/Registers-in-AArch64---general-purpose-registers\">Register in AArch64</a>).  An on the old 8 bit 6502 processor there is only 3 GPRS; `X`, `Y`, and `A`.\n",
    "\n",
    "On modern processors like 64Bit Intel and ARM processors the GPRS are all 64 bits, 8 bytes, in length.  However, the processors also provide GPRS of smaller lengths which refer to subcomponents of the 64bit registters.  For example on 64bit ARM processors the names `W0..W30` refer to 32 bit, 4 byte, length registers which are formed from the lower 32bits of the correspomding 64 bit `X` register.  Intel Processors have a much more diverse and subtle set of smaller sized regiters that are composed of the sub bytes of the 64 bit GPRS.  The <a href=\"#intelGPRBreakdown\">figure</a> below illustrates and example of the Intel names for smaller registers that refer to bytes of a larger register. "
   ]
  },
  {
   "cell_type": "code",
   "execution_count": null,
   "id": "89b8c6cc",
   "metadata": {
    "hide_input": true
   },
   "outputs": [],
   "source": [
    "display(Markdown(htmlFig(\"../images/ASSEMBLY-PGMI/ASSEMBLY-PGMI.034.png\", id=\"fig:intelGPRBreakdown\", width=\"90%\",\n",
    "                         caption=\"Fig: Example of Intel how the GPRS are broken down.  Note one must carefully read the manual as the breakdown is not the same for all the GPRS.\")))"
   ]
  },
  {
   "cell_type": "markdown",
   "id": "605ec7ee",
   "metadata": {},
   "source": [
    "#### Notation\n",
    "\n",
    "When we want to name a register location we will extend our notation as follows.  If we are referring to a particular processor vendor register we will use the name as subscripted with the length to avoid confusion.  For example to note that we are assigning the value in the Intel 64 bit `RAX` register to `RBX` we would write $\\text{RBX}_{64} \\leftarrow \\text{RAX}_{64}$.  Similarly for in the case of ARM the we would write $\\text{X2}_{64} \\leftarrow \\text{X1}_{64}$.  If we are generically referring to registers we will use capital scripts notation subscripted by a specific length as follows $R4_{32} \\leftarrow R5_{32}$. "
   ]
  },
  {
   "cell_type": "markdown",
   "id": "185fe637",
   "metadata": {},
   "source": [
    "#### Memory\n",
    "\n",
    "In a von Neumann architecture the Memory of the computer is a large array of bytes which is directly connected to the CPU.  Critically, the CPU can transfer values from and to its registers and locations in memory.  Unlike registers there is no hardware specific symbolic names for the locations.  Rather   "
   ]
  },
  {
   "cell_type": "markdown",
   "id": "1c5e46a8",
   "metadata": {},
   "source": [
    "We measure capacity or size of memory/storage in units of bytes\n",
    "\n",
    "If you look at the manual for most programmable hardware devices you will find that the operation is described in terms of byte values. For example here are three extracts from manuals.\n",
    "\n",
    "\n",
    "\n",
    "\n",
    "\n",
    "### Representing Data vs Programs (Operations)\n",
    "\n",
    "The two broad, and not necessarily mutually exclusive, categories of information we want to represent\n",
    "\n",
    "Data\n",
    "1 raw data - simple variables\n",
    "- with standard interpretations.\n",
    "Homogeneous arrays of simple values\n",
    "2 complex data structures and abstract data types\n",
    "Arrays of these, lists, trees, etc\n",
    "Hard to separated these out without talking and the code to implement the interpretation\n",
    "\n",
    "Code"
   ]
  },
  {
   "cell_type": "code",
   "execution_count": null,
   "id": "c3764578",
   "metadata": {},
   "outputs": [],
   "source": []
  },
  {
   "cell_type": "code",
   "execution_count": null,
   "id": "86fca743",
   "metadata": {},
   "outputs": [],
   "source": []
  }
 ],
 "metadata": {
  "hide_input": true,
  "kernelspec": {
   "display_name": "Python 3 (ipykernel)",
   "language": "python",
   "name": "python3"
  },
  "language_info": {
   "codemirror_mode": {
    "name": "ipython",
    "version": 3
   },
   "file_extension": ".py",
   "mimetype": "text/x-python",
   "name": "python",
   "nbconvert_exporter": "python",
   "pygments_lexer": "ipython3",
   "version": "3.9.6"
  }
 },
 "nbformat": 4,
 "nbformat_minor": 5
}
