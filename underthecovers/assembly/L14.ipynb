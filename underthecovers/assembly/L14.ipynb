{
 "cells": [
  {
   "cell_type": "code",
   "execution_count": null,
   "id": "86c828cb",
   "metadata": {
    "hide_input": false,
    "slideshow": {
     "slide_type": "skip"
    },
    "tags": [
     "remove-cell"
    ]
   },
   "outputs": [],
   "source": [
    "%run -i ../python/common.py\n",
    "UC_SKIPTERMS=True\n",
    "%run -i ../python/ln_preamble.py"
   ]
  },
  {
   "cell_type": "markdown",
   "id": "4be1ae58-db24-42c8-a167-3f68289da9f8",
   "metadata": {
    "slideshow": {
     "slide_type": "slide"
    }
   },
   "source": [
    "# SLS Lecture 14 : Assembly using the OS\n",
    "\n",
    "- Review of Processes\n",
    "- Review of Systems Calls\n",
    "- Process Address Spaces \n",
    "  - Dynamic Memory : Adding and Growing our heap\n",
    "- I/O - Assembly \"Hello World\""
   ]
  },
  {
   "cell_type": "code",
   "execution_count": null,
   "id": "ec5a0016",
   "metadata": {
    "hide_input": false,
    "tags": [
     "remove-input"
    ]
   },
   "outputs": [],
   "source": [
    "# setup for sumit examples\n",
    "appdir=os.getenv('HOME')\n",
    "appdir=appdir + \"/syscalls\"\n",
    "#print(movdir)\n",
    "output=runTermCmd(\"[[ -d \" + appdir + \" ]] &&  rm -rf \"+ appdir + \n",
    "             \";mkdir \" + appdir + \n",
    "             \";cp ../src/Makefile ../src/setup.gdb ../src/usesum5.S ../src/sumit6.S ../src/usesumheap.S ../src/hello.S ../src/brk.S ../src/100.nums \" + appdir)\n",
    "\n",
    "display(Markdown('''\n",
    "- create a directory `mkdir syscalls; cd syscalls`\n",
    "- copy examples\n",
    "- add a `Makefile` to automate assembling and linking\n",
    "    - we are going run the commands by hand this time to highlight the details\n",
    "- add our `setup.gdb` to make working in gdb easier\n",
    "- normally you would want to track everything in git\n",
    "'''))\n",
    "TermShellCmd(\"ls \" + appdir)"
   ]
  },
  {
   "cell_type": "markdown",
   "id": "09b5e7ab",
   "metadata": {
    "slideshow": {
     "slide_type": "slide"
    }
   },
   "source": [
    "## Review of Processes"
   ]
  },
  {
   "cell_type": "markdown",
   "id": "c4070c96",
   "metadata": {
    "slideshow": {
     "slide_type": "slide"
    }
   },
   "source": [
    "### Processes and the Kernel\n",
    "<center>\n",
    "<img src=\"../images/UnixRunning.png\">\n",
    "    </center>"
   ]
  },
  {
   "cell_type": "markdown",
   "id": "3c362adf",
   "metadata": {},
   "source": [
    "<center>\n",
    "    <img src=\"../images/Processes/Processes.004.png\">\n",
    "</center>"
   ]
  },
  {
   "cell_type": "markdown",
   "id": "fd89cba0",
   "metadata": {},
   "source": [
    "<center>\n",
    "    <img src=\"../images/Processes/Processes.005.png\">\n",
    "</center>"
   ]
  },
  {
   "cell_type": "markdown",
   "id": "4fc38721",
   "metadata": {
    "slideshow": {
     "slide_type": "slide"
    }
   },
   "source": [
    "## Review of System Calls - From Lecture 08"
   ]
  },
  {
   "cell_type": "code",
   "execution_count": null,
   "id": "c2bcd3e6",
   "metadata": {
    "cell_style": "split",
    "hide_input": true,
    "slideshow": {
     "slide_type": "slide"
    },
    "tags": [
     "remove-input"
    ]
   },
   "outputs": [],
   "source": [
    "display(Markdown(htmlFig(\"../images/kerneldef.png\")))"
   ]
  },
  {
   "cell_type": "markdown",
   "id": "1d4749f5",
   "metadata": {
    "cell_style": "split"
   },
   "source": [
    "Remember this...\n",
    "\n",
    "**The \"Kernel\" -- Unique to Every OS**\n",
    "\n",
    "1. Bootstraps the HW and has direct access to all of it\n",
    "1. Bottom layer that enables other programs to run\n",
    "2. <font style=\"color:red;\"> **A unique collection of functions that programs can invoke** </font>\n",
    "\n",
    "Not useful on its own only useful and accessed by running other programs."
   ]
  },
  {
   "cell_type": "markdown",
   "id": "8661ace7",
   "metadata": {
    "slideshow": {
     "slide_type": "slide"
    }
   },
   "source": [
    "<center>\n",
    "<img src=\"../images/Processes/Processes.051.png\">\n",
    "</center>"
   ]
  },
  {
   "cell_type": "markdown",
   "id": "1a4468af",
   "metadata": {
    "slideshow": {
     "slide_type": "slide"
    }
   },
   "source": [
    "### Intel `syscall`\n",
    "\n",
    "On Intel the instruction is `syscall`\n",
    "\n",
    "<img src=\"../images/syscallmp.png\">\n",
    "\n"
   ]
  },
  {
   "cell_type": "markdown",
   "id": "94c7fd68",
   "metadata": {
    "slideshow": {
     "slide_type": "slide"
    }
   },
   "source": [
    "### The OS System Calls\n",
    "\n",
    "Each OS Kernel provides a set of calls that a process can invoke using the `syscall` instruction on an Intel based computer\n",
    "\n",
    "The Linux Kernel supports a very large number of system calls each is identified by a unique number that must be placed in `RAX` prior to executing the `syscall` instruction.  Additional arguments are passed in by setting other registers.  \n",
    "\n",
    "With each version of the Kernel the table of calls changes.  Here is one site that provides a list"
   ]
  },
  {
   "cell_type": "markdown",
   "id": "01bbf7c1",
   "metadata": {
    "slideshow": {
     "slide_type": "slide"
    }
   },
   "source": [
    "### LINUX SYSTEM CALLS\n",
    "\n",
    "- reading some man pages `man syscalls` and `man syscall` we find that\n",
    "  - we must place `60` in `rax`\n",
    "  - and that the value we want to return in `rdi`"
   ]
  },
  {
   "cell_type": "code",
   "execution_count": null,
   "id": "593ec8af",
   "metadata": {
    "hide_input": true,
    "slideshow": {
     "slide_type": "notes"
    },
    "tags": [
     "remove-input"
    ]
   },
   "outputs": [],
   "source": [
    "TermShellCmd(\"man syscalls | head -20\", markdown=False)\n",
    "TermShellCmd(\"man syscall | head -20\", markdown=False)"
   ]
  },
  {
   "cell_type": "code",
   "execution_count": null,
   "id": "b1a1ad7b",
   "metadata": {
    "hide_input": false,
    "slideshow": {
     "slide_type": "slide"
    },
    "tags": [
     "remove-input"
    ]
   },
   "outputs": [],
   "source": [
    "display(IFrame(\"https://filippo.io/linux-syscall-table/\", height=600, width=\"100%\"))"
   ]
  },
  {
   "cell_type": "code",
   "execution_count": null,
   "id": "80b7087f",
   "metadata": {
    "hide_input": true,
    "tags": [
     "remove-input"
    ]
   },
   "outputs": [],
   "source": [
    "display(Markdown(FileCodeBox(\n",
    "    file=\"../src/exit_bb_bb.S\", \n",
    "    lang=\"gas\", \n",
    "    title=\"\",\n",
    "    h=\"100%\", \n",
    "    w=\"100%\"\n",
    ")))"
   ]
  },
  {
   "cell_type": "markdown",
   "id": "9193d429",
   "metadata": {
    "slideshow": {
     "slide_type": "slide"
    }
   },
   "source": [
    "## Process Address Spaces"
   ]
  },
  {
   "cell_type": "markdown",
   "id": "5ab725a5",
   "metadata": {
    "slideshow": {
     "slide_type": "slide"
    }
   },
   "source": [
    "### Address Space organizes Memory of a Process"
   ]
  },
  {
   "cell_type": "markdown",
   "id": "3287cef4",
   "metadata": {
    "cell_style": "split",
    "slideshow": {
     "slide_type": "slide"
    }
   },
   "source": [
    "<center>\n",
    "    <img src=\"../images/ProcessContexts.png\">\n",
    "</center>"
   ]
  },
  {
   "cell_type": "markdown",
   "id": "9350ed72",
   "metadata": {
    "cell_style": "split",
    "slideshow": {
     "slide_type": "-"
    }
   },
   "source": [
    "**Remember**\n",
    "\n",
    "1. The binaries we create using the assembler and linker are Executables\n",
    "\n",
    "2. When we \"run\" our executables via the shell it creates a new process context and our binary is loaded as the initial memory \"image\".\n",
    "\n",
    "3. The memory and register values of the process are unique to each process and change as the instructions of our binary \"execute\""
   ]
  },
  {
   "cell_type": "markdown",
   "id": "e0f3dcb7",
   "metadata": {
    "slideshow": {
     "slide_type": "slide"
    }
   },
   "source": [
    "### Assembly Programming as Process Address Space Image creation"
   ]
  },
  {
   "cell_type": "markdown",
   "id": "63dcc3b5",
   "metadata": {
    "slideshow": {
     "slide_type": "slide"
    }
   },
   "source": [
    "<center>\n",
    "    <img src=\"../images/ASSEMBLY-AddressSpaceandIO/ASSEMBLY-AddressSpaceandIO.003.png\">\n",
    "</center>"
   ]
  },
  {
   "cell_type": "markdown",
   "id": "726aa9f0",
   "metadata": {
    "slideshow": {
     "slide_type": "slide"
    }
   },
   "source": [
    "<center>\n",
    "    <img src=\"../images/ASSEMBLY-AddressSpaceandIO/ASSEMBLY-AddressSpaceandIO.004.png\">\n",
    "</center>"
   ]
  },
  {
   "cell_type": "markdown",
   "id": "2544ab5c",
   "metadata": {
    "slideshow": {
     "slide_type": "slide"
    }
   },
   "source": [
    "<center>\n",
    "    <img src=\"../images/ASSEMBLY-AddressSpaceandIO/ASSEMBLY-AddressSpaceandIO.005.png\">\n",
    "</center>"
   ]
  },
  {
   "cell_type": "markdown",
   "id": "af42587b",
   "metadata": {
    "slideshow": {
     "slide_type": "slide"
    }
   },
   "source": [
    "### The Details"
   ]
  },
  {
   "cell_type": "markdown",
   "id": "ab53bd69",
   "metadata": {
    "cell_style": "center",
    "slideshow": {
     "slide_type": "slide"
    }
   },
   "source": [
    "### Process Address Space \n",
    "\n",
    "The Memory of a Process is organized as an (Virtual) Address Space \n",
    "\n",
    "1. Each possible location of a byte is identified by a unique address (number) \n",
    "2. To associate a Region (range of continues addresses) with actual memory requires a \"mapping\"\n",
    "    - mappings associate a Region with Memory and a possible source of values\n",
    "    - mappings can restrict what kind of access can be made to region \n",
    "        1. fetch for execute (x)\n",
    "        2. read (r)\n",
    "        3. write (w)"
   ]
  },
  {
   "cell_type": "markdown",
   "id": "dc7083d5",
   "metadata": {
    "slideshow": {
     "slide_type": "slide"
    }
   },
   "source": [
    "<center>\n",
    "    <img src=\"../images/ExecAddrSpace/ExecAddrSpace-001.png\">\n",
    "</center>"
   ]
  },
  {
   "cell_type": "markdown",
   "id": "d80aed35",
   "metadata": {
    "slideshow": {
     "slide_type": "slide"
    }
   },
   "source": [
    "<center>\n",
    "    <img src=\"../images/ExecAddrSpace/ExecAddrSpace-002.png\">\n",
    "</center>"
   ]
  },
  {
   "cell_type": "markdown",
   "id": "4003d5d4",
   "metadata": {
    "slideshow": {
     "slide_type": "slide"
    }
   },
   "source": [
    "<center>\n",
    "    <img src=\"../images/ExecAddrSpace/ExecAddrSpace-003.png\">\n",
    "</center>"
   ]
  },
  {
   "cell_type": "markdown",
   "id": "4db69dac",
   "metadata": {
    "slideshow": {
     "slide_type": "slide"
    }
   },
   "source": [
    "<center>\n",
    "    <img src=\"../images/ExecAddrSpace/ExecAddrSpace-004.png\">\n",
    "</center>"
   ]
  },
  {
   "cell_type": "markdown",
   "id": "8fcfde4f",
   "metadata": {
    "slideshow": {
     "slide_type": "slide"
    }
   },
   "source": [
    "<center>\n",
    "    <img src=\"../images/ExecAddrSpace/ExecAddrSpace-005.png\">\n",
    "</center>"
   ]
  },
  {
   "cell_type": "markdown",
   "id": "e18e8124",
   "metadata": {
    "slideshow": {
     "slide_type": "slide"
    }
   },
   "source": [
    "<center>\n",
    "    <img src=\"../images/ExecAddrSpace/ExecAddrSpace-006.png\">\n",
    "</center>"
   ]
  },
  {
   "cell_type": "markdown",
   "id": "8dbd4c9b",
   "metadata": {
    "slideshow": {
     "slide_type": "slide"
    }
   },
   "source": [
    "<center>\n",
    "    <img src=\"../images/ExecAddrSpace/ExecAddrSpace-007.png\">\n",
    "</center>"
   ]
  },
  {
   "cell_type": "markdown",
   "id": "c35e426b",
   "metadata": {
    "slideshow": {
     "slide_type": "slide"
    }
   },
   "source": [
    "<center>\n",
    "    <img src=\"../images/ExecAddrSpace/ExecAddrSpace-008.png\">\n",
    "</center>"
   ]
  },
  {
   "cell_type": "markdown",
   "id": "294916db",
   "metadata": {
    "slideshow": {
     "slide_type": "slide"
    }
   },
   "source": [
    "<center>\n",
    "    <img src=\"../images/ExecAddrSpace/ExecAddrSpace-009.png\">\n",
    "</center>"
   ]
  },
  {
   "cell_type": "markdown",
   "id": "cd564f06",
   "metadata": {
    "slideshow": {
     "slide_type": "slide"
    }
   },
   "source": [
    "<center>\n",
    "    <img src=\"../images/ExecAddrSpace/ExecAddrSpace-010.png\">\n",
    "</center>"
   ]
  },
  {
   "cell_type": "markdown",
   "id": "feecc32d",
   "metadata": {
    "slideshow": {
     "slide_type": "slide"
    }
   },
   "source": [
    "<center>\n",
    "    <img src=\"../images/ExecAddrSpace/ExecAddrSpace-011.png\">\n",
    "</center>"
   ]
  },
  {
   "cell_type": "markdown",
   "id": "f0d2d4ff",
   "metadata": {
    "slideshow": {
     "slide_type": "slide"
    }
   },
   "source": [
    "### Exploring the Address Space\n",
    "\n",
    "- Let's explore the address space of a running program "
   ]
  },
  {
   "cell_type": "code",
   "execution_count": null,
   "id": "79832d45",
   "metadata": {
    "cell_style": "split",
    "hide_input": true,
    "tags": [
     "remove-input"
    ]
   },
   "outputs": [],
   "source": [
    "display(Markdown(FileCodeBox(\n",
    "    file=\"../src/usesum5.S\", \n",
    "    lang=\"gas\", \n",
    "    title=\"<b>CODE: asm - usesum5.S\",\n",
    "    h=\"100%\", \n",
    "    w=\"107em\"\n",
    ")))"
   ]
  },
  {
   "cell_type": "code",
   "execution_count": null,
   "id": "deb13d60",
   "metadata": {
    "cell_style": "split",
    "hide_input": true,
    "tags": [
     "remove-input"
    ]
   },
   "outputs": [],
   "source": [
    "display(Markdown(FileCodeBox(\n",
    "    file=\"../src/sumit6.S\", \n",
    "    lang=\"gas\", \n",
    "    title=\"<b>CODE: asm - sumit6.S\",\n",
    "    h=\"100%\", \n",
    "    w=\"107em\"\n",
    ")))"
   ]
  },
  {
   "cell_type": "code",
   "execution_count": null,
   "id": "952fe2f3",
   "metadata": {
    "tags": [
     "remove-input"
    ]
   },
   "outputs": [],
   "source": [
    "TermShellCmd(\"make usesum6\", cwd=appdir, prompt='')"
   ]
  },
  {
   "cell_type": "code",
   "execution_count": null,
   "id": "41236c17",
   "metadata": {
    "tags": [
     "remove-input"
    ]
   },
   "outputs": [],
   "source": [
    "showDT()"
   ]
  },
  {
   "cell_type": "markdown",
   "id": "ca1a4f7c",
   "metadata": {},
   "source": [
    "```\n",
    "b _start\n",
    "run \n",
    "info proc\n",
    "```"
   ]
  },
  {
   "cell_type": "markdown",
   "id": "d7382adf",
   "metadata": {},
   "source": [
    "```\n",
    " cat /proc/<pid>/maps\n",
    "```\n",
    "\n",
    "Use gdb to explore what's there and compare with binary binary file "
   ]
  },
  {
   "cell_type": "code",
   "execution_count": null,
   "id": "14a26b6a",
   "metadata": {
    "hide_input": false,
    "tags": [
     "remove-input"
    ]
   },
   "outputs": [],
   "source": [
    "TermShellCmd(\"man proc | head -30\", markdown=False)"
   ]
  },
  {
   "cell_type": "code",
   "execution_count": null,
   "id": "d8fee803",
   "metadata": {
    "tags": [
     "remove-input"
    ]
   },
   "outputs": [],
   "source": [
    "TermShellCmd(\"man proc | grep -A40 /maps | head -41\", markdown=False)"
   ]
  },
  {
   "cell_type": "markdown",
   "id": "5cf200a0",
   "metadata": {},
   "source": [
    "#### Add another section to control how region is mapped\n",
    "\n",
    "Readonly data section `.rodata`\n",
    "\n",
    "```gas\n",
    "         .section .rodata\n",
    "\n",
    " str1:\n",
    "         .string \"Hello World\\n\"\n",
    "```\n",
    "\n",
    "What would happen if we put all out data in the `.rodata` section... try it and find out"
   ]
  },
  {
   "cell_type": "markdown",
   "id": "ebed13c8",
   "metadata": {},
   "source": [
    "## Ok lets get some more memory -- And and Grow our Heap\n",
    "\n",
    "The `brk` system call\n"
   ]
  },
  {
   "cell_type": "code",
   "execution_count": null,
   "id": "b823c29c",
   "metadata": {
    "hide_input": true,
    "tags": [
     "remove-input"
    ]
   },
   "outputs": [],
   "source": [
    "TermShellCmd(\"man brk | head -37\", markdown=False)"
   ]
  },
  {
   "cell_type": "code",
   "execution_count": null,
   "id": "244184b4",
   "metadata": {
    "tags": [
     "remove-input"
    ]
   },
   "outputs": [],
   "source": [
    "display(IFrame(\"https://filippo.io/linux-syscall-table/\", height=600, width=\"100%\"))"
   ]
  },
  {
   "cell_type": "markdown",
   "id": "8c5387b9",
   "metadata": {},
   "source": [
    "**Lets add this code**\n",
    "\n",
    "What does it do?\n",
    "\n",
    "```gas\n",
    "    .data\n",
    "NEW_MEM_PTR:\n",
    "    .quad 0\n",
    "\n",
    "    .text\n",
    "    \n",
    "    mov rdi, 0\n",
    "    mov rax, 12\n",
    "    syscall \n",
    "    mov QWORD PTR [NEW_MEM_PTR], rax\n",
    "    \n",
    "    mov rdi, rax\n",
    "    add rdi, 1024 * 8\n",
    "    mov rax, 12\n",
    "    syscall\n",
    "```"
   ]
  },
  {
   "cell_type": "code",
   "execution_count": null,
   "id": "c6209b93",
   "metadata": {
    "hide_input": true,
    "tags": [
     "remove-input"
    ]
   },
   "outputs": [],
   "source": [
    "display(Markdown(FileCodeBox(\n",
    "    file=\"../src/usesumheap.S\", \n",
    "    lang=\"gas\", \n",
    "    title=\"<b>CODE: asm - usesumheap.S\",\n",
    "    h=\"100%\", \n",
    "    w=\"107em\"\n",
    ")))"
   ]
  },
  {
   "cell_type": "markdown",
   "id": "0437ac44",
   "metadata": {},
   "source": [
    "**What does the regions maps look like now?**"
   ]
  },
  {
   "cell_type": "code",
   "execution_count": null,
   "id": "1ecd126f",
   "metadata": {
    "hide_input": true,
    "tags": [
     "remove-input"
    ]
   },
   "outputs": [],
   "source": [
    "showDT()\n",
    "display(Markdown(FileCodeBox(\n",
    "    file=\"../src/usesumheap.gdb\", \n",
    "    lang=\"gas\", \n",
    "    title=\"<b>usesumheap gdb\",\n",
    "    h=\"100%\", \n",
    "    w=\"107em\"\n",
    ")))"
   ]
  },
  {
   "cell_type": "markdown",
   "id": "b3f23c86",
   "metadata": {
    "slideshow": {
     "slide_type": "slide"
    }
   },
   "source": [
    "<center>\n",
    "    <img src=\"../images/ASSEMBLY-AddressSpaceandIO/ASSEMBLY-AddressSpaceandIO.012.png\">\n",
    "</center>"
   ]
  },
  {
   "cell_type": "markdown",
   "id": "b7b5471a",
   "metadata": {
    "slideshow": {
     "slide_type": "slide"
    }
   },
   "source": [
    "<center>\n",
    "    <img src=\"../images/ASSEMBLY-AddressSpaceandIO/ASSEMBLY-AddressSpaceandIO.016.png\">\n",
    "</center>"
   ]
  },
  {
   "cell_type": "markdown",
   "id": "49877e36",
   "metadata": {
    "slideshow": {
     "slide_type": "slide"
    }
   },
   "source": [
    "## I/O"
   ]
  },
  {
   "cell_type": "markdown",
   "id": "84981660",
   "metadata": {
    "slideshow": {
     "slide_type": "slide"
    }
   },
   "source": [
    "<center>\n",
    "    <img src=\"../images/ASSEMBLY-AddressSpaceandIO/ASSEMBLY-AddressSpaceandIO.017.png\">\n",
    "</center>"
   ]
  },
  {
   "cell_type": "markdown",
   "id": "79e8b0d5",
   "metadata": {
    "slideshow": {
     "slide_type": "slide"
    }
   },
   "source": [
    "<center>\n",
    "    <img src=\"../images/ASSEMBLY-AddressSpaceandIO/ASSEMBLY-AddressSpaceandIO.018.png\">\n",
    "</center>"
   ]
  },
  {
   "cell_type": "markdown",
   "id": "f5639eee",
   "metadata": {
    "slideshow": {
     "slide_type": "slide"
    }
   },
   "source": [
    "### Review from Lecture 3"
   ]
  },
  {
   "cell_type": "markdown",
   "id": "ae514818",
   "metadata": {
    "slideshow": {
     "slide_type": "slide"
    }
   },
   "source": [
    "<center>\n",
    "    <img src=\"../images/Processes/Processes.006.png\">\n",
    "</center>"
   ]
  },
  {
   "cell_type": "markdown",
   "id": "225896ea",
   "metadata": {
    "slideshow": {
     "slide_type": "slide"
    }
   },
   "source": [
    "<center>\n",
    "    <img src=\"../images/Processes/Processes.007.png\">\n",
    "</center>"
   ]
  },
  {
   "cell_type": "markdown",
   "id": "e624fcab",
   "metadata": {
    "slideshow": {
     "slide_type": "slide"
    }
   },
   "source": [
    "<center>\n",
    "    <img src=\"../images/Processes/Processes.008.png\">\n",
    "</center>"
   ]
  },
  {
   "cell_type": "markdown",
   "id": "dc5d363e",
   "metadata": {
    "slideshow": {
     "slide_type": "slide"
    }
   },
   "source": [
    "<center>\n",
    "    <img src=\"../images/Processes/Processes.009.png\">\n",
    "</center>"
   ]
  },
  {
   "cell_type": "markdown",
   "id": "5e8abc4f",
   "metadata": {
    "slideshow": {
     "slide_type": "slide"
    }
   },
   "source": [
    "<center>\n",
    "    <img src=\"../images/Processes/Processes.010.png\">\n",
    "</center>"
   ]
  },
  {
   "cell_type": "markdown",
   "id": "b437898a",
   "metadata": {
    "slideshow": {
     "slide_type": "slide"
    }
   },
   "source": [
    "<center>\n",
    "    <img src=\"../images/Processes/Processes.011.png\">\n",
    "</center>"
   ]
  },
  {
   "cell_type": "markdown",
   "id": "2fad4bb4",
   "metadata": {
    "slideshow": {
     "slide_type": "slide"
    }
   },
   "source": [
    "<center>\n",
    "    <img src=\"../images/Processes/Processes.012.png\">\n",
    "</center>"
   ]
  },
  {
   "cell_type": "markdown",
   "id": "848a251d",
   "metadata": {
    "slideshow": {
     "slide_type": "slide"
    }
   },
   "source": [
    "<center>\n",
    "    <img src=\"../images/Processes/Processes.013.png\">\n",
    "</center>"
   ]
  },
  {
   "cell_type": "markdown",
   "id": "64fcd83d",
   "metadata": {
    "slideshow": {
     "slide_type": "slide"
    }
   },
   "source": [
    "<center>\n",
    "    <img src=\"../images/Processes/Processes.015.png\">\n",
    "</center>"
   ]
  },
  {
   "cell_type": "markdown",
   "id": "0c97ec3b",
   "metadata": {
    "slideshow": {
     "slide_type": "slide"
    }
   },
   "source": [
    "### Finally \"Hello World in Assembly\""
   ]
  },
  {
   "cell_type": "code",
   "execution_count": null,
   "id": "201d2bd6",
   "metadata": {
    "slideshow": {
     "slide_type": "slide"
    },
    "tags": [
     "remove-input"
    ]
   },
   "outputs": [],
   "source": [
    "display(Markdown(FileCodeBox(\n",
    "    file=\"../src/hello.S\", \n",
    "    lang=\"gas\", \n",
    "    title=\"<b>CODE: asm - hello.S\",\n",
    "    h=\"100%\", \n",
    "    w=\"107em\"\n",
    ")))"
   ]
  },
  {
   "cell_type": "code",
   "execution_count": null,
   "id": "6ad28d04",
   "metadata": {
    "hide_input": true,
    "slideshow": {
     "slide_type": "slide"
    },
    "tags": [
     "remove-input"
    ]
   },
   "outputs": [],
   "source": [
    "TermShellCmd(\"make hello\", cwd=appdir, prompt='')"
   ]
  },
  {
   "cell_type": "markdown",
   "id": "8e249910",
   "metadata": {},
   "source": [
    "#### At long last we have a program that we don't need the debugger for!"
   ]
  },
  {
   "cell_type": "code",
   "execution_count": null,
   "id": "5e68c959",
   "metadata": {
    "hide_input": true,
    "slideshow": {
     "slide_type": "slide"
    },
    "tags": [
     "remove-input"
    ]
   },
   "outputs": [],
   "source": [
    "TermShellCmd(\"./hello; echo $?\", cwd=appdir)"
   ]
  },
  {
   "cell_type": "markdown",
   "id": "806c3cab",
   "metadata": {
    "slideshow": {
     "slide_type": "slide"
    }
   },
   "source": [
    "### There are many more calls for doing I/O\n",
    "\n",
    "But we can now \n",
    "1. transfer bytes from our address space to a \"file\" - write system call\n",
    "2. transfer bytes from a \"file\" to our address space  - read system call\n",
    "3. connect (and possibly create) files to our address space for reading and writing - open system call\n",
    "4. disconnect a file from our address space - close system call\n"
   ]
  },
  {
   "cell_type": "code",
   "execution_count": null,
   "id": "af4ca1a8",
   "metadata": {
    "tags": [
     "remove-input"
    ]
   },
   "outputs": [],
   "source": [
    "display(IFrame(\"https://filippo.io/linux-syscall-table/\", height=600, width=\"100%\"))"
   ]
  },
  {
   "cell_type": "markdown",
   "id": "ab19ffef",
   "metadata": {},
   "source": [
    "### Exercises\n",
    "\n",
    "Change the `usesum` program to:\n",
    "- exit properly \n",
    "- allocate memory for the data\n",
    "- read the data in from standard in\n",
    "- write the binary result to standard out\n",
    "  - use a shell command like `od -l -A10` to convert the output to ascii\n",
    "- open the binary file of numbers and read them in\n",
    "- can you figure out how to get the command line arguments?\n",
    "- Write a new program that uses the random instruction to create a data file\n"
   ]
  },
  {
   "cell_type": "code",
   "execution_count": null,
   "id": "21b6e2d6",
   "metadata": {},
   "outputs": [],
   "source": []
  }
 ],
 "metadata": {
  "celltoolbar": "Tags",
  "hide_input": true,
  "kernelspec": {
   "display_name": "Python 3 (ipykernel)",
   "language": "python",
   "name": "python3"
  },
  "language_info": {
   "codemirror_mode": {
    "name": "ipython",
    "version": 3
   },
   "file_extension": ".py",
   "mimetype": "text/x-python",
   "name": "python",
   "nbconvert_exporter": "python",
   "pygments_lexer": "ipython3",
   "version": "3.9.6"
  },
  "rise": {
   "autolaunch": false,
   "enable_chalkboard": true,
   "footer": "UC-SLS -- Lecture 14",
   "header": "Assembly: Using the OS",
   "height": "100%",
   "scroll": true,
   "start_slideshow_at": "selected",
   "theme": "black",
   "transition": "none",
   "width": "100%"
  }
 },
 "nbformat": 4,
 "nbformat_minor": 5
}
