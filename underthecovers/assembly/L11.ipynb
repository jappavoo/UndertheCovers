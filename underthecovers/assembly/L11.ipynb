{
 "cells": [
  {
   "cell_type": "code",
   "execution_count": null,
   "id": "1a5c5d25",
   "metadata": {
    "hide_input": true,
    "slideshow": {
     "slide_type": "skip"
    },
    "tags": [
     "remove-cell"
    ]
   },
   "outputs": [],
   "source": [
    "%run -i ../python/common.py\n",
    "UC_SKIPTERMS=True\n",
    "%run -i ../python/ln_preamble.py"
   ]
  },
  {
   "cell_type": "markdown",
   "id": "74946512-d109-4aef-a47d-2e442d0b4aae",
   "metadata": {
    "slideshow": {
     "slide_type": "slide"
    }
   },
   "source": [
    "# SLS Lecture 11 :  Program Anatomy II : Functions "
   ]
  },
  {
   "cell_type": "code",
   "execution_count": null,
   "id": "75b29773",
   "metadata": {
    "hide_input": true,
    "tags": [
     "remove-input"
    ]
   },
   "outputs": [],
   "source": [
    "# setup for sumit examples\n",
    "appdir=os.getenv('HOME')\n",
    "appdir=appdir + \"/sum\"\n",
    "#print(movdir)\n",
    "output=runTermCmd(\"[[ -d \" + appdir + \" ]] &&  rm -rf \"+ appdir + \n",
    "             \";mkdir \" + appdir + \n",
    "             \";cp ../src/Makefile ../src/*.bin ../src/setup.gdb ../src/usesumABC.gdb ../src/usesum*.S ../src/sumit*.S \" + appdir)\n",
    "#TermShellCmd(\"ls\", cwd=appdir)\n",
    "display(Markdown('''\n",
    "- create a directory `mkdir sum; cd sum`\n",
    "- copy sumit and usesumit code examples\n",
    "- add a `Makefile` to automate assembling and linking\n",
    "    - we are going run the commands by hand this time to highlight the details\n",
    "- add our `setup.gdb` and `usesumABC.gdb` to make working in gdb easier\n",
    "- normally you would want to track everything in git\n",
    "'''))"
   ]
  },
  {
   "cell_type": "markdown",
   "id": "0960c68e",
   "metadata": {
    "hide_input": false,
    "slideshow": {
     "slide_type": "slide"
    }
   },
   "source": [
    "<center>\n",
    "<img src=../images/ASSEMBLY-PGMIII/ASSEMBLY-PGMIII.001.png>\n",
    "</center>"
   ]
  },
  {
   "cell_type": "markdown",
   "id": "75784de6",
   "metadata": {
    "slideshow": {
     "slide_type": "slide"
    }
   },
   "source": [
    "<center>\n",
    "<img src=../images/ASSEMBLY-PGMIII/ASSEMBLY-PGMIII.002.png>\n",
    "</center>"
   ]
  },
  {
   "cell_type": "markdown",
   "id": "a0e772e4",
   "metadata": {
    "slideshow": {
     "slide_type": "slide"
    }
   },
   "source": [
    "<center>\n",
    "<img src=../images/ASSEMBLY-PGMIII/ASSEMBLY-PGMIII.003.png>\n",
    "</center>"
   ]
  },
  {
   "cell_type": "markdown",
   "id": "ea3302a2",
   "metadata": {
    "slideshow": {
     "slide_type": "slide"
    }
   },
   "source": [
    "<center>\n",
    "<img src=../images/ASSEMBLY-PGMIII/ASSEMBLY-PGMIII.004.png>\n",
    "</center>"
   ]
  },
  {
   "cell_type": "markdown",
   "id": "9d7b2bd9",
   "metadata": {
    "slideshow": {
     "slide_type": "slide"
    }
   },
   "source": [
    "<center>\n",
    "<img src=../images/ASSEMBLY-PGMIII/ASSEMBLY-PGMIII.005.png>\n",
    "</center>"
   ]
  },
  {
   "cell_type": "markdown",
   "id": "f8dd0652",
   "metadata": {
    "slideshow": {
     "slide_type": "slide"
    }
   },
   "source": [
    "<center>\n",
    "<img src=../images/ASSEMBLY-PGMIII/ASSEMBLY-PGMIII.006.png>\n",
    "</center>"
   ]
  },
  {
   "cell_type": "markdown",
   "id": "a7fbbf36",
   "metadata": {
    "slideshow": {
     "slide_type": "slide"
    }
   },
   "source": [
    "<center>\n",
    "<img src=../images/ASSEMBLY-PGMIII/ASSEMBLY-PGMIII.007.png>\n",
    "</center>"
   ]
  },
  {
   "cell_type": "markdown",
   "id": "5fd6d312",
   "metadata": {
    "slideshow": {
     "slide_type": "slide"
    }
   },
   "source": [
    "<center>\n",
    "<img src=../images/ASSEMBLY-PGMIII/ASSEMBLY-PGMIII.008.png>\n",
    "</center>"
   ]
  },
  {
   "cell_type": "markdown",
   "id": "3d035719",
   "metadata": {
    "slideshow": {
     "slide_type": "slide"
    }
   },
   "source": [
    "<center>\n",
    "<img src=../images/ASSEMBLY-PGMIII/ASSEMBLY-PGMIII.009.png>\n",
    "</center>"
   ]
  },
  {
   "cell_type": "markdown",
   "id": "b142895b",
   "metadata": {
    "slideshow": {
     "slide_type": "slide"
    }
   },
   "source": [
    "<center>\n",
    "<img src=../images/ASSEMBLY-PGMIII/ASSEMBLY-PGMIII.010.png>\n",
    "</center>"
   ]
  },
  {
   "cell_type": "markdown",
   "id": "bb38e300",
   "metadata": {
    "slideshow": {
     "slide_type": "slide"
    }
   },
   "source": [
    "<center>\n",
    "<img src=../images/ASSEMBLY-PGMIII/ASSEMBLY-PGMIII.011.png>\n",
    "</center>"
   ]
  },
  {
   "cell_type": "markdown",
   "id": "43dd7fcb",
   "metadata": {
    "slideshow": {
     "slide_type": "slide"
    }
   },
   "source": [
    "<center>\n",
    "<img src=../images/ASSEMBLY-PGMIII/ASSEMBLY-PGMIII.012.png>\n",
    "</center>"
   ]
  },
  {
   "cell_type": "markdown",
   "id": "21b162b5",
   "metadata": {
    "slideshow": {
     "slide_type": "slide"
    }
   },
   "source": [
    "<center>\n",
    "<img src=../images/ASSEMBLY-PGMIII/ASSEMBLY-PGMIII.013.png>\n",
    "</center>"
   ]
  },
  {
   "cell_type": "markdown",
   "id": "06afc653",
   "metadata": {
    "slideshow": {
     "slide_type": "slide"
    }
   },
   "source": [
    "<center>\n",
    "<img src=../images/ASSEMBLY-PGMIII/ASSEMBLY-PGMIII.014.png>\n",
    "</center>"
   ]
  },
  {
   "cell_type": "markdown",
   "id": "378bfa9a",
   "metadata": {
    "slideshow": {
     "slide_type": "slide"
    }
   },
   "source": [
    "<center>\n",
    "<img src=../images/ASSEMBLY-PGMIII/ASSEMBLY-PGMIII.015.png>\n",
    "</center>"
   ]
  },
  {
   "cell_type": "markdown",
   "id": "8d8f6c81",
   "metadata": {
    "slideshow": {
     "slide_type": "slide"
    }
   },
   "source": [
    "<center>\n",
    "<img src=../images/ASSEMBLY-PGMIII/ASSEMBLY-PGMIII.016.png>\n",
    "</center>"
   ]
  },
  {
   "cell_type": "markdown",
   "id": "6c3fc81c",
   "metadata": {
    "slideshow": {
     "slide_type": "slide"
    }
   },
   "source": [
    "<center>\n",
    "<img src=../images/ASSEMBLY-PGMIII/ASSEMBLY-PGMIII.017.png>\n",
    "</center>"
   ]
  },
  {
   "cell_type": "markdown",
   "id": "c25d37d7",
   "metadata": {
    "slideshow": {
     "slide_type": "slide"
    }
   },
   "source": [
    "<center>\n",
    "<img src=../images/ASSEMBLY-PGMIII/ASSEMBLY-PGMIII.018.png>\n",
    "</center>"
   ]
  },
  {
   "cell_type": "markdown",
   "id": "0ad4c042",
   "metadata": {
    "slideshow": {
     "slide_type": "slide"
    }
   },
   "source": [
    "<center>\n",
    "<img src=../images/ASSEMBLY-PGMIII/ASSEMBLY-PGMIII.019.png>\n",
    "</center>"
   ]
  },
  {
   "cell_type": "markdown",
   "id": "32fca191",
   "metadata": {
    "slideshow": {
     "slide_type": "slide"
    }
   },
   "source": [
    "<center>\n",
    "<img src=../images/ASSEMBLY-PGMIII/ASSEMBLY-PGMIII.020.png>\n",
    "</center>"
   ]
  },
  {
   "cell_type": "markdown",
   "id": "a1e6f0b7",
   "metadata": {
    "slideshow": {
     "slide_type": "slide"
    }
   },
   "source": [
    "<center>\n",
    "<img src=../images/ASSEMBLY-PGMIII/ASSEMBLY-PGMIII.021.png>\n",
    "</center>"
   ]
  },
  {
   "cell_type": "markdown",
   "id": "da52fdbb",
   "metadata": {
    "slideshow": {
     "slide_type": "slide"
    }
   },
   "source": [
    "<center>\n",
    "<img src=../images/ASSEMBLY-PGMIII/ASSEMBLY-PGMIII.022.png>\n",
    "</center>"
   ]
  },
  {
   "cell_type": "markdown",
   "id": "41ae3ec8",
   "metadata": {
    "slideshow": {
     "slide_type": "slide"
    }
   },
   "source": [
    "<center>\n",
    "<img src=../images/ASSEMBLY-PGMIII/ASSEMBLY-PGMIII.023.png>\n",
    "</center>"
   ]
  },
  {
   "cell_type": "markdown",
   "id": "8418f9e7",
   "metadata": {
    "slideshow": {
     "slide_type": "slide"
    }
   },
   "source": [
    "<center>\n",
    "<img src=../images/ASSEMBLY-PGMIII/ASSEMBLY-PGMIII.024.png>\n",
    "</center>"
   ]
  },
  {
   "cell_type": "markdown",
   "id": "4c08f806",
   "metadata": {
    "slideshow": {
     "slide_type": "slide"
    }
   },
   "source": [
    "<center>\n",
    "<img src=../images/ASSEMBLY-PGMIII/ASSEMBLY-PGMIII.025.png>\n",
    "</center>"
   ]
  },
  {
   "cell_type": "markdown",
   "id": "5f7ae957",
   "metadata": {
    "slideshow": {
     "slide_type": "slide"
    }
   },
   "source": [
    "<center>\n",
    "<img src=../images/ASSEMBLY-PGMIII/ASSEMBLY-PGMIII.026.png>\n",
    "</center>"
   ]
  },
  {
   "cell_type": "markdown",
   "id": "b1edf6b3",
   "metadata": {
    "slideshow": {
     "slide_type": "slide"
    }
   },
   "source": [
    "<center>\n",
    "<img src=../images/ASSEMBLY-PGMIII/ASSEMBLY-PGMIII.027.png>\n",
    "</center>"
   ]
  },
  {
   "cell_type": "markdown",
   "id": "d99f911d",
   "metadata": {},
   "source": [
    "<center>\n",
    "<img src=../images/ASSEMBLY-PGMIII/ASSEMBLY-PGMIII.028.png>\n",
    "</center>"
   ]
  },
  {
   "cell_type": "markdown",
   "id": "ef67a07e",
   "metadata": {
    "slideshow": {
     "slide_type": "slide"
    }
   },
   "source": [
    "<center>\n",
    "<img src=../images/ASSEMBLY-PGMIII/ASSEMBLY-PGMIII.029.png>\n",
    "</center>"
   ]
  },
  {
   "cell_type": "markdown",
   "id": "a08c2072",
   "metadata": {},
   "source": [
    "<center>\n",
    "<img src=../images/ASSEMBLY-PGMIII/ASSEMBLY-PGMIII.030.png>\n",
    "</center>"
   ]
  },
  {
   "cell_type": "markdown",
   "id": "1cfe9393",
   "metadata": {
    "slideshow": {
     "slide_type": "slide"
    }
   },
   "source": [
    "<center>\n",
    "<img src=../images/ASSEMBLY-PGMIII/ASSEMBLY-PGMIII.031.png>\n",
    "</center>"
   ]
  },
  {
   "cell_type": "markdown",
   "id": "63f6c498",
   "metadata": {
    "slideshow": {
     "slide_type": "slide"
    }
   },
   "source": [
    "<center>\n",
    "<img src=../images/ASSEMBLY-PGMIII/ASSEMBLY-PGMIII.033.png>\n",
    "</center>"
   ]
  },
  {
   "cell_type": "markdown",
   "id": "3f20bec8",
   "metadata": {
    "slideshow": {
     "slide_type": "slide"
    }
   },
   "source": [
    "<center>\n",
    "<img src=../images/ASSEMBLY-PGMIII/ASSEMBLY-PGMIII.034.png>\n",
    "</center>"
   ]
  },
  {
   "cell_type": "markdown",
   "id": "9c7acbcc",
   "metadata": {},
   "source": [
    "<center>\n",
    "<img src=../images/ASSEMBLY-PGMIII/ASSEMBLY-PGMIII.035.png>\n",
    "</center>"
   ]
  },
  {
   "cell_type": "markdown",
   "id": "edff3231",
   "metadata": {
    "slideshow": {
     "slide_type": "slide"
    }
   },
   "source": [
    "<center>\n",
    "<img src=../images/ASSEMBLY-PGMIII/ASSEMBLY-PGMIII.036.png>\n",
    "</center>"
   ]
  },
  {
   "cell_type": "markdown",
   "id": "d1f7b270",
   "metadata": {
    "slideshow": {
     "slide_type": "slide"
    }
   },
   "source": [
    "<center>\n",
    "<img src=../images/ASSEMBLY-PGMIII/ASSEMBLY-PGMIII.037.png>\n",
    "</center>"
   ]
  },
  {
   "cell_type": "markdown",
   "id": "c3d94e92",
   "metadata": {
    "slideshow": {
     "slide_type": "slide"
    }
   },
   "source": [
    "<center>\n",
    "<img src=../images/ASSEMBLY-PGMIII/ASSEMBLY-PGMIII.038.png>\n",
    "</center>"
   ]
  },
  {
   "cell_type": "markdown",
   "id": "947c7caf",
   "metadata": {
    "slideshow": {
     "slide_type": "slide"
    }
   },
   "source": [
    "<center>\n",
    "<img src=../images/stack-Stack.png width=100%>\n",
    "</center>"
   ]
  },
  {
   "cell_type": "markdown",
   "id": "ff67acac",
   "metadata": {
    "slideshow": {
     "slide_type": "slide"
    }
   },
   "source": [
    "<center>\n",
    "<img src=../images/stack-Push.png>\n",
    "</center>"
   ]
  },
  {
   "cell_type": "markdown",
   "id": "8fe13c40",
   "metadata": {
    "slideshow": {
     "slide_type": "slide"
    }
   },
   "source": [
    "<center>\n",
    "<img src=../images/stack-Pop.png>\n",
    "</center>"
   ]
  },
  {
   "cell_type": "markdown",
   "id": "73f1b47e",
   "metadata": {
    "slideshow": {
     "slide_type": "slide"
    }
   },
   "source": [
    "<center>\n",
    "<img src=../images/ASSEMBLY-PGMIII/ASSEMBLY-PGMIII.042.png>\n",
    "</center>"
   ]
  },
  {
   "cell_type": "markdown",
   "id": "e4a0e1de",
   "metadata": {
    "slideshow": {
     "slide_type": "slide"
    }
   },
   "source": [
    "<center>\n",
    "<img src=../images/ASSEMBLY-PGMIII/ASSEMBLY-PGMIII.043.png>\n",
    "</center>"
   ]
  },
  {
   "cell_type": "markdown",
   "id": "686a3f37",
   "metadata": {
    "slideshow": {
     "slide_type": "slide"
    }
   },
   "source": [
    "<center>\n",
    "<img src=../images/ASSEMBLY-PGMIII/ASSEMBLY-PGMIII.044.png>\n",
    "</center>"
   ]
  },
  {
   "cell_type": "markdown",
   "id": "4fbe2b61",
   "metadata": {
    "slideshow": {
     "slide_type": "slide"
    }
   },
   "source": [
    "<center>\n",
    "<img src=../images/ASSEMBLY-PGMIII/ASSEMBLY-PGMIII.045.png>\n",
    "</center>"
   ]
  },
  {
   "cell_type": "markdown",
   "id": "ac6f996c",
   "metadata": {
    "slideshow": {
     "slide_type": "slide"
    }
   },
   "source": [
    "<center>\n",
    "<img src=../images/ASSEMBLY-PGMIII/ASSEMBLY-PGMIII.046.png>\n",
    "</center>"
   ]
  },
  {
   "cell_type": "markdown",
   "id": "40040f1a",
   "metadata": {
    "slideshow": {
     "slide_type": "slide"
    }
   },
   "source": [
    "<center>\n",
    "<img src=../images/ASSEMBLY-PGMIII/ASSEMBLY-PGMIII.047.png>\n",
    "</center>"
   ]
  },
  {
   "cell_type": "markdown",
   "id": "5c38bffe",
   "metadata": {
    "slideshow": {
     "slide_type": "slide"
    }
   },
   "source": [
    "<center>\n",
    "<img src=../images/ASSEMBLY-PGMIII/ASSEMBLY-PGMIII.048.png>\n",
    "</center>"
   ]
  },
  {
   "cell_type": "markdown",
   "id": "0cefeb76",
   "metadata": {
    "slideshow": {
     "slide_type": "slide"
    }
   },
   "source": [
    "<center>\n",
    "<img src=../images/ASSEMBLY-PGMIII/ASSEMBLY-PGMIII.049.png>\n",
    "</center>"
   ]
  },
  {
   "cell_type": "markdown",
   "id": "c3415c2a",
   "metadata": {
    "slideshow": {
     "slide_type": "slide"
    }
   },
   "source": [
    "<center>\n",
    "<img src=../images/ASSEMBLY-PGMIII/ASSEMBLY-PGMIII.050.png>\n",
    "</center>"
   ]
  },
  {
   "cell_type": "markdown",
   "id": "ccd6a30b",
   "metadata": {
    "slideshow": {
     "slide_type": "slide"
    }
   },
   "source": [
    "<center>\n",
    "<img src=../images/ASSEMBLY-PGMIII/ASSEMBLY-PGMIII.051.png>\n",
    "</center>"
   ]
  },
  {
   "cell_type": "markdown",
   "id": "d0c1edd8",
   "metadata": {
    "slideshow": {
     "slide_type": "slide"
    }
   },
   "source": [
    "<center>\n",
    "<img src=../images/ASSEMBLY-PGMIII/ASSEMBLY-PGMIII.052.png>\n",
    "</center>"
   ]
  },
  {
   "cell_type": "markdown",
   "id": "e4658de5",
   "metadata": {
    "slideshow": {
     "slide_type": "slide"
    }
   },
   "source": [
    "<center>\n",
    "<img src=../images/ASSEMBLY-PGMIII/ASSEMBLY-PGMIII.053.png>\n",
    "</center>"
   ]
  },
  {
   "cell_type": "markdown",
   "id": "1358c1b3",
   "metadata": {
    "slideshow": {
     "slide_type": "slide"
    }
   },
   "source": [
    "<center>\n",
    "<img src=../images/ASSEMBLY-PGMIII/ASSEMBLY-PGMIII.054.png>\n",
    "</center>"
   ]
  },
  {
   "cell_type": "markdown",
   "id": "bbcb3eac",
   "metadata": {
    "slideshow": {
     "slide_type": "slide"
    }
   },
   "source": [
    "<center>\n",
    "<img src=../images/ASSEMBLY-PGMIII/ASSEMBLY-PGMIII.055.png>\n",
    "</center>"
   ]
  },
  {
   "cell_type": "markdown",
   "id": "e92e3286",
   "metadata": {
    "slideshow": {
     "slide_type": "slide"
    }
   },
   "source": [
    "<center>\n",
    "<img src=../images/ASSEMBLY-PGMIII/ASSEMBLY-PGMIII.056.png>\n",
    "</center>"
   ]
  },
  {
   "cell_type": "markdown",
   "id": "91608ba3",
   "metadata": {
    "slideshow": {
     "slide_type": "slide"
    }
   },
   "source": [
    "<center>\n",
    "<img src=../images/ASSEMBLY-PGMIII/ASSEMBLY-PGMIII.057.png>\n",
    "</center>"
   ]
  },
  {
   "cell_type": "markdown",
   "id": "50dac3b8",
   "metadata": {
    "slideshow": {
     "slide_type": "slide"
    }
   },
   "source": [
    "<center>\n",
    "<img src=../images/ASSEMBLY-PGMIII/ASSEMBLY-PGMIII.058.png>\n",
    "</center>"
   ]
  },
  {
   "cell_type": "markdown",
   "id": "a9f03671",
   "metadata": {
    "slideshow": {
     "slide_type": "slide"
    }
   },
   "source": [
    "<center>\n",
    "<img src=../images/ASSEMBLY-PGMIII/ASSEMBLY-PGMIII.059.png>\n",
    "</center>"
   ]
  },
  {
   "cell_type": "markdown",
   "id": "bbfa6b41",
   "metadata": {
    "slideshow": {
     "slide_type": "slide"
    }
   },
   "source": [
    "<center>\n",
    "<img src=../images/ASSEMBLY-PGMIII/ASSEMBLY-PGMIII.060.png>\n",
    "</center>"
   ]
  },
  {
   "cell_type": "markdown",
   "id": "63ecdd95",
   "metadata": {
    "slideshow": {
     "slide_type": "slide"
    }
   },
   "source": [
    "<center>\n",
    "<img src=../images/ASSEMBLY-PGMIII/ASSEMBLY-PGMIII.061.png>\n",
    "</center>"
   ]
  },
  {
   "cell_type": "markdown",
   "id": "1921607d",
   "metadata": {
    "slideshow": {
     "slide_type": "slide"
    }
   },
   "source": [
    "<center>\n",
    "<img src=../images/ASSEMBLY-PGMIII/ASSEMBLY-PGMIII.062.png>\n",
    "</center>"
   ]
  },
  {
   "cell_type": "markdown",
   "id": "a5294921",
   "metadata": {
    "slideshow": {
     "slide_type": "slide"
    }
   },
   "source": [
    "<center>\n",
    "<img src=../images/ASSEMBLY-PGMIII/ASSEMBLY-PGMIII.063.png>\n",
    "</center>"
   ]
  },
  {
   "cell_type": "markdown",
   "id": "47c92a94",
   "metadata": {
    "slideshow": {
     "slide_type": "slide"
    }
   },
   "source": [
    "<center>\n",
    "<img src=../images/ASSEMBLY-PGMIII/ASSEMBLY-PGMIII.064.png>\n",
    "</center>"
   ]
  },
  {
   "cell_type": "markdown",
   "id": "85aefdfb",
   "metadata": {
    "slideshow": {
     "slide_type": "slide"
    }
   },
   "source": [
    "<center>\n",
    "<img src=../images/ASSEMBLY-PGMIII/ASSEMBLY-PGMIII.065.png>\n",
    "</center>"
   ]
  },
  {
   "cell_type": "markdown",
   "id": "0a46ba70",
   "metadata": {
    "slideshow": {
     "slide_type": "slide"
    }
   },
   "source": [
    "<center>\n",
    "<img src=../images/ASSEMBLY-PGMIII/ASSEMBLY-PGMIII.066.png>\n",
    "</center>"
   ]
  },
  {
   "cell_type": "markdown",
   "id": "3c402ee7",
   "metadata": {
    "slideshow": {
     "slide_type": "slide"
    }
   },
   "source": [
    "<center>\n",
    "<img src=../images/ASSEMBLY-PGMIII/ASSEMBLY-PGMIII.067.png>\n",
    "</center>"
   ]
  },
  {
   "cell_type": "markdown",
   "id": "b2639794",
   "metadata": {
    "slideshow": {
     "slide_type": "slide"
    }
   },
   "source": [
    "<center>\n",
    "<img src=../images/ASSEMBLY-PGMIII/ASSEMBLY-PGMIII.068.png>\n",
    "</center>"
   ]
  },
  {
   "cell_type": "markdown",
   "id": "044e35ce",
   "metadata": {
    "slideshow": {
     "slide_type": "slide"
    }
   },
   "source": [
    "<center>\n",
    "<img src=../images/ASSEMBLY-PGMIII/ASSEMBLY-PGMIII.069.png>\n",
    "</center>"
   ]
  },
  {
   "cell_type": "markdown",
   "id": "1d09979b",
   "metadata": {
    "slideshow": {
     "slide_type": "slide"
    }
   },
   "source": [
    "<center>\n",
    "<img src=../images/ASSEMBLY-PGMIII/ASSEMBLY-PGMIII.070.png>\n",
    "</center>"
   ]
  },
  {
   "cell_type": "markdown",
   "id": "36fdee73",
   "metadata": {
    "slideshow": {
     "slide_type": "slide"
    }
   },
   "source": [
    "<center>\n",
    "<img src=../images/ASSEMBLY-PGMIII/ASSEMBLY-PGMIII.071.png>\n",
    "</center>"
   ]
  },
  {
   "cell_type": "markdown",
   "id": "10e6bcd4",
   "metadata": {
    "slideshow": {
     "slide_type": "slide"
    }
   },
   "source": [
    "<center>\n",
    "<img src=../images/ASSEMBLY-PGMIII/ASSEMBLY-PGMIII.072.png>\n",
    "</center>"
   ]
  },
  {
   "cell_type": "markdown",
   "id": "0eab7a35",
   "metadata": {
    "hide_input": false,
    "slideshow": {
     "slide_type": "slide"
    }
   },
   "source": [
    "## Examples used in previous slides\n",
    "### `sumit` as per last lecture\n",
    "\n",
    "Hardcode `int3` stops us from saving our sum as we would like"
   ]
  },
  {
   "cell_type": "code",
   "execution_count": null,
   "id": "8a96021e",
   "metadata": {
    "hide_input": true,
    "tags": [
     "remove-input"
    ]
   },
   "outputs": [],
   "source": [
    "display(Markdown(FileCodeBox(\n",
    "    file=\"../src/sumit.S\", \n",
    "    lang=\"gas\", \n",
    "    title=\"<b>CODE: asm - sumit.S : Version 1\",\n",
    "    h=\"100%\", \n",
    "    w=\"107em\"\n",
    ")))\n",
    "display(Markdown(\"**Corresponding: usesum**\"))\n",
    "display(Markdown(FileCodeBox(\n",
    "    file=\"../src/usesum.S\", \n",
    "    lang=\"gas\", \n",
    "    title=\"<b>CODE: asm - sumit.S : Version 1\",\n",
    "    h=\"100%\", \n",
    "    w=\"107em\"\n",
    ")))"
   ]
  },
  {
   "cell_type": "code",
   "execution_count": null,
   "id": "50afdacc",
   "metadata": {
    "hide_input": true,
    "tags": [
     "remove-input"
    ]
   },
   "outputs": [],
   "source": [
    "TermShellCmd(\"make usesum\", cwd=appdir, prompt='')"
   ]
  },
  {
   "cell_type": "markdown",
   "id": "ccaa8398",
   "metadata": {},
   "source": [
    "see last lecture notes to in terms of how to use `gdb` to run and play with `usesum`\n"
   ]
  },
  {
   "cell_type": "markdown",
   "id": "8c06cbcb",
   "metadata": {
    "slideshow": {
     "slide_type": "slide"
    }
   },
   "source": [
    "### Made `sumit` more generic but ...\n",
    "\n",
    "1. Make the address of the array a parameter passed to `sumit`. \n",
    "2. Changed `sumit` code to use this instead of `XARRAY`\n",
    "3. Now have `usesum` leave space for three arrays and have three jumps to `sumit`\n",
    "4. remove `int3` from `sumit` and replace it with a `jmp` back to the address after the first \n",
    "   jump.\n",
    "5. BUT WE HAVE PROBLEMS IN `sumit`:\n",
    "  - how do we `jump` back to the right spot?"
   ]
  },
  {
   "cell_type": "code",
   "execution_count": null,
   "id": "39e70db8",
   "metadata": {
    "tags": [
     "remove-input"
    ]
   },
   "outputs": [],
   "source": [
    "display(Markdown(FileCodeBox(\n",
    "    file=\"../src/sumit2.S\", \n",
    "    lang=\"gas\", \n",
    "    title=\"<b>CODE: asm - sumit2.S : Version 2\",\n",
    "    h=\"100%\", \n",
    "    w=\"107em\"\n",
    ")))\n",
    "display(Markdown(\"**Corresponding: usesum**\"))\n",
    "display(Markdown(FileCodeBox(\n",
    "    file=\"../src/usesum2.S\", \n",
    "    lang=\"gas\", \n",
    "    title=\"<b>CODE: asm - sumit2.S : Version 2\",\n",
    "    h=\"100%\", \n",
    "    w=\"107em\"\n",
    ")))"
   ]
  },
  {
   "cell_type": "code",
   "execution_count": null,
   "id": "31fdafcd",
   "metadata": {
    "tags": [
     "remove-input"
    ]
   },
   "outputs": [],
   "source": [
    "TermShellCmd(\"make usesum2\", cwd=appdir, prompt='')"
   ]
  },
  {
   "cell_type": "code",
   "execution_count": null,
   "id": "92f0e54b",
   "metadata": {
    "tags": [
     "remove-input"
    ]
   },
   "outputs": [],
   "source": [
    "display(Markdown(FileCodeBox(\n",
    "    file=\"../src/usesumABC.gdb\", \n",
    "    lang=\"gdb\", \n",
    "    title=\"<b>GDB commands to use\",\n",
    "    h=\"100%\", \n",
    "    w=\"107em\"\n",
    ")))"
   ]
  },
  {
   "cell_type": "markdown",
   "id": "bdcdd4b3",
   "metadata": {
    "tags": [
     "remove-input"
    ]
   },
   "source": [
    "Now you can single step or continue as you like"
   ]
  },
  {
   "cell_type": "markdown",
   "id": "4944ef8d",
   "metadata": {
    "slideshow": {
     "slide_type": "slide"
    }
   },
   "source": [
    "### Version 3:  Fix our problem by passing in the return address in a register.  In our case we use 'rdx' and jump back via this register.\n",
    "\n",
    "Note this approach requires one register for each call to hold the return address.  This has problems if we were to nest calls."
   ]
  },
  {
   "cell_type": "code",
   "execution_count": null,
   "id": "6e068670",
   "metadata": {
    "tags": [
     "remove-input"
    ]
   },
   "outputs": [],
   "source": [
    "display(Markdown(FileCodeBox(\n",
    "    file=\"../src/sumit3.S\", \n",
    "    lang=\"gas\", \n",
    "    title=\"<b>CODE: asm - sumit3.S : Version 3\",\n",
    "    h=\"100%\", \n",
    "    w=\"107em\"\n",
    ")))\n",
    "display(Markdown(\"**Corresponding: usesum**\"))\n",
    "display(Markdown(FileCodeBox(\n",
    "    file=\"../src/usesum3.S\", \n",
    "    lang=\"gas\", \n",
    "    title=\"<b>CODE: asm - usesum3.S : Version 3\",\n",
    "    h=\"100%\", \n",
    "    w=\"107em\"\n",
    ")))"
   ]
  },
  {
   "cell_type": "code",
   "execution_count": null,
   "id": "d0c0a661",
   "metadata": {
    "tags": [
     "remove-input"
    ]
   },
   "outputs": [],
   "source": [
    "TermShellCmd(\"make usesum3\", cwd=appdir, prompt='')"
   ]
  },
  {
   "cell_type": "markdown",
   "id": "3ca21fca",
   "metadata": {
    "slideshow": {
     "slide_type": "slide"
    }
   },
   "source": [
    "### Version 4:  Use stack to spill `rdx` before making any call.  \n",
    "\n",
    "Although we don't use it this would allow us to make nested calls assuming we always used the same register to pass the return address in.  In our case `rdx`.  This approach effectively uses the stack to spill `rdx` before we use it to make a call.  In this way the caller is using the stack to hang on to where it needs to return before making a new call.\n"
   ]
  },
  {
   "cell_type": "code",
   "execution_count": null,
   "id": "92fe2ba1",
   "metadata": {
    "hide_input": true,
    "tags": [
     "remove-input"
    ]
   },
   "outputs": [],
   "source": [
    "display(Markdown(FileCodeBox(\n",
    "    file=\"../src/sumit3.S\", \n",
    "    lang=\"gas\", \n",
    "    title=\"<b>CODE: asm - sumit3.S : Version 4 no change use version 3\",\n",
    "    h=\"100%\", \n",
    "    w=\"107em\"\n",
    ")))\n",
    "display(Markdown(\"**Corresponding: usesum**\"))\n",
    "display(Markdown(FileCodeBox(\n",
    "    file=\"../src/usesum4.S\", \n",
    "    lang=\"gas\", \n",
    "    title=\"<b>CODE: asm - usesum4.S : Version 4\",\n",
    "    h=\"100%\", \n",
    "    w=\"107em\"\n",
    ")))"
   ]
  },
  {
   "cell_type": "code",
   "execution_count": null,
   "id": "21d822e9",
   "metadata": {
    "tags": [
     "remove-input"
    ]
   },
   "outputs": [],
   "source": [
    "TermShellCmd(\"make usesum4\", cwd=appdir, prompt='')"
   ]
  },
  {
   "cell_type": "markdown",
   "id": "34a709e0",
   "metadata": {
    "slideshow": {
     "slide_type": "slide"
    }
   },
   "source": [
    "### Version 5: Use `call` and `ret` instructions to turn our code into an \"real\" X86 function"
   ]
  },
  {
   "cell_type": "code",
   "execution_count": null,
   "id": "8b53da6b",
   "metadata": {
    "hide_input": true,
    "tags": [
     "remove-input"
    ]
   },
   "outputs": [],
   "source": [
    "display(Markdown(FileCodeBox(\n",
    "    file=\"../src/sumit5.S\", \n",
    "    lang=\"gas\", \n",
    "    title=\"<b>CODE: asm - sumit5.S : Version 5\",\n",
    "    h=\"100%\", \n",
    "    w=\"107em\"\n",
    ")))\n",
    "display(Markdown(\"**Corresponding: usesum**\"))\n",
    "display(Markdown(FileCodeBox(\n",
    "    file=\"../src/usesum5.S\", \n",
    "    lang=\"gas\", \n",
    "    title=\"<b>CODE: asm - usesum5.S : Version 5\",\n",
    "    h=\"100%\", \n",
    "    w=\"107em\"\n",
    ")))"
   ]
  },
  {
   "cell_type": "code",
   "execution_count": null,
   "id": "70d4cfea",
   "metadata": {
    "tags": [
     "remove-input"
    ]
   },
   "outputs": [],
   "source": [
    "TermShellCmd(\"make usesum5\", cwd=appdir, prompt='')"
   ]
  },
  {
   "cell_type": "markdown",
   "id": "5cd5d396",
   "metadata": {
    "slideshow": {
     "slide_type": "slide"
    }
   },
   "source": [
    "### Version 6 improving code by \"spilling\" `rdi` in `sumIt`"
   ]
  },
  {
   "cell_type": "code",
   "execution_count": null,
   "id": "b89efea1",
   "metadata": {
    "hide_input": true,
    "tags": [
     "remove-input"
    ]
   },
   "outputs": [],
   "source": [
    "display(Markdown(FileCodeBox(\n",
    "    file=\"../src/sumit6.S\", \n",
    "    lang=\"gas\", \n",
    "    title=\"<b>CODE: asm - sumit6.S : Version 6\",\n",
    "    h=\"100%\", \n",
    "    w=\"107em\"\n",
    ")))\n",
    "display(Markdown(\"**Corresponding: usesum**\"))\n",
    "display(Markdown(FileCodeBox(\n",
    "    file=\"../src/usesum5.S\", \n",
    "    lang=\"gas\", \n",
    "    title=\"<b>CODE: asm - usesum5.S : Version 6 no change to usesum use Version 5\",\n",
    "    h=\"100%\", \n",
    "    w=\"107em\"\n",
    ")))"
   ]
  },
  {
   "cell_type": "code",
   "execution_count": null,
   "id": "35ea4150",
   "metadata": {
    "tags": [
     "remove-input"
    ]
   },
   "outputs": [],
   "source": [
    "TermShellCmd(\"make usesum6\", cwd=appdir, prompt='')"
   ]
  }
 ],
 "metadata": {
  "celltoolbar": "Tags",
  "hide_input": true,
  "kernelspec": {
   "display_name": "Python 3 (ipykernel)",
   "language": "python",
   "name": "python3"
  },
  "language_info": {
   "codemirror_mode": {
    "name": "ipython",
    "version": 3
   },
   "file_extension": ".py",
   "mimetype": "text/x-python",
   "name": "python",
   "nbconvert_exporter": "python",
   "pygments_lexer": "ipython3",
   "version": "3.9.6"
  },
  "rise": {
   "autolaunch": false,
   "enable_chalkboard": true,
   "footer": "UC-SLS -- Lecture 11",
   "header": "Assembly: Program Anatomy II",
   "height": "100%",
   "scroll": true,
   "start_slideshow_at": "selected",
   "theme": "black",
   "transition": "none",
   "width": "100%"
  }
 },
 "nbformat": 4,
 "nbformat_minor": 5
}
