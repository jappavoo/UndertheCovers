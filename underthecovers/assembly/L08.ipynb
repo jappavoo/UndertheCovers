{
 "cells": [
  {
   "cell_type": "code",
   "execution_count": null,
   "id": "2345dc08",
   "metadata": {
    "hide_input": false,
    "slideshow": {
     "slide_type": "skip"
    },
    "tags": [
     "remove-cell"
    ]
   },
   "outputs": [],
   "source": [
    "%run -i ../python/common.py\n",
    "UC_SKIPTERMS=True\n",
    "%run -i ../python/ln_preamble.py"
   ]
  },
  {
   "cell_type": "markdown",
   "id": "51a060fe-6e14-4c42-a0b0-8e78177af2ae",
   "metadata": {
    "slideshow": {
     "slide_type": "slide"
    }
   },
   "source": [
    "# SLS Lecture 8 :  Writing some simple assembly programs\n",
    "\n"
   ]
  },
  {
   "cell_type": "markdown",
   "id": "77cf2ed1",
   "metadata": {
    "slideshow": {
     "slide_type": "slide"
    }
   },
   "source": [
    "Spend some time writing some very simple assembly programs and learn to use the debugger so that we have enough skills to explore how things work.    We will be repeat various things in more detail in future lectures."
   ]
  },
  {
   "cell_type": "markdown",
   "id": "2acf3761",
   "metadata": {
    "hide_input": true,
    "slideshow": {
     "slide_type": "slide"
    }
   },
   "source": [
    "- Write `popcnt` in assemble code \n",
    "  - use gdb to play with the popcnt program\n",
    "- Write a simple `add` in assembly code\n",
    "  - use gdb to play with the add program\n",
    "    - using the cpu as a glorified calculator \n",
    "      - first pass at CPU support for \"numbers\" \n",
    "- What happens if we let our programs continue\n",
    "  - how do we successfully \"halt/end\" our execution \n",
    "    - `int3` trap \n",
    "       - tells OS to return control to debugger   \n",
    "    - more generally how can we make a Kernel/System Call\n",
    "  - revisit `add` programs adding exits  \n",
    "    - `int3`\n",
    "    - `exit` syscall\n",
    "- Implicitly use our shell, editor, Make and Git knowledge to do the above"
   ]
  },
  {
   "cell_type": "markdown",
   "id": "d9fcb87c",
   "metadata": {
    "slideshow": {
     "slide_type": "slide"
    }
   },
   "source": [
    "## Writing a `popcnt` assembly program\n",
    "\n",
    "- Write a one instruction assembly program \n",
    "  1. first using .byte \n",
    "  2. using intel assembly instruction  \n",
    "- Use gdb to explore how this instruction works\n",
    "  - learn to use gdb to set register values\n",
    "  - and how to execute and re-execute an instruction"
   ]
  },
  {
   "cell_type": "markdown",
   "id": "187cfafe",
   "metadata": {
    "slideshow": {
     "slide_type": "slide"
    }
   },
   "source": [
    "### Setup\n",
    "1. make directory\n",
    "2. create git database\n",
    "3. seed with a file\n",
    "4. create a remote copy of the database\n",
    "5. push contents to remote\n",
    "6. next time we start by cloning"
   ]
  },
  {
   "cell_type": "markdown",
   "id": "fcbb2061",
   "metadata": {
    "slideshow": {
     "slide_type": "notes"
    }
   },
   "source": [
    "1. make a directory for our work :\n",
    "   - `mkdir firstasm`\n",
    "   - `cd popcnt`\n",
    "2. create a git database to track our record our changes \n",
    "   - `git init` \n",
    "   - `ls -la`\n",
    "3. add readme.md:\n",
    "   - `emacs  README.md`\n",
    "   - `git add README.md`\n",
    "   - `git commit -m \"add readme\"`\n",
    "   - `git branch -m master main`\n",
    "   - `git status`\n",
    "   - `git log --oneline --graph --all`\n",
    "4. replicate the repository on gitlab so we have a back remote repo\n",
    "   -  There are three main protocols to choose from \n",
    "      1. `https` -- requires that you use a password every time you push :-(\n",
    "      2. `ssh` -- requires you create an ssh key and install it on the gitlab server\n",
    "      3. `api token` - requires you to setup a token on the gitlab server and remember it \n",
    "   - going to use ssh \n",
    "     - `git remote add origin git@cs210-gitlab.bu.edu:jappavoo/firstasm.git`\n",
    "     - `git remote show`\n",
    "5. push to remote\n",
    "   - `git push origin main`\n",
    "   -  do this constantly while we are working to be sure we remote us up to date\n",
    "6. Once the remote is created we would start our work session by \"cloning\" a fresh copy from the server.  Lets test this out by deleting and cloning a new copy:\n",
    "   - `git clone git@cs210-gitlab.bu.edu:jappavoo/firstasm.git`\n",
    "   "
   ]
  },
  {
   "cell_type": "code",
   "execution_count": null,
   "id": "f99dc62f",
   "metadata": {
    "cell_style": "center",
    "hide_input": true,
    "slideshow": {
     "slide_type": "slide"
    },
    "tags": [
     "remove-input"
    ]
   },
   "outputs": [],
   "source": [
    "display(Markdown(FileCodeBox(\n",
    "    file=\"../src/popcnt_bb.S\", \n",
    "    lang=\"gas\", \n",
    "    title=\"<b>CODE: asm - The 'popcnt' assembly program\",\n",
    "    h=\"100%\", \n",
    "    w=\"107em\"\n",
    ")))"
   ]
  },
  {
   "cell_type": "code",
   "execution_count": null,
   "id": "a1c1abd6",
   "metadata": {
    "hide_input": true,
    "slideshow": {
     "slide_type": "skip"
    },
    "tags": [
     "remove-input"
    ]
   },
   "outputs": [],
   "source": [
    "display(Markdown('''\n",
    "Here is a fully commented version of the same code.\n",
    "'''))\n",
    "display(Markdown(FileCodeBox(\n",
    "    file=\"../src/popcnt.S\", \n",
    "    lang=\"gas\", \n",
    "    title=\"<b>CODE: asm - The commented 'popcnt' assembly program\",\n",
    "    h=\"100%\", \n",
    "    w=\"107em\"\n",
    ")))"
   ]
  },
  {
   "cell_type": "code",
   "execution_count": null,
   "id": "71b5e1a8",
   "metadata": {
    "cell_style": "center",
    "hide_input": true,
    "slideshow": {
     "slide_type": "-"
    },
    "tags": [
     "remove-cell"
    ]
   },
   "outputs": [],
   "source": [
    "display(showET(\"Editor\"))"
   ]
  },
  {
   "cell_type": "code",
   "execution_count": null,
   "id": "a14c6e16",
   "metadata": {},
   "outputs": [],
   "source": []
  },
  {
   "cell_type": "markdown",
   "id": "ee1ee307",
   "metadata": {
    "cell_style": "center",
    "hide_input": false,
    "slideshow": {
     "slide_type": "-"
    }
   },
   "source": [
    "We can use the `.byte` directive to set the values in memory to anything we like \n",
    "eg.\n",
    "\n",
    "``` gas\n",
    "     .byte 0xF3, 0x48, 0x0F, 0xB8, 0xD8  \n",
    "```\n",
    "\n",
    "But of course the real value is that we could have also simply written\n",
    "\n",
    "``` gas\n",
    "       popcnt rax, rbx          \n",
    "```\n"
   ]
  },
  {
   "cell_type": "code",
   "execution_count": null,
   "id": "97d9c072",
   "metadata": {
    "cell_style": "center",
    "hide_input": false,
    "tags": [
     "remove-cell"
    ]
   },
   "outputs": [],
   "source": [
    "display(showBT())"
   ]
  },
  {
   "cell_type": "code",
   "execution_count": null,
   "id": "4944c038",
   "metadata": {
    "cell_style": "center",
    "hide_input": true,
    "tags": [
     "remove-input"
    ]
   },
   "outputs": [],
   "source": [
    "display(Markdown(FileCodeBox(\n",
    "    file=\"popcnt_build.sh\", \n",
    "    lang=\"shell\", \n",
    "#    title=\"<b>NOTES: on building popcnt\", \n",
    "    h=\"100%\", \n",
    "    w=\"100%\")))"
   ]
  },
  {
   "cell_type": "code",
   "execution_count": null,
   "id": "bc87c756",
   "metadata": {
    "hide_input": false,
    "tags": [
     "remove-cell"
    ]
   },
   "outputs": [],
   "source": [
    "display(showDT(\"Debugger\"))"
   ]
  },
  {
   "cell_type": "code",
   "execution_count": null,
   "id": "653c6759",
   "metadata": {
    "hide_input": false,
    "slideshow": {
     "slide_type": "-"
    },
    "tags": [
     "remove-input"
    ]
   },
   "outputs": [],
   "source": [
    "display(Markdown(FileCodeBox(\n",
    "    file=\"popcnt_gdb.txt\", \n",
    "    lang=\"shell\", \n",
    "    title=\"\", \n",
    "    h=\"100%\", \n",
    "    w=\"100%\")))"
   ]
  },
  {
   "cell_type": "markdown",
   "id": "ae089b68",
   "metadata": {
    "slideshow": {
     "slide_type": "slide"
    }
   },
   "source": [
    "## Writing an `add` assembly program\n",
    "\n",
    "- re-enforce the steps to creating and debugging an assembly program\n",
    "  - begin to explore CPU support for working with \"numbers\"\n",
    "     - we will get into how numbers \"work\" later\n",
    "     - learn enough so that you can poke around yourself\n",
    "  - get an idea of cool things that INTEL instructions can do\n",
    "  - try adding some variables in memory to our program"
   ]
  },
  {
   "cell_type": "markdown",
   "id": "2248712f",
   "metadata": {
    "hide_input": true,
    "slideshow": {
     "slide_type": "notes"
    }
   },
   "source": [
    "- Lets work with the `add` instruction in a similar way that we did with `popcnt`\n",
    "- explore the results of adding with binary, hex, unsigned and signed values\n",
    "- explore overflow\n",
    "\n",
    "- then make the program a little more complex:\n",
    "``` gas\n",
    "  movabs rbx, 0xdeadbeefdeadbeef\n",
    "  mov    rax, 1\n",
    "  add    rax, rbx\n",
    "```\n",
    "\n",
    "- lets use some more cool features of the intel instruction set\n",
    "``` gas\n",
    "  rdrand rbx                \n",
    "  mov    rax, 1\n",
    "  add    rax, rbx\n",
    "  popcnt rbx, rax\n",
    "```\n",
    "- lets get a brief glimpse at how to use memory locations for the value\n",
    "``` gas\n",
    "        .intel_syntax noprefix\n",
    "        .data\n",
    "x:       .quad 142\n",
    "y:       .quad 4200\n",
    "sum:     .quad\n",
    "\n",
    "        .text\n",
    "        .global _start\n",
    "_start:\n",
    "        mov rax, QWORD PTR x\n",
    "        add rax, QWORD PTR y\n",
    "        mov QWORD PTR sum, rax\n",
    "```"
   ]
  },
  {
   "cell_type": "code",
   "execution_count": null,
   "id": "6c1d6fce",
   "metadata": {
    "cell_style": "center",
    "hide_input": true,
    "tags": [
     "remove-cell"
    ]
   },
   "outputs": [],
   "source": [
    "display(showET(\"Editor\"))"
   ]
  },
  {
   "cell_type": "code",
   "execution_count": null,
   "id": "d5f8008b",
   "metadata": {
    "cell_style": "center",
    "hide_input": false,
    "tags": [
     "remove-input"
    ]
   },
   "outputs": [],
   "source": [
    "display(Markdown(FileCodeBox(\n",
    "    file=\"../src/add.S\", \n",
    "    lang=\"gas\", \n",
    "    title=\"\",\n",
    "    h=\"100%\", \n",
    "    w=\"100%\"\n",
    ")))"
   ]
  },
  {
   "cell_type": "code",
   "execution_count": null,
   "id": "8f21b4e7",
   "metadata": {
    "cell_style": "center",
    "hide_input": true,
    "tags": [
     "remove-cell"
    ]
   },
   "outputs": [],
   "source": [
    "display(showBT())"
   ]
  },
  {
   "cell_type": "code",
   "execution_count": null,
   "id": "f7c32670",
   "metadata": {
    "cell_style": "center",
    "hide_input": false,
    "tags": [
     "remove-input"
    ]
   },
   "outputs": [],
   "source": [
    "display(Markdown(FileCodeBox(\n",
    "    file=\"add_build.sh\", \n",
    "    lang=\"shell\", \n",
    "#    title=\"<b>NOTES: on building add\", \n",
    "    h=\"100%\", \n",
    "    w=\"100%\")))"
   ]
  },
  {
   "cell_type": "code",
   "execution_count": null,
   "id": "b1d54441",
   "metadata": {
    "hide_input": false,
    "tags": [
     "remove-cell"
    ]
   },
   "outputs": [],
   "source": [
    "display(showDT())"
   ]
  },
  {
   "cell_type": "code",
   "execution_count": null,
   "id": "61302899",
   "metadata": {
    "hide_input": true,
    "tags": [
     "remove-input"
    ]
   },
   "outputs": [],
   "source": [
    "display(Markdown(FileCodeBox(\n",
    "    file=\"add_gdb.txt\", \n",
    "    lang=\"shell\", \n",
    "    title=\"\", \n",
    "    h=\"100%\", \n",
    "    w=\"100%\")))"
   ]
  },
  {
   "cell_type": "markdown",
   "id": "27671a94",
   "metadata": {
    "slideshow": {
     "slide_type": "slide"
    }
   },
   "source": [
    "### Exercises \n",
    "\n",
    "  \n",
    "- try repeating what we did with `add` with `imul`, `and`, `or`, `xor`: for each\n",
    "  - create a new file\n",
    "  - add targets to Makefile for it\n",
    "  - use gdb to explore what the instruction does\n",
    "\n",
    "\n",
    "\n"
   ]
  },
  {
   "cell_type": "markdown",
   "id": "e8a7cccf",
   "metadata": {
    "slideshow": {
     "slide_type": "slide"
    }
   },
   "source": [
    "## Ending / Exiting our Program/Process\n",
    "\n",
    "- What happens if we run our programs outside of the debugger?\n",
    "  - why does this happen?"
   ]
  },
  {
   "cell_type": "code",
   "execution_count": null,
   "id": "bc396315",
   "metadata": {
    "hide_input": false,
    "tags": [
     "remove-cell"
    ]
   },
   "outputs": [],
   "source": [
    "display(showDT())"
   ]
  },
  {
   "cell_type": "markdown",
   "id": "0af67b3c",
   "metadata": {
    "slideshow": {
     "slide_type": "slide"
    }
   },
   "source": [
    "### How can we avoid this\n",
    "\n",
    "1. TRAP: Use an instruction that tells the OS to \n",
    "    - stop the process and give control back to the debuggger\n",
    "    - if no debugger is running just kill process and signal shell\n",
    "        - Instruction: `int3`: \n",
    "        - Opcode: `0xCC` \n",
    "        - Description: `Interrupt 3 — trap to debugger`\n",
    "2. Call OS Kernel Exit Process call\n",
    "    - This is an example of calling an OS Kernel call to have the kernel do something for your process\n",
    "    - We will look at this more but for the moment here is what is necessary to call `exit`\n",
    "       - pass return value to Kernel \n",
    "       - exit/terminate process"
   ]
  },
  {
   "cell_type": "markdown",
   "id": "b4797374",
   "metadata": {
    "slideshow": {
     "slide_type": "slide"
    }
   },
   "source": [
    "### Interrupt 3 `int3` -- trap to debugger"
   ]
  },
  {
   "cell_type": "markdown",
   "id": "66bd1252",
   "metadata": {},
   "source": [
    "<img src=\"../images/int3mp.png\">"
   ]
  },
  {
   "cell_type": "code",
   "execution_count": null,
   "id": "8123532b",
   "metadata": {
    "hide_input": true,
    "tags": [
     "remove-input"
    ]
   },
   "outputs": [],
   "source": [
    "display(Markdown(FileCodeBox(\n",
    "    file=\"../src/int3.S\", \n",
    "    lang=\"gas\", \n",
    "    title=\"\",\n",
    "    h=\"100%\", \n",
    "    w=\"100%\"\n",
    ")))"
   ]
  },
  {
   "cell_type": "markdown",
   "id": "75349b3d",
   "metadata": {
    "slideshow": {
     "slide_type": "slide"
    }
   },
   "source": [
    "### Exit -- An OS service to terminate a process\n",
    "\n",
    "To exit your process and return an exit value \n",
    "  - requires a call to the OS!\n",
    "\n",
    "On Intel the instruction is `syscall`\n",
    "\n",
    "<img src=\"../images/syscallmp.png\">\n"
   ]
  },
  {
   "cell_type": "markdown",
   "id": "63590cba",
   "metadata": {},
   "source": [
    "### The OS System Calls\n",
    "\n",
    "Each OS Kernel provides a set of calls that an a process can invoke using the `syscall` instruction on an Intel based computer\n",
    "\n",
    "The Linux Kernel supports a very large number of system calls each is identified by a unique number that must be placed in `RAX` prior to executing the `syscall` instruction.  Additional arguments are passed in by setting other registers.  \n",
    "\n",
    "With each version of the Kernel the table of calls changes.  Here is one site that provides a list\n",
    "\n"
   ]
  },
  {
   "cell_type": "code",
   "execution_count": null,
   "id": "a5409aa1",
   "metadata": {
    "hide_input": false
   },
   "outputs": [],
   "source": [
    "display(IFrame(\"https://filippo.io/linux-syscall-table/\", height=600, width=\"100%\"))"
   ]
  },
  {
   "cell_type": "markdown",
   "id": "57d202b1",
   "metadata": {},
   "source": [
    "- From the above we can see that the `exit` system call number is `60`\n",
    "- reading some man pages `man syscall` and `man syscalls` we find that\n",
    "  - we must place `60` in `rax`\n",
    "  - and that the value we want to return in `rdi`"
   ]
  },
  {
   "cell_type": "code",
   "execution_count": null,
   "id": "5a1fc3ad",
   "metadata": {
    "hide_input": true,
    "slideshow": {
     "slide_type": "-"
    },
    "tags": [
     "remove-input"
    ]
   },
   "outputs": [],
   "source": [
    "display(Markdown(FileCodeBox(\n",
    "    file=\"../src/exit_bb_bb.S\", \n",
    "    lang=\"gas\", \n",
    "    title=\"\",\n",
    "    h=\"100%\", \n",
    "    w=\"100%\"\n",
    ")))"
   ]
  },
  {
   "cell_type": "markdown",
   "id": "be237508",
   "metadata": {
    "slideshow": {
     "slide_type": "slide"
    }
   },
   "source": [
    "We will revisit OS system calls in more detail later\n",
    "- this is good enough for the moment\n"
   ]
  },
  {
   "cell_type": "markdown",
   "id": "af4e1f82",
   "metadata": {
    "slideshow": {
     "slide_type": "slide"
    }
   },
   "source": [
    "#### Avoiding Hard coding system call numbers\n",
    "\n",
    "Operating system code usually provides files that you can include in your code so that you don't have to hardcode magic numbers like `60` for exit.  In Linux you can add the following file `#include <asm/unistd_64.h>` to get all the system call numbers.  You can then use `__NR_exit` to mean the number for the exit system call.\n",
    "\n",
    "eg.\n",
    "exitfancy.S\n",
    "``` gas\n",
    "#include <asm/unistd_64.h>\n",
    "    .intel_syntax noprefix\n",
    "    .text\n",
    "    .global _start\n",
    "_start:\n",
    "    mov rax,__NR_exit # exit system call number\n",
    "    mov rdi,0         # UNIX success value is 0\n",
    "    syscall           # call OS. This will not return\n",
    "```\n",
    "    \n",
    "But the assemble does not support have support for including files.\n",
    "We must first use another tool called a preprocessor eg.\n",
    "```\n",
    "cc -E exitfancy.S > exitfancy.s\n",
    "as -g exitfancy.s -o exitfancy.o\n",
    "ld -g exitfancy.o -o exitfancy\n",
    "```\n",
    "In general we will just skip this and we will just use hardcoded numbers."
   ]
  },
  {
   "cell_type": "markdown",
   "id": "c686370b",
   "metadata": {},
   "source": [
    "## Exercises  and extra materials\n",
    "\n",
    "- rewrite all the examples to use int3 at the end \n",
    "- rewrite all the examples to call OS exit call\n",
    "- combine some of the examples\n",
    "- see what happens when you add `1` to `0xffffffffffffffff` using the add instructions.\n",
    "   - any idea what is going on?"
   ]
  },
  {
   "cell_type": "markdown",
   "id": "e32b717c",
   "metadata": {
    "slideshow": {
     "slide_type": "slide"
    }
   },
   "source": [
    "### Makefile for all the lecture examples\n",
    "\n",
    "```make\n",
    "popcnt: popcnt.o\n",
    "        ld -g popcnt.o -o popcnt\n",
    "\n",
    "popcnt.o: popcnt.s\n",
    "        as -g popcnt.s -o popcnt.o\n",
    "\n",
    "add: add.o\n",
    "        ld -g add.o -o add\n",
    "\n",
    "add.o: add.s\n",
    "        as -g add.s -o add.o\n",
    "\n",
    "exit: exit.o\n",
    "        ld -g exit.o -o exit\n",
    "\n",
    "exit.o: exit.s\n",
    "        as -g exit.s -o exit.o\n",
    "\n",
    "int3: int3.o\n",
    "        ld -g int3.o -o int3\n",
    "\n",
    "int3.o: int3.s\n",
    "        as -g int3.s -o int3.o\n",
    "\n",
    "exitfancy: exitfancy.o\n",
    "        ld -g exitfancy.o -o exitfancy\n",
    "\n",
    "exitfancy.o: exitfancy.s\n",
    "        as -g exitfancy.s -o exitfancy.o\n",
    "\n",
    "exitfancy.s: exitfancy.S\n",
    "        cc -E exitfancy.S > exitfancy.s\n",
    "\n",
    "clean:\n",
    "        -rm -f $(wildcard *.o  popcnt  add int3 exit exitfancy exitfancy.s)\n",
    "```\n"
   ]
  },
  {
   "cell_type": "markdown",
   "id": "b5fe1367",
   "metadata": {
    "slideshow": {
     "slide_type": "slide"
    }
   },
   "source": [
    "### Here is a fully documented fancy version of exit\n",
    "\n",
    "- We use the the preprocessor to include the OS system call numbers\n",
    "- and we use the `.equ` directive of the assembler to make our code more readable\n"
   ]
  },
  {
   "cell_type": "code",
   "execution_count": null,
   "id": "f7c92a9b",
   "metadata": {
    "hide_input": true,
    "slideshow": {
     "slide_type": "-"
    },
    "tags": [
     "remove-input"
    ]
   },
   "outputs": [],
   "source": [
    "display(Markdown(\n",
    "'''\n",
    "A commented version that avoids \"magic\" numbers. \n",
    "'''    +\n",
    "    \n",
    "    FileCodeBox(\n",
    "    file=\"../src/exit.S\", \n",
    "    lang=\"gas\", \n",
    "    title=\"\",\n",
    "    h=\"100%\", \n",
    "    w=\"200%\"\n",
    ")))"
   ]
  }
 ],
 "metadata": {
  "celltoolbar": "Tags",
  "hide_input": true,
  "kernelspec": {
   "display_name": "Python 3 (ipykernel)",
   "language": "python",
   "name": "python3"
  },
  "language_info": {
   "codemirror_mode": {
    "name": "ipython",
    "version": 3
   },
   "file_extension": ".py",
   "mimetype": "text/x-python",
   "name": "python",
   "nbconvert_exporter": "python",
   "pygments_lexer": "ipython3",
   "version": "3.9.6"
  },
  "rise": {
   "autolaunch": false,
   "enable_chalkboard": true,
   "footer": "UC-SLS -- Lecture 8",
   "header": "Assembly: Writing some simple Assembly Programs",
   "height": "100%",
   "scroll": true,
   "start_slideshow_at": "selected",
   "theme": "black",
   "transition": "none",
   "width": "100%"
  }
 },
 "nbformat": 4,
 "nbformat_minor": 5
}
