{
 "cells": [
  {
   "cell_type": "code",
   "execution_count": null,
   "id": "0c58f6be",
   "metadata": {
    "hide_input": true,
    "slideshow": {
     "slide_type": "skip"
    },
    "tags": [
     "remove-cell"
    ]
   },
   "outputs": [],
   "source": [
    "%run -i ../python/common.py\n",
    "UC_SKIPTERMS=True\n",
    "%run -i ../python/ln_preamble.py"
   ]
  },
  {
   "cell_type": "markdown",
   "id": "28f94a21-efab-4063-833a-be8c35ad8c17",
   "metadata": {
    "slideshow": {
     "slide_type": "slide"
    }
   },
   "source": [
    "# SLS Lecture 10 : Assembly : Program Anatomy I"
   ]
  },
  {
   "cell_type": "markdown",
   "id": "57a4af36",
   "metadata": {
    "slideshow": {
     "slide_type": "slide"
    }
   },
   "source": [
    "<center>\n",
    "<img src=\"../images/ASSEMBLY-PGMII/ASSEMBLY-PGMII.002.png\">\n",
    "</center>"
   ]
  },
  {
   "cell_type": "markdown",
   "id": "7b4cfdef",
   "metadata": {
    "slideshow": {
     "slide_type": "slide"
    }
   },
   "source": [
    "<center>\n",
    "<img src=\"../images/ASSEMBLY-PGMII/ASSEMBLY-PGMII.003.png\">\n",
    "</center>"
   ]
  },
  {
   "cell_type": "markdown",
   "id": "87286d24",
   "metadata": {
    "slideshow": {
     "slide_type": "slide"
    }
   },
   "source": [
    "<center>\n",
    "<img src=\"../images/ASSEMBLY-PGMII/ASSEMBLY-PGMII.004.png\">\n",
    "</center>"
   ]
  },
  {
   "cell_type": "markdown",
   "id": "67ec0ef7",
   "metadata": {
    "slideshow": {
     "slide_type": "slide"
    }
   },
   "source": [
    "<center>\n",
    "<img src=\"../images/ASSEMBLY-PGMII/ASSEMBLY-PGMII.005.png\">\n",
    "</center>"
   ]
  },
  {
   "cell_type": "markdown",
   "id": "890cc7df",
   "metadata": {
    "slideshow": {
     "slide_type": "slide"
    }
   },
   "source": [
    "<center>\n",
    "<img src=\"../images/ASSEMBLY-PGMII/ASSEMBLY-PGMII.006.png\">\n",
    "</center>"
   ]
  },
  {
   "cell_type": "markdown",
   "id": "c04cc852",
   "metadata": {
    "slideshow": {
     "slide_type": "slide"
    }
   },
   "source": [
    "<center>\n",
    "<img src=\"../images/ASSEMBLY-PGMII/ASSEMBLY-PGMII.007.png\">\n",
    "</center>"
   ]
  },
  {
   "cell_type": "markdown",
   "id": "cea5259f",
   "metadata": {
    "slideshow": {
     "slide_type": "slide"
    }
   },
   "source": [
    "<center>\n",
    "<img src=\"../images/ASSEMBLY-PGMII/ASSEMBLY-PGMII.008.png\">\n",
    "</center>"
   ]
  },
  {
   "cell_type": "markdown",
   "id": "0fd89600",
   "metadata": {
    "slideshow": {
     "slide_type": "slide"
    }
   },
   "source": [
    "<center>\n",
    "<img src=\"../images/ASSEMBLY-PGMII/ASSEMBLY-PGMII.009.png\">\n",
    "</center>"
   ]
  },
  {
   "cell_type": "markdown",
   "id": "cd7d74e9",
   "metadata": {
    "slideshow": {
     "slide_type": "slide"
    }
   },
   "source": [
    "<center>\n",
    "<img src=\"../images/ASSEMBLY-PGMII/ASSEMBLY-PGMII.010.png\">\n",
    "</center>"
   ]
  },
  {
   "cell_type": "markdown",
   "id": "92d0ad41",
   "metadata": {
    "slideshow": {
     "slide_type": "slide"
    }
   },
   "source": [
    "<center>\n",
    "<img src=\"../images/ASSEMBLY-PGMII/ASSEMBLY-PGMII.011.png\">\n",
    "</center>"
   ]
  },
  {
   "cell_type": "markdown",
   "id": "9156ebc1",
   "metadata": {
    "slideshow": {
     "slide_type": "slide"
    }
   },
   "source": [
    "<center>\n",
    "<img src=\"../images/ASSEMBLY-PGMII/ASSEMBLY-PGMII.012.png\">\n",
    "</center>"
   ]
  },
  {
   "cell_type": "markdown",
   "id": "20a4487b",
   "metadata": {
    "slideshow": {
     "slide_type": "slide"
    }
   },
   "source": [
    "<center>\n",
    "<img src=\"../images/ASSEMBLY-PGMII/ASSEMBLY-PGMII.013.png\">\n",
    "</center>"
   ]
  },
  {
   "cell_type": "markdown",
   "id": "db0533ed",
   "metadata": {
    "slideshow": {
     "slide_type": "slide"
    }
   },
   "source": [
    "<center>\n",
    "<img src=\"../images/ASSEMBLY-PGMII/ASSEMBLY-PGMII.014.png\">\n",
    "</center>"
   ]
  },
  {
   "cell_type": "markdown",
   "id": "08129281",
   "metadata": {},
   "source": [
    "## A word about Integers\n",
    "\n",
    "- As humans we very quickly become comfortable with the idea of negative quantities\n",
    "- But what does negative and positive \"mean\" when dealing with binary vectors\n",
    "   - CPUs default support is for unsigned $n$ bit integers $0$ to $2^{n} - 1$ \n",
    "     - add, subtract, bitwise and, bitwise or, compare, etc\n",
    "   - CPUs typically have special support to for signed integers\n",
    "      - a very clever encoding \n",
    "        - \"2's Complement\" encodes a positive and negative values \n",
    "           - $-2^{n-1}$ to $2^{n-1}-1$ in $n$ bits\n",
    "        - As Assembly programmers we will need to carefully know what instructions are sensitive\n",
    "           - does NOT matter\n",
    "              - add, subtract, bitwise and bitwise or\n",
    "           - does matter\n",
    "              - operations that depend on comparison (eg less than, greater than)\n",
    "   - punt on the details of 2's complement till later\n",
    "   - we will assume signed values and focus on when it matters"
   ]
  },
  {
   "cell_type": "markdown",
   "id": "2ebb463f",
   "metadata": {
    "slideshow": {
     "slide_type": "slide"
    }
   },
   "source": [
    "<center>\n",
    "<img src=\"../images/ASSEMBLY-PGMII/ASSEMBLY-PGMII.015.png\">\n",
    "</center>"
   ]
  },
  {
   "cell_type": "markdown",
   "id": "f1056ca2",
   "metadata": {
    "slideshow": {
     "slide_type": "slide"
    }
   },
   "source": [
    "<center>\n",
    "<img src=\"../images/ASSEMBLY-PGMII/ASSEMBLY-PGMII.016.png\">\n",
    "</center>"
   ]
  },
  {
   "cell_type": "markdown",
   "id": "793d98fb",
   "metadata": {
    "slideshow": {
     "slide_type": "slide"
    }
   },
   "source": [
    "<center>\n",
    "<img src=\"../images/ASSEMBLY-PGMII/ASSEMBLY-PGMII.017.png\">\n",
    "</center>"
   ]
  },
  {
   "cell_type": "markdown",
   "id": "517c4906",
   "metadata": {
    "slideshow": {
     "slide_type": "slide"
    }
   },
   "source": [
    "<center>\n",
    "<img src=\"../images/ASSEMBLY-PGMII/ASSEMBLY-PGMII.018.png\">\n",
    "</center>"
   ]
  },
  {
   "cell_type": "markdown",
   "id": "091fb444",
   "metadata": {
    "slideshow": {
     "slide_type": "slide"
    }
   },
   "source": [
    "<center>\n",
    "<img src=\"../images/ASSEMBLY-PGMII/ASSEMBLY-PGMII.019.png\">\n",
    "</center>"
   ]
  },
  {
   "cell_type": "markdown",
   "id": "6b4467a9",
   "metadata": {
    "slideshow": {
     "slide_type": "slide"
    }
   },
   "source": [
    "<center>\n",
    "<img src=\"../images/ASSEMBLY-PGMII/ASSEMBLY-PGMII.020.png\">\n",
    "</center>"
   ]
  },
  {
   "cell_type": "markdown",
   "id": "b46103dd",
   "metadata": {
    "slideshow": {
     "slide_type": "slide"
    }
   },
   "source": [
    "<center>\n",
    "<img src=\"../images/ASSEMBLY-PGMII/ASSEMBLY-PGMII.021.png\">\n",
    "</center>"
   ]
  },
  {
   "cell_type": "markdown",
   "id": "7e349a67",
   "metadata": {
    "slideshow": {
     "slide_type": "slide"
    }
   },
   "source": [
    "<center>\n",
    "<img src=\"../images/ASSEMBLY-PGMII/ASSEMBLY-PGMII.022.png\">\n",
    "</center>"
   ]
  },
  {
   "cell_type": "markdown",
   "id": "7cc6462c",
   "metadata": {
    "slideshow": {
     "slide_type": "slide"
    }
   },
   "source": [
    "<center>\n",
    "<img src=\"../images/ASSEMBLY-PGMII/ASSEMBLY-PGMII.023.png\">\n",
    "</center>"
   ]
  },
  {
   "cell_type": "markdown",
   "id": "49299ee1",
   "metadata": {
    "slideshow": {
     "slide_type": "slide"
    }
   },
   "source": [
    "<center>\n",
    "<img src=\"../images/ASSEMBLY-PGMII/ASSEMBLY-PGMII.024.png\">\n",
    "</center>"
   ]
  },
  {
   "cell_type": "markdown",
   "id": "0f51f3ed",
   "metadata": {
    "slideshow": {
     "slide_type": "slide"
    }
   },
   "source": [
    "<center>\n",
    "<img src=\"../images/ASSEMBLY-PGMII/ASSEMBLY-PGMII.025.png\">\n",
    "</center>"
   ]
  },
  {
   "cell_type": "markdown",
   "id": "7ef0c840",
   "metadata": {
    "slideshow": {
     "slide_type": "slide"
    }
   },
   "source": [
    "<center>\n",
    "<img src=\"../images/ASSEMBLY-PGMII/ASSEMBLY-PGMII.026.png\">\n",
    "</center>"
   ]
  },
  {
   "cell_type": "markdown",
   "id": "72606b87",
   "metadata": {
    "slideshow": {
     "slide_type": "slide"
    }
   },
   "source": [
    "<center>\n",
    "<img src=\"../images/ASSEMBLY-PGMII/ASSEMBLY-PGMII.027.png\">\n",
    "</center>"
   ]
  },
  {
   "cell_type": "markdown",
   "id": "15125f36",
   "metadata": {
    "slideshow": {
     "slide_type": "slide"
    }
   },
   "source": [
    "<center>\n",
    "<img src=\"../images/ASSEMBLY-PGMII/ASSEMBLY-PGMII.028.png\">\n",
    "</center>"
   ]
  },
  {
   "cell_type": "markdown",
   "id": "4f6fd9f9",
   "metadata": {
    "slideshow": {
     "slide_type": "slide"
    }
   },
   "source": [
    "<center>\n",
    "<img src=\"../images/ASSEMBLY-PGMII/ASSEMBLY-PGMII.029.png\">\n",
    "</center>"
   ]
  },
  {
   "cell_type": "markdown",
   "id": "fa7fcb29",
   "metadata": {
    "slideshow": {
     "slide_type": "slide"
    }
   },
   "source": [
    "<center>\n",
    "<img src=\"../images/ASSEMBLY-PGMII/ASSEMBLY-PGMII.030.png\">\n",
    "</center>"
   ]
  },
  {
   "cell_type": "markdown",
   "id": "b8fcca73",
   "metadata": {
    "slideshow": {
     "slide_type": "slide"
    }
   },
   "source": [
    "<center>\n",
    "<img src=\"../images/ASSEMBLY-PGMII/ASSEMBLY-PGMII.031.png\">\n",
    "</center>"
   ]
  },
  {
   "cell_type": "markdown",
   "id": "1168b266",
   "metadata": {
    "slideshow": {
     "slide_type": "slide"
    }
   },
   "source": [
    "<center>\n",
    "<img src=\"../images/ASSEMBLY-PGMII/ASSEMBLY-PGMII.032.png\">\n",
    "</center>"
   ]
  },
  {
   "cell_type": "markdown",
   "id": "73b9e76e",
   "metadata": {
    "slideshow": {
     "slide_type": "slide"
    }
   },
   "source": [
    "<center>\n",
    "<img src=\"../images/ASSEMBLY-PGMII/ASSEMBLY-PGMII.033.png\">\n",
    "</center>"
   ]
  },
  {
   "cell_type": "markdown",
   "id": "7614ed43",
   "metadata": {
    "slideshow": {
     "slide_type": "slide"
    }
   },
   "source": [
    "<center>\n",
    "<img src=\"../images/ASSEMBLY-PGMII/ASSEMBLY-PGMII.034.png\">\n",
    "</center>"
   ]
  },
  {
   "cell_type": "markdown",
   "id": "5979017a",
   "metadata": {
    "slideshow": {
     "slide_type": "slide"
    }
   },
   "source": [
    "<center>\n",
    "<img src=\"../images/ASSEMBLY-PGMII/ASSEMBLY-PGMII.035.png\">\n",
    "</center>"
   ]
  },
  {
   "cell_type": "markdown",
   "id": "923579cc",
   "metadata": {
    "slideshow": {
     "slide_type": "slide"
    }
   },
   "source": [
    "<center>\n",
    "<img src=\"../images/ASSEMBLY-PGMII/ASSEMBLY-PGMII.036.png\">\n",
    "</center>"
   ]
  },
  {
   "cell_type": "markdown",
   "id": "a5b979e2",
   "metadata": {
    "slideshow": {
     "slide_type": "slide"
    }
   },
   "source": [
    "<center>\n",
    "<img src=\"../images/ASSEMBLY-PGMII/ASSEMBLY-PGMII.037.png\">\n",
    "</center>"
   ]
  },
  {
   "cell_type": "markdown",
   "id": "5d4ba1f6",
   "metadata": {
    "slideshow": {
     "slide_type": "slide"
    }
   },
   "source": [
    "<center>\n",
    "<img src=\"../images/ASSEMBLY-PGMII/ASSEMBLY-PGMII.038.png\">\n",
    "</center>"
   ]
  },
  {
   "cell_type": "markdown",
   "id": "7bc2acc9",
   "metadata": {
    "slideshow": {
     "slide_type": "slide"
    }
   },
   "source": [
    "<center>\n",
    "<img src=\"../images/ASSEMBLY-PGMII/ASSEMBLY-PGMII.039.png\">\n",
    "</center>"
   ]
  },
  {
   "cell_type": "markdown",
   "id": "29707876",
   "metadata": {
    "slideshow": {
     "slide_type": "slide"
    }
   },
   "source": [
    "<center>\n",
    "<img src=\"../images/ASSEMBLY-PGMII/ASSEMBLY-PGMII.040.png\">\n",
    "</center>"
   ]
  },
  {
   "cell_type": "markdown",
   "id": "3cd79a15",
   "metadata": {
    "slideshow": {
     "slide_type": "slide"
    }
   },
   "source": [
    "<center>\n",
    "<img src=\"../images/ASSEMBLY-PGMII/ASSEMBLY-PGMII.041.png\">\n",
    "</center>"
   ]
  },
  {
   "cell_type": "markdown",
   "id": "55beb599",
   "metadata": {
    "slideshow": {
     "slide_type": "slide"
    }
   },
   "source": [
    "<center>\n",
    "<img src=\"../images/ASSEMBLY-PGMII/ASSEMBLY-PGMII.042.png\">\n",
    "</center>"
   ]
  },
  {
   "cell_type": "markdown",
   "id": "d9d19a3c",
   "metadata": {
    "slideshow": {
     "slide_type": "slide"
    }
   },
   "source": [
    "<center>\n",
    "<img src=\"../images/ASSEMBLY-PGMII/ASSEMBLY-PGMII.043.png\">\n",
    "</center>"
   ]
  },
  {
   "cell_type": "markdown",
   "id": "6de3de48",
   "metadata": {
    "slideshow": {
     "slide_type": "slide"
    }
   },
   "source": [
    "<center>\n",
    "<img src=\"../images/ASSEMBLY-PGMII/ASSEMBLY-PGMII.044.png\">\n",
    "</center>"
   ]
  },
  {
   "cell_type": "markdown",
   "id": "7ab49104",
   "metadata": {
    "slideshow": {
     "slide_type": "slide"
    }
   },
   "source": [
    "<center>\n",
    "<img src=\"../images/ASSEMBLY-PGMII/ASSEMBLY-PGMII.045.png\">\n",
    "</center>"
   ]
  },
  {
   "cell_type": "markdown",
   "id": "dda21425",
   "metadata": {
    "slideshow": {
     "slide_type": "slide"
    }
   },
   "source": [
    "<center>\n",
    "<img src=\"../images/ASSEMBLY-PGMII/ASSEMBLY-PGMII.046.png\">\n",
    "</center>"
   ]
  },
  {
   "cell_type": "markdown",
   "id": "27a4c6ee",
   "metadata": {
    "slideshow": {
     "slide_type": "slide"
    }
   },
   "source": [
    "## Assembly Instruction statement syntax\n",
    "\n",
    "```gas\n",
    "[label:] mnemonic [operands][ ; comment ]\n",
    "```\n",
    "\n",
    "Anything in square brackets is optional depending on the mnemonic.\n",
    "\n",
    "\n",
    "The following are the four types of Intel instructions\n",
    "\n",
    "1. `mnemonic` - alone no explicitly defined operands\n",
    "2. `mnemonic <destination>` - a single operand \n",
    "   - which is the destination ... where the result will be stored\n",
    "3. `mnemonic <destination>, <source>` - two operands \n",
    "  - one that names a source location for input\n",
    "  - and one that is the destination\n",
    "4. `mnemonic <destination>, <source A>, <source B>` - three operands\n",
    "   - two that name input sources \n",
    "   - and one that names the destination "
   ]
  },
  {
   "cell_type": "markdown",
   "id": "555517b3",
   "metadata": {
    "slideshow": {
     "slide_type": "slide"
    }
   },
   "source": [
    "### Sources and destinations (3.7 OPERAND ADDRESSING)\n",
    "Sources and destinations name both a location of a value and its length.\n",
    "\n",
    "-Eg. `2` bytes at Address `0x10000` is the operand for the instruction"
   ]
  },
  {
   "cell_type": "markdown",
   "id": "177a3855",
   "metadata": {
    "slideshow": {
     "slide_type": "slide"
    }
   },
   "source": [
    "## Addressing Modes\n",
    "- lets look more closely now at the address mode by carefully studying the `mov` instruction \n",
    "  - add all the ways that we can specify its `operands`\n",
    "  \n",
    "```\n",
    "      mov <destination>, <source>\n",
    "```\n",
    "\n",
    "`<destination>` and `<source>` are the operands and the `mov` is the mnemonic of instruction we want to encode.\n"
   ]
  },
  {
   "cell_type": "markdown",
   "id": "d4a12731",
   "metadata": {
    "slideshow": {
     "slide_type": "slide"
    }
   },
   "source": [
    "### `mov`\n",
    "\n",
    "Overwrite the `<destination>` with a copy of what is in the `<source>`\n",
    "- note the value that was in `<destination>` is **over-written**\n",
    "  - its \"gone\"\n",
    "- the `<source>` still has its version \n",
    "\n",
    "This is actually more like copy than move!\n",
    "\n",
    "From a high level programming perspective it is like an assignment statement\n",
    "\n",
    "```x = y;```\n"
   ]
  },
  {
   "cell_type": "markdown",
   "id": "414da92a",
   "metadata": {
    "slideshow": {
     "slide_type": "slide"
    }
   },
   "source": [
    "### destinations and sources\n",
    "\n",
    "Here are the various times of locations that can be a source or destination\n",
    "\n",
    "1. Register  (reg) -- one of the processor's registers\n",
    "2. Memory    (mem) -- an address of an arbitrary memory location\n",
    "3. Immediate (imm) -- a special type of Memory location where the value is in the bytes following the opcode\n",
    "     - You can only use Immediates as a source\n",
    "\n",
    "Here is the valid combinations that you can have\n",
    "\n",
    "- `mov <reg>, <reg>`\n",
    "- `mov <reg>, <mem>`\n",
    "- `mov <mem>, <reg>`\n",
    "- `mov <reg>, <imm>`\n",
    "\n",
    "What is missing?"
   ]
  },
  {
   "cell_type": "markdown",
   "id": "bcf4f492",
   "metadata": {
    "slideshow": {
     "slide_type": "slide"
    }
   },
   "source": [
    "#### Sizes\n",
    "\n",
    "- Register names specify size of location\n",
    "  - The rules for mixing is a little subtle (eg moving from a smaller to larger register)\n",
    "- Immediate generally are 1,2,4 bytes in size\n",
    "- We will see memory syntax next"
   ]
  },
  {
   "cell_type": "markdown",
   "id": "4c8734ee",
   "metadata": {
    "slideshow": {
     "slide_type": "slide"
    }
   },
   "source": [
    "#### Specifying memory locations is subtle -- Effective Address\n",
    "\n",
    "\n",
    "See the slide on line slide for details from the Intel Manual -- \"Specifying an Offset\"\n",
    "\n",
    "- Most general form \n",
    "$$ EA={Base}_{reg} + ({Index}_{reg} * {Scale}) + {Displacement} $$\n",
    "where\n",
    "- $Scale = \\{1,2,5,8\\}$ \n",
    "- ${Displacement}$ is 8-bit, 16-bit, or 32-bit value\n",
    "- ${Base}_{reg}$ and ${Index}_{reg}$ are the value in a 64-bit general-purpose register.\n",
    "\n",
    "The components can be mixed and matched to make it easier to work with arrays and data structures of various kinds located in memory.  \n",
    "\n",
    "There are several version of syntax for these combinations"
   ]
  },
  {
   "cell_type": "markdown",
   "id": "a5b50787",
   "metadata": {
    "slideshow": {
     "slide_type": "notes"
    }
   },
   "source": [
    "#### Specifying and offset/address to be used to locate the operand value\n",
    "\n",
    "- A lot of the subtly and confusion come from how we work with memory locations \n",
    "  - Effective address\n",
    "     1. static location: \n",
    "       - \" Displacement: A displacement alone represents a direct (uncomputed) offset to the operand. Because the displacement is encoded in the instruction, this form of an address is sometimes called an absolute or static address. It is commonly used to access a statically allocated scalar operand.\n",
    "     2. dynamic location:\n",
    "       - \"Base: A base alone represents an indirect offset to the operand. Since the value in the base register can change, it can be used for dynamic storage of variables and data structures.\"\n",
    "     3. dynamic + static\n",
    "     \"Base + Displacement: A base register and a displacement can be used together for two distinct purposes:\n",
    "          - As an index into an array when the element size is not 2, 4, or 8 bytes \n",
    "            - The displacement component encodes the static offset to the beginning of the array.\n",
    "            - The base register holds the results of a calculation to determine the offset to a specific element within the array.\n",
    "          - To access a field of a record: \n",
    "             - the base register holds the address of the beginning of the record,\n",
    "             - while the displacement is a static offset to the field.\"\n",
    "             - this form is really useful for stack frame records (rbp base) -- more later on this\n",
    "     4. \"(Index * Scale) + Displacement : This address mode offers an efficient way to index into a static array when the element size is 2, 4, or 8 bytes. The displacement locates the beginning of the array, the index register holds the subscript of the desired array element, and the processor automatically converts the subscript into an index by applying the scaling factor.\"\n",
    "     5. \"Base + Index + Displacement : Using two registers together supports either \n",
    "       - a two-dimensional array (the displacement holds the address of the beginning of the array) or \n",
    "       - one of several instances of an array of records (the displacement is an offset to a field within the record).\"\n",
    "     6. \"Base + (Index * Scale) + Displacement : Using all the addressing components together allows efficient indexing of a two-dimensional array when the elements of the array are 2, 4, or 8 bytes in size.\"\n",
    "     7. PC Relative: \"RIP + Displacement : In 64-bit mode, RIP-relative addressing uses a signed 32-bit displacement to calculate the effective address of the next instruction by sign-extend the 32-bit value and add to the 64-bit value in RIP.\"\n",
    "         "
   ]
  },
  {
   "cell_type": "markdown",
   "id": "4cb93a7d",
   "metadata": {
    "slideshow": {
     "slide_type": "slide"
    }
   },
   "source": [
    "### Intel Syntax examples\n",
    "\n",
    "- `PTR <BYTE|WORD|DWORD|QWORD> [displacement]` where `displacement` is either a number of symbol\n",
    "  - the assembler will often let you skip the `PTR <TYPE>` if it can figure it out\n",
    "    - but I think it is safer to be verbose\n",
    "  - the assembler will let you skip the `[]` if you are using a label\n",
    "    - but again I think it is more clear that you mean that value at the label\n",
    "- `OFFSET [symbol]` can be used as a source if you want to use the address of the symbol itself as a number\n",
    "- `PTR <BYTE|WORD|DWORD|QWORD> [RegBase + displacement]`\n",
    "- `PTR <BYTE|WORD|DWORD|QWORD> [RegIdx * scale + displacement]`\n",
    "- `PTR <BYTE|WORD|DWORD|QWORD> [RegBase + RegIdx * scale + displacement]`"
   ]
  },
  {
   "cell_type": "markdown",
   "id": "fe6b789a",
   "metadata": {
    "slideshow": {
     "slide_type": "slide"
    }
   },
   "source": [
    "## `sumit.S` and `usesumit.S`\n",
    "### Setup"
   ]
  },
  {
   "cell_type": "code",
   "execution_count": null,
   "id": "c73f8535",
   "metadata": {
    "hide_input": true,
    "slideshow": {
     "slide_type": "slide"
    },
    "tags": [
     "remove-input"
    ]
   },
   "outputs": [],
   "source": [
    "# setup for mov example\n",
    "appdir=os.getenv('HOME')\n",
    "appdir=appdir + \"/sum\"\n",
    "#print(movdir)\n",
    "output=runTermCmd(\"[[ -d \" + appdir + \" ]] &&  rm -rf \"+ appdir + \n",
    "             \";mkdir \" + appdir + \n",
    "             \";cp ../src/Makefile ../src/10num.txt ../src/setup.gdb \" + appdir)\n",
    "#TermShellCmd(\"ls\", cwd=movdir)\n",
    "display(Markdown('''\n",
    "- create a directory `mkdir sum; cd sum`\n",
    "- create and write  `sumit.S` and `usesumit.S` see below\n",
    "- add a `Makefile` to automate assembling and linking\n",
    "    - we are going run the commands by hand this time to highlight the details\n",
    "- add our `setup.gdb` to make working in gdb easier\n",
    "- normally you would want to track everything in git\n",
    "'''))"
   ]
  },
  {
   "cell_type": "markdown",
   "id": "5b5189f7",
   "metadata": {
    "slideshow": {
     "slide_type": "slide"
    }
   },
   "source": [
    "### Lets try and write a reusable routine \n",
    "\n",
    "\n",
    "- lets assume that we have a symbol `XARRAY` that is the address of the data\n",
    "- lets assume to use our routine you need to pass the length of the array \n",
    "   - len in `rbx`\n",
    "- let put the result in `rax`\n",
    "\n",
    "Think about our objective in these terms\n",
    "\n",
    "$$ rax = \\sum_{i=0}^{rbx} XARRAY[rdi]  $$\n",
    "\n",
    "right?\n",
    "\n",
    "Ok remember the tricky part is realizing that it is up to us to implement \n",
    "the idea of an array.  \n",
    "  - it is a data structure that we need to keep straight our head"
   ]
  },
  {
   "cell_type": "code",
   "execution_count": null,
   "id": "80a593cd",
   "metadata": {
    "hide_input": true,
    "slideshow": {
     "slide_type": "notes"
    },
    "tags": [
     "remove-input"
    ]
   },
   "outputs": [],
   "source": [
    "display(Markdown(FileCodeBox(\n",
    "    file=\"../src/sumit.S\", \n",
    "    lang=\"gas\", \n",
    "    title=\"<b>CODE: asm - sumit.S\",\n",
    "    h=\"100%\", \n",
    "    w=\"107em\"\n",
    ")))"
   ]
  },
  {
   "cell_type": "markdown",
   "id": "d0c85d69",
   "metadata": {},
   "source": [
    "#### To assemble `sumit.S` into `sumit.o`"
   ]
  },
  {
   "cell_type": "code",
   "execution_count": null,
   "id": "ab8c4dfa",
   "metadata": {
    "tags": [
     "remove-input"
    ]
   },
   "outputs": [],
   "source": [
    "\n",
    "TermShellCmd(\"[[ -a sumit.o ]] && rm sumit.o; make sumit.o\", cwd=\"../src\", prompt='')"
   ]
  },
  {
   "cell_type": "markdown",
   "id": "95740abb",
   "metadata": {},
   "source": [
    "### So how might we use our \"fragment\"\n",
    "\n",
    "Lets create a program that defines a `_start` routine and creates the memory locations that we can control.  \n",
    "\n",
    "\n",
    "Lets create `usesum.S`\n",
    "\n",
    "Lets assume that\n",
    "- will set aside enough memory for an maximum of 1000 values in where we set the `XARRAY` symbol\n",
    "- we will allow the length actual length of data in `XARRAY` to be specified at a location marked by  `XARRAY_LEN`.\n",
    "- we will store the result in a location marked by the symbol `sum`\n",
    "\n",
    "\n",
    "We will use our code by loading our data at XARRAY, updating XARRAY_LEN, executing the code and examining the result \n",
    "\n",
    "1.  The code should setup the memory we need\n",
    "2.  setup the registers as needed for `sumIt`\n",
    "3.  run `sumIt`\n",
    "4.  store the results at the location of `sum`\n",
    "\n"
   ]
  },
  {
   "cell_type": "code",
   "execution_count": null,
   "id": "dba09503",
   "metadata": {
    "hide_input": true,
    "slideshow": {
     "slide_type": "notes"
    },
    "tags": [
     "remove-input"
    ]
   },
   "outputs": [],
   "source": [
    "display(Markdown(FileCodeBox(\n",
    "    file=\"../src/usesum.S\", \n",
    "    lang=\"gas\", \n",
    "    title=\"<b>CODE: asm - usesum.S\",\n",
    "    h=\"100%\", \n",
    "    w=\"107em\"\n",
    ")))"
   ]
  },
  {
   "cell_type": "markdown",
   "id": "ce797fed",
   "metadata": {},
   "source": [
    "#### To assemble `usesum.S` into `usesum.o`"
   ]
  },
  {
   "cell_type": "code",
   "execution_count": null,
   "id": "db889e03",
   "metadata": {
    "slideshow": {
     "slide_type": "slide"
    },
    "tags": [
     "remove-input"
    ]
   },
   "outputs": [],
   "source": [
    "\n",
    "TermShellCmd(\"[[ -a usesum.o ]] && rm usesum.o; make usesum.o\", cwd=\"../src\", prompt='')"
   ]
  },
  {
   "cell_type": "markdown",
   "id": "cbc61e9a",
   "metadata": {},
   "source": [
    "\n",
    "#### To link `usesum.o` and `sumit.o` into an executable `usesum`"
   ]
  },
  {
   "cell_type": "code",
   "execution_count": null,
   "id": "c374ce7f",
   "metadata": {
    "tags": [
     "remove-input"
    ]
   },
   "outputs": [],
   "source": [
    "\n",
    "TermShellCmd(\"[[ -a usesum ]] && rm usesum; make usesum\", cwd=\"../src\", prompt='')"
   ]
  },
  {
   "cell_type": "markdown",
   "id": "32cc4526",
   "metadata": {
    "slideshow": {
     "slide_type": "slide"
    }
   },
   "source": [
    "### Lets make some data!\n",
    "\n",
    "Lets create an ascii file with 10 numbers and then use a tool called `ascii2binary` to convert it into 8 byte signed integers"
   ]
  },
  {
   "cell_type": "code",
   "execution_count": null,
   "id": "455565d7",
   "metadata": {
    "hide_input": true,
    "tags": [
     "remove-input"
    ]
   },
   "outputs": [],
   "source": [
    "TermShellCmd(\"[[ -a 10num.bin ]] && rm 10num.bin; make 10num.bin\", cwd=appdir, prompt='')"
   ]
  },
  {
   "cell_type": "code",
   "execution_count": null,
   "id": "ae1d8220",
   "metadata": {
    "tags": [
     "remove-input"
    ]
   },
   "outputs": [],
   "source": [
    "TermShellCmd(\"cat 10num.txt\", cwd=appdir, pretext='$ cat 10num.txt', prompt='')"
   ]
  },
  {
   "cell_type": "code",
   "execution_count": null,
   "id": "0747efbd",
   "metadata": {
    "tags": [
     "remove-input"
    ]
   },
   "outputs": [],
   "source": [
    "TermShellCmd(\"hexdump -v -C 10num.bin\", cwd=appdir, pretext='$ hexdump -C 10num.bin', prompt='')"
   ]
  },
  {
   "cell_type": "markdown",
   "id": "47d282ec",
   "metadata": {},
   "source": [
    "#### Let's  make some \"real\" data\n",
    "\n",
    "Some Unix tricks of the trade\n"
   ]
  },
  {
   "cell_type": "code",
   "execution_count": null,
   "id": "89c98441",
   "metadata": {
    "tags": [
     "remove-input"
    ]
   },
   "outputs": [],
   "source": [
    "TermShellCmd(\"[[ -a 100randomnum.bin ]] && rm 100randomnum.bin; make 100randomnum.bin\", cwd=appdir, prompt='')"
   ]
  },
  {
   "cell_type": "code",
   "execution_count": null,
   "id": "3030ff9e",
   "metadata": {
    "hide_input": false,
    "tags": [
     "remove-input"
    ]
   },
   "outputs": [],
   "source": [
    "TermShellCmd(\"hexdump -C 100randomnum.bin | head -10\", cwd=appdir, pretext=\"$ hexdump -C 100randomnum.bin | head -10\", prompt='')\n",
    "TermShellCmd(\"od -t d8 100randomnum.bin | head -10\", cwd=appdir, pretext=\"$ od -t d8 100randomnum.bin | head -10\", prompt='')"
   ]
  },
  {
   "cell_type": "markdown",
   "id": "73f6f3ca",
   "metadata": {},
   "source": [
    "### How to run `usesum` and  load data with gdb\n",
    "\n",
    "```\n",
    "gdb -tui usesum\n",
    "b _start\n",
    "run\n",
    "# restore lets us load memory from a file\n",
    "restore 100randomnum.bin binary &XARRAY\n",
    "# set the number of elements\n",
    "set *((long long *)&XARRAY_LEN) = 100\n",
    "# following the follow in xarray that is being added to our sum \n",
    "display /1 ((long long *)(&XARRAY))[$rdi]\n",
    "# now we can single step our way through our continue till we hit and int3\n",
    "```\n"
   ]
  },
  {
   "cell_type": "code",
   "execution_count": null,
   "id": "c1b4cc9a",
   "metadata": {
    "hide_input": false,
    "slideshow": {
     "slide_type": "slide"
    },
    "tags": [
     "remove-input"
    ]
   },
   "outputs": [],
   "source": [
    "display(showDT())"
   ]
  },
  {
   "cell_type": "markdown",
   "id": "9625df2d",
   "metadata": {},
   "source": [
    "## This code has a problem that we will address in the next lecture"
   ]
  }
 ],
 "metadata": {
  "celltoolbar": "Tags",
  "hide_input": true,
  "kernelspec": {
   "display_name": "Python 3 (ipykernel)",
   "language": "python",
   "name": "python3"
  },
  "language_info": {
   "codemirror_mode": {
    "name": "ipython",
    "version": 3
   },
   "file_extension": ".py",
   "mimetype": "text/x-python",
   "name": "python",
   "nbconvert_exporter": "python",
   "pygments_lexer": "ipython3",
   "version": "3.9.6"
  },
  "rise": {
   "autolaunch": false,
   "enable_chalkboard": true,
   "footer": "UC-SLS -- Lecture 10",
   "header": "Assembly: Program Anatomy I",
   "height": "100%",
   "scroll": true,
   "start_slideshow_at": "selected",
   "theme": "black",
   "transition": "none",
   "width": "100%"
  }
 },
 "nbformat": 4,
 "nbformat_minor": 5
}
