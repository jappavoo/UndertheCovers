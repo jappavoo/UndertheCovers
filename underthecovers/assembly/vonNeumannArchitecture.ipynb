{
 "cells": [
  {
   "cell_type": "markdown",
   "id": "d728d8f2-92ec-4ec3-b0b9-cfe8924dca1b",
   "metadata": {},
   "source": [
    "# The von Neumann Architecture\n",
    "\n",
    "As we saw in the [introduction](./intro.ipynb) assembly code directly maps to the native machine code of a computer.  As such the assembly instructions directly allow a programmer to use and control the basic functions of the computer in order to get the computer to do what they want.   Whether that is to search or sort an array of numbers, play a music file or some other task.   \n",
    "\n",
    "But to understand assembly programming we have to learn what the basic parts are of any computer are and how they work so we can understand what the assembly instructions allow us to do.    This is why understanding how computers and software work are one in the same as learning assembly programming. \n",
    "\n",
    "<img style=\"float: left; margin: 0px 20px 0px 0px;\" width=\"60%\" src=\"../images/src/SLS_TheMachine.svg\"> Despite the fact that there are many different manufactures of computers they all largely share a basic common structure.  We call the generic components, their organization and the way they interact the architecture of a machine.  In our case the common architecture to which most programmable computers are built around is that of the von Neumann Architecture named after [John von Neumann](https://en.wikipedia.org/wiki/John_von_Neumann).\n",
    "\n",
    "> <img style=\"margin: 5px 0px -5px 0px;\" align=\"left\" width=\"60\" src=\"../images/commentary.svg\"> <p style=\"background-color:powderblue;\"> In our journey to understand computers we will be exploring a fascinating story of human innovation and ingenuity.  This story is full of characters, such as John von Neumann, Alan Turning, Admiral Grace Hopper, Ada Love Lace, and many more, that dared to be and think differently.  Not only do we owe a great deal of gratitude to these courageous people, who often risked a lot in suggesting new ways of thinking and doing things, challenging the orthodoxy of their day, we can also draw inspiration in their diversity and bravery. Remember who you are and that your voice matters, tomorrows innovation rests on your actions!  \n",
    "\n",
    "\n",
    "\n",
    "## The Parts\n",
    "\n",
    "\n",
    "\n",
    "## The Loop -- Program Execution\n",
    "\n",
    "\n",
    "\n",
    "\n",
    "\n",
    "\n"
   ]
  },
  {
   "cell_type": "code",
   "execution_count": null,
   "id": "c8071f16-add4-436f-add3-98f694ffb43c",
   "metadata": {},
   "outputs": [],
   "source": []
  }
 ],
 "metadata": {
  "hide_input": false,
  "kernelspec": {
   "display_name": "Python 3 (ipykernel)",
   "language": "python",
   "name": "python3"
  },
  "language_info": {
   "codemirror_mode": {
    "name": "ipython",
    "version": 3
   },
   "file_extension": ".py",
   "mimetype": "text/x-python",
   "name": "python",
   "nbconvert_exporter": "python",
   "pygments_lexer": "ipython3",
   "version": "3.9.6"
  }
 },
 "nbformat": 4,
 "nbformat_minor": 5
}
