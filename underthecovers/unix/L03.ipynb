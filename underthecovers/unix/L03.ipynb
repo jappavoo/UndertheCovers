{
 "cells": [
  {
   "cell_type": "code",
   "execution_count": null,
   "id": "642818a7",
   "metadata": {
    "hide_input": true,
    "slideshow": {
     "slide_type": "skip"
    },
    "tags": [
     "remove-cell"
    ]
   },
   "outputs": [],
   "source": [
    "%run -i ../python/common.py\n",
    "%run -i ../python/ln_preamble.py"
   ]
  },
  {
   "cell_type": "markdown",
   "id": "400ae103-c0a3-4b6a-a45b-a9b9961a7a72",
   "metadata": {
    "hide_input": true,
    "slideshow": {
     "slide_type": "slide"
    }
   },
   "source": [
    "# SLS Lecture 3 : I/O, Process Control and Credentials\n",
    "\n",
    "**Running and Managing Programs (Commands)**"
   ]
  },
  {
   "cell_type": "code",
   "execution_count": null,
   "id": "ac7707ee",
   "metadata": {
    "hide_input": false,
    "slideshow": {
     "slide_type": "slide"
    },
    "tags": [
     "remove-input"
    ]
   },
   "outputs": [],
   "source": [
    "display(mkImgsAnimateBox(dir=\"../images/Processes\"))"
   ]
  },
  {
   "cell_type": "markdown",
   "id": "a7bce9fd",
   "metadata": {
    "slideshow": {
     "slide_type": "notes"
    }
   },
   "source": [
    "## Processes, Files and Streams\n",
    "\n",
    "\n",
    "- What is a process in more detail and what can it do\n",
    "  - a running program \n",
    "    - process can launch another processes\n",
    "       - bash is implemented to  start commands as process (when needed)\n",
    "       - passes command line arguments and environment variables\n",
    "  - Processes, Files and channel/stream model of I/O\n",
    "    - files and Kernel objects\n",
    "      - read, write\n",
    "      - everything is a file\n",
    "    - Streams: Processes and Files\n",
    "      - open :  attach a file as a stream\n",
    "      - file descriptors/handles : stream\n",
    "          - read and write bytes to a stream\n",
    "          - close\n",
    "          - dup\n",
    "      - standard input, standard output, standard error\n",
    "    - Shell Syntax:  \n",
    "      - `echo 'Hello world' > hello`\n",
    "      - `cat hello`\n",
    "      - `cat < ./hello`\n",
    "  - We now can understand what a pipe is\n",
    "    -  pipe file object\n",
    "      -  Process 1 stdout into pipe and Process 2 stdin from pipe\n",
    "    - Shell Syntax:\n",
    "      - 'ls -1 | wc -l' \n",
    "      - 'ls -1 | grep '^l*' | wc -l' \n",
    "      - `mknod mypipe p` and `mkfifo mypipe`\n",
    "      \n",
    "## Credentials and file permissions\n",
    "\n",
    "- Process have id's associated with them\n",
    "  - a single user id : `id`\n",
    "     - a single number that maps to a string user name (`/etc/passwd`)\n",
    "  - set of group ids \n",
    "     - user has a primary group but can be in many secondary groups\n",
    "     - each has a number that maps to a name (`/etc/group`)\n",
    "     - each group can have many users\n",
    "  - `ps auxgww` \n",
    "    - process's inherit their ids from their parent\n",
    "- Files have id's and permissions `ls -l`, `chmod`, `chown`, and `chgrp`\n",
    "  - user, group, other -> read, write, execute\n",
    "  - kernel ensures that process id's and requested operations match permissions\n",
    "\n",
    "\n",
    "- Process management\n",
    "  - `ps` - look at all processes \n",
    "  - The shell and its children\n",
    "     - `&` : foreground and background\n",
    "     - `ctrl-z`\n",
    "     - `jobs`\n",
    "  - so we know how to start process, list them how about stopping\n",
    "  - `kill` \n",
    "     - signals\n",
    "     - `ctrl-c`\n",
    "     - or without prejudice "
   ]
  },
  {
   "cell_type": "code",
   "execution_count": null,
   "id": "851f2c29",
   "metadata": {
    "hide_input": true,
    "tags": [
     "remove-cell"
    ]
   },
   "outputs": [],
   "source": [
    "display(showTerm(EDITORTERM,\"Term1\",\"100%\",\"400\"))\n",
    "display(showTerm(BUILDTERM,\"Term2\",\"100%\",\"400\"))"
   ]
  }
 ],
 "metadata": {
  "celltoolbar": "Slideshow",
  "hide_input": true,
  "kernelspec": {
   "display_name": "Python 3 (ipykernel)",
   "language": "python",
   "name": "python3"
  },
  "language_info": {
   "codemirror_mode": {
    "name": "ipython",
    "version": 3
   },
   "file_extension": ".py",
   "mimetype": "text/x-python",
   "name": "python",
   "nbconvert_exporter": "python",
   "pygments_lexer": "ipython3",
   "version": "3.9.6"
  },
  "rise": {
   "autolaunch": false,
   "enable_chalkboard": true,
   "footer": "SLS -- Lecture 3",
   "header": "Unix and Shell Part 3",
   "height": "100%",
   "scroll": true,
   "start_slideshow_at": "selected",
   "theme": "black",
   "transition": "none",
   "width": "100%"
  }
 },
 "nbformat": 4,
 "nbformat_minor": 5
}
