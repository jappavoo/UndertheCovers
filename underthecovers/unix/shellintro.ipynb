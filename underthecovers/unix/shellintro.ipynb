{
 "cells": [
  {
   "cell_type": "code",
   "execution_count": null,
   "id": "ec029c64",
   "metadata": {
    "hide_input": true,
    "jupyter": {
     "source_hidden": true
    },
    "tags": [
     "remove-cell"
    ]
   },
   "outputs": [],
   "source": [
    "%run -i ../python/common.py\n",
    "\n",
    "# cleanup any old state\n",
    "bashCmds('''[[ -d mydir ]] && rm -rf mydir\n",
    "[[ -a myfile ]] && rm myfile\n",
    "[[ -a errors ]] && rm errors \n",
    "[[ -a mydate ]] && rm mydate\n",
    "[[ -a mynewdir ]] && rm -rf mynewdir\n",
    "[[ -a anotherfile ]] && rm anotherfile\n",
    "[[ -a mybin ]] && rm -rf  mybin''')\n",
    "\n",
    "closeAllOpenTtySessions()\n",
    "bash = BashSession()\n",
    "\n",
    "generated=\"~/myfile ~/errors ~/mydate ~/mydir ~/mynewdir ~/out\"\n",
    "\n",
    "# remember to avoid something having a history entry put a space at the beginning of the line\n",
    "#bash.run(\" history\")"
   ]
  },
  {
   "cell_type": "markdown",
   "id": "1731505e",
   "metadata": {},
   "source": [
    "# The Shell - Part I: Having an ASCII conversation with the OS\n",
    "\n",
    "\n",
    "As we read in the Unix [introduction](../unix/intro.ipynb) a key feature of Unix is its command line interface that was developed for [ASCII terminals](../unix/terminal.ipynb) devices. Our goal in this chapter is to understand the general model of the shell and how to start working in the terminal environment.  If you have not done so be sure to have read the sections on the Unix [Kernel](../unix/intro.ipynb#UnixKernel_sec), [User Programs](../unix/intro.ipynb#UnixUser_sec), how we [visualize a running Unix system](../unix/intro.ipynb#UnixViz_sec), the introduction to [Terminal Emulators](../unix/terminal.ipynb#TerminalEmulators_sec) and the chapter introducing [Files and Directories](../unix/files.ipynb).\n",
    "\n",
    "```{tip}\n",
    "It is a good idea to read this chapter with a terminal connection open so that you can explore the material as you read it.  Instructions and guidance on how to do this can be found in [Terminal Emulators](../unix/terminal.ipynb#TerminalEmulators_sec).\n",
    "```"
   ]
  },
  {
   "cell_type": "markdown",
   "id": "adb5c6d1",
   "metadata": {},
   "source": [
    "## Our interface to the Kernel\n",
    "\n",
    "As discussed the core functionality of the Unix operating system is implemented by the Kernel. However, the Kernel does not have any support for humans to directly interact with it. The primary responsibility of the kernel is to provide utilities that simplify the writing and running of application/user programs. This is where the shell comes in. The shell acts as our primary point of contact/interface, not only to the kernel, but also to all other installed programs.\n",
    "\n",
    "\n",
    "### System calls\n",
    "\n",
    "<img  src=\"../images/syscalls.png\">\n",
    "\n",
    "The UNIX kernel provides a large set of functions that can be called by a running program.  Remember, on UNIX we call a running program a \"process\". The kernel functions that a process can request are called \"system calls\". In the next part of this book, we will look in more detail at how a process can issue a request for the kernel to execute a system call.  For the moment, it is sufficient to know that each system call, which we identify by names, can only be requested by an already running program. When a process makes a request to execute a system call, it can pass arguments to the system call. Similarly, on completion of the system call the kernel can return values back to the process. Operating system kernels can provide hundreds of system calls. In the diagram to the left, the white labeled boxes within the kernel oval illustrate a small subset of important UNIX kernel system calls. \n",
    "\n",
    "The UNIX kernel, through its system calls, provides the ability for a process to:\n",
    "1. create and manage files and directories,\n",
    "2. create and manage other processes, \n",
    "3. manage and work with Input and Output devices\n",
    "4. communicate between processes, both on the same computer and across computers\n",
    "\n",
    "<img style=\"float: right; margin: 0em 0em 0px 0px;\" width=\"50%\" src=\"../images/shellsystemcalls2.png\">\n",
    "A core job of the shell is to be the first running process a human user of a computer can use to interact with the kernel to get things done.  In other words, a shell has been built to let a human make use of the Operating System kernel, which itself has been written to help us make use of the computer hardware.  It does this by: 1) accepting human oriented commands from a user, 2) executing kernel system calls to get the work of the commands done, and 3) sending a response back.  The shell includes the ability to locate other executable programs and launch new processes from them.    \n",
    "\n",
    "The graphical human-computer interfaces that we use on our smart phones, laptops and desktop computers are designed to utilize touch or pointing devices (like a mouse). These interfaces allow us to find and launch programs, open files, and navigate the computer to do our daily work.  The primary goal of such interfaces is ease of use.  The shell, however, is text based, and is designed with programmers in mind.  Specifically, its syntax and commands are designed in such a way that they form an \"extensible\" programming language.  Here, extensible refers to the ability for users to add to and extend it with ease. This language allows a human user to not only use the facilities of the kernel, but also to automate their daily tasks, and efficiently conduct the various forms of data processing programmers often do. "
   ]
  },
  {
   "cell_type": "markdown",
   "id": "e0492d90",
   "metadata": {},
   "source": [
    "## Bash\n",
    "Over the years, there have been many variants of the shell program that have been developed not only for Unix, but other operating systems as well (see [comparison of shells](https://en.wikipedia.org/wiki/Comparison_of_command_shells).   While there are differences between the various Unix shell programs, the basic model of interaction we cover in this chapter is largely the same across all of them.   However, for a more detailed exploration of the shell and its syntax, we will be specifically focusing on the [Bourne Again Shell (BASH)](https://en.wikipedia.org/wiki/Bash_(Unix_shell)), as it is the default shell for Linux - the version of Unix we use through out this book.\n",
    "\n",
    "### Documentation and manuals\n",
    "\n",
    "### man bash\n",
    "It is a Unix tradition that programs installed on the system, like Bash, include documentation on how they are used.  To access the manual pages you use the `man` program eg. `man man` would bring up the documentation about the manual itself.  So `man bash` will bring up the manual page for the bash shell.  You can find detailed coverage of the functionality and syntax of bash in the manual.  After we cover some basics it will be much easier to read and understand the Bash manual page, as it assumes that you understand some basic UNIX and generic shell concepts.  "
   ]
  },
  {
   "cell_type": "code",
   "execution_count": null,
   "id": "76167654-806b-4c43-94eb-f427cbd66a73",
   "metadata": {
    "jupyter": {
     "source_hidden": true
    },
    "tags": [
     "remove-input",
     "output_scroll"
    ]
   },
   "outputs": [],
   "source": [
    "bash.run(\"man bash\", height='20em')"
   ]
  },
  {
   "cell_type": "markdown",
   "id": "a514712b-bd38-4263-b4c7-030ce040102a",
   "metadata": {},
   "source": [
    "<img src=\"../images/bashinfoalone.png\" style=\"margin: auto 1em auto auto\" width=\"30%\" align=\"left\">\n",
    "\n",
    "#### info bash\n",
    "\n",
    "Another really useful way to read and navigate UNIX documentation and manuals is the [info](https://en.wikipedia.org/wiki/Info_(Unix)) documentation system.  Try `info info` to learn about how to use it.  The advantage of the info system is that it provides a more friendly book like experience compared to the `man` command.  To read the info version of the `bash` documentation try `info bash`.  To exit from info press the `q` key for quit."
   ]
  },
  {
   "cell_type": "markdown",
   "id": "2c589d43-c630-4112-aa58-f19a736ab408",
   "metadata": {},
   "source": [
    "#### bash builtin `help` \n",
    "\n",
    "Finally, there is a built in help command to bash that we will be using through out this chapter as well."
   ]
  },
  {
   "cell_type": "code",
   "execution_count": null,
   "id": "cbf7bc0e-7350-4d49-ab26-c655c357fb43",
   "metadata": {
    "jupyter": {
     "source_hidden": true
    },
    "tags": [
     "remove-input",
     "output_scroll"
    ]
   },
   "outputs": [],
   "source": [
    "bash.run(\"help\", height=\"15em\")"
   ]
  },
  {
   "cell_type": "markdown",
   "id": "b4ef1e23",
   "metadata": {
    "tags": [
     "remove-input"
    ]
   },
   "source": [
    "## Shell Session\n",
    "Keeping in mind that that ASCII terminals were the original devices created for humans to interactively work with computers, the shell is designed to provide a managed environment for communication with a human at a terminal. Thus, the human and the shell are really exchanging bytes of information, encoded in ASCII.  For every new terminal connection, software directs the kernel to start an instance of a shell program to interact with a user at that terminal.  We consider this to be the start of a shell \"session\".  The session ends when either the communication between the shell and the terminal is disconnected, or because the user purposefully exits the shell.  \n",
    "\n",
    "\n",
    "### Terminal Windows and the Shell\n",
    "Today, of course, we rarely use physical terminals anymore.  Rather, on our physical client computers (eg. laptops, desktops, tablets, etc) we can start many terminal emulator windows to establish a shell session for each (see below). Each session will stay active until we exit or close the session and kill the associated shell.  Since each window is connected to its own shell, they represent independent \"conversations\" in which we can do different things concurrently."
   ]
  },
  {
   "cell_type": "code",
   "execution_count": null,
   "id": "ec768f59",
   "metadata": {
    "hide_input": true,
    "jupyter": {
     "source_hidden": true
    },
    "tags": [
     "remove-input"
    ]
   },
   "outputs": [],
   "source": [
    "display(HTML(htmlFig(\n",
    "    [[\n",
    "        {'src':\"../images/UnixL01_SHCHT/041SHLLChat.png\",\n",
    "         'cellwidth': '47.5%',\n",
    "         'bgcolor' : 'white'\n",
    "        },\n",
    "        {'src':\"../images/terminalwins.png\",\n",
    "         'cellwidth': '52%',\n",
    "         'bgcolor': 'white'\n",
    "        }\n",
    "     ]],\n",
    "    caption=\"Figure: Today terminal emulators running on our desktop act act as ASCII terminals. Every new window is a new terminal connection.\"\n",
    ")))"
   ]
  },
  {
   "cell_type": "markdown",
   "id": "5ce39083-3bcd-4b52-8ea1-077ce84dcdbc",
   "metadata": {},
   "source": [
    "The important thing is we don't need to do anything special, simply connecting to the UNIX system via a terminal starts a shell for us to interact with.  "
   ]
  },
  {
   "cell_type": "markdown",
   "id": "5709ee4c",
   "metadata": {},
   "source": [
    "\n",
    "    \n",
    "```{tip}\n",
    "While you are learning how to work with bash it can be really useful to keep a terminal open in which you keep the `info` page for bash open while you use another terminal shell session to do your exploring.\n",
    "\n",
    "<img src=\"../images/screenshot-bash-info.png\">\n",
    "\n",
    "```\n",
    "    "
   ]
  },
  {
   "cell_type": "markdown",
   "id": "da0120ce-b883-4cc8-b73a-29d9d393774e",
   "metadata": {},
   "source": [
    "## Line oriented conversation\n",
    "\n",
    "<img style=\"background:white; float: left; margin: 0px 10px 0px 0px;\" width=\"30%\" src=\"../images/shellloopcartoon.png\">\n",
    "The way we interact with the shell can be thought of as a structured, interactive, \"conversation\". The conversation is a series of back and forth exchanges. We, the user, type in a request in the form of a \"command line\". In response, the shell takes some actions, and generates a particular response, as byte values, which are sent back to the terminal.  The terminal translates the response byte values into ASCII characters, displaying/printing the appropriate images of the ascii characters to the screen for the user to read.   \n",
    "\n",
    "### Lines\n",
    "\n",
    "Given our use of ASCII encoding, the definition of a \"line\", in Unix, is very precise. It is a series of byte values terminated by a single 'new-line/line-feed' value.  Using an ASCII  table, we see that the byte value for the new-line character is `0b10000010` in binary, or expressed more concisely in hex as `0xA`. The common shorthand notation for the newline byte value is `\\n`.  Pressing the *return*  or *enter* key, depending on your keyboard, within a terminal window will generate this value.   We will simply refer to the key that generates a '\\n' as the *enter* key.  \n",
    "\n",
    "When `\\n` is received by the shell, it will begin working on processing the line as a command.  In this way, we say the shell is \"line oriented\".  If the user presses `\\n` with no other preceding characters, it is considered a blank or empty line.  \n",
    "\n",
    "In the other direction, the terminal emulator is configured to take the appropriate action when it receives a `\\n`.  That is to say, it moves the cursor to the next lower position in the window (scrolling if configured to do so) and moves it to the left edge of the new line (again, scrolling the window if configured to do so)."
   ]
  },
  {
   "cell_type": "markdown",
   "id": "2ac2676a-e719-4532-855d-bc6a16c443b8",
   "metadata": {},
   "source": [
    "```{tip}\n",
    "There are two basic modes that the UNIX kernel can use when delivering bytes sent from the terminal connection to the program running on the connection; character and line. In character mode, the bytes of data from the terminal are sent along to the running program as soon as they are received, including the `\\n`.  In line (or buffered) mode, the kernel stores up the characters to be sent until a `\\n` is received, at which point it sends the complete line with the `\\n` to the running program. Line mode is typically the default. In the context of our discussion of the shell, this mode setting is not very relevant, as the shell's behavior is largely unchanged by this setting. Since the shell is a line-oriented program, it is designed to process whole lines at a time - regardless of whether the line was recieved in its entirety, or chatacter by character. However, it is good to keep this distinction in mind to avoid confusion when we are writing programs that are not line-oriented, and therefore expect to recieve characters as soon as the keys are pressed by the user.  \n",
    "```\n",
    "### The Prompt\n",
    "\n",
    "<img style=\"float: right; margin: 0px 0px 0px 10px;\" width=\"50%\" src=\"../images/UnixL01_SHCHT/04SHLLChat.png\">\n",
    "We now know that our interaction with the shell largely resembles a conversation, and similar to a conversation, we need some way to determine that the other party is ready to listen. The \"prompt string,\" or simply, the \"prompt,\" is the shell's way of visually telling us it is ready to talk. The prompt is a configurable sequence of characters, beginning on a new line, indicating to us that the shell is ready to recieve a line. When a new connection is established, it sends the prompt to the terminal so that we know that it is ready for the session/conversation to begin.  The classic prompt string is often either the dollar symbol, `$` or greater than sign `>` followed by a single space character.  In our illustrations, and in the default configuration we use, the prompt is set to be the classic dollar sign followed by a space.\n",
    "    \n",
    "```{tip}\n",
    "Today, most systems default to much more complicated prompt strings, where the prompt might state your user name, the date or time, what your current working directory is, etc.   Later, when we learn about shell variables, we will find that there is a special variable, `PS1`, whose value is used to generate the prompt string every time the shell wants to send it.  Given that every terminal session/window is connected to separate shells it can be very useful to set each with a unique prompt to help keep you organized eg. `export PS1='Term 1> '`.\n",
    "If you are interested in the details use the following `man bash` to pull up the manual page for bash and look for the section called \"Prompting\".\n",
    "```"
   ]
  },
  {
   "cell_type": "markdown",
   "id": "20dd9987",
   "metadata": {},
   "source": [
    "## Our first shell session\n",
    "\n",
    "Before we more formally explain the operation of the shell lets poke it and see how it behaves.\n",
    "Perhaps the simplest thing we can do is send it an empty line by pressing *enter* on its own.\n",
    "What we should find is that the terminal will move to the next line and display the prompt again. \n",
    "But we want to be a little more careful to think about what happened behind the scenes so that we can build a more complete model in our mind about how the shell and terminal interactions work."
   ]
  },
  {
   "cell_type": "code",
   "execution_count": null,
   "id": "bdb1e575",
   "metadata": {
    "hide_input": true,
    "jupyter": {
     "source_hidden": true
    },
    "tags": [
     "remove-input"
    ]
   },
   "outputs": [],
   "source": [
    "display(HTML(htmlFig(\n",
    "    [\n",
    "        [\n",
    "            {'src':\"../images/UnixL01_SHCHT/06SHLLChat.png\",\n",
    "             'caption':'A: Press Enter', \n",
    "             'border': '1px solid black',\n",
    "             'padding':'1px',\n",
    "             'bgcolor': 'white',\n",
    "             'cellwidth':'33.33%'\n",
    "            },\n",
    "            {'src':\"../images/UnixL01_SHCHT/07SHLLChat.png\",\n",
    "             'caption':'B: Shell \"blank line\" input processing' , \n",
    "             'border': '1px solid black',\n",
    "             'padding':'1px',\n",
    "             'bgcolor': 'white',\n",
    "             'cellwidth':'33.33%'\n",
    "            },\n",
    "            {'src':\"../images/UnixL01_SHCHT/08SHLLChat.png\",\n",
    "             'caption':'C: Shell sends Prompt back', \n",
    "             'border': '1px solid black',\n",
    "             'padding':'1px',\n",
    "             'bgcolor': 'white',\n",
    "             'cellwidth':'33.33%'\n",
    "            },\n",
    "        ]\n",
    "    ],\n",
    "    id=\"fig:shell-blankline\",\n",
    "    caption=\"<center> Figure: Shell blank line behavior </center>\"\n",
    ")))"
   ]
  },
  {
   "cell_type": "markdown",
   "id": "3f7daaf8",
   "metadata": {
    "hide_input": true
   },
   "source": [
    "What happened after we pressed and release the *enter* key? The terminal sent through the Unix kernel a byte to the instance of the shell program that our terminal is virtually connected too.  Precisely, it sent the binary pattern `0b10000010` or in hex `0xa` as the left most sub-figure (A) illustrates.  The [figure](#fig:shell-blankline) show both the `\\n` human readable ASCII symbol and the underlying byte value.  In other diagrams we might stop showing the byte values and only show the ASCII human readable symbol.  It is, however, important to remember that under the covers the terminal and shell are really just exchanging raw binary values that use the ASCII standard to encode the data.  If we were to use special device, such as a [logic analyzer](https://en.wikipedia.org/wiki/Logic_analyzer), to peek at the electical wires that make up the path ways that are transmitting data back and forth between the computer and the terminal we would find electical values that encode the binary for the characters being exchanged. \n",
    "\n",
    "The middle figure (B), cartoons the logic that the shell does in response to receiving the blank line.  Specifically, it is programmed to do \"nothing\", simply sending back to the terminal the prompt so that the user knows it, the shell, is ready for another command line to be sent.  If you are interested in why the terminal displayed a `\\n` causing the prompt sent by the shell to be on the next line of the terminal read the fyi ECHO box below."
   ]
  },
  {
   "cell_type": "markdown",
   "id": "6ceddbcf-cb0a-4e02-aa42-e0c81a8af3f8",
   "metadata": {},
   "source": [
    "```{tip}\n",
    "**ECHO**: You might be wondering why is it that you see the characters you type at the keyboard of terminal appear on the screen of the terminal.  If pressing a key really sends the data to the Unix kernel and then to the program running, such as the shell, there is not reason we would see it.  Does the Shell send a copy back of what it receives?  No it does not.  \n",
    "\n",
    "Rather typically the UNIX kernel is configured, by default, to send back a copy of what it receives on a specific terminal connection back to the terminal itself.  This setting is called terminal ECHO mode.  So by default even before the Kernel sends data up to the destination program it sends a copy back to the terminal so that the user can see what they typed.  This includes the `\\n` that the user pressed to indicate the end of the command line.  Hence, in this default mode any data sent back from the shells behavior will appear on a new-line.  Programs can ask the kernel to disable this setting to have more control of what the users sees.  \n",
    "\n",
    "As a matter of fact like many things in Unix there is a command you can issue to have the kernel adjust the setting for you terminal connect including turning off the echo behavior (`stty -echo` to turn off and `stty echo` to turn back on).  Doing so lets you observe what is really being sent back in response to your command and not what the kernel automatically generated as echo data.  Note things might get confusing quickly if you turn echo off.   But Unix is all about understanding how things work and have the power to control them.  If you want to know more try `man stty` but be warned you will find that communications on a terminal is actually quite a bit more complex than it might seem -- there is a lot of history and skeletons buried here and the kernel is *cooking* the communications quite a bit ;-)\n",
    "```"
   ]
  },
  {
   "cell_type": "markdown",
   "id": "426ea6e5-bd7c-4cf8-9565-2cbd9df9c3e2",
   "metadata": {
    "tags": [
     "remove-cell"
    ]
   },
   "source": [
    "## Command lines\n",
    "\n",
    "UNIX command lines can get quite complex. As a matter of fact one of the hallmarks of UNIX expertise is the ability to compose long command lines that chain together many commands.  Such ability develops in time as you get familar working with the shell and learn to issue simple command lines.\n",
    "\n",
    "The simplest command lines, other than the [blank command line](#fig:shell-blankline), is composed of a single \"word\".  The following are three examples of single word command lines, using the commands: `help`, `pwd` and `ls`.  \n"
   ]
  },
  {
   "cell_type": "markdown",
   "id": "786328b6-03ea-4dbc-9991-48847d7b022b",
   "metadata": {},
   "source": [
    "\n",
    "### Three simple examples"
   ]
  },
  {
   "cell_type": "markdown",
   "id": "bd2b0cbc-34f6-4687-94bd-690ae26707bb",
   "metadata": {},
   "source": [
    "The `help` command is a \"builtin\" command that well provides you some help :-)"
   ]
  },
  {
   "cell_type": "code",
   "execution_count": null,
   "id": "08897050-eea3-46c7-b98d-ce16616cf41d",
   "metadata": {
    "jupyter": {
     "source_hidden": true
    },
    "tags": [
     "remove-input"
    ]
   },
   "outputs": [],
   "source": [
    "bash.run(\"help\", height='20em')"
   ]
  },
  {
   "cell_type": "markdown",
   "id": "20d7906a-a1d9-421f-8346-801cad738d9d",
   "metadata": {},
   "source": [
    "The `pwd` command is a builtin command that prints the shell's current working directory.  We will discuss what the working directory is a little [later](#wd)."
   ]
  },
  {
   "cell_type": "code",
   "execution_count": null,
   "id": "75193897-8c4b-4098-986d-0e8652a3a4ad",
   "metadata": {
    "jupyter": {
     "source_hidden": true
    },
    "tags": [
     "remove-input"
    ]
   },
   "outputs": [],
   "source": [
    "bash.run(\"pwd\")"
   ]
  },
  {
   "cell_type": "markdown",
   "id": "356b6806-4b67-4299-9493-cc08536a4cb6",
   "metadata": {},
   "source": [
    "The `ls` command is a standard UNIX external command that lists the contents of a directory.  As we will find out later `ls` is a very powerful command that lets us explore the existing directories and files."
   ]
  },
  {
   "cell_type": "code",
   "execution_count": null,
   "id": "e16f2796-aa53-4fa5-af66-a3e5d15f2e07",
   "metadata": {
    "jupyter": {
     "source_hidden": true
    },
    "tags": [
     "remove-input"
    ]
   },
   "outputs": [],
   "source": [
    "bash.run(\"ls\")"
   ]
  },
  {
   "cell_type": "markdown",
   "id": "a55aef59-7aa4-4c10-a729-4bb14f5d4a77",
   "metadata": {
    "tags": []
   },
   "source": [
    "## Command line processing\n",
    "\n"
   ]
  },
  {
   "cell_type": "markdown",
   "id": "d136eb2a-89f8-465d-b7ce-76251241b1df",
   "metadata": {
    "tags": [
     "remove-cell"
    ]
   },
   "source": [
    "\n",
    "<!-- produced by: \n",
    "htmlFig(\"[{'src': '../images/shellexecuteflowchart.png', 'bgcolor': 'white', 'border': '1px solid green'}]\", \n",
    "        id=\"fig:flowchart\", \n",
    "        align=\"right\", \n",
    "        width=\"65%\",\n",
    "        margin=\"1em auto 1em 1em\",\n",
    "        caption=\"Figure: Flow chart of command line processing steps.\", \n",
    "        captionalign=\"left\")\n",
    "-->\n",
    "<table id=\"fig:flowchart\" align=\"right\" width=\"65%\" cellpadding=\"0\" cellspacing=\"0\" border=\"0\" style=\"border-collapse: collapse; margin: 1em auto 1em 1em\">\n",
    "    <tr style=\"padding: 0; margin: 0;\"> \n",
    "        <td colspan=\"1\" width=\"100%\" style=\"padding: 0; margin: 0 0 0 0; background-color:white;\">\n",
    "            <div style=\"padding: 0; margin: 0 0 0 0;\">\n",
    "              <figure style=\"padding: 0; margin: 0 0 0 0; width:100%;border: 1px solid green;\">\n",
    "                   <img src=\"../images/shellexecuteflowchart.png\" width=\"100%\" style=\"padding: 0; margin: 0;\">\n",
    "                </figure>\n",
    "            </div>\n",
    "        </td>\n",
    "    </tr>\n",
    "    <caption align=\"bottom\" style=\"text-align: left; padding: 0; margin: 0;\" >\n",
    "          <i>Figure: Flow chart of command line processing steps.</i> \n",
    "    </caption>\n",
    "</table>\n",
    "\n",
    "\n",
    "When the shell receives a command line it goes through a series of steps to process it.  The rules of this processing define what is called the [Shell Grammar](https://man7.org/linux/man-pages/man1/bash.1.html#SHELL_GRAMMAR).  The Shell Grammar and builtin commands form an entire programming language.  Programs written in this language are called Shell Scripts and are used extensively to automate all sorts of tasks.     Over the years one learns more and more subtle aspects and usage of the shell grammar.  While it is possible to use the shell without really knowing its underlying grammar having a working knowledge can really help in understanding why the shell behaves the way it does and its somewhat strange syntax.\n",
    "\n",
    "The [figure](#fig:flowchat) on the right illustrates the flow of command line processing.  We will be working our way through the steps in this section.\n",
    "\n",
    "### Interactive vs non-interactive (scripts) \n",
    "\n",
    "The two ways we use the shell are either interactively or non-interactive. In either case the core operation of the shell is the same -- process command lines.  The difference is in the interactive mode the commands are coming from a human though a terminal connection versus a file in the non-interactive mode.  In the interactive case after each command line is executed the shell sends the prompt to the human and waits for them to send the next command line.   In non-interactive mode the command lines are being read from a shell script file.  A shell script is a file simply containing several shell command lines. In this mode the command lines in the file are immediately executed one after the other and no prompting or waiting occurs.  \n",
    "\n",
    "While our focus in this chapter is interactive use our understanding of how command lines are processed applies equally to writing shell scripts. \n",
    "\n",
    "### Overview: The six steps of command line processing\n",
    "\n",
    "In the remainder of this chapter we will build up our working knowledge of how the shell processes command lines and its grammar.  Let's begin by breaking down command line processing into the following six steps:\n",
    "\n",
    "1. Splitting: break up (split) the line into \"blank\" separated words (computer scientists also call these tokens)\n",
    "2. perform expansions \n",
    "3. parse redirections\n",
    "4. execute simple commands\n",
    "5. optionally wait for command to complete\n",
    "6. print prompt and wait for new command line if in interactive mode"
   ]
  },
  {
   "cell_type": "markdown",
   "id": "0d8abc3c-e0ab-45d2-a2ca-da430955ea03",
   "metadata": {
    "tags": [
     "remove-cell"
    ]
   },
   "source": [
    "### Step 1: Breaking down a \"Command line\" into Simple Commands and Arguments\n",
    "\n",
    "In this step the shell splits the command line up into a set of tokens that form a \"simple commands\".   Several simple commands can make up a single command line. The common boundary that separates tokens are \"blanks\".  Blanks are `space` and `tab` characters ([blanks](https://man7.org/linux/man-pages/man1/bash.1.html#DEFINITIONS)).   In the ASCII code, space characters are encoded with a byte value of `0x20` and a tab is encoded by `0x09`.  So a sequence of one more of these two characters will cause the shell to split what is before and after the sequence into to separate tokens.  \n",
    "\n",
    "<a id=\"meta_def\"></a>\n",
    "In addition to the blank `space` and `tab` characters the following characters `|  & ; ( ) < > newline` will also indicate the separation of tokens.  Together, these characters are known as the shell \"metacharacters\".  In time we will learn about how these characters affect the commands to be executed. Some will let us combine simple commands in various ways while others will effect how the command is executed.  \n",
    "\n",
    "#### Command versus Arguments\n",
    "\n",
    "The first token of simple command is the name of the command to execute.  The following tokens in a set will be passed to the command as arguments.     To know where the arguments of a particular simple command ends the shell looks for one of the following \"control\" operators.  Notice that some of the metacharacters, `| & ; ( )` and `newline` itself both separate tokens and terminate the tokens of simple command.    Using the control characters allow us to chain independent simple commands together. "
   ]
  },
  {
   "cell_type": "markdown",
   "id": "b6b2635a-9746-4622-874d-15be348d19cb",
   "metadata": {},
   "source": [
    "<center><em>Table Shell Control Operators</em></center>\n",
    "\n",
    "| Control Operator | Description    |\n",
    "| :--------------: | ------------- |\n",
    "|  newline   |  End of line |\n",
    "|      $||$        |  Or list operator   |\n",
    "|      $\\&\\&$      |  And list operator  |\n",
    "|     $;$          |  Sequential list operator |\n",
    "|     $|$          |  Pipe Operator |\n",
    "|     $\\&$         |  Background Operator | \n",
    "|    $($ | Subshell list begin Operator |\n",
    "|    $)$ | Subshell list end Operator |\n",
    "|     $;;$ | Case statement end matching Operator |      \n",
    "|     $;\\&$ | Case statement fall through Operator |\n",
    "|     $;;\\&$ | Case statement continue matching Operator |"
   ]
  },
  {
   "cell_type": "markdown",
   "id": "71e35edc-17e5-4c08-8761-2e119168be8e",
   "metadata": {},
   "source": [
    "#### Comments\n",
    "\n",
    "If a token begins with the pound character, `#`,  then it and all the remaining tokens on the command line are ignored.  As such the `#` lets us add comments to what we are doing.  This will be particularly useful when we write shell scripts.  But they be helpfull even when using the shell interactively (see [Command line history](#history)).\n",
    "\n",
    "For example. We can ignore all tokens of the command line by placing a `#` either as a token on its own at the begining of a line,"
   ]
  },
  {
   "cell_type": "code",
   "execution_count": null,
   "id": "ba6d8b0c-f8f5-4275-8388-637aa340be85",
   "metadata": {
    "jupyter": {
     "source_hidden": true
    },
    "tags": [
     "remove-input"
    ]
   },
   "outputs": [],
   "source": [
    "bash.run(\"# This line is ignored.  The first token is a # on its own.\")"
   ]
  },
  {
   "cell_type": "markdown",
   "id": "fbd0e947-ce1c-41ce-8490-9e641e7a2346",
   "metadata": {},
   "source": [
    "or by by adding to the beginning of the first token."
   ]
  },
  {
   "cell_type": "code",
   "execution_count": null,
   "id": "5a3c985f-eb9b-49a9-9a0d-3282bfe4b6f4",
   "metadata": {
    "jupyter": {
     "source_hidden": true
    },
    "tags": [
     "remove-input"
    ]
   },
   "outputs": [],
   "source": [
    "bash.run(\"#This line is ignored. As the first token is #This which begins with #.\")"
   ]
  },
  {
   "cell_type": "code",
   "execution_count": null,
   "id": "320a5017-5e56-471e-8929-5cb9576692b9",
   "metadata": {
    "jupyter": {
     "source_hidden": true
    },
    "tags": [
     "remove-input"
    ]
   },
   "outputs": [],
   "source": [
    "bash.run(b'# the next line ends in a comment\\necho hello # rest of tokens are ignored')"
   ]
  },
  {
   "cell_type": "markdown",
   "id": "510693b4-e0a9-4a63-92ac-2c1dd96084a0",
   "metadata": {},
   "source": [
    "Another example"
   ]
  },
  {
   "cell_type": "code",
   "execution_count": null,
   "id": "f1c3f2ae-3618-4c3c-8a40-20ebd4ac9fdb",
   "metadata": {
    "jupyter": {
     "source_hidden": true
    },
    "tags": [
     "remove-input"
    ]
   },
   "outputs": [],
   "source": [
    "bash.run(\"pwd # print the current working directory\")"
   ]
  },
  {
   "cell_type": "markdown",
   "id": "ca662256-a294-4ad4-b076-91badf9b1741",
   "metadata": {},
   "source": [
    "#### Simple Command Line Splitting examples\n",
    "\n",
    "Lets look at a few examples of command lines and see if we can figure out what the command and the argument are.\n",
    "To help us denote spaces, tabs and newlines we will use the following notation respectively; `\\ `, `\\t` and `\\n`.\n",
    "\n",
    "\n",
    "1. Single word simple command\n",
    "```bash\n",
    "echo\\n\n",
    "```\n",
    "- Breakdown: \n",
    "  - Tokens:\n",
    "       1. echo\n",
    "  - Command Name: echo\n",
    "- Explanation:  Like our previous examples this a command line is formed of one simple one word command. In this case the ending newline both terminates the set of tokens forming our command and the line itself.   The command is the `echo` command.  `echo` is a bash builtin command that prints back its arguments followed by a newline (see `help echo`).  Given that we are not passing any additional arguments we expect echo to simple print an blank line."
   ]
  },
  {
   "cell_type": "code",
   "execution_count": null,
   "id": "dc1849d7-a38c-43c8-b5c3-51e50a8246e4",
   "metadata": {
    "jupyter": {
     "source_hidden": true
    },
    "tags": [
     "remove-input"
    ]
   },
   "outputs": [],
   "source": [
    "bash.run(\"echo\")"
   ]
  },
  {
   "cell_type": "markdown",
   "id": "b4e2607e-6328-4860-91e5-02481858f48c",
   "metadata": {},
   "source": [
    "2. command with one argument\n",
    "```bash\n",
    "echo\\ hello\\n\n",
    "```\n",
    "- Breakdown: \n",
    "  - Tokens:\n",
    "       1. echo\n",
    "       2. hello\n",
    "  - Command Name: echo\n",
    "  - Arguments:\n",
    "       1. hello\n",
    "- Explanation: Here our command line is composed of a single simple command which is composed of two tokens seperated by a single space.  The first token is the command and the second is the first and only argument to the command."
   ]
  },
  {
   "cell_type": "code",
   "execution_count": null,
   "id": "d682ff0a-3d6e-4b10-a80d-ba2cfc7cb3a0",
   "metadata": {
    "jupyter": {
     "source_hidden": true
    },
    "tags": [
     "remove-input"
    ]
   },
   "outputs": [],
   "source": [
    "bash.run('echo hello')"
   ]
  },
  {
   "cell_type": "markdown",
   "id": "eefd0097-56d9-4cbf-a449-05d6c9ebef79",
   "metadata": {},
   "source": [
    "3. command with multiple arguments using multiple blanks as seperators\n",
    "```bash\n",
    "\\t\\ echo\\ hello\\ \\ goodbye\\ \\t\\ me\\ again\\ \\t\\n\n",
    "```\n",
    "- Breakdown: \n",
    "  - Tokens:\n",
    "    1. echo\n",
    "    2. hello\n",
    "    3. goodbye\n",
    "    4. me\n",
    "    5. again\n",
    "  - Command Name: echo\n",
    "  - Arguments:\n",
    "    1. hello\n",
    "    2. goodbye\n",
    "    3. me\n",
    "    4. again\n",
    "- Explanation: Here our command line is composed of a single simple command which is composed of five tokens seperated by differing combinations of spaces and tabs. To begin with we have a tab  and space preceeding the first token.  Then we have our first token `echo`  which is our command.  The next space separates `echo` from the `hello`.  Two spaces then separate `hello` from `goodbye`.  Then tghe sequence of space, tab, space separate `goodbye` from `me`.  A single space seperates `me` from `again`.  `again` is terminated as a token by the following space, tab and newline.  So it is important to note that when the shell runs echo the seperating blanks will be eliminated and only the tokens will be passed to echo as individual arguments.  "
   ]
  },
  {
   "cell_type": "code",
   "execution_count": null,
   "id": "46908db2-94fc-444d-85b5-6224b0516679",
   "metadata": {
    "jupyter": {
     "source_hidden": true
    },
    "tags": [
     "remove-input"
    ]
   },
   "outputs": [],
   "source": [
    "bash.run(b'\\t echo hello  goodbye \\t me again \\t')"
   ]
  },
  {
   "cell_type": "markdown",
   "id": "fbf598b1-9818-47be-b6d4-6401c59dfadc",
   "metadata": {},
   "source": [
    "<a id=\"quotes_and_splitting_sec\"></a>\n",
    "\n",
    "#### Quotes and Command Line Splitting\n",
    "\n",
    "There are times that one might want to include spaces or tabs in an argument to a command.  For example, lets say we want to use echo to print the following as a single argument that has the spaces as part of it (not three arguments; `hello`, `...`, and `goodbye`).\n",
    "\n",
    "```\n",
    "hello    ...    goodbye\n",
    "```\n",
    "\n",
    "To do this, the shell lets us use quotes to tell it not to do splitting.  The area enclosed in either double (\"\") or single ('') quotes will be treated as a single token.  We will see later that the reason we might choose between using double vs single quotes has to do with the controlling the shell's expansion behaviour.  So given this to send the above to echo as a single argument we would use either of the  the following command lines."
   ]
  },
  {
   "cell_type": "code",
   "execution_count": null,
   "id": "eec77786-cb62-4da7-a303-28914be28f32",
   "metadata": {
    "jupyter": {
     "source_hidden": true
    },
    "tags": [
     "remove-input"
    ]
   },
   "outputs": [],
   "source": [
    "bash.run('echo \"hello    ...    goodbye\"')"
   ]
  },
  {
   "cell_type": "code",
   "execution_count": null,
   "id": "e71efdaa-2e05-4a40-9394-3c8f6afec524",
   "metadata": {
    "jupyter": {
     "source_hidden": true
    },
    "tags": [
     "remove-input"
    ]
   },
   "outputs": [],
   "source": [
    "bash.run(\"echo 'hello    ...    goodbye'\")"
   ]
  },
  {
   "cell_type": "markdown",
   "id": "5682612d-6452-48e9-b223-f202f7d03750",
   "metadata": {},
   "source": [
    "##### Escaping blanks\n",
    "\n",
    "If we need finer control the shell also allows us to \"escape\" indivdual blank characters.  Escaped blanks will no longer be treated like a blank but instead be treated like a non-blank character.   To do this we put a back slash infront of the space or tab we want to escape. \n",
    "\n",
    "For example:"
   ]
  },
  {
   "cell_type": "code",
   "execution_count": null,
   "id": "354ea80e-2069-4e24-86b2-8e05065e95cb",
   "metadata": {
    "jupyter": {
     "source_hidden": true
    },
    "tags": [
     "remove-input"
    ]
   },
   "outputs": [],
   "source": [
    "bash.run('echo hello\\ \\ \\ ...\\ \\ \\ goodbye')"
   ]
  },
  {
   "cell_type": "markdown",
   "id": "7858e793-5c4b-4488-8467-5fc2741432ba",
   "metadata": {},
   "source": [
    "#### Summary\n",
    "\n",
    "While the above can seem intimidating at first it is worth remembering that the most common kind of command lines we use on a daily bases are  composed of one simple command often with no arguments specified or at most a few arguments sparated by single spaces.  The following are examples of the kind of commands that one typically might uses."
   ]
  },
  {
   "cell_type": "code",
   "execution_count": null,
   "id": "50533dc0-a55d-4b7a-90b7-e601f771a372",
   "metadata": {
    "jupyter": {
     "source_hidden": true
    },
    "tags": [
     "remove-input"
    ]
   },
   "outputs": [],
   "source": [
    "# we use a new shell for this to avoid polution of our primary bash session\n",
    "bash.run('''ls\n",
    "mkdir mydir\n",
    "ls\n",
    "cd mydir\n",
    "touch myfirstfile\n",
    "ls\n",
    "echo \"Hello.  Hello.\" > myfirstfile\n",
    "cat myfirstfile\n",
    "cp myfirstfile mysecondfile\n",
    "ls \n",
    "echo \"Goodbye and farewell.\" > mysecondfile\n",
    "diff myfirstfile mysecondfile\n",
    "cd''')"
   ]
  },
  {
   "cell_type": "markdown",
   "id": "5037b409-b8f0-4444-8ce9-26ed8c7611ae",
   "metadata": {},
   "source": [
    "In all these cases the line splitting stage of command line processing is very simple and intuitive.  "
   ]
  },
  {
   "cell_type": "markdown",
   "id": "e2d020b1-6366-4863-b4d4-e83dd7ba0783",
   "metadata": {
    "tags": []
   },
   "source": [
    "<a id='history'></a>\n",
    "\n",
    "#### Command line history\n",
    "\n",
    "Bash keeps a history of all the commands lines we have executed.  Learning to view and navigate this history can really help speed up our daily work.    We will cover some basics to help you be productive.  You can find more details about working with your bash history here:\n",
    "- Using the bash history https://www.gnu.org/software/bash/manual/bash.html#Using-History-Interactively\n",
    "- searching the history https://www.gnu.org/software/bash/manual/bash.html#Searching\n",
    "- keyboard short cuts for navigating the history https://www.gnu.org/software/bash/manual/bash.html#Commands-For-History\n",
    "\n",
    "\n",
    "To view the entire history we can use the history command."
   ]
  },
  {
   "cell_type": "code",
   "execution_count": null,
   "id": "5c132961-ceb6-4f8e-9092-a25667787d19",
   "metadata": {
    "jupyter": {
     "source_hidden": true
    },
    "tags": [
     "remove-input"
    ]
   },
   "outputs": [],
   "source": [
    "bash.run('history')"
   ]
  },
  {
   "cell_type": "markdown",
   "id": "19f1ef79-999f-4e63-9bb3-6868ad5028d2",
   "metadata": {},
   "source": [
    "To rerun a particular command in the history you can enter the exclamation character, `!` followed by the history number, n,  of the command line.  For example to rerun the command numbered 2 you would do the following:"
   ]
  },
  {
   "cell_type": "code",
   "execution_count": null,
   "id": "a2997b93-ec46-4357-9a83-178b38af2b84",
   "metadata": {
    "jupyter": {
     "source_hidden": true
    },
    "tags": [
     "remove-input"
    ]
   },
   "outputs": [],
   "source": [
    "bash.run('!2')"
   ]
  },
  {
   "cell_type": "markdown",
   "id": "1d8bac12-0e28-4345-bdbd-6098bb18affe",
   "metadata": {},
   "source": [
    "A short cut for the last command is `!!`. Eg"
   ]
  },
  {
   "cell_type": "code",
   "execution_count": null,
   "id": "b03b4f00-b2a8-493e-b5fb-65f75896c26a",
   "metadata": {
    "jupyter": {
     "source_hidden": true
    },
    "tags": [
     "remove-input"
    ]
   },
   "outputs": [],
   "source": [
    "bash.run(\"pwd\\n!!\")"
   ]
  },
  {
   "cell_type": "markdown",
   "id": "eb87a0f5-a0ca-4e17-9698-089df5ac0532",
   "metadata": {},
   "source": [
    "Bash also has some behavior that lets you avoid having a commands recorded in the history.  The defaut is that commands lines who's first character is a space will not be put into the history as well as duplicates.  (See HISTIGNORE and HISTCONTROL in the bash manual for more details on how to control and modify this behavior).  For example if we do not want our use of the history command to \"polute\" our history we would add a space to the front of the line.  Eg."
   ]
  },
  {
   "cell_type": "code",
   "execution_count": null,
   "id": "2bf21de1-f3bf-43b2-8a37-10426c025b91",
   "metadata": {
    "jupyter": {
     "source_hidden": true
    },
    "tags": [
     "remove-input"
    ]
   },
   "outputs": [],
   "source": [
    "bash.run(\" history\")"
   ]
  },
  {
   "cell_type": "markdown",
   "id": "f703a511-f5a2-4118-880c-aae4e3446e9d",
   "metadata": {},
   "source": [
    "Finally perhaps, the most important aspect as a beginner is ability to use key sequences to: \n",
    "- go backward in the history : `previous-history`\n",
    "- go forward in the history : `next-history`\n",
    "- search history backwards : `reverse-search-history`\n",
    "- search history forwards : `forward-search-history`\n",
    "\n",
    "Each of these abilities are \"bound\" to various key sequences.  Usually previous and next will be mapped to your arrow keys.  But if you want to learn what the default \"bindings\" are (what key sequences will cause one of the above abilities you can use the following commands):"
   ]
  },
  {
   "cell_type": "code",
   "execution_count": null,
   "id": "d47b14b9-c8f3-46f3-bf7b-b6a9606c3620",
   "metadata": {
    "jupyter": {
     "source_hidden": true
    },
    "tags": [
     "remove-input"
    ]
   },
   "outputs": [],
   "source": [
    "bash.run(\"bind -q previous-history\\nbind -q next-history\\nbind -q reverse-search-history\\nbind -q forward-search-history\")"
   ]
  },
  {
   "cell_type": "markdown",
   "id": "cdd974cf-399e-4c1a-b9e8-9d96028f1b41",
   "metadata": {},
   "source": [
    "The above output can seem very criptic.  Here is a quick and dirty explanation.  Search the bash manual for \"key bindings\" for more details.\n",
    "\n",
    "- `\\C` means press the control key\n",
    "- `\\e` means press the escape key\n",
    "- `-`  means that while pressing the preceeding key press and release the next key listed. Eg. `\\C-p` means press and hold down the control key then press and release the `p` key.  \n",
    "- if there is not `-` present the you press and release the keys as a sequence.  Eg. `\\eOA` means press and release the escape key, then press and release the caplital o key (`O`), followed by pressing and releasing the caplital a key (`A`).\n",
    "\n",
    "The best thing to do is to play around with these features.  Eg. try out all the prior commands and then use the history key binding to navigate the history and re-run some commands.\n"
   ]
  },
  {
   "cell_type": "markdown",
   "id": "23cba384-7386-4159-8fae-dadbd99faf3d",
   "metadata": {},
   "source": [
    "### Step 2: Perform Expansions\n",
    "\n",
    "After the shell has split a command line into tokens it performs \"expansion\" on the tokens.  An expansion is the subtitution of some parts of a token with various other values.  In particular, it looks for specific special control characters to identify what needs expansion and what kind of expansion to do.  \n",
    "\n",
    "Expansions add a lot of power to what you can do with command lines but they can also be a little overwhelming at firsts.    We will focus on understanding the three most common expansions.  In time as you gain greater familarity with the shell we encourage you to explore others.  \n",
    "\n",
    "See the introduction paragraphs here https://man7.org/linux/man-pages/man1/bash.1.html#EXPANSION, and here https://www.gnu.org/software/bash/manual/bash.html#Shell-Expansions for and more detailed overview.\n",
    "\n",
    "#### Nine Command line Expansions\n",
    "\n",
    "Below is a brief overview of all nine expansions and our recommendations on the priority order you may want to explore them. \n",
    "\n",
    "\n",
    "##### Brace Expansion\n",
    "\n",
    "- Priority: You can wait learn this one.  \n",
    "- References: \n",
    "   - https://man7.org/linux/man-pages/man1/bash.1.html#EXPANSION (see *Brace Expansion*)\n",
    "   - https://www.gnu.org/software/bash/manual/bash.html#Brace-Expansion \n",
    "- Synopsis: Provides the ability expand a \"template\" token in to multiple tokens. \n",
    "- Examples:"
   ]
  },
  {
   "cell_type": "code",
   "execution_count": null,
   "id": "f1dd0100-1466-4826-8223-2d4ad6d0518f",
   "metadata": {
    "jupyter": {
     "source_hidden": true
    },
    "tags": [
     "remove-input"
    ]
   },
   "outputs": [],
   "source": [
    "bash.run('''echo poem{X,Y,Z}.text # list of values with an optional prefix and suffix\n",
    "echo poem{1..4}.text # range of values with an optional prefix and suffix''')"
   ]
  },
  {
   "cell_type": "markdown",
   "id": "5ba46749-9347-4661-887b-895b535d03ee",
   "metadata": {},
   "source": [
    "##### Tilde Expansion\n",
    "\n",
    "- Priority: **Simple and worth knowning**\n",
    "- Synopsis: Expands the tilde (`~`) into the path of your [home directory](./files.ipynb#HOMEDIR_sec).  In time you will be navigating and moving around the directory try and it is very useful to have a short cut to the path of your home directory.\n",
    "- References: https://www.gnu.org/software/bash/manual/bash.html#Tilde-Expansion, https://man7.org/linux/man-pages/man1/bash.1.html#EXPANSION (see *Tilde Expansion*)\n",
    "- Examples:"
   ]
  },
  {
   "cell_type": "code",
   "execution_count": null,
   "id": "c5e3c82a-9eeb-46a9-8eae-41f5da80f217",
   "metadata": {
    "jupyter": {
     "source_hidden": true
    },
    "tags": [
     "remove-input"
    ]
   },
   "outputs": [],
   "source": [
    "bash.run('''echo ~\n",
    "cd ~\n",
    "pwd \n",
    "cd /tmp\n",
    "pwd\n",
    "mkdir ~/mynewdir\n",
    "ls ~\n",
    "cd ~\n",
    "pwd''')"
   ]
  },
  {
   "cell_type": "markdown",
   "id": "d7cd6208-427e-40a3-a475-1efaba8c9897",
   "metadata": {},
   "source": [
    "##### Parameter and Variable Expansion\n",
    "\n",
    "- Priority: **Important to know basics** - rest can wait till later\n",
    "- Synopsis: Like  programming languages the shell supports the notion of a variable that is identified by a \"name\" and has a \"value\".  Shell variables are actually a special case of a what are called shell parameters. We will focus on variables. The shell provides certain special built in variables such as \"RANDOM\" whose value expands to a random number. As we will see later a very important built is the \"PATH\" variable.  There are several ways we can introduce our own variables and assign them a value.  The simplest is a command line of the form:  `name=value`.   During Parameter Expansion the `$` followed by name will trigger parameter expansion, optionally the name can be enclosed in braces `{name}`.  The token will then be expanded to the value if the named variable exists other wise the token will be simply removed.  The shell provides all kinds of fancy ways of manipulating and transforming the value of a variable during expansions, such as deleting or substituting portions, but we will leave that for later.  Finally shell variables can have attributes associated with them.   One important attribute marks a variable as exported.  We will see later that exported variables are passed to new programs as part of their initial \"environment\".  \n",
    "- References: \n",
    "  - https://man7.org/linux/man-pages/man1/bash.1.html#PARAMETERS\n",
    "  - https://man7.org/linux/man-pages/man1/bash.1.html#EXPANSION (see *Parameter Expansion*)\n",
    "  - https://www.gnu.org/software/bash/manual/bash.html#Shell-Parameters\n",
    "  - https://www.gnu.org/software/bash/manual/bash.html#Shell-Parameter-Expansion\n",
    "- Examples:"
   ]
  },
  {
   "cell_type": "code",
   "execution_count": null,
   "id": "fef41950-934c-44a7-ba63-8a581cec1842",
   "metadata": {
    "jupyter": {
     "source_hidden": true
    },
    "tags": [
     "remove-input"
    ]
   },
   "outputs": [],
   "source": [
    "bash.run('''# set a variable who's name is x and its value to the string hello\n",
    "x=hello\n",
    "# $x is expands to the current value of the variable named x\n",
    "echo x has the value: $x\n",
    "# assign a new value to x using quotes to avoid word splitting\n",
    "x=\"Hello and goodbye\"    \n",
    "# use $x again to expand x\n",
    "echo x now has the value $x\n",
    "# use braces to have more control \n",
    "echo x=${x}.\n",
    "# here are some examples of builtins\n",
    "echo $PATH\n",
    "echo $RANDOM\n",
    "echo $HOME\n",
    "echo $SECONDS''')"
   ]
  },
  {
   "cell_type": "markdown",
   "id": "84dc0185-d16c-4c01-a0de-59a27a1344bb",
   "metadata": {},
   "source": [
    "##### Command Substitution\n",
    "\n",
    "- Priority: useful but you can wait to learn about it\n",
    "- Synopsis: You can specify that the output of a command should be subsituted for its name.  To trigger this behaviour, like parameter expansion you use the dollar character `$` but follow it with the command to run enclosed in brackets eg. `$(command)`.  \n",
    "- References:\n",
    "  - https://man7.org/linux/man-pages/man1/bash.1.html#EXPANSION (see *Command Substitution*)\n",
    "  - https://www.gnu.org/software/bash/manual/bash.html#Command-Substitution\n",
    "- Examples:"
   ]
  },
  {
   "cell_type": "code",
   "execution_count": null,
   "id": "03c4e8b4-0a69-4b28-b5e2-3505c727b4fa",
   "metadata": {
    "jupyter": {
     "source_hidden": true
    },
    "tags": [
     "remove-input"
    ]
   },
   "outputs": [],
   "source": [
    "bash.run('''# the date command prints the current time and date\n",
    "date\n",
    "# we can use command substitution to pass the current date string as an argument to another command\n",
    "echo \"The current time and date is:\" $(date)\n",
    "# we set a variable to the output of a command\n",
    "set lastdate=$(date)''')"
   ]
  },
  {
   "cell_type": "markdown",
   "id": "c2a828be-555f-4660-8c99-1e56cb569cff",
   "metadata": {},
   "source": [
    "##### Arithmetic Expansion\n",
    "\n",
    "- Priority: Low. Useful for doing simple math and writing loops which come in time.  \n",
    "- Synopsis: Bash supports evaluation of basic arithmetic expressions as part of the expansions it does.  To trigger this expansion you must enclose the expression in double round brackets prefixed by the `$` character.  Eg. `$((expression))`.  Two particularly nice features, are the support for bitwise operators and arbitray bases.  Knowing how to use these features let's you quickly do base conversions and use bitwise operators to express values.  \n",
    "- References\n",
    "   - https://man7.org/linux/man-pages/man1/bash.1.html#EXPANSION (see *Arithmetic Expansion*)\n",
    "    - https://man7.org/linux/man-pages/man1/bash.1.html#ARITHMETIC_EVALUATION\n",
    "   - https://www.gnu.org/software/bash/manual/bash.html#Arithmetic-Expansion\n",
    "   - https://www.gnu.org/software/bash/manual/bash.html#Shell-Arithmetic\n",
    "- Examples:"
   ]
  },
  {
   "cell_type": "code",
   "execution_count": null,
   "id": "8d5dc5ca-4071-4520-a366-bb56614d8f0e",
   "metadata": {
    "jupyter": {
     "source_hidden": true
    },
    "tags": [
     "remove-input"
    ]
   },
   "outputs": [],
   "source": [
    "bash.run('''# does the normal interger math you expect\n",
    "echo $((1+1))\n",
    "x=7\n",
    "echo $((x = x + 1))\n",
    "echo $x\n",
    "# to specify a number in a particular base use <base>#<value>\n",
    "# eg. binary base 2 1100 plus base 10 3\n",
    "echo $(( 2#1100 + 10#3 ))\n",
    "# binary 1 left shift 12\n",
    "echo $(( 2#1 << 12 ))''')\n"
   ]
  },
  {
   "cell_type": "markdown",
   "id": "8bd46aa4-a23a-4e11-8354-8d27ed3973d9",
   "metadata": {},
   "source": [
    "%> <img style=\"display: inline; margin: 1em 1em 0px 0px;\" align=\"left\" width=\"40\" src=\"../images/fyi.svg\"> <p style=\"background-color:powderblue;\"> \n",
    "    \n",
    "````{tip}    \n",
    "  While Bash lets us express values in arbitrary bases as input for arithmetic expressions it uses base ten for all expanded output values.  To get around this and display a value in a base other than 10 we can use the shell's builtin `printf` command.  `printf` support printing values in base 10, base 8, and importantly base 16.  Eg.\n",
    "\n",
    "% bash.run('printf \"%d %o %x\\\\n\" $((10#255)) $((10#255)) $((10#255))')\n",
    "```\n",
    "$ printf \"%d %o %x\\n\" $((10#255)) $((10#255)) $((10#255))\n",
    "255 377 ff\n",
    "$\n",
    "```\n",
    "````"
   ]
  },
  {
   "cell_type": "markdown",
   "id": "cde47f17-3561-4a2b-a77a-e58d3d1f3c12",
   "metadata": {},
   "source": [
    "##### Process Subsitition\n",
    "\n",
    "- Priority: low. \n",
    "- Synopsis:  This is a pretty subtle feature that lets you run commands treat them as files.   To understand what this means will require us to better understand what processes and files are.  \n",
    "- References:\n",
    "  - https://man7.org/linux/man-pages/man1/bash.1.html#EXPANSION  (see *Process Substitution*)\n",
    "  - https://www.gnu.org/software/bash/manual/bash.html#Process-Substitution\n",
    "- Examples"
   ]
  },
  {
   "cell_type": "code",
   "execution_count": null,
   "id": "412fa825-df02-458a-8b10-c581d59da5ae",
   "metadata": {
    "jupyter": {
     "source_hidden": true
    },
    "tags": [
     "remove-input"
    ]
   },
   "outputs": [],
   "source": [
    "bash.run('''# the diff command can compare two ascii files and show us the differences.\n",
    "# ls lets us list the contents of a directory.  \n",
    "# We can use process subtitution to treat the output of ls commands as if they where files.\n",
    "# So we can use diff as follows to compare the contents of two directories\n",
    "diff <(ls ~/mydir) <(ls ~/mynewdir)''')"
   ]
  },
  {
   "cell_type": "markdown",
   "id": "579c7ff4-82ce-4b70-9c70-d4aff0540688",
   "metadata": {},
   "source": [
    "##### Word Splitting on Expansion\n",
    "\n",
    "- Priority: low.  \n",
    "- Synopsis: After the shell has done parameter expansion, command substitution, and arithmetic expansion it will do another round of word splitting.\n",
    "- References:\n",
    "  - https://man7.org/linux/man-pages/man1/bash.1.html#EXPANSION  (see *Word Splitting*)\n",
    "  - https://www.gnu.org/software/bash/manual/bash.html#Word-Splitting\n",
    "- Examples"
   ]
  },
  {
   "cell_type": "code",
   "execution_count": null,
   "id": "88c2c7ba-152b-4e94-a5f7-6c3e502a408f",
   "metadata": {
    "jupyter": {
     "source_hidden": true
    },
    "tags": [
     "remove-input"
    ]
   },
   "outputs": [],
   "source": [
    "bash.run('''x=\"one    two      three\"\n",
    "# after expanding x but before running echo the shell\n",
    "# will again split the expanding output resulting in \n",
    "# this case three arguments to echo\n",
    "echo $x\n",
    "# we can suppress this with quotes\n",
    "echo \"$x\"\n",
    "# we can use other fancy splitting features too\n",
    "y=one:two:three\n",
    "OIFS=$IFS; IFS=:; echo $y; IFS=$OIFS''')"
   ]
  },
  {
   "cell_type": "markdown",
   "id": "e0bd495f-c939-4718-9323-5e888af670b8",
   "metadata": {},
   "source": [
    "##### Filename Expansion\n",
    "\n",
    "- Priority: **Important to know the basics** but the subtle aspects can be left for later.\n",
    "- Synopsis:  A very useful feature of the shell is the ability to provide templates or patterns that will be expanded into the names of files and directories that exist and match the pattern.  The way you state a pattern and the way it is matched can get quit subtle and complex.  But the basic use is easy and can really save you time.   Ater the preceeding expansions are done and the second round of word splitting is complete the shell will scan what is left looking for a special set of characters its recognizes as pattern characters.  The most useful of these is the star `*`. The star will be substituted for any sequence of characters.  As such it is often called the wildcard character since it matches anything.  The shell will then look to see if there are files or directories that match the token subtituting the patterns as necessary.  If matching names exist then it will replace the single token with any matches found.  While this can sound complicated, in practice, the simple uses are straight forward and easy to understand from examples.  You will really want to play with this.\n",
    "- References:\n",
    "  - https://man7.org/linux/man-pages/man1/bash.1.html#EXPANSION  (see *Pathname Expansion* and *Pattern Matching*)\n",
    "  - https://www.gnu.org/software/bash/manual/bash.html#Filename-Expansion\n",
    "  - https://www.gnu.org/software/bash/manual/bash.html#Pattern-Matching\n",
    "- Examples:"
   ]
  },
  {
   "cell_type": "code",
   "execution_count": null,
   "id": "70e971fc-065f-4da5-bcc6-f8be2f8c6af2",
   "metadata": {
    "jupyter": {
     "source_hidden": true
    },
    "tags": [
     "remove-input"
    ]
   },
   "outputs": [],
   "source": [
    "bash.run('''# lots of commands take list of files to operate on\n",
    "# eg. list, copy, word count, search\n",
    "# filename expansion is very convient for flexibly generating\n",
    "# list of existing directories and files.\n",
    "# For example * on its own will expand to all the files that \n",
    "# exist in the current directory.\n",
    "echo *\n",
    "# combining star with parts of a path name can be very powerful.\n",
    "# below will match all files and directories who's name start '/'\n",
    "echo /*\n",
    "# we could restrich this to only once that start with '/l'\n",
    "echo /l*\n",
    "# below will match names of file that begin with \n",
    "# '/usr/include/g' followed by anything and ends with '.h'\n",
    "echo /usr/include/g*.h\n",
    "# we can even use more than one '*'\n",
    "echo /l*/*q*''')"
   ]
  },
  {
   "cell_type": "markdown",
   "id": "bb1b62e1-da0b-43b4-9fc9-6ac8c293bf23",
   "metadata": {},
   "source": [
    "##### Quote Removal\n",
    "- Priority: simple and does what you expect\n",
    "- Synopsis:  Finally any quotes and back-slashes not themselves within quotes or escaped will be removed.  We use generally use quotes to [control word splitting](#quotes_and_splitting_sec) and expansions (see [below](#quotes_and_expansions_sec))\n",
    "This simply is the phase that removes quotes from the tokens as expected.\n",
    "- References:\n",
    "  - https://man7.org/linux/man-pages/man1/bash.1.html#EXPANSION  (see *Quote Removal*)\n",
    "  - https://www.gnu.org/software/bash/manual/bash.html#Quote-Removal\n",
    "- Examples:"
   ]
  },
  {
   "cell_type": "code",
   "execution_count": null,
   "id": "7eec3531-b704-416f-97a0-d46492981c02",
   "metadata": {
    "jupyter": {
     "source_hidden": true
    },
    "tags": [
     "remove-input"
    ]
   },
   "outputs": [],
   "source": [
    "bash.run('''# quotes are removed from the tokens\n",
    "echo \"a\" 'b   c' 'd' \"e f\"\n",
    "# can nest quotes to avoid removal\n",
    "echo 'my \"double quote\"'\n",
    "echo \"my 'single quote'\" \n",
    "# quotes can back-slashes can be also escaped to avoid removal\n",
    "echo \\\\'quote 1\\\\' \\\\\"quote 2\\\\\" \n",
    "echo my back slash \\\\\\\\''')"
   ]
  },
  {
   "cell_type": "markdown",
   "id": "c6d50e8e-e360-43c3-80aa-4627bebfb8f5",
   "metadata": {},
   "source": [
    "<a id=\"quotes_and_expansions_sec\"></a>\n",
    "\n",
    "#### Quoting and Expansions\n",
    "\n",
    "Quotes let us control expansions in a way that is similar to how we could use quotes to [stop commandline splitting](#quotes_and_splitting_sec).  If we want to make sure that no expansions or splitting occurs over a portion of our command line we can enclose it in single quotes `'` `'`.  If we want some expansions to occur but no splitting then we can use double quotes `\"` `\"`. \n",
    "\n",
    "#### Single quotes\n",
    "\n",
    "So when we want a squence of chacaters to be treated, as a literal, exactly as we timed them, we enclose them in single quotes.  This supresses all splitting and expansions."
   ]
  },
  {
   "cell_type": "code",
   "execution_count": null,
   "id": "0879bdbe-9cdb-4c98-8cbe-c2c70d7598e0",
   "metadata": {
    "jupyter": {
     "source_hidden": true
    },
    "tags": [
     "remove-input"
    ]
   },
   "outputs": [],
   "source": [
    "bash.run('''echo 'you get {1..4} /* exactly !#$@$ $what $((1+1)) you type'\n",
    "''')"
   ]
  },
  {
   "cell_type": "markdown",
   "id": "2d9ee9ab-edae-4e4f-908a-4fba6276d5eb",
   "metadata": {},
   "source": [
    "#### Double quotes\n",
    "\n",
    "Doubles quotes provide us with something in between no quotes and single quotes.  They let us ensure that the enclosed text will be treated as a single token however cetain expansions are still processed prior to the command being executed.  All expansions that use the `$` as a prefix will still occur. \n"
   ]
  },
  {
   "cell_type": "markdown",
   "id": "88a29bc9-ebb7-420c-8e16-9c21d33bbfcc",
   "metadata": {},
   "source": [
    "### Step 3: Parse Redirections\n",
    "\n",
    "To fully understand what it means to parse redirections we must have a more complete understanding of how commands are run and the UNIX I/O model -- how a program can conduct input and output.    This understanding will take us a little time as it involves concepts such as Processes, Streams and Files and how they inter-relate.  At this point we take a simple view that we will build upon in time.  \n",
    "\n",
    "#### Processes\n",
    "\n",
    "As we go our understanding of what a process is will become more and more advanced.  For the moment our simple working definition will be a running program other than the kernel.   The shell we interact with is a process and the commands that we run from the shell run within it or as new processes.   We will look at this distinction in more detail when we discuss internal built-in versus external commands.   Regardless the commands we issue run as a process.\n",
    "\n",
    "The Parse Redirections step is is all about controlling where the input and out for a process, comes from or goes to.  \n",
    "\n",
    "#### Streams: Standard Input, Output and Error\n",
    "\n",
    "UNIX provides three default \"streams\" that a process can use for its input and output.  The default streams are called: Standard Input, Standard Output and Standard Error.  A process can ignore these if it wants but most commands by default use these streams.  A stream is a connection to a source or destination for reading or writing bytes.  A process read bytes from a stream via `read` calls to the kernel. Such a stream is an input stream.  Similarly a stream that a process can write bytes to, via `write`  kernel calls, is an output stream.   As implied by the name a stream is like a \"flow\" of bytes.  Reading bytes from an input stream successively gets bytes from the source it is connected to.    Writing bytes to a stream successively sends more and more bytes to the connected destination.  \n",
    "\n",
    "\n",
    "#### ASCII streams\n",
    "\n",
    "What the bytes \"mean\" or what will be done with them is up to the process. Most of the daily UNIX commands we use assume ASCII line oriented data.  This means that most commands expect that the bytes they read from their standard input will be bytes that encode ASCII lines of data.  Similarly we can expect most commands to write ASCII lines of data to their standard output and error streams.  \n",
    "\n",
    "##### Standard Error\n",
    "\n",
    "The UNIX designers knew that it is very common to have commands produce \"normal\" output and \"error\" output.  To support this separation they decided to make it standard that processes get both, a standard output and error stream.  \n",
    "\n",
    "By convention when UNIX commands are being developed by a programmer they write them to send their \"normal\" output to the standard out stream.    When the programmer of a command wants to send error messages or warning messages they use the standard error stream.  This allows some one using a command to easily direct normal output to one destination and error output to another.   Eg. they might decide they want to ignore and hide all warning messages by redirecting the error stream to a different destination.   While for the most part we don't normally use this extra flexibility there are times when it comes in is very handy.  \n",
    "\n",
    "\n",
    "#### Streams and Files\n",
    "\n",
    "But where exactly do the bytes for a stream come from or go to?\n",
    "A common phrase that you may hear is that in UNIX everything is a file.  From this perspective streams are connections to files that allow a command to read or write the data of the file.   \n",
    "\n",
    "The designers of UNIX decided that they would try and represent all locations that might serve as a source or destination of data as files.  This includes even devices such as terminals.  To this end the UNIX kernel represents the majority of the devices of a computer as files that a stream can be connected too.   Reading from an input stream connected to a device \"file\" gets data from that device.  Writing to an output stream connected to a device file sends data to the device.\n",
    "\n",
    "#### Opening streams and File Descriptors\n",
    "\n",
    "To connect a stream a program makes an \"open\" kernel call.  As part of the open call the program passes the path name of the file to connect the stream to and also specifies if the connection is for input or output (or both).  If successful the kernel will establish the connection.  \n",
    "\n",
    "For every process, running program, the kernel maintains a table of open streams. This table is called a file descriptor table.  Each entry in the table is either empty or not empty.  If empty the entry does not hold a description of an open stream.  If it is not empty then it does contain the information that describes an open stream.  The kernel can then use this descriptor information to operate on the stream, eg. read or write bytes to it.\n",
    "\n",
    "When an open call is made the kernel scans the table for next empty location and then stores the descriptor information about the newly open stream into that location.  The index of this newly populated table entry is returned back to the process.  \n",
    "\n",
    "Historically these indexes are themselves called **File Descriptor** numbers.  All the kernel operations on a stream, such as read and write, require a file descriptor so that the kernel knows what stream to operate on.  \n",
    "\n",
    "The first three  file descriptors; 0, 1, and 2 are the where connections for standard input, output and error are expected to be. \n",
    "\n",
    "```{tip} \n",
    "The UNIX kernel also provides other operations that let's a process control its file descriptors.  This includes the ability to close and and mark one as empty via the `close` system call.  It also lets a process control its table of file descriptors via system calls such as `dup` and `dup2` that duplicate/copy table entries.\n",
    "```\n",
    "\n",
    "#### Terminals and Streams\n",
    "\n",
    "As we read an ASCII terminal provides a natural way for humans to both receive and send ASCII line oriented data.  When we connect to a UNIX system via a new terminal the kernel starts a shell for us and connects its standard streams to the particular device file that represents our terminal.   When the shell writes bytes such as the prompt to its standard output we see it in the terminal it is \"connected\" too.  Similarly when we type characters into the terminal the shell will receive them when it reads from its standard input.  \n",
    "\n",
    "\n",
    "#### Defaults\n",
    "\n",
    "When the shell runs a command it establishes what the commands standard input, output and error streams will be connected to.  The default is to connect them to the same streams that the shell is connected to.  In most cases this will be the terminal that the shell is interacting with.    This is the reason the input and output of a command, by default come from and go to the terminal, we are working within.  \n",
    "\n",
    "\n",
    "#### Overriding the defaults\n",
    "\n",
    "Once steps 1 and 2 of command line processing have completed the shell has identified one or more commands along with arguments that we want executed.   In addition to commands and their arguments the shell gives us the ability to control where the input and output streams for a program might come from and go to.\n",
    "    \n",
    "As stated above if we don't use any of the special redirection support then the defaults will be used.   If however we use the redirection syntax then we can have the shell control what file descriptors a command will have open and where they will be connected to before they run.  While there are many advanced uses of the redirection syntax basic usage is straight forward.  \n",
    "    \n",
    "When discussing command line splitting we introduced that `<` and `>` are <a href=\"#meta_def\">metacharacters</a>.  Their primary use is to specify redirections.  The greater than character,  `>`,  is used to control output stream redirection. Conversely, the less than, `<` character is used to control input stream redirection.\n",
    "  \n",
    "The following examples introduce the basics. See the references for details of the syntax and more advanced uses.\n",
    "\n",
    "References:\n",
    "  - https://man7.org/linux/man-pages/man1/bash.1.html#REDIRECTION\n",
    "  - https://www.gnu.org/software/bash/manual/bash.html#Redirections\n",
    "  \n",
    "  \n",
    "#### Redirection Examples\n",
    "    \n",
    "In theses examples we will use  the `date`, `ls`, `cat`,  and `file` commands.  \n",
    "  \n",
    "- The `file` command, tells the \"type\" of the file that we specify as an argument.  We will use it to tell when we a file is a device file versus a regular file. \n",
    "- The `cat` command, by default, if no arguments are specified, reads bytes from the standard input stream and writes them to the standard output stream.  \n",
    "- The `ls` command, as we have seen, lists the contents of the specified directory to standard output.  By default, if no arguments are given then `ls` will list the contents of the current working directory.  \n",
    "- Finally the `date` command, if no arguments are given prints the current date and time to the standard output stream."
   ]
  },
  {
   "cell_type": "markdown",
   "id": "c9e9f54e-c58d-4fdb-b811-f3d82c4cc754",
   "metadata": {},
   "source": [
    "##### Standard output and redirection\n",
    "\n",
    "Let's start with the basics.  `date`"
   ]
  },
  {
   "cell_type": "code",
   "execution_count": null,
   "id": "44b52614-2f79-440a-b830-ed30ccf51779",
   "metadata": {
    "jupyter": {
     "source_hidden": true
    },
    "tags": []
   },
   "outputs": [],
   "source": [
    "bash.run('''date''')"
   ]
  },
  {
   "cell_type": "markdown",
   "id": "a6959b61-1ca0-45cf-9455-fe90ec28ff00",
   "metadata": {},
   "source": [
    "A command line of `date` command alone displays its output to us.  But why? Further how can we change this?\n",
    "\n",
    "The `bash` process that launches the date command as a new process provides this new process with a copy of its open streams.  An interactive bash process that is connected to a terminal will have its streams \n",
    "- standard input stream (fd 0), \n",
    "- standard output (fd 1), and \n",
    "- standard error (fd 2) \n",
    "\n",
    "All connected to a device file that the kernel provides to represent the terminal the `bash` process was started from.\n",
    "\n",
    "As it turns out we can use a  command line to determine what files a process's standard streams are connected too on Linux. Specifically, the following will let us determine what files the standard streams, of the current bash we are interacting with, are connected too:\n",
    "\n",
    "```bash\n",
    "ls -l /proc/$$/fd/{0..2}\n",
    "```\n",
    "\n",
    "We will deffer understanding exactly how this command line works till later when we discuss process identifiers."
   ]
  },
  {
   "cell_type": "code",
   "execution_count": null,
   "id": "d66e8af9-de0c-4220-8285-13634172698e",
   "metadata": {
    "jupyter": {
     "source_hidden": true
    },
    "tags": [
     "remove-input"
    ]
   },
   "outputs": [],
   "source": [
    "bash.run('''ls -l /proc/$$/fd/{0..2}''')"
   ]
  },
  {
   "cell_type": "code",
   "execution_count": null,
   "id": "caaf898b-8192-475f-9db9-2e8d19c3b563",
   "metadata": {
    "jupyter": {
     "source_hidden": true
    },
    "tags": [
     "remove-input"
    ]
   },
   "outputs": [],
   "source": [
    "bash_pid=bash.getPid()\n",
    "bash_stdout=os.path.realpath(\"/proc/\" + bash_pid.__str__() + \"/fd/1\")\n",
    "bash.run(\"file \" + bash_stdout)"
   ]
  },
  {
   "cell_type": "code",
   "execution_count": null,
   "id": "cdd7f0e4-fb88-4c20-8b97-0ad2d6c8bef5",
   "metadata": {
    "jupyter": {
     "source_hidden": true
    },
    "tags": [
     "remove-input"
    ]
   },
   "outputs": [],
   "source": [
    "display(Markdown(\"What we see is that all three file descriptors (0,1,2) are pointing to the same file (\" + bash_stdout + \") .  Using the `file` command we can find out if this file is a special device file or a regular file.\")  )"
   ]
  },
  {
   "cell_type": "markdown",
   "id": "e1afc2ed-e75a-456d-a820-0e105bd45f16",
   "metadata": {},
   "source": [
    "Indeed we see that it is a \"character special\" file.  Which is the type of special file that terminals are in UNIX.    With this in mind let's explore the standard output redirection.\n",
    "\n",
    "Using the redirection syntax the following is the equivalent to what is happening by default. "
   ]
  },
  {
   "cell_type": "code",
   "execution_count": null,
   "id": "6d8b6b90-74f6-4417-9327-66d89589ef2c",
   "metadata": {
    "jupyter": {
     "source_hidden": true
    }
   },
   "outputs": [],
   "source": [
    "bash.run(\"date > \" + bash_stdout)"
   ]
  },
  {
   "cell_type": "markdown",
   "id": "2d1e0653-9b7f-471c-9eec-01e9175a59ed",
   "metadata": {},
   "source": [
    "Namely the process started to run date has its standard output connected to the same file that the shell process that launched it has as its standard output destination. "
   ]
  },
  {
   "cell_type": "markdown",
   "id": "dd7ececd-476a-4bbb-a121-eb0f6d8bcf2f",
   "metadata": {},
   "source": [
    "Now using what we know we can ask the shell to set the destination for standard output to a different file.  Doing so ensures that any output the command sends to its standard output stream (fd 1) will automatically be sent to the new destination. Eg.\n"
   ]
  },
  {
   "cell_type": "code",
   "execution_count": null,
   "id": "1cd1cbae-d940-4b2b-9da4-76632a29485d",
   "metadata": {
    "jupyter": {
     "source_hidden": true
    },
    "tags": [
     "remove-input"
    ]
   },
   "outputs": [],
   "source": [
    "bash.run('''ls\n",
    "date > mydate\n",
    "ls''')"
   ]
  },
  {
   "cell_type": "markdown",
   "id": "0672ffee-7eb3-4ba4-b201-fa48847e0fe2",
   "metadata": {},
   "source": [
    "What we see that by providing our own path name for the destination file the shell:\n",
    "1. created the new file\n",
    "2. ran the date command in a new process with the new file connected to the process's standard output\n",
    "\n",
    "As such we don't see any output from `date > mydate`.  Instead we see that the new file exists and we assume its contents contains the output from running `date`.  To confirm this we can use the `cat` command.  Passing file names as arguments to `cat` causes it to open the specified files and copy their contents to standard output.  "
   ]
  },
  {
   "cell_type": "code",
   "execution_count": null,
   "id": "2527bb27-b146-4f1a-b2c8-e0d5cf0b0983",
   "metadata": {
    "jupyter": {
     "source_hidden": true
    },
    "tags": [
     "remove-input"
    ]
   },
   "outputs": [],
   "source": [
    "bash.run(\"cat mydate\")"
   ]
  },
  {
   "cell_type": "code",
   "execution_count": null,
   "id": "c575b3e9-1b16-4654-a32d-122795254219",
   "metadata": {
    "jupyter": {
     "source_hidden": true
    },
    "tags": []
   },
   "outputs": [],
   "source": [
    "display(Markdown(\"Given what we know, the above is really \" + \n",
    "                 \"copying the contents of `myfile` to the default \" + \n",
    "                 \"file connected to the standard output of the process running `cat`. \" + \n",
    "                 \"Which of course is the file the shell connects to the process standard output, \" + \n",
    "                 \"defaulting to the shell's standard out destination.\" +\n",
    "                 \"  Which we saw in our case to be `\" + bash_stdout + \"`.\"))"
   ]
  },
  {
   "cell_type": "markdown",
   "id": "e6e8ac24-1871-4f92-b2a7-2129931c8760",
   "metadata": {},
   "source": [
    "Which means that the above is the equivalent to:"
   ]
  },
  {
   "cell_type": "code",
   "execution_count": null,
   "id": "421d7b1e-a30e-4c4e-baff-4df4489054b2",
   "metadata": {
    "jupyter": {
     "source_hidden": true
    },
    "tags": [
     "remove-input"
    ]
   },
   "outputs": [],
   "source": [
    "bash.run(\"cat mydate > \" + bash_stdout)"
   ]
  },
  {
   "cell_type": "markdown",
   "id": "3ec5396a-1ed8-4b72-a602-3221da760a2b",
   "metadata": {},
   "source": [
    "As you can see, given that \"everything is a file\", the `cat` command, which simply copies bytes to its standard output becomes very powerful given redirection.  "
   ]
  },
  {
   "cell_type": "markdown",
   "id": "4f088017-277d-427d-8dc3-307f16cfcbba",
   "metadata": {},
   "source": [
    "Using redirection how could we copy the contents of `mydate` to a file called `mydate.old`?"
   ]
  },
  {
   "cell_type": "code",
   "execution_count": null,
   "id": "0f27ee97-5311-4131-86c3-a5c15c8dc044",
   "metadata": {
    "jupyter": {
     "source_hidden": true
    },
    "tags": [
     "remove-input"
    ]
   },
   "outputs": [],
   "source": [
    "Answer('''\n",
    "> `cat mydate > mydate.old`\n",
    "''')"
   ]
  },
  {
   "cell_type": "markdown",
   "id": "62fc8fd6-c0c5-4790-b6bd-79d5983031aa",
   "metadata": {},
   "source": [
    "###### Appending to a file\n",
    "\n",
    "Before we go on to look at standard input redirection.  Let's look at what happens if we redirect to an existing file.  When we use the `>` syntax  the shell will:\n",
    "1. As we saw, if the file does not exist it will create a new file and direct all output of the specified command into that file.\n",
    "2. However, if the file does exist it will open the file and truncate it's contents before setting the file up as the standard output.   In other words, redirecting to an existing normal file will replace the file's entire contents with the new output. \n",
    "\n",
    "For example:"
   ]
  },
  {
   "cell_type": "code",
   "execution_count": null,
   "id": "b6cf87f9-cd1c-4d76-8c50-30e77cc6ec71",
   "metadata": {
    "jupyter": {
     "source_hidden": true
    },
    "tags": [
     "remove-input"
    ]
   },
   "outputs": [],
   "source": [
    "bash.run('''cat mydate\n",
    "date > mydate\n",
    "cat mydate\n",
    "sleep 10 # use the sleep command to wait 10 seconds\n",
    "date > mydate\n",
    "cat mydate''')"
   ]
  },
  {
   "cell_type": "markdown",
   "id": "d52620da-53e3-42c4-a51b-daa20544080c",
   "metadata": {},
   "source": [
    "However, there are times that we might want to add to the end of an existing file rather than truncating it and replacing its contents.  To do this we use two greater than symbols instead of one.  Eg. `date >> mydate`.  In this case the shell will not truncate the file instead it will open the file for appending ensuring that the output of the new command is added starting at the current end of the file.  \n"
   ]
  },
  {
   "cell_type": "code",
   "execution_count": null,
   "id": "5b801bba-48f8-4af4-9381-f5fa066f8fd5",
   "metadata": {
    "jupyter": {
     "source_hidden": true
    },
    "tags": [
     "remove-input"
    ]
   },
   "outputs": [],
   "source": [
    "bash.run('''cat mydate\n",
    "date >> mydate\n",
    "cat mydate\n",
    "sleep 10 # use the sleep command to wait 10 seconds\n",
    "date >> mydate\n",
    "cat mydate''')"
   ]
  },
  {
   "cell_type": "markdown",
   "id": "7bc63a45-b048-4d24-97b7-e28bb738bea8",
   "metadata": {},
   "source": [
    "```{note}\n",
    "**nocolobber:** As we saw the default behavior when we redirect output to an existing file is to truncate and replace its contents.  In other words we silently \"clobber\" the file.  You can override this default behavior so that an error is reported if a redirection would \"clobber\" the contents of an existing file.\n",
    "See https://www.gnu.org/software/bash/manual/bash.html#Redirecting-Output and https://www.gnu.org/software/bash/manual/bash.html#The-Set-Builtin (specifically the -C option) \n",
    "```"
   ]
  },
  {
   "cell_type": "markdown",
   "id": "6f234bc8-eb2c-42d3-8be1-e46ef9b790bd",
   "metadata": {},
   "source": [
    "##### Standard Input redirection \n",
    "\n",
    "Similar to Standard output redirection we can ask the shell to override the file that is connected to a commands standard input stream (fd 0).   The symbol we use for this is the less than character `<`.  \n",
    "\n",
    "For these examples we need to now look more carefully at how UNIX programs deal with input.    When we provide no arguments to `cat` it will read bytes from standard input and send its contents to standard output.  Given what we know then we can copy bytes from our terminal connection to a file by simply running.  "
   ]
  },
  {
   "cell_type": "code",
   "execution_count": null,
   "id": "317183de-ca1d-43b7-9985-01159b6f9ed7",
   "metadata": {
    "jupyter": {
     "source_hidden": true
    },
    "tags": [
     "remove-input"
    ]
   },
   "outputs": [],
   "source": [
    "cat = BashSession()\n",
    "cat.rawWriteAllOutput('''cat\n",
    "''', sendEOF=False)"
   ]
  },
  {
   "cell_type": "markdown",
   "id": "32ce57f8-5c55-41b7-a65f-2717e64c3124",
   "metadata": {},
   "source": [
    "Now any line we send from the terminal, connected to the standard input of `cat`, will be copied to it's standard output, which again is the terminal.  As such we see a copy of the line back on the terminal."
   ]
  },
  {
   "cell_type": "code",
   "execution_count": null,
   "id": "9a189d3a-e6db-43a2-b55a-84dae0f1fca2",
   "metadata": {
    "jupyter": {
     "source_hidden": true
    },
    "tags": [
     "remove-input"
    ]
   },
   "outputs": [],
   "source": [
    "cat.rawWriteAllOutput('''hello\n",
    "''', sendEOF=False)"
   ]
  },
  {
   "cell_type": "markdown",
   "id": "73ae9903-ab22-4769-bbb0-199a0cceafb6",
   "metadata": {},
   "source": [
    "Now every line we type will continue to be sent to `cat` and hence get sent back to the terminal"
   ]
  },
  {
   "cell_type": "code",
   "execution_count": null,
   "id": "945d0905-1004-44ae-8c92-ceaf00d6937e",
   "metadata": {
    "jupyter": {
     "source_hidden": true
    },
    "tags": [
     "remove-input"
    ]
   },
   "outputs": [],
   "source": [
    "cat.rawWriteAllOutput('''goodbye\n",
    "''', sendEOF=False)"
   ]
  },
  {
   "cell_type": "markdown",
   "id": "128f29d7-7068-4581-acca-e84a2ce7c947",
   "metadata": {},
   "source": [
    "To end the `cat` process, and return back to interacting with the shell, we must ask the kernel to simulate an \"end of file\".  To do this we can press the `control` key and `d` at the terminal ('ctrl-d').  This tells the kernel to signal to `cat` that its standard input stream  is at it's end.   Which in turn caused `cat` to exit and for us to get back to interacting with `bash`. "
   ]
  },
  {
   "cell_type": "code",
   "execution_count": null,
   "id": "c7934ded-941a-4641-921c-7560768a547b",
   "metadata": {
    "jupyter": {
     "source_hidden": true
    },
    "tags": [
     "remove-input"
    ]
   },
   "outputs": [],
   "source": [
    "cat.rawWriteAllOutput('')"
   ]
  },
  {
   "cell_type": "code",
   "execution_count": null,
   "id": "d579f038-74e3-4e5e-becf-96094ab0cb4f",
   "metadata": {
    "jupyter": {
     "source_hidden": true
    },
    "tags": [
     "remove-cell"
    ]
   },
   "outputs": [],
   "source": [
    "del cat"
   ]
  },
  {
   "cell_type": "markdown",
   "id": "f87c3f60-dc1d-4185-812f-c56922da1731",
   "metadata": {},
   "source": [
    "So now we can use `cat` and redirection to send data from our terminal to a file."
   ]
  },
  {
   "cell_type": "code",
   "execution_count": null,
   "id": "665acfa4-2eae-4240-bffa-c808d2a22100",
   "metadata": {
    "jupyter": {
     "source_hidden": true
    },
    "tags": [
     "remove-input"
    ]
   },
   "outputs": [],
   "source": [
    "cat = BashSession()\n",
    "cat.run(\"ls\")\n",
    "cat.rawWriteAllOutput('''cat > myfile\n",
    "hello\n",
    "goodbye\n",
    "''')"
   ]
  },
  {
   "cell_type": "markdown",
   "id": "9cf07f6f-c8b0-4a46-a018-78a1729aa180",
   "metadata": {},
   "source": [
    "Now we can use `cat` and redirection to send the data from the file back to the terminal."
   ]
  },
  {
   "cell_type": "code",
   "execution_count": null,
   "id": "d58ce62a-81b6-4082-a2b8-40b78e027c3b",
   "metadata": {
    "jupyter": {
     "source_hidden": true
    },
    "tags": []
   },
   "outputs": [],
   "source": [
    "cat.run('''ls\n",
    "cat < myfile''')"
   ]
  },
  {
   "cell_type": "markdown",
   "id": "b0a34f48-3eb2-4dd3-8da8-424b3f2d6678",
   "metadata": {},
   "source": [
    "Add of course use `cat` append to the file"
   ]
  },
  {
   "cell_type": "code",
   "execution_count": null,
   "id": "55ed3eb0-a2bf-47c4-8cb1-8774ab363ef9",
   "metadata": {
    "jupyter": {
     "source_hidden": true
    },
    "tags": [
     "remove-input"
    ]
   },
   "outputs": [],
   "source": [
    "bash.rawWrite('''cat >> myfile\n",
    "some more text\n",
    "to be or not to be...\n",
    "''')"
   ]
  },
  {
   "cell_type": "code",
   "execution_count": null,
   "id": "28c1aa49-a28e-43e6-93bc-6895c86b3668",
   "metadata": {
    "jupyter": {
     "source_hidden": true
    },
    "tags": [
     "remove-input"
    ]
   },
   "outputs": [],
   "source": [
    "cat.run('''cat < myfile''')"
   ]
  },
  {
   "cell_type": "markdown",
   "id": "8f21b95c-6010-449e-bba4-f808558ae3ac",
   "metadata": {},
   "source": [
    "And finally we can combine input and output redirection to copy regular files."
   ]
  },
  {
   "cell_type": "code",
   "execution_count": null,
   "id": "576f2a3e-79e4-4774-9a43-ab21657538b4",
   "metadata": {
    "jupyter": {
     "source_hidden": true
    },
    "tags": [
     "remove-input"
    ]
   },
   "outputs": [],
   "source": [
    "bash.run('''cat < myfile > anotherfile''')"
   ]
  },
  {
   "cell_type": "code",
   "execution_count": null,
   "id": "d3e6ae0e-3665-46ef-8720-fcaa82f4d6fc",
   "metadata": {
    "jupyter": {
     "source_hidden": true
    },
    "tags": [
     "remove-input"
    ]
   },
   "outputs": [],
   "source": [
    "bash.run('''ls\n",
    "cat < anotherfile''')"
   ]
  },
  {
   "cell_type": "markdown",
   "id": "71a30bf1-20bc-4fd8-970e-c412c301aa59",
   "metadata": {},
   "source": [
    "We can specify basic redirection in any order we like."
   ]
  },
  {
   "cell_type": "code",
   "execution_count": null,
   "id": "0bce4377-c4ef-4504-b48a-19597af3f067",
   "metadata": {
    "jupyter": {
     "source_hidden": true
    },
    "tags": [
     "remove-input"
    ]
   },
   "outputs": [],
   "source": [
    "bash.run('''cat >> anotherfile < myfile\n",
    "cat < anotherfile''')"
   ]
  },
  {
   "cell_type": "code",
   "execution_count": null,
   "id": "f1f73d1d-43cf-4a56-8317-af3b7f90fb16",
   "metadata": {
    "jupyter": {
     "source_hidden": true
    },
    "tags": [
     "remove-cell"
    ]
   },
   "outputs": [],
   "source": [
    "del cat"
   ]
  },
  {
   "cell_type": "markdown",
   "id": "838aacce-52fa-4a0e-aae0-b9c0b4397c39",
   "metadata": {},
   "source": [
    "##### Pipes\n",
    "\n",
    "The UNIX kernel provides another very powerful model for using redirection called pipes. The basic idea is to allow the output from one running program to be connected to the input to another running program.  This is accomplished by combining output and input redirection of two processes through a special kernel provided file called a pipe.  \n",
    "\n",
    "The shell offers special syntax for exploiting pipes to start and connect several programs to form a chain of processes called a pipeline.   Pipelines are a hallmark of the UNIX command line environment and we discuss them more detail in the [Pipelines](#pipeline:sec) section. "
   ]
  },
  {
   "cell_type": "markdown",
   "id": "6d135555-483d-4ab0-8f12-a4bc1851ea3b",
   "metadata": {},
   "source": [
    "##### Standard Error redirection\n",
    "\n",
    "Shells also typically permit you to redirect standard error independently from standard output.  In `bash` this can be accomplished by the more general syntax of `n>` where `n` is a file descriptor number.   Using this syntax we can redirect standard error with `2>`\n",
    "\n",
    "For example Lets assume that the file `foo` does not exist.  When we run `cat foo mydate`, `cat` will send an error message to standard error saying that the file `foo` does not exist and then go on to open `mydate` and send its contents to standard output\n"
   ]
  },
  {
   "cell_type": "code",
   "execution_count": null,
   "id": "22a11ad7-dfb3-4701-9f02-f02f9fd92532",
   "metadata": {
    "jupyter": {
     "source_hidden": true
    }
   },
   "outputs": [],
   "source": [
    "bash.run(\"cat foo mydate\")\n"
   ]
  },
  {
   "cell_type": "markdown",
   "id": "34a0bd02-1970-47d0-893e-189d0cf8a199",
   "metadata": {},
   "source": [
    "To redirect the error output to an separate file we can use the following:"
   ]
  },
  {
   "cell_type": "code",
   "execution_count": null,
   "id": "b16857a3-e7f7-41da-af02-034a3f562fbb",
   "metadata": {
    "jupyter": {
     "source_hidden": true
    },
    "tags": []
   },
   "outputs": [],
   "source": [
    "bash.run('''cat foo mydate 2> errors\n",
    "ls\n",
    "cat errors''')"
   ]
  },
  {
   "cell_type": "markdown",
   "id": "72c1ca6b-0a96-4cec-9c5c-a69eefb3afcf",
   "metadata": {},
   "source": [
    "Similarly we can append using `n>>`."
   ]
  },
  {
   "cell_type": "code",
   "execution_count": null,
   "id": "c23a1bca-ba3e-44c7-8c67-e357fd1f44b6",
   "metadata": {
    "jupyter": {
     "source_hidden": true
    }
   },
   "outputs": [],
   "source": [
    "bash.run('''cat errors\n",
    "cat mydate bar mydate goo 2>> errors\n",
    "cat errors''')"
   ]
  },
  {
   "cell_type": "markdown",
   "id": "4e6d2d21-cc5b-4635-be82-31e1962fc3eb",
   "metadata": {},
   "source": [
    "```{tip}    \n",
    "In addition to the devices files that represent hardware such as terminals, printers, etc., the kernel also provides some really useful special files that we can use.  Here are a few: 1)`/dev/null` - anything written to this file is thrown away.  This can be really useful when you want to silence the output of a command. 2) `/dev/zero` - This file is an infinite stream of zero valued bytes. 3)`/dev/random` - This file is an infinite stream of random valued bytes. In time you will find that combining such files with the standard UNIX commands and redirection lets you do a lot.\n",
    "```"
   ]
  },
  {
   "cell_type": "markdown",
   "id": "1864bdf5-1d2a-4c0d-a46e-8441003dd956",
   "metadata": {
    "tags": []
   },
   "source": [
    "### Step 4: Execute the command"
   ]
  },
  {
   "cell_type": "markdown",
   "id": "3b664a22-4003-4cfb-b225-a5838f8e6c5a",
   "metadata": {},
   "source": [
    "Once we reach step 4 of command line processing the shell will have:\n",
    "1. identified the names of commands to be executed\n",
    "2. a set of arguments, if any, to pass to the commands\n",
    "3. how to directed the input and output streams of the commands\n",
    "\n",
    "As an example consider the following command line:\n",
    "\n",
    "```bash\n",
    "ls /etc > ${HOME}/etc.txt \n",
    "```\n",
    "\n",
    "At the start of step 4 the above will have been broken down into the execution of a single command:\n",
    "\n",
    "- **command name:** ls\n",
    "- **arguments:**\n",
    "    1. /etc\n",
    "- **redirections:**\n",
    "    - **standard out:** /home/jovyan/etc.txt\n",
    "    \n",
    "        Where `${HOME}` triggered variable expansion.  The value of the `HOME` shell variable is the path name of the users home directory.  In our case it happens to be `/home/jovyan`.  This could be a different value depending on the UNIX system you are on and your user name.\n",
    "\n",
    "The goal now is to  \"execute\" the command passing the arguments with the appropriate redirection setup. \n",
    "\n",
    "```{important}\n",
    "The way this step works is critical to the flexibility and power the shell provides. It is why as a programmer you can easily extend and customize the UNIX command line environment with the programs and scripts you write.\n",
    "```\n",
    "\n",
    "Let's now recall the flow chart of command line processing so that we can focus on the sub-steps of command execution."
   ]
  },
  {
   "cell_type": "code",
   "execution_count": null,
   "id": "3a5eb0ea-ef59-41c2-a308-50557399f98f",
   "metadata": {
    "jupyter": {
     "source_hidden": true
    },
    "tags": [
     "remove-input"
    ]
   },
   "outputs": [],
   "source": [
    "display(HTML(htmlFig(\n",
    "    [[\n",
    "        {'src':\"../images/shellexecuteflowchart.png\",\n",
    "         'cellwidth': '80%',\n",
    "        'bgcolor': 'white' },\n",
    "     ]],\n",
    "    id=\"fig:executessteps\",\n",
    "    caption=\"Figure: Flow chart of command line processing steps.\"\n",
    ")))"
   ]
  },
  {
   "cell_type": "markdown",
   "id": "b317bf37-0d20-4ead-9a64-55e423fed0c5",
   "metadata": {},
   "source": [
    "In the case of our example command line the following outlines how execution would proceed in terms of the flowchart of sub-steps.\n",
    "- *DECISION 1:*  The command name `ls` does not have a `/` in it so we would proceed from decision one to decision two.  \n",
    "- *DECISIONS 2 & 3:* As it happens `ls` is not a user shell `function` nor a `builtin` command. So we will proceed to decision four.  \n",
    "- *DECISION 4:* In our case `ls` matches the name of file the `/usr/bin/ls` as `/usr/bin` is listed in our PATH variable.  As such the command `ls` triggers step B: \"execute as external command\" \n",
    "- *STEP B:* The shell requests the kernel to start the executable `/usr/bin/ls` as a new process.  \n",
    "    - With `/etc` passed as the first argument to the new process and \n",
    "    - with the standard output of this process being directed to a file `/home/jovyan/etc.txt`.\n",
    "  \n",
    "  Assuming all goes well we would end up at decision 7.   \n",
    "- *DECISION 7:* By default all commands are started synchronously so we would proceed to the final read step.  \n",
    "- The shell would wait for the newly created `ls` process to exit, gathering its exit status.\n",
    "\n",
    "At this point we don't know how to exactly how to verify the above nor what each decision and step means.  The following discusses the execution sub-steps in more detail and how they interact.  "
   ]
  },
  {
   "cell_type": "markdown",
   "id": "76e1a3ab-7fcf-46df-9d38-fc8b15743c0e",
   "metadata": {},
   "source": [
    "#### Builtin vs Externals\n",
    "\n",
    "The two core types of command execution are:\n",
    "1. builtin  (steps A)\n",
    "2. external (step B) \n",
    "\n",
    "##### Builtins\n",
    "Builtin commands are those that are directly part of the shell program.  In other words the shell has a name of an internal command (builtin) that matches the command name specified. \n",
    "\n",
    "Examples of these include: `help`, `echo`, `cd`, `print`.  To see what builtin commands are available you can use the `help` command.  "
   ]
  },
  {
   "cell_type": "code",
   "execution_count": null,
   "id": "d2b3d413-99e9-41be-bfd8-b1318082f3c3",
   "metadata": {
    "jupyter": {
     "source_hidden": true
    },
    "tags": [
     "output_scroll"
    ]
   },
   "outputs": [],
   "source": [
    "bash.run(\"help\", height='10em')"
   ]
  },
  {
   "cell_type": "markdown",
   "id": "1bb97b14-5cec-4292-b979-be9f7e9d17f2",
   "metadata": {},
   "source": [
    "As stated in the output of the help command you can use `help <cmd>` to get more information about a particular command.  "
   ]
  },
  {
   "cell_type": "code",
   "execution_count": null,
   "id": "7bae1ffb-d0e5-48a3-a981-629cfe6d624e",
   "metadata": {
    "jupyter": {
     "source_hidden": true
    },
    "tags": [
     "remove-input"
    ]
   },
   "outputs": [],
   "source": [
    "bash.run(\"help echo\", height='10em')"
   ]
  },
  {
   "cell_type": "markdown",
   "id": "e50dd2b3-4576-4522-95c6-9b8399cf38cb",
   "metadata": {},
   "source": [
    "```{important} \n",
    "Note the help command also points you to other great resources (the `info` and `man` commands)\n",
    "```"
   ]
  },
  {
   "cell_type": "markdown",
   "id": "e7af25c5-3e44-45a0-9c80-196bcd01f8af",
   "metadata": {},
   "source": [
    "##### External \"Shell Commands\"\n",
    "\n",
    "Perhaps one of the coolest things about the shell, and more generally UNIX, is the way everything is broken down into small building blocks.  Rather than building the majority of the UNIX commands into the shell the designers choose to provide an easy way of making additional external programs automatically found and launched.  As matter of fact, philosophically, the original idea was to keep the number of builtins as small as possible. \n",
    "\n",
    "In this way the job of the shell stays focused on the syntax for interacting with a human user and the launching of additional commands as processes.  The external programs that one adds to the system can each focus on adding a single new ability.  Eg. A program that lists the contents of a directory to its standard output (`ls`), a program that copies its standard input stream to its standard output stream (`cat`), a program that lists all the current processes (`ps`).  \n",
    "This \"separation of concerns\" not only allows for a great deal of flexibility in adding commands, it also means that one can have several different version of shell programs.  Where each shell version provides its own take on the syntax but they all can reuse the existing commands.  \n",
    "\n",
    "\n",
    "This separation of concerns approach, empowers and encourages programmers:\n",
    "- A programmer can easily grow the system by added a new \"command\"\n",
    "- A programmer can focus each new command she writes on a single task.  \n",
    "- A programmer can easily override the default commands by simply installing their own programs which are found before the standard one\n",
    "\n",
    "Over the years the flexibility of this approach and the popularity of UNIX has lead to the development of a very large set of programs that one can add to the system and treat as commands.  Although they are often referred to as *\"Shell Commands\"* they are not really builtin to an given shell.  \n",
    "\n",
    "Today, when people talk about knowing UNIX commands they, generally are referring to a set of external programs that have evolved into a standard.   The following Wikipedia page documents such a list."
   ]
  },
  {
   "cell_type": "code",
   "execution_count": null,
   "id": "4e31d786-5a90-41fb-bc69-90faeef3b55b",
   "metadata": {
    "jupyter": {
     "source_hidden": true
    },
    "tags": [
     "remove-input",
     "output_scroll"
    ]
   },
   "outputs": [],
   "source": [
    "display(IFrame(\"https://en.wikipedia.org/wiki/List_of_Unix_commands\", height=600, width=\"100%\"))"
   ]
  },
  {
   "cell_type": "markdown",
   "id": "50847950-7307-493a-86b6-442c95c3b847",
   "metadata": {},
   "source": [
    "##### Locating  External commands\n",
    "\n",
    "There are two ways to have the shell run an external file as a program:\n",
    "1) by using the pathname of a file as the command\n",
    "2) by using the name of a file that is in on of the directories listed in value of the shell variable called PATH.\n",
    "\n",
    "###### Commands as pathnames\n",
    "\n",
    "One way to execute a external command,  indicated by DECISION 1 on the flow chart, is to use the \"path\" name of the file we want to execute as a command.   Recall that [pathname](../unix/files.ipynb#pathname) of a file in UNIX is a name that uses `/`'s to indicate its name withing the tree of existing directories and files.  DECISION 1 is really saying that if the command name of the command line is something that \"looks\" like a path name then assume it is.  In particular ask the kernel to start a new process from the file.\n",
    "\n",
    "\n",
    "```{admonition} Absolute and Relative Paths\n",
    "In the prior chapter, [Organizing and Managing Information](../unix/files.ipynb), we discussed how a file is named as a pathname starting at the Root (`/`) of the directory tree.   Such paths whose names begin with `/` are called absolute paths.  \n",
    "\n",
    "To ease the burden of naming files UNIX also provides what are called relative paths.  Rather that starting a path name all the way from the root of the directory tree,  a path can be named relative.  As is discusses in the [Environment](#cwd) section each process has associated with it a \"current working directory\".  We can think of this as a pointer to a specific directory in the directory tree.  When a process asks the kernel to open or lookup a path that does not start with a leading `/` the kernel will assume that the path is relative to the processes current working directory. \n",
    "\n",
    "When we start a new terminal session the shell started has its current working directory initially set to our users HOME directory.  Eg. For the jovyan user in our UNIX environment it would be /home/jovyan.  The `pwd` command can be used to print what the shell's current working directory is and the `cd` command can used to change it to another directory. \n",
    "\n",
    "So if we use, `mydir/myfile`, as a shell command.  The Shell will asked the kernel to locate as an external command.  Given the lack of a leading `/` the kernel will assume that we are looking for a file, `myfile` in a directory called `mydir` which is under the the shell process's current working directory.  If the working directory is `/home/jovyan` then the full path of the file we are trying to locate would be `/home/jovyan/mydir/myfile`.\n",
    "\n",
    "Notice, however, if our current working directory was `/home/jovyan/mydir` and we wanted to have the shell execute the file `myfile` within it as an external, by pathname, it would not work to simply type `myfile` as the command.  DECISION 1 explicitly states that to treat the command name as a pathname for an external program the command name must contain a `/`.   As it turns out every directory in UNIX contains two hidden directories `.` and `..`.  Where `.` is a short cut for the name of the directory and `..` is a short cut for the name of the parent of the directory.  Using this feature we can construct a name of a file within the current working directory that contains a slash by using `./` as a prefix.  Eg. to trigger the explicit request to execute `myfile` in the current directory as an external command we can use `./myfile`. \n",
    "\n",
    "Details of how path names are decoded can be found in the \"path_resolution\" man page (`man path_resolution`).  \n",
    "```\n",
    "\n",
    "###### Commands as files within the PATH list\n",
    "\n",
    "Using pathnames lets us ask the shell to try and execute an file as a process.  However, this does not really make external programs feel like builtin commands.  \n",
    "\n",
    "Notice that there is another path way in the flow chart for reaching STEP B external command execution.  Specifically if the command name is not a user defined function (see [Functions](#functions)),  or a shell builtin command, then the shell will look to see if the command is the name of a file within a set of directories.  The set of directories is the current value of the shell's PATH variable.  Specifically, the PATH variable is treated as a colon separated list of directories to be searched for files that will be launched as external commands.  The list is search from left to right.   If the name of the command matches the name of a file within the directory being searched then the file will be treated as an external command and the shell will attempt to execute it.  Note the first match will terminate the search.  So even if directories later in the path also have a file that matches the command name they will not be considered.\n",
    "\n",
    "Notice three critical points to this design:\n",
    "1. Files within the set of directories do not require use of path names to be executed.  This makes them feel more like built in commands.  Simply adding files to one of the directories listed by the PATH variable is enough to make the program become a \"command\".\n",
    "2. The PATH variable is just an ordinary shell variable that can be updated any time one likes.   You can set it to any values you like.  Thus you can easily add directories of files to it and or remove directories from it. Further remember that every terminal connection has an independent shell process connected to it, each with their own version of the PATH variable.  As such you can override the PATH in one shell process while leaving it untouched in another. \n",
    "3. By controlling the order of directories you can over ride which version of a file should be launched as the command.  In this way you can provide alternative \"personalities\" to the commands by have your own versions in directories that appear before the directories with the standard versions. \n",
    "\n",
    "Lets look explore this in a little more detail by examining how the `cat` command gets located.  First lets see if `cat` is a built in by asking for `help` about it."
   ]
  },
  {
   "cell_type": "code",
   "execution_count": null,
   "id": "55c8c322-3c32-42cb-a3b0-69a2380c9dc6",
   "metadata": {
    "jupyter": {
     "source_hidden": true
    },
    "tags": []
   },
   "outputs": [],
   "source": [
    "pathEx=BashSession()\n",
    "pathEx.run(\"help cat\")"
   ]
  },
  {
   "cell_type": "markdown",
   "id": "ca1a814a-6f3d-4082-a219-eb53701113d8",
   "metadata": {},
   "source": [
    "Sure enough `cat` does not seem to be a built in.  Let's look at the PATH variable to see what is going on."
   ]
  },
  {
   "cell_type": "code",
   "execution_count": null,
   "id": "2aaea690-34fa-4e40-a216-e4f092abd016",
   "metadata": {
    "jupyter": {
     "source_hidden": true
    },
    "tags": []
   },
   "outputs": [],
   "source": [
    "pathEx.run(\"echo $PATH\")"
   ]
  },
  {
   "cell_type": "markdown",
   "id": "f8b4a2ef-f9a4-4fba-b6e5-844ec998a483",
   "metadata": {},
   "source": [
    "We see that PATH variable lists several directories (each directory is an independent element of the list where elements are separated by a `:`).  While we could use ls to search each element the shell builtin command `type` has a convenient option `-a` that displays all the locations containing an executable (see `help type` for more details)."
   ]
  },
  {
   "cell_type": "code",
   "execution_count": null,
   "id": "d91ea88b-732d-483e-b851-18a862f70667",
   "metadata": {
    "jupyter": {
     "source_hidden": true
    },
    "tags": []
   },
   "outputs": [],
   "source": [
    "pathEx.run('type -a cat')"
   ]
  },
  {
   "cell_type": "markdown",
   "id": "2f48c45d-f95c-4f95-8bcc-4c3a6ecd9899",
   "metadata": {},
   "source": [
    "We see that there are two directories listed in the current PATH varaibles value that contain a file named `cat`.  Given that `/usr/bin` appears first in the path, from left to right, means it is this file that will currently be executed when we use `cat` as a command name.  We can use the `-p` option to type to confirm this as it will print the one that currently will be executed."
   ]
  },
  {
   "cell_type": "code",
   "execution_count": null,
   "id": "f229a1e1-2957-4c71-9575-c7e14620d5a8",
   "metadata": {
    "jupyter": {
     "source_hidden": true
    },
    "tags": []
   },
   "outputs": [],
   "source": [
    "pathEx.run('type -p cat')"
   ]
  },
  {
   "cell_type": "markdown",
   "id": "f6f0de12-1a48-42e1-970a-d1f4982b9655",
   "metadata": {},
   "source": [
    "Remember that all the files in all the directories of PATH variable can be treated as commands.  The following lists all of them.  "
   ]
  },
  {
   "cell_type": "code",
   "execution_count": null,
   "id": "e8ef3a75-0a9f-4b11-a4e4-97b278b3fd4f",
   "metadata": {
    "jupyter": {
     "source_hidden": true
    },
    "tags": []
   },
   "outputs": [],
   "source": [
    "pathEx.run(\"ls ${PATH//:/ }\", height=\"10em\")"
   ]
  },
  {
   "cell_type": "markdown",
   "id": "13923b8c-aa39-4931-b468-60f5ef61805b",
   "metadata": {},
   "source": [
    "We can use the following command to get an approximate count."
   ]
  },
  {
   "cell_type": "code",
   "execution_count": null,
   "id": "d0825ede-e9e3-4e8b-935f-8f9fe94699e7",
   "metadata": {
    "jupyter": {
     "source_hidden": true
    },
    "tags": []
   },
   "outputs": [],
   "source": [
    "pathEx.run('ls -1 ${PATH//:/ } | wc -l')"
   ]
  },
  {
   "cell_type": "markdown",
   "id": "8eedb86a-eb0a-4dfe-a030-316cc8da73a4",
   "metadata": {},
   "source": [
    "That's quite a lot.  One of the joy's of UNIX is learning to poke around and explore.  We encourage you to explore the directories and files that you find."
   ]
  },
  {
   "cell_type": "markdown",
   "id": "818bb471-4a9f-497f-8ed1-669099e68194",
   "metadata": {},
   "source": [
    "Let's now exploit the flexibility of the shell to provide our own version of `cat`.  For this example we need to use a few command and ideas that we have not yet covered.  We will provide brief explanations and defer more detailed coverage till later."
   ]
  },
  {
   "cell_type": "markdown",
   "id": "0273d5c6-a024-4cc8-9a49-bc573f180198",
   "metadata": {},
   "source": [
    "Lets first begin by creating a directory, called `mybin`, within our home directory, to place our new version of `cat`.  To do this we will use the `mkdir` command"
   ]
  },
  {
   "cell_type": "code",
   "execution_count": null,
   "id": "c64f1e98-edd6-4f8f-a47d-b44379d96541",
   "metadata": {
    "jupyter": {
     "source_hidden": true
    },
    "tags": []
   },
   "outputs": [],
   "source": [
    "pathEx.run('''mkdir ~/mybin\n",
    "ls ~''')"
   ]
  },
  {
   "cell_type": "markdown",
   "id": "54b6fbdf-9e2d-42f3-961a-afe7575e42b1",
   "metadata": {},
   "source": [
    "Our new `cat` command will be a very simple shell script.  Which is simply a file that contains shell commands.  To do this we will use `echo` and redirection to create the file and put the contents into it.   \n",
    "\n",
    "To be able to have the kernel execute the file, as a shell script we will do two things.  \n",
    "\n",
    "1. We will use special syntax for the first line.  This syntax will tell the kernel what program it should launch as a new processes to  \"interpret\" the rest of the file's lines as a script.  In out case it will be `/bin/bash`.    \n",
    "2. The second thing we must do is mark the meta-data of file as executable so that the kernel will identify it as a file to execute.  To do this we will use the `chmod +x` command.\n",
    "\n",
    "The second line of the file will be a simple shell command that sends a message to standard output."
   ]
  },
  {
   "cell_type": "markdown",
   "id": "e7194efe-f83b-4964-abd9-c140988d1143",
   "metadata": {},
   "source": [
    "Step 1. create the file with the first line being `#!/bin/bash`"
   ]
  },
  {
   "cell_type": "code",
   "execution_count": null,
   "id": "5c591e09-1a27-4427-9c2d-f05ead3bfeda",
   "metadata": {
    "jupyter": {
     "source_hidden": true
    },
    "tags": []
   },
   "outputs": [],
   "source": [
    "pathEx.run(\"echo '#!/bin/bash' > ~/mybin/cat\")"
   ]
  },
  {
   "cell_type": "markdown",
   "id": "099cb32a-a98f-4cbf-8885-9d03e69417a3",
   "metadata": {},
   "source": [
    "Add a second line to display our message to the standard output stream."
   ]
  },
  {
   "cell_type": "code",
   "execution_count": null,
   "id": "7056fa74-6c64-41a5-828d-3ef17019aa10",
   "metadata": {
    "jupyter": {
     "source_hidden": true
    },
    "tags": []
   },
   "outputs": [],
   "source": [
    "pathEx.run('''echo 'echo \"One cat just leads to another. – Ernest Hemingway\"' >> ~/mybin/cat ''')"
   ]
  },
  {
   "cell_type": "markdown",
   "id": "bbef2647-27ec-4ebf-86a8-f6a7e1f46e76",
   "metadata": {},
   "source": [
    "Let's use `cat` to confirm that our file has the two lines we want in it."
   ]
  },
  {
   "cell_type": "code",
   "execution_count": null,
   "id": "ae18f991-848a-4f5a-aa0a-0c606504bc2e",
   "metadata": {
    "jupyter": {
     "source_hidden": true
    },
    "tags": []
   },
   "outputs": [],
   "source": [
    "pathEx.run(\"/usr/bin/cat ~/mybin/cat\")"
   ]
  },
  {
   "cell_type": "markdown",
   "id": "a710caad-f1c0-4656-90aa-47e7f53b3a01",
   "metadata": {},
   "source": [
    "Now lets use `chmod +x` to mark out file as an executable."
   ]
  },
  {
   "cell_type": "code",
   "execution_count": null,
   "id": "757a643e-48ef-4ec1-94b1-71292333a05f",
   "metadata": {
    "jupyter": {
     "source_hidden": true
    },
    "tags": []
   },
   "outputs": [],
   "source": [
    "pathEx.run(\"chmod +x ~/mybin/cat\")"
   ]
  },
  {
   "cell_type": "markdown",
   "id": "4a42741e-7f51-4129-a57c-913f7a3aa701",
   "metadata": {},
   "source": [
    "Using `ls -l` we can inspect the meta-data of the our new file and confirm that it is now marked as executable.  Notice the `x`'s in the data to the left.  We will discuss file permission in more detail later."
   ]
  },
  {
   "cell_type": "code",
   "execution_count": null,
   "id": "eac5bdf2-86df-4a1d-8721-691d55b5525c",
   "metadata": {
    "jupyter": {
     "source_hidden": true
    },
    "tags": []
   },
   "outputs": [],
   "source": [
    "pathEx.run(\"ls -l ~/mybin/cat\")"
   ]
  },
  {
   "cell_type": "markdown",
   "id": "10351c9c-7688-4ecc-8f59-a9a4404f8176",
   "metadata": {},
   "source": [
    "Ok lets start by trying to run out new version of cat using its path name.\n"
   ]
  },
  {
   "cell_type": "code",
   "execution_count": null,
   "id": "3755e079-4be5-4990-99e1-1da0f607cc84",
   "metadata": {
    "jupyter": {
     "source_hidden": true
    },
    "tags": []
   },
   "outputs": [],
   "source": [
    "pathEx.run(\"mybin/cat\")"
   ]
  },
  {
   "cell_type": "markdown",
   "id": "ea1988b2-1923-4a16-a68c-f4ea6f2bcc4a",
   "metadata": {},
   "source": [
    "Ok.  Now lets add our `mybin` directory  to the path and see what happens."
   ]
  },
  {
   "cell_type": "code",
   "execution_count": null,
   "id": "cc2dd12c-4872-44a8-96ad-3b221e6df53a",
   "metadata": {
    "jupyter": {
     "source_hidden": true
    },
    "tags": []
   },
   "outputs": [],
   "source": [
    "pathEx.run(\"PATH=${PATH}:/home/jovyan/mybin\")"
   ]
  },
  {
   "cell_type": "markdown",
   "id": "bcf6d06a-faae-4b1a-95ec-ae3124dda5d4",
   "metadata": {},
   "source": [
    "Lets check to see what the path looks like now"
   ]
  },
  {
   "cell_type": "code",
   "execution_count": null,
   "id": "459eb629-200f-4e8a-b7b1-b227d9f1bf83",
   "metadata": {
    "jupyter": {
     "source_hidden": true
    },
    "tags": []
   },
   "outputs": [],
   "source": [
    "pathEx.run(\"echo $PATH\")"
   ]
  },
  {
   "cell_type": "markdown",
   "id": "a4def4d8-a42f-48cf-b80d-3d0733ddece4",
   "metadata": {},
   "source": [
    "Lets now try using `cat` as our command"
   ]
  },
  {
   "cell_type": "code",
   "execution_count": null,
   "id": "280129d0-7947-4e48-b044-4f9cfef032bb",
   "metadata": {
    "jupyter": {
     "source_hidden": true
    },
    "tags": []
   },
   "outputs": [],
   "source": [
    "pathEx.rawWrite('''cat\n",
    "''')"
   ]
  },
  {
   "cell_type": "markdown",
   "id": "015826e9-4320-446a-90c9-7f9cfd18b33f",
   "metadata": {},
   "source": [
    "But of course this does not work as we put the directory at the end.  Lets see what `type` has to say."
   ]
  },
  {
   "cell_type": "code",
   "execution_count": null,
   "id": "4a9318fb-c67c-4a01-9b46-b21ff93bf770",
   "metadata": {
    "jupyter": {
     "source_hidden": true
    },
    "tags": []
   },
   "outputs": [],
   "source": [
    "pathEx.run('''type -a cat\n",
    "type -p cat''')"
   ]
  },
  {
   "cell_type": "markdown",
   "id": "5eeda784-c3ad-41aa-988b-07256eb69a6f",
   "metadata": {},
   "source": [
    "Let's be more careful and put our directory at be beginning of the directory list in the PATH variable. "
   ]
  },
  {
   "cell_type": "code",
   "execution_count": null,
   "id": "f2f61874-a373-44d8-8ab5-bde4f4892656",
   "metadata": {
    "jupyter": {
     "source_hidden": true
    },
    "tags": [
     "remove-input"
    ]
   },
   "outputs": [],
   "source": [
    "pathEx.run('''PATH=/home/jovyan/mybin:$PATH''')"
   ]
  },
  {
   "cell_type": "markdown",
   "id": "2566d386-2384-4d1d-b32e-5c749dcb8e17",
   "metadata": {},
   "source": [
    "Trying again..."
   ]
  },
  {
   "cell_type": "code",
   "execution_count": null,
   "id": "9217ba23-c634-4549-b9e2-d27f44009196",
   "metadata": {
    "jupyter": {
     "source_hidden": true
    },
    "tags": []
   },
   "outputs": [],
   "source": [
    "pathEx.run('''cat\n",
    "''')\n"
   ]
  },
  {
   "cell_type": "markdown",
   "id": "b3194359-5608-4377-b61e-57f8abe055f7",
   "metadata": {},
   "source": [
    "Cool!  But now can we use the system version of `cat`? Well we can use the full path eg. `/usr/bin/cat` or we can put PATH back to the way it was."
   ]
  },
  {
   "cell_type": "code",
   "execution_count": null,
   "id": "a3a691a7-e010-4083-a0fa-e1b7ada06dc7",
   "metadata": {
    "jupyter": {
     "source_hidden": true
    },
    "tags": [
     "remove-input"
    ]
   },
   "outputs": [],
   "source": [
    "pathEx.run(\"/usr/bin/cat mybin/cat\")"
   ]
  },
  {
   "cell_type": "code",
   "execution_count": null,
   "id": "37e2cdfc-2e9f-44be-ac13-b61a79bff857",
   "metadata": {
    "jupyter": {
     "source_hidden": true
    },
    "tags": [
     "remove-input"
    ]
   },
   "outputs": [],
   "source": [
    "display(pathEx.run('''PATH=/opt/app-root/src/juphub-utils:/opt/conda/bin:/opt/conda/condabin:/opt/app-root/src/juphub-utils:/opt/conda/bin:/usr/local/sbin:/usr/local/bin:/usr/sbin:/usr/bin:/sbin:/bin\n",
    "cat mybin/cat'''))\n",
    "del pathEx"
   ]
  },
  {
   "cell_type": "markdown",
   "id": "f598c80d-9c93-4031-9c13-0d13efc56c31",
   "metadata": {},
   "source": [
    "```{admonition} Try me\n",
    ":class: tip \n",
    "\n",
    "Now using the above as an example try and add an external command that is a simple shell script called `hello`.  When you use `hello` as a command the the string \"Hello there!\" should be printed to the standard output stream.\n",
    "```"
   ]
  },
  {
   "cell_type": "markdown",
   "id": "b9538b2f-d221-41de-be1f-000ce2ed7dde",
   "metadata": {
    "tags": []
   },
   "source": [
    "##### Executing External commands (Creating Processes)"
   ]
  },
  {
   "cell_type": "markdown",
   "id": "a1cc76b1-7bdb-42ab-9474-b6ee876dd0fd",
   "metadata": {
    "tags": []
   },
   "source": [
    "\n",
    "Now that we have seen how files can be located and treated by the shell as external commands lets look a little closer at how they are executed as new processes.  In order to do this we need to take a step back and try and understand a little more about what processes and programs are and their relationship to each other and the Operating System kernel.\n",
    "\n",
    "###### The birth of Processes\n",
    "\n",
    "In the introduction chapter we visualized as a [set of processes](../unix/intro.ipynb#UnixViz_sec) where each was represented as a bubble above the UNIX kernel.  Each was labeled with the \"program\" it is running. \n",
    "Further we said that each has its own \"life-time\" -- it gets started and then can run for some arbitrary amount of time, and them terminate eg. exit.  This is the common model that we have all grown use to as the idea of a running \"App\" either on our phones or laptops.  \n",
    "\n",
    "On UNIX a running App is a Process.  Remember that on UNIX a shell process is automatically started for us when we opened a terminal connection.  While it might feel quite different, the way we start a running App across operating systems and the relationship between them is similar.  An initial App, that we as humans interact with, lets us start other Apps.   So on UNIX a shell process lets us start other processes.  \n",
    "\n",
    "*Parents and Children Processes:* On UNIX processes are organized as a tree.  Processes started by one process are called children of the starting process.  Similarly the process that started a particular process is its parent.  Parent processes get certain control of their children processes.    We will discuss this in more detail in the next chapter.  For the moment this should be good enough for us to understand this critical step in command line processing. \n",
    "% What exactly is the relationship and mechanisms that the Shell uses to run particular files as external commands. \n",
    "\n",
    "*Binary Executables:*  We have been some what vague about what makes a file a \"program\" from which a running App can be started.   Every operating system has a very particular file format, the way the information  of a file is encoded in bytes, that makes it possible for the operating system kernel to start new running Apps from it.    Such files go by several generic names, \"executables\" and \"binaries\" are common ones.   Much of the next Part of this book is about understanding exactly what a binary executable is and how to construct one.  For the moment it is sufficient for us to know that many of the files in the directories, within our path, are properly formatted  UNIX binaries.  This means that the UNIX kernel can start processes from them.  The binary executable format use by the LINUX kernel is called \"Executable and Linkable Format (ELF)\".  So binary executables on Linux are \"ELF files\". \n",
    "\n",
    "Using the \"file\" command we can confirm that both `bash` and `ls` are ELF files"
   ]
  },
  {
   "cell_type": "code",
   "execution_count": null,
   "id": "9e3c9fb2-fb84-4fcb-a084-c6eea24dbc04",
   "metadata": {
    "jupyter": {
     "source_hidden": true
    },
    "tags": [
     "remove-input"
    ]
   },
   "outputs": [],
   "source": [
    "bash.run('''file /bin/bash\n",
    "file /usr/bin/ls''')"
   ]
  },
  {
   "cell_type": "markdown",
   "id": "3dd4801e-8adc-48a4-bff8-94d6cf2c4a61",
   "metadata": {
    "tags": []
   },
   "source": [
    "```{hint}\n",
    "Binary Executable file formats: On LINUX the binary executables conform to a file format called [\"Executable and Linkable Format (ELF)\"](https://en.wikipedia.org/wiki/Executable_and_Linkable_Format) files.  On OSX and iOS the file format of executables used is called [\"Mach-O\"](https://en.wikipedia.org/wiki/Mach-O).  On Windows a common executable file format is [\"Portable Executable (PE)\"](https://en.wikipedia.org/wiki/Portable_Executable).    Another example of a executable file format is [\"eXtended Common Object File Format (XCOFF)\"](https://en.wikipedia.org/wiki/XCOFF) that is used by IBM.  At this point it will be hard to make sense of exact what these files contain.  But in the next Part of this Book we will get into the details of the ELF format as we understand how to program the actual hardware of a computer.\n",
    "```"
   ]
  },
  {
   "cell_type": "markdown",
   "id": "cec2e9ec-258e-45a6-b37e-9714c0a39247",
   "metadata": {
    "tags": []
   },
   "source": [
    "<!-- produced by: \n",
    "htmlFig(\"[[{'src': '../images/BashProcessExecution-Step4B.png', 'cellwidth': '100%', 'caption': 'A: Start of Steo 4B: External Command Execution.'}], [{'src': '../images/BashProcessExecution-Step4B-forkexec.png', 'cellwidth': '100%', 'caption': 'B: Shell makes calls to the kernel requesting the creation of a new process'}], [{'src': '../images/BashProcessExecution-Step4B-lsrunning.png', 'cellwidth': '100%', 'caption': 'C: New process is started running requested binary'}]]\", \n",
    "        id=\"fig:executessteps\", \n",
    "        align=\"left\", \n",
    "        width=\"50%\",\n",
    "        margin=\"auto auto auto auto\",\n",
    "        caption=\"Figure: Visualizing the start of executing an external command as a process.\", \n",
    "        captionalign=\"left\")\n",
    "-->\n",
    "<table id=\"fig:executessteps\" align=\"left\" width=\"50%\" cellpadding=\"0\" cellspacing=\"0\" border=\"0\" style=\"border-collapse: collapse; margin: auto auto auto auto\">\n",
    "    <tr style=\"padding: 0; margin: 0;\"> \n",
    "        <td colspan=\"1\" width=\"100%\" style=\"padding: 0; margin: 0 0 0 0; background-color:inherit;\">\n",
    "            <div style=\"padding: 0; margin: 0 0 0 0;\">\n",
    "              <figure style=\"padding: 0; margin: 0 0 0 0; width:100%;\">\n",
    "                   <img src=\"../images/BashProcessExecution-Step4B.png\" width=\"100%\" style=\"padding: 0; margin: 0;\">\n",
    "                  <figcaption>\n",
    "                    <div style=\"background-color: inherit; margin-right:auto; margin-left:auto; text-align: center;\">\n",
    "                       <i style=\"color:inherit\"> A: Start of Steo 4B: External Command Execution.</i>\n",
    "                    </div>\n",
    "                  </figcaption>\n",
    "                </figure>\n",
    "            </div>\n",
    "        </td>\n",
    "    </tr>\n",
    "    <tr style=\"padding: 0; margin: 0;\"> \n",
    "        <td colspan=\"1\" width=\"100%\" style=\"padding: 0; margin: 0 0 0 0; background-color:inherit;\">\n",
    "            <div style=\"padding: 0; margin: 0 0 0 0;\">\n",
    "              <figure style=\"padding: 0; margin: 0 0 0 0; width:100%;\">\n",
    "                   <img src=\"../images/BashProcessExecution-Step4B-forkexec.png\" width=\"100%\" style=\"padding: 0; margin: 0;\">\n",
    "                  <figcaption>\n",
    "                    <div style=\"background-color: inherit; margin-right:auto; margin-left:auto; text-align: center;\">\n",
    "                       <i style=\"color:inherit\"> B: Shell makes calls to the kernel requesting the creation of a new process</i>\n",
    "                    </div>\n",
    "                  </figcaption>\n",
    "                </figure>\n",
    "            </div>\n",
    "        </td>\n",
    "    </tr>\n",
    "    <tr style=\"padding: 0; margin: 0;\"> \n",
    "        <td colspan=\"1\" width=\"100%\" style=\"padding: 0; margin: 0 0 0 0; background-color:inherit;\">\n",
    "            <div style=\"padding: 0; margin: 0 0 0 0;\">\n",
    "              <figure style=\"padding: 0; margin: 0 0 0 0; width:100%;\">\n",
    "                   <img src=\"../images/BashProcessExecution-Step4B-lsrunning.png\" width=\"100%\" style=\"padding: 0; margin: 0;\">\n",
    "                  <figcaption>\n",
    "                    <div style=\"background-color: inherit; margin-right:auto; margin-left:auto; text-align: center;\">\n",
    "                       <i style=\"color:inherit\"> C: New process is started running requested binary</i>\n",
    "                    </div>\n",
    "                  </figcaption>\n",
    "                </figure>\n",
    "            </div>\n",
    "        </td>\n",
    "    </tr>\n",
    "    <caption align=\"bottom\" style=\"text-align: left; padding: 0; margin: 0;\" >\n",
    "          <i>Figure: Visualizing the start of executing an external command as a new process.</i> \n",
    "    </caption>\n",
    "</table>\n",
    "\n",
    "###### Fork-Exec\n",
    "\n",
    "Lets recall where we are in the flow of Processing a Command Line.  We are at [Step 4: Execute the Command, Sub-step B: request kernel to execute as external command](#fig:executionsteps).   The figures to the left illustrate a break down of what happens in this sub-step.  At the start we know the file that corresponds to the external command, the arguments to be passed to it, and any re-directions that need to be established for the process that will be created.  In the example the file is \"/usr/bin/ls\", a single argument is being passed to it `/etc` and finally no re-directions have been specified.  Given the lack of re-directions we expect the standard streams of the new process to be connected to the same places that the launch `bash` process standard streams are connected to. \n",
    "\n",
    "In the example illustrated, we see that initially we have our `bash` process which has its standard streams connected to an external terminal.  This is represented by the thick red arrow that connects the process through to the communication hardware to the outside world. In the next chapter when we visualize files within the kernel we will be more detailed on how the kernel enables this connection.  \n",
    "\n",
    "The core functionality, of this step is illustrated in the middle sub-figure.  The `bash` process on our behalf makes use two kernel system calls; 1) fork, and 2) exec.  At this point the details of these calls are not particularly important.  What matters is that the shell passes to the `exec` system call the path of the file to be executed, along with the list of arguments and a copy of the 'exported' shell variables.  \n",
    "We will say more about the 'exported' shell variables when we discuss the [execution environment](#sec:env).\n",
    "\n",
    "When the sequence of calls complete a new child process, of the `bash` process will be started from the file specified.  In this case `/usr/bin/ls`.  Now, as illustrated in the third and final bottom sub-figure, two processes exist; the original parent `bash` process, and a new child `ls` process.   This new child process will have a copy of the arguments and environment variables that were passed to the `exec` system call.  By default its standard streams will be connected to the same locations that its parent  process's streams were  connected to when it started the child.  In our example this is illustrated by the two red thick, dashed  arrows, going to the same external connection (eg. the same external terminal).\n",
    "\n",
    "At this point, the new `ls` process is an running independently of its parent `bash`.  "
   ]
  },
  {
   "cell_type": "markdown",
   "id": "d58a58fd-818f-4ecc-a103-e4072dc0c772",
   "metadata": {
    "tags": []
   },
   "source": [
    "```{tip}\n",
    "**Process Scheduling**: It is the kernels jobs to \"schedule\" the current processes on the hardware of the computer so that each running program can execute some of its steps.   We will discuss this topic in more detail when we get a firmer understanding of how software and hardware interact to execute steps of a program.  \n",
    "\n",
    "For the moment it is sufficient to know, at a high-level, that at any given moment some processes will be running while others will be paused.   At any given time the number of processes that can be actually executing steps of their program will be equal to the number of CPU's that the hardware has.  The kernel will keep track of all the processes that are eligible to run (\"RUNNABLE\") versus those that are waiting (\"BLOCKED\") on some event.  For the RUNNABLE ones the kernel will keep rotating which processes are using the CPUs.  For those that are blocked, eg. waiting to get input from a terminal or waiting for another process to terminate, the kernel will monitor if the event they are blocked on occurs and they can be unblocked and made RUNNABLE.\n",
    "```"
   ]
  },
  {
   "cell_type": "markdown",
   "id": "fc034fe6-941a-44e7-9e11-df37829a6794",
   "metadata": {},
   "source": [
    "### Step 5: Optionally wait for command to complete"
   ]
  },
  {
   "cell_type": "markdown",
   "id": "3b923cf4-c09d-4000-99c2-1b2e0683c80f",
   "metadata": {
    "tags": []
   },
   "source": [
    "\n",
    "At first this step might seem odd until you firmly grasp that a child process that gets started to run a command is really an independent process from the parent shell process we are interacting with. As such it has its own life time and can run for an arbitrary amount of time. \n",
    "The amount of time depends on what the command does.  Simple commands like, the ones we have run so far do some specific work, like `ls`, which lists the contents of a directory, and then exit.  When a process exits they return a integer value, called their exit status which the kernel stores.  The kernel provides ways for a parent process to wait for its children process to exit and retrieve the their exit status value.  In particular it provides a family of `wait` system calls.\n",
    "\n",
    "Examining the [flow chart](#fig:executionsteps), we see that in step 5 there is really two choices:  Synchronous and Asynchronous.\n",
    "\n",
    "\n",
    "\n",
    "<!-- produced by: \n",
    "htmlFig(\"[[{'src': '../images/BashProcessExecution-Step5-waitcalled.png', 'cellwidth': '100%'}], [{'src': '../images/BashProcessExecution-Step5-exitcall.png', 'cellwidth': '100%'}], [{'src': '../images/BashProcessExecution-Step5-waitreturn.png', 'cellwidth': '100%'}]]\", \n",
    "        id=\"fig:step5\", \n",
    "        align=\"right\", \n",
    "        width=\"50%\",\n",
    "        margin=\"auto auto auto auto\",\n",
    "        caption=\"Figure: Step 5: Assuming normal 'Synchronous' command, then the shell waits for the new process to exit\", \n",
    "        captionalign=\"left\")\n",
    "-->\n",
    "<table id=\"fig:step5\" align=\"right\" width=\"50%\" cellpadding=\"0\" cellspacing=\"0\" border=\"0\" style=\"border-collapse: collapse; margin: auto auto auto auto\">\n",
    "    <tr style=\"padding: 0; margin: 0;\"> \n",
    "        <td colspan=\"1\" width=\"100%\" style=\"padding: 0; margin: 0 0 0 0; background-color:inherit;\">\n",
    "            <div style=\"padding: 0; margin: 0 0 0 0;\">\n",
    "              <figure style=\"padding: 0; margin: 0 0 0 0; width:100%;\">\n",
    "                   <img src=\"../images/BashProcessExecution-Step5-waitcalled.png\" width=\"100%\" style=\"padding: 0; margin: 0;\">\n",
    "                </figure>\n",
    "            </div>\n",
    "        </td>\n",
    "    </tr>\n",
    "    <tr style=\"padding: 0; margin: 0;\"> \n",
    "        <td colspan=\"1\" width=\"100%\" style=\"padding: 0; margin: 0 0 0 0; background-color:inherit;\">\n",
    "            <div style=\"padding: 0; margin: 0 0 0 0;\">\n",
    "              <figure style=\"padding: 0; margin: 0 0 0 0; width:100%;\">\n",
    "                   <img src=\"../images/BashProcessExecution-Step5-exitcall.png\" width=\"100%\" style=\"padding: 0; margin: 0;\">\n",
    "                </figure>\n",
    "            </div>\n",
    "        </td>\n",
    "    </tr>\n",
    "    <tr style=\"padding: 0; margin: 0;\"> \n",
    "        <td colspan=\"1\" width=\"100%\" style=\"padding: 0; margin: 0 0 0 0; background-color:inherit;\">\n",
    "            <div style=\"padding: 0; margin: 0 0 0 0;\">\n",
    "              <figure style=\"padding: 0; margin: 0 0 0 0; width:100%;\">\n",
    "                   <img src=\"../images/BashProcessExecution-Step5-waitreturn.png\" width=\"100%\" style=\"padding: 0; margin: 0;\">\n",
    "                </figure>\n",
    "            </div>\n",
    "        </td>\n",
    "    </tr>\n",
    "    <caption align=\"bottom\" style=\"text-align: left; padding: 0; margin: 0;\" >\n",
    "          <i>Figure: Step 5: Assuming normal 'Synchronous' command, then the shell waits for the new process to exit</i> \n",
    "    </caption>\n",
    "</table>\n",
    "\n",
    "#### Synchronous \n",
    "\n",
    "The default behavior of the shell to start an external command as a child process, wait for it to the child process to exit and gather its exit status before going on to do anything else.  We call this step-by-step behavior, \"Synchronous\".  The shell process is synchronizing what it's going to do next with the exit of the process it launched to execute the current command.  In other words, we can't have the shell do anything else until the current until the current command exits as it is \"stuck\" waiting for it to exit.  \n",
    "\n",
    "```{hint}\n",
    "This is not quite true.  In the next chapter we will see how we can use something called a signal to pause the running command and get back to the shell so that we can interact with it.\n",
    "```\n",
    "\n",
    "The synchronous behavior is illustrated in our example to the right.  We see that, after launching the child process for `ls` the shell calls one of the `wait` system calls.  The kernel pauses, \"blocks\", the shell process at this point.  This means that the shell will not execute any more of its steps until the kernel decides to un-pause it. In the mean time the child `ls` process can execute steps of its program which will use kernel calls to examine the directory `/etc` and print a summary of its contents to its standard output stream.  Given that in our case, no redirections where specified, the output will go to the same terminal that it's parent `bash` is connected too.  When the `ls` program is complete and exits, a call to the kernel's `exit` system call will be made.  The kernel will recognize that the `bash` process was blocked waiting the its child process to exit and un-pause the `bash` process.  As part of this un-pausing the kernel will let the call `bash` made to the `wait` system call will return.  \n",
    "\n",
    "#### Exit Status\n",
    "\n",
    "When a process calls the `exit` system call it passes an integers to the kernel.  This value is called the process's \"Exit Status\".  The `wait` system call, in addition to allowing a parent to wait for a child to exit also passes the parent the exit status that the child passed to the kernel when called `exit`.\n",
    "\n",
    "The shell provides a special variable that stores the exit status of the last command.  This variable has the somewhat odd name of the dollar symbol, `?`.  So right after the current command exits we can use the `?` variable to access the exit status of the command.  Given how the variable expansion works we can view the value by using the expansion syntax of `$?`.  For example"
   ]
  },
  {
   "cell_type": "code",
   "execution_count": null,
   "id": "849a1473-85e9-4d64-9fd5-7a4681db1cba",
   "metadata": {
    "jupyter": {
     "source_hidden": true
    },
    "tags": [
     "remove-input"
    ]
   },
   "outputs": [],
   "source": [
    "bash.run('''ls\n",
    "echo $?\n",
    "ls foo\n",
    "echo $?''')        "
   ]
  },
  {
   "cell_type": "markdown",
   "id": "1cba1fb8-a4cf-49c0-b954-c126edb33a83",
   "metadata": {},
   "source": [
    "The UNIX convention is that programs should return an exit status of 0 when everything went smoothly and there we no errors.  Similarly if something went wrong then a program should return a non-zero value that indicates what went wrong.  The documentation for a command should state what the non-zero values mean.  For example scroll down the following man page for ls and you will see the section that documents what its exit status values mean (the section, \"Exit status:\" is very close to the end right above the AUTHOR information) "
   ]
  },
  {
   "cell_type": "code",
   "execution_count": null,
   "id": "9a57e2d9-7a81-4056-a4c8-7d84b28cb7ba",
   "metadata": {
    "jupyter": {
     "source_hidden": true
    },
    "tags": [
     "remove-input"
    ]
   },
   "outputs": [],
   "source": [
    "bash.run(\"man ls\", height=\"10em\")"
   ]
  },
  {
   "cell_type": "markdown",
   "id": "da29dde9-247e-4d7b-8af9-71acfef151a9",
   "metadata": {},
   "source": [
    "```{note}\n",
    "**Zombies**:  An interesting scenario arises in UNIX when a child exits but it's parent has not retrieved the exit status of the terminated child.  The child is not really alive nor can it really be cleaned up as its exit status has not been retrieved.   At this point it is a Zombie, neither alive nor fully dead!  Taking this one step further what happens if a parent exits before it ever calls `wait` to get the exits statuses of its children.  It turns out that UNIX has a special process designed to deal with the scenario.  This process, inherits all orphaned processes and calls `wait` on them to ensure that zombies get \"reaped\" don't build up!  \n",
    "```"
   ]
  },
  {
   "cell_type": "markdown",
   "id": "e5033a76-3194-422c-8ac3-a7c7c39cab24",
   "metadata": {},
   "source": [
    "#### Asynchronous (background) commands\n",
    "\n",
    "We can override the synchronous behavior and start commands that will run \"Asynchronously\".  Where the shell will start the command but not wait for it to finish before it goes on.  To do this we use the shell control character `&` to terminate the command.  Using this character tells the shell that the command should be run as a background \"job\" and that the shell should go on to the next command immediately.  In interactive mode this means that we can go back to working with the shell immediately.\n",
    "\n",
    "In the next chapter we will discuss how we can manage and control jobs and processes in more detail. \n"
   ]
  },
  {
   "cell_type": "markdown",
   "id": "c463a1bb-265d-44ce-b4bf-f81e48822b76",
   "metadata": {},
   "source": [
    "### Step 6: Print prompt if interactive"
   ]
  },
  {
   "cell_type": "code",
   "execution_count": null,
   "id": "2f408add-6840-4e12-bad1-97fddb6caf00",
   "metadata": {
    "jupyter": {
     "source_hidden": true
    },
    "tags": []
   },
   "outputs": [],
   "source": [
    "display(HTML(htmlFig(\n",
    "    [[\n",
    "        {'src':\"../images/BashProcessExecution-Step6.png\",\n",
    "         'cellwidth': '100%'}\n",
    "     ]],\n",
    "    id=\"fig:step6\",\n",
    "    caption=\"Figure: Step 6: If interactive send then prompt and wait for next command.\"\n",
    ")))"
   ]
  },
  {
   "cell_type": "markdown",
   "id": "eb922056-0ed9-40f7-a847-12950c011cee",
   "metadata": {},
   "source": [
    "The final step of command line processing depends on if we are using the shell as interactive human interface or if we are using it more like a programming language.\n",
    "\n",
    "#### Interactive Mode\n",
    "In the first case, as we have been focused on in this chapter, the shell's standard streams are connected to a terminal that we as a human user control.  As such what the shell should do next depends on what we want to do.  As we have seen this \"interaction\" of waiting for us works by the shell letting us know it is ready by printing a prompt string.  See the string lets us know the shell is ready for us.  It will patiently wait for us to give it the next command line for it to work on.   \n",
    "\n",
    "#### Non-Interactive Mode (Script Mode)\n",
    "\n",
    "Alternatively, we can use the shell as if it where a command itself passing it path of a file as argument, from which it should read the command lines from.  This will create a new shell process that does not read its command line from its standard input but rather from the file. We call the file a script.  \n",
    "\n",
    "When started in this way the shell, the shell will adopt a non-interactive behavior. It will not print a prompt and wait for us to enter next command lines.  Instead the shell will immediately read the next command line from the script file.  When the new non-interactive shell processes reaches the end of the file it will exit.  \n",
    "\n",
    "For example."
   ]
  },
  {
   "cell_type": "code",
   "execution_count": null,
   "id": "e72a9a6d-f7f6-416c-992f-49f64afa417a",
   "metadata": {
    "jupyter": {
     "source_hidden": true
    }
   },
   "outputs": [],
   "source": [
    "scriptEx=BashSession()\n",
    "scriptEx.rawWrite('''cat > myscript\n",
    "echo hello\n",
    "today=$(date)\n",
    "echo Todays date is : ${today}\n",
    "''')"
   ]
  },
  {
   "cell_type": "markdown",
   "id": "06effc1e-4e7c-46c9-8655-01eaacb5422f",
   "metadata": {},
   "source": [
    "Using `cat` and redirection we put the two command lines in a file called my script. Now we can start a new bash that reads and runs these commands and then exits."
   ]
  },
  {
   "cell_type": "code",
   "execution_count": null,
   "id": "a29ed91f-5fdb-405a-af87-bd6060e49186",
   "metadata": {
    "jupyter": {
     "source_hidden": true
    },
    "tags": [
     "remove-input"
    ]
   },
   "outputs": [],
   "source": [
    "display(scriptEx.run(\"bash myscript\"))\n",
    "del scriptEx"
   ]
  },
  {
   "cell_type": "markdown",
   "id": "07c71eab-0fd6-4586-b0f7-f2490ccf3bc0",
   "metadata": {},
   "source": [
    "Shells, typically, also provide a built in command that allows the current shell to read commands from an other file and not exit.  In other words rather than starting a new shell the current shell will simply process a set of commands from the specified file and then go back to getting commands from where it was originally.\n",
    "\n",
    "In bash the command to do this is `source` and a short cut for this is `.`.  For example"
   ]
  },
  {
   "cell_type": "code",
   "execution_count": null,
   "id": "c3e523d4-c04a-4236-8861-f48cefb0bf78",
   "metadata": {
    "jupyter": {
     "source_hidden": true
    },
    "tags": [
     "remove-input"
    ]
   },
   "outputs": [],
   "source": [
    "bash.run(\"source myscript\")"
   ]
  },
  {
   "cell_type": "markdown",
   "id": "5eabac60-6cd7-480f-a3bf-dffe7dbc6688",
   "metadata": {},
   "source": [
    "And using using the short cut it."
   ]
  },
  {
   "cell_type": "code",
   "execution_count": null,
   "id": "50c2b8ed-3806-4280-a642-95516cf35c0d",
   "metadata": {
    "jupyter": {
     "source_hidden": true
    },
    "tags": [
     "remove-input"
    ]
   },
   "outputs": [],
   "source": [
    "bash.run(\". myscript\")"
   ]
  },
  {
   "cell_type": "markdown",
   "id": "9916a58e-5aa6-49e9-91f6-6a6af25388a4",
   "metadata": {},
   "source": [
    "In the [Shell Scripting](../unix/shellscripting.ipynb) chapter we will look at how we make use of the shell syntax mor like a programming language."
   ]
  },
  {
   "cell_type": "markdown",
   "id": "a9147160-1e3e-4b4e-b08c-70c067dde132",
   "metadata": {},
   "source": [
    "```{warning}\n",
    "There is a very big difference between starting a new shell to run a script file and having the current shell process source commands form a script file.  In the former we are running the commands in a brand new shell process that is independent from the current shell.  This means that variables it sets and other actions do not affect the shell process that launched the script.  However, when use source a script it is as if we entered those command directly in the current shell so the commands will affect the variables and other aspects of the current shell.\n",
    "\n",
    "In the example above when we ran the file `myscript` as in its own bash process the `today` variable was not added to the current shell's variables.  However, when we sourced, `myscript` it did introduce and update a `today` variable in the current shell that we are interacting with.\n",
    "```"
   ]
  },
  {
   "cell_type": "markdown",
   "id": "f16fab37-0232-4a21-92a7-90825d465548",
   "metadata": {},
   "source": [
    "<a id=\"sec:shbang\"></a>\n",
    "\n",
    "```{hint}\n",
    "\n",
    "You maybe wondering why in an earlier example did we added the first line `#!/bin/bash` to our `cat` replacement **shell script** and why we did not have to do that with the `myscript` example.  \n",
    "\n",
    "In the first case we were exploring how to get the current shell to treat the file as if it were an external command. Our goal was to have the shell get to step B of the [flow chart of command line processing](#fig:executesteps) and have the kernel successfully start it as a new process so that decision 5 would result in a No and the shell would proceed to step 5 of command line processing.  To trigger this path way we needed to make sure the kernel would on its own be able to identify the file as a script.  \n",
    "\n",
    "The kernel has a automatic behavior for recognizing files that should be treated as commands to be interpreted by another binary program such as `bash` or `python`.   We will be discussing what exactly a `binary` program is later.  Regardless, if the file asked to be launched is marked as executable but not a binary the kernel will examine the beginning of the file.  If it finds the pattern `#!<path>` it will try starting the specified  <path> as a process passing in the original file as its first argument.  \n",
    "\n",
    "In our `cat` example the kernel examines the file to start a new process.  The file is not a binary, rather it is just a file of ascii lines.   As such it will examine it and find the  first line and realizes that it must launch the specified `binary` and pass the original file as the first argument.  In this case `/bin/bash` passing `/home/jovyan/mybin/cat` as it's first argument.  So in our case, it turns out to be the equivalent to: `/bin/bash /home/jovyan/mybin/cat`.   Conveniently, when the new `bash` process starts and reads the first line it will ignore it as it starts with a `#` and be treated a comment.  This is why so many interpreted languages use `#` as their comment character.\n",
    "\n",
    "In the second case of `myscript` we manually started a new bash process and passed the `myscript` file as its argument, eg: `bash myscript` So we did not need the kernels help.  Rather we started the new `bash` process and told it to read the file as a **shell script**.\n",
    "\n",
    "Notice the shell command line execution steps does provide us a way to have `myscript` started as an external shell script command with out adding the first line.    Examine the [flow chart of command line processing](#fig:executesteps), and look at step `D`.  If the kernel fails to be able to start a new process from the specified file the behavior of step `D` is to start a new shell process passing the specified file as a script to it.   So the default behavior is that any non-binary file that is marked as executable will be treated as a **shell script**.  This default behavior lets us easily treat any file as a **shell script** simply by marking it as executable. \n",
    "```"
   ]
  },
  {
   "cell_type": "markdown",
   "id": "b71e70c9-1001-494a-8d0e-fb9247ade4f0",
   "metadata": {
    "tags": [
     "remove-cell"
    ]
   },
   "source": [
    "## Categories of Command lines\n",
    "\n",
    "There are four categories of shell commands: 1) Simple Commands, 2) Pipelines, 3) List of Commands, 4) Compound Commands.  Simple Commands are the bread and butter of how we use the shell and what we focus on in this chapter.  Compound commands allow one to group simple command together into a single unit.  Compound commands add\n",
    "\n",
    "### Simple Commands\n",
    "As one might expect, the heart of shell command lines are commands. A command is identified by a name formed from ASCII characters.  In our simple examples above these were, `help`, `pwd` and `ls`.   There are two core types of commands:\n",
    "1. builtin commands\n",
    "2. external commands\n",
    "\n",
    "To truly understand the Unix development environment and the philosophy behind it one needs to understand the distinction between shell built-in commands and external commands/programs.\n",
    "\n",
    "### Variable Assignments\n",
    "\n",
    "As part of the processing Simple Command the shell support the ability to set \"variables\".  (\n",
    "\n",
    "#### Built-in commands \n",
    "\n",
    "As we saw t"
   ]
  },
  {
   "cell_type": "code",
   "execution_count": null,
   "id": "860befd3-248a-410e-8eda-b3c680d072ab",
   "metadata": {
    "jupyter": {
     "source_hidden": true
    }
   },
   "outputs": [],
   "source": []
  },
  {
   "cell_type": "markdown",
   "id": "2fdf85fb-d000-4f27-8d7d-46e7f6356420",
   "metadata": {},
   "source": [
    "### Pipelines\n",
    "\n",
    "### List of Commands\n",
    "\n",
    "### Compound Commands\n",
    "\n",
    "#### Loops\n",
    "\n",
    "#### Conditionals\n",
    "\n",
    "#### Groups\n",
    "\n",
    "## User defined shell Functions\n"
   ]
  },
  {
   "cell_type": "markdown",
   "id": "81ead564-d344-496e-a0a6-62e7ff87642f",
   "metadata": {},
   "source": [
    "<a id=\"sec:env\"></a>\n",
    "\n",
    "## Command Execution Environment\n",
    "\n",
    "The shell maintains several types of information for you that you can change and rely on as you execute command lines.  We think of this information as the Execution Environment that a command lines are executed within.  \n",
    "\n",
    "The set of information is quite big.  We will focus on a sub-set of this information that will both help us be productive but also help us understand the relationships between the shell, kernel and the state a new process gets when it is started.  \n",
    "\n",
    "Specifically, we will focus on:\n",
    "1. The current working directory\n",
    "2. Open file descriptors\n",
    "3. Exported environment variables\n",
    "\n",
    "```{tip}\n",
    "\n",
    "The following is a more complete list of the information that makes up the `bash` command execution environment.  You can explore what they in the bash documentation.\n",
    "\n",
    "1. **The set of currently open file descriptors**\n",
    "2. **The current working directory**\n",
    "3. Traps (set using the `trap` builtin command)\n",
    "4. **Shell variables (or more precisely all Shell Parameters)**\n",
    "5. User defined functions\n",
    "6. Various options settings that affect the how the shell behaves (these can be changed with the builtin commands `set` and `shopt`)\n",
    "7. Aliases (see the `alias` built in)\n",
    "8. Process ids of commands started in the background, the process id of the process the shell itself and the process id of the process that started the shell (it parent)\n",
    "\n",
    "```\n",
    "\n",
    "\n",
    "### Process inherited Portions\n",
    "\n",
    "### Working directory\n",
    "\n",
    "### Exported Shell Variables\n",
    "\n",
    "### Open File Descriptors\n",
    "\n",
    "```{tip}\n",
    "In a modern UNIX systems the kernel is maintaining a lot of information for every process.  The working directory, file descriptor table and exported environment variables are the core standard ones that the shell provides to new process its starts. \n",
    "There are two additional standard ones that a UNIX kernel maintains for every process that shell influences for the processes it starts.  1) the default \"file creation mode mask\" and 2) the set of \"ignored` signals\".  We will touch upon both of these things along with \"credentials\" in the next chapter when we delve further into processes.\n",
    "```"
   ]
  },
  {
   "cell_type": "markdown",
   "id": "60fd7b69",
   "metadata": {},
   "source": [
    "# Summary \n",
    "\n",
    "Now that we have a sense for the basic model of interacting with the shell, Unix's ASCII oriented human interface, we can go on and learn about some of the actual commands, both internal and external.  Along with the commands are common ways to use them to get things/tasks done."
   ]
  },
  {
   "cell_type": "markdown",
   "id": "4e154906-ca7d-47ba-8d6d-31e8c473c6a3",
   "metadata": {
    "tags": []
   },
   "source": [
    "## Exercises\n",
    "\n",
    "### Given the following command line determine how it will be split into tokens and which token is the command and which are the arguments.\n",
    "Again we use `\\ `, `\\t` and `\\n` to indicate space, tab and newline characters respectively.\n",
    "```\n",
    "\\ foo\\t\\t\\t\\bar \\blah\\ goo\\n \n",
    "```\n"
   ]
  },
  {
   "cell_type": "code",
   "execution_count": null,
   "id": "18be9b11-17ee-4f99-a78b-690fcafaa437",
   "metadata": {
    "jupyter": {
     "source_hidden": true
    },
    "tags": []
   },
   "outputs": [],
   "source": [
    "Answer('''\n",
    "> There are four tokens: `foo`, `bar`, `blah` and `goo`.  The command token is `foo`. The arguments to `foo` will be; 1. `bar`, 2. `blah` and 3. `goo`\n",
    "''')"
   ]
  },
  {
   "cell_type": "code",
   "execution_count": null,
   "id": "855f5f3c-5f5d-493b-a943-070dcd05dfc1",
   "metadata": {
    "jupyter": {
     "source_hidden": true
    }
   },
   "outputs": [],
   "source": []
  }
 ],
 "metadata": {
  "celltoolbar": "Tags",
  "hide_input": true,
  "kernelspec": {
   "display_name": "Python 3 (ipykernel)",
   "language": "python",
   "name": "python3"
  },
  "language_info": {
   "codemirror_mode": {
    "name": "ipython",
    "version": 3
   },
   "file_extension": ".py",
   "mimetype": "text/x-python",
   "name": "python",
   "nbconvert_exporter": "python",
   "pygments_lexer": "ipython3",
   "version": "3.9.6"
  }
 },
 "nbformat": 4,
 "nbformat_minor": 5
}
