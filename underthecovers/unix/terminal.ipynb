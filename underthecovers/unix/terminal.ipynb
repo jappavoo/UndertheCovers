{
 "cells": [
  {
   "cell_type": "markdown",
   "id": "8c0b1b30-5455-4f48-b342-3fe6da9b0652",
   "metadata": {},
   "source": [
    "# What is a Terminal and why do we still use them?\n",
    "\n",
    "## The origin story\n"
   ]
  },
  {
   "cell_type": "markdown",
   "id": "375c5936-0380-496a-9ad3-60e019baba44",
   "metadata": {},
   "source": [
    "![pdp11](../images/pdp11-40.jpg)\n",
    "\n",
    "[source](https://commons.wikimedia.org/wiki/File:Pdp-11-40.jpg)\n",
    "\n",
    "Originally when we started building computers they were very large.  The main component, illustrated above, was a device which\n",
    "housed the \"smart\" bits, the CPU and MEMORY, that could run programs.  We will discuss these parts and how they work in progressively more details as the book goes along."
   ]
  },
  {
   "cell_type": "markdown",
   "id": "8212e4e5-49f9-4e82-9a3d-3b8de17e156b",
   "metadata": {},
   "source": [
    "![vt220](../images/DEC_vt220.jpg)\n",
    "\n",
    "[source](https://commons.wikimedia.org/wiki/File:DEC_vt220.jpg)\n",
    "\n",
    "For a human to work with the computer we had to attach a device that could both display output from from the software running on the computer and accept input.   The basic design was a terminal device that contained a video screen, keyboard and just enough smarts to communicate with the computer. \n",
    "\n",
    "> <img style=\"display: inline; margin: 1em .5em auto auto;\"  align=\"left\" width=\"60\" src=\"../images/fyi.svg\"> <p style=\"background-color:powderblue;\"> As we see computers originally did not have integrated hardware for humans to use -- Eg. they did not have integrated screens, keyboards, mice, track pads, VR goggles, etc.  Integrating, such human computer interface devices, only arose with  advent of small personal computers (PC's) designed and built largely for direct human use.  That being said there are still many computers today that do not have or need integrated human interface devices, these include the computers that power the Cloud or are integrated into other devices such as your wifi router.     \n",
    "</p>\n",
    "\n",
    "<a id='ASCII_sec'></a>\n",
    "### ASCII\n",
    "![ascii](../images/ascii.png)\n",
    "\n",
    "[source](https://commons.wikimedia.org/wiki/File:ASCII-Table-wide.svg)\n",
    "\n",
    "In particular, [ASCII](https://en.wikipedia.org/wiki/ASCII) terminals, know how to translate ASCII encoded text data to display, \"print\", the appropriate character on the screen.  Eg if the software running on the computer sent the number 65 to the terminal the terminal would display capital 'A' at the current [\"cursor\"](https://en.wikipedia.org/wiki/Cursor_(user_interface)) position.  The terminal would also advance the cursor to the right so that the next encoded character sent would appear to the right of the last.  \n",
    "\n",
    "ASCII includes various values the encode punctuation including the critical space character to separate words.  The ASCII code also includes values that move the cursor so that the software can control where on the screen characters would appear. \n",
    "Perhaps the most important of these is the LineFeed ('\\n') value as it causes the cursor to go down one row to begin a new line.  \n",
    "\n",
    "In addition the the screen terminals had a keyboard.  These were built so that when a key was pressed on the keyboard the terminal would send the corresponding ASCII value to the computer.  Each key being labeled with the ASCII symbol of the value that pressing it would send.   This way software running on the computer could take text input from the user in addition to displaying it.   Furthermore it was easy to have the software  break the input into \"words\" and \"lines\" by having it scan for the ASCII values sent for Spaces and Line-Feeds. Which were sent when the Spacebar and Return (or Enter) key where pressed.  \n",
    "\n",
    "><img style=\"display: inline; margin: 1em .5em auto auto;\" align=\"left\" width=\"60\" src=\"../images/history.svg\"> <p style=\"background-color:powderblue;\">Terminals were the \"natural\" evolution of the classic [typewriter](https://en.wikipedia.org/wiki/Typewriter). Where its screen was like a virtual piece of paper that could be software controlled.  As a matter of fact IBM was selling typewriters in 1924 well before it started exploring computers in 1940 [IBM History](https://en.wikipedia.org/wiki/History_of_IBM).</p>"
   ]
  },
  {
   "cell_type": "markdown",
   "id": "f9061ffa-ca5b-4353-a28d-06d283102ea3",
   "metadata": {},
   "source": [
    "![terminalroom](../images/terminalroom.jpg)\n",
    "\n",
    "[source](http://www.columbia.edu/cu/computinghistory/carman.jpg)"
   ]
  },
  {
   "cell_type": "markdown",
   "id": "631f4d1d-0336-422a-b153-ad4a9c5c2bd3",
   "metadata": {},
   "source": [
    "An operating systems like UNIX was run on the computer and allowed many terminals to be connected to the computer.  A user with an account on the computer could use the terminal and login to the computer.\n",
    "Students who needed to use the computer would have to go to such a \"terminal room\" to physically \"connect\" to the computer. \n",
    "\n",
    "\n",
    "![login](../images/login.jpg)\n",
    "\n",
    "Specifically they would login with a username and password.  \n",
    "\n",
    "![shell](../images/shell.jpg)\n",
    "The UNIX operating systems would check to see that the user was authorized and if so start a new terminal/shell session for the user.  In particular, it started an instance of an ASCII oriented program called the shell which would allow the user to start working in the UNIX development environment -- running existing programs and writing new ones (see section [Shell](../unix/shellintro.ipynb) for more details).\n"
   ]
  },
  {
   "cell_type": "markdown",
   "id": "182b4af9-b777-4ae8-9333-db16dd3e6d1c",
   "metadata": {
    "hide_input": true
   },
   "source": [
    "<a id='TerminalEmulators_sec'></a>\n",
    "## Terminal Emulators\n",
    "\n",
    "While the computers and terminals that we discussed above are relics of the past.   UNIX and its development environment is still alive and thriving.  It turns out that the simplicity of an ASCII terminal and the ASCII oriented programming tools of UNIX continue to power much of the digital world around us.  [Linux](https://en.wikipedia.org/wiki/Linux) and other versions of UNIX runs on every imaginable device today all the way from supercomputers to watches. And at some point or another a programmer used terminal sessions communicating with the UNIX running on those devices to develop and debug the layers of software.  While  most people never see these layers of software we  rely on them to make those devices useful.  \n",
    "\n",
    "><img style=\"margin: 10px 0px 0px 0px;\" align=\"left\" width=\"60\" src=\"../images/concept.svg\"> <p style=\"background-color:powderblue;\">As we learn more about how software is constructed and how computers work we will learn that the power of UNIX comes from making it very natural and easy for programmers to construct programs that can themselves be used to process and translate code.</p>\n",
    "\n",
    "Today we use \"software\" versions of terminals, called terminal emulators, to allow us to create connections to an operating system either running on the physical machine we are on or to other remote computers. Apple's MacOSX, is a UNIX derived operating systems and includes a program called [Terminal](https://en.wikipedia.org/wiki/Terminal_(macOS)).    Microsoft's Windows OS is not a UNIX operating systems but includes a similar program called [Windows Terminal](https://docs.microsoft.com/en-us/windows/terminal/).  Unlike the old days, since there is really no physical terminal device, a single user can start as many terminal sessions each within its own window as they like.  As we will see later it is very useful to use multiple terminal sessions to organize your work.  Additionally, both OSX and Windows provides a program called [SSH](https://en.wikipedia.org/wiki/Secure_Shell_Protocol).   SSH allows you to use a terminal emulator running on your computer to connect to remote computers.  Doing so is like connecting a terminal device to the remote computers you are using.  The following discusses using ssh on windows [Windows Terminal SSH](https://docs.microsoft.com/en-us/windows/terminal/tutorials/ssh) and this one on using ssh on OS [OSX Terminal SSH](https://osxdaily.com/2017/04/28/howto-ssh-client-mac/).  \n",
    "\n",
    "Recently, terminal emulators such as [xterm.js](https://xtermjs.org) have been developed that can be run within a web-browser. This allows us to develop web accessible development environments in which a user can create and use terminals all within a web-browser running on their local computer.  This book has been written using [Books with Jupyter](https://jupyterbook.org/) which exploits [Project Jupyter](https://jupyter.org) to allow pages of this book to provide the reader with access to a Unix computer via their web-browser.    \n",
    "\n",
    "Using the Rocket Icon (in the top right) you can \n",
    "can launch interactive versions of any chapter in this book and then create terminals to explore the material.  Clicking on the \"JupyterHub\" drop down of the Rocket Icon will start a private Linux server (more accurately a Intel [Linux Container](https://en.wikipedia.org/wiki/LXC)) for your personal use.  This server will automatically start the Jupyter environment which will serve the book's content to your web-browser.  This software, allows you to read and interact with the source material for chapters of the book and also allows you to create terminal sessions so that you can directly use the UNIX development tools installed on the computer via the xterm.js terminal emulators.  This allows you the freedom to explore all the topics and material from within your web-browser.  But please note there is nothing special about these terminals or the Linux system.  Anything you learn can be directly applied to any Unix like system that you can establish a terminal connection too.  \n",
    "\n",
    "><img style=\"margin: 10px 0px 0px 0px;\" align=\"left\" width=\"60\" src=\"../images/donot.svg\"> <p style=\"background-color:tomato;\">  Please note if you use the interactive features of this book, <b>the files you create within your Linux server are NOT PERMANENT!</b>  In other words you cannot rely on the files to be there the next time you access the server.  If you want to save your work you will need to use an external service like [GIT](../unix/git.ipyng). \n",
    "\n",
    "The following video demonstrates how you can use a page of the book to launch a Linux server and how to create terminal connections to this server from within your web-browser.  You are encouraged to always have a terminal open when you read this book so you can trying things out.  \n"
   ]
  },
  {
   "cell_type": "code",
   "execution_count": null,
   "id": "a176f12e",
   "metadata": {
    "hide_input": true,
    "tags": [
     "remove-input"
    ]
   },
   "outputs": [],
   "source": [
    "from IPython.display import HTML\n",
    "\n",
    "HTML(\"\"\"\n",
    "    <video alt=\"test\" width=\"100%\" controls>\n",
    "        <source src=\"../images/jupyterterminaldemo.m4v\" type=\"video/mp4\">\n",
    "    </video>\n",
    "\"\"\")"
   ]
  },
  {
   "cell_type": "markdown",
   "id": "299605d0",
   "metadata": {},
   "source": [
    "<div style=\"background-color:powderblue;\">  \n",
    "<img style=\"margin: 10px 0px 0px 0px;\" align=\"left\" width=\"40\" src=\"../images/history.png\">\n",
    "<img style=\"margin: 10px 2px 0px 0px;\" align=\"left\" width=\"40\" src=\"../images/commentary.png\"> \n",
    "    <h3>Life before the Terminal and the Revolution.</h3>\n",
    "    <br>\n",
    "It might not seem obvious but the invention of the terminal was a very big deal in democratizing computer use and programming.  If you are interested you can find more information about pre-terminal times here:\n",
    "\n",
    "  - Computer programming in the punched card era, https://en.wikipedia.org/w/index.php?title=Computer_programming_in_the_punched_card_era&oldid=1031619768 (last visited Aug. 5, 2021).\n",
    "  - Keypunch, https://en.wikipedia.org/w/index.php?title=Keypunch&oldid=1035986902 (last visited Aug. 5, 2021).\n",
    "  - Punched card input/output, https://en.wikipedia.org/w/index.php?title=Punched_card_input/output&oldid=1029169887 (last visited Aug. 5, 2021).\n",
    "  - IBM 1403, https://en.wikipedia.org/w/index.php?title=IBM_1403&oldid=1028926171 (last visited Aug. 5, 2021).\n",
    "\n",
    "Prior to the terminal working with computers was more like offering prayers, written on stacks of special paper cards, to a priest who took them on your behalf to computer operators who the feed them to the computer.  If all went well you would be able to pick up the output of the computer program, you requested to have run, in the form of a large paper print out.  Not only where their many physical devices and steps in the process it took a very very long time between steps.  In some sense using a computer required humans to adapt the the machine's needs.  Furthermore only a few trusted people were allows to have access to the actual computer.  Writing new programs was an even more arcane skill that required incredible patience and discipline to work primarily on paper.   \n",
    "\n",
    "Terminals changed all of this.  All of a sudden many users could gain \"direct\" access to programs running on a computer in a \"fast\" interactive way.  Using a computer became more like having a conversation with the programs including the programs for writing new programs.  This meant users could explore, experiment and learn how to write new programs themselves!  One should never over look the power of having a good human interface.\n",
    "    </div>"
   ]
  },
  {
   "cell_type": "markdown",
   "id": "85fc5f38",
   "metadata": {},
   "source": [
    "><img style=\"margin: 1em 1em 0px 0px;\" align=\"left\" width=\"40em\" src=\"../images/fyi.svg\"> <p style=\"background-color:powderblue;\">\n",
    "  Want to have some fun.  Believe it or not we used to develop and play games on ASCII Terminals.  If you want to get an idea what cost some people their degrees, or in some case got them their degrees, checkout [Adventure](https://rickadams.org/adventure/a_history.html), [Rogue](https://docs.freebsd.org/44doc/usd/30.rogue/paper.pdf), [Nethack](https://en.wikipedia.org/wiki/NetHack), and [Moria](https://umoria.org/history/).  We have included a version of Moria in the software of this book.  To try it use the command `/usr/games/moria` within a terminal."
   ]
  }
 ],
 "metadata": {
  "celltoolbar": "Edit Metadata",
  "hide_input": true,
  "kernelspec": {
   "display_name": "Python 3 (ipykernel)",
   "language": "python",
   "name": "python3"
  },
  "language_info": {
   "codemirror_mode": {
    "name": "ipython",
    "version": 3
   },
   "file_extension": ".py",
   "mimetype": "text/x-python",
   "name": "python",
   "nbconvert_exporter": "python",
   "pygments_lexer": "ipython3",
   "version": "3.9.6"
  }
 },
 "nbformat": 4,
 "nbformat_minor": 5
}
