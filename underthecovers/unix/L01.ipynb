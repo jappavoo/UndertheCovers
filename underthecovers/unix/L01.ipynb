{
 "cells": [
  {
   "cell_type": "code",
   "execution_count": null,
   "id": "919e2464",
   "metadata": {
    "hide_input": true,
    "slideshow": {
     "slide_type": "skip"
    },
    "tags": [
     "remove-cell"
    ]
   },
   "outputs": [],
   "source": [
    "%run -i ../python/common.py\n",
    "%run -i ../python/ln_preamble.py\n",
    "# Make three extra terminals to serve as example of 3 terminal emulators\n",
    "# We do this to avoid having to change the dimensions of our standard\n",
    "# Editor, Build and debugger terminals\n",
    "try:\n",
    "    EXTERM1=TERMINALS[3]['name']\n",
    "except IndexError:\n",
    "    EXTERM1=mkTerm()\n",
    "try:\n",
    "    EXTERM2=TERMINALS[4]['name']\n",
    "except IndexError:\n",
    "    EXTERM2=mkTerm()\n",
    "try:\n",
    "    EXTERM3=TERMINALS[5]['name']\n",
    "except IndexError:\n",
    "    EXTERM3=mkTerm()\n",
    "try:\n",
    "    HHTERM=TERMINALS[6]['name']\n",
    "except IndexError:\n",
    "    HHTERM=mkTerm()"
   ]
  },
  {
   "cell_type": "markdown",
   "id": "19379863",
   "metadata": {
    "hide_input": true,
    "slideshow": {
     "slide_type": "slide"
    }
   },
   "source": [
    "# SLS: Part I - UNIX : Introduction &  Preliminaries \n",
    "\n",
    "Note this content had been designed to run as a RISE presentation from within the Jupyter Classic interface.\n"
   ]
  },
  {
   "cell_type": "markdown",
   "id": "aab0fa4d",
   "metadata": {
    "slideshow": {
     "slide_type": "notes"
    }
   },
   "source": [
    "- In general our goal is not to just learn a bunch of facts or commands.  \n",
    "- Rather it is to understand how thing work \n",
    "  - developing a mental model \n",
    "  - to this end we will often try and develop visualizations\n",
    "- To this end we will start our exploration of UNIX by developing a way of visualizing how the layers of software and hardware relate and interact.\n"
   ]
  },
  {
   "cell_type": "markdown",
   "id": "410af07c",
   "metadata": {
    "slideshow": {
     "slide_type": "slide"
    }
   },
   "source": [
    "## UNIX is an operating system\n",
    "\n",
    "- But what is an operating system?\n",
    "> A collection of software that makes a ***computer*** ***useful***.\n"
   ]
  },
  {
   "cell_type": "markdown",
   "id": "67c7e449",
   "metadata": {
    "hide_input": true,
    "slideshow": {
     "slide_type": "slide"
    }
   },
   "source": [
    "<center>\n",
    "\n",
    "## Computer?  \n",
    "\n",
    "</center>"
   ]
  },
  {
   "cell_type": "markdown",
   "id": "f31efa6c",
   "metadata": {
    "slideshow": {
     "slide_type": "notes"
    }
   },
   "source": [
    "\n",
    "- On the practical side computers are hardware devices that are programmable \n",
    "    - we will focus on those that conform to a \"Classic\" model of programmable device called a von Neuman Architecture \n",
    "        - today this encompasses Laptops, smart phones, tablets, smart watches, desktops, servers, supercomputers, and thousands of embedded systems around you\n",
    "\n",
    "FIXME: Add some images"
   ]
  },
  {
   "cell_type": "markdown",
   "id": "42da641f",
   "metadata": {
    "hide_input": true,
    "slideshow": {
     "slide_type": "fragment"
    }
   },
   "source": [
    "### An Organized  Collection of Hardware "
   ]
  },
  {
   "cell_type": "code",
   "execution_count": null,
   "id": "db37e614",
   "metadata": {
    "hide_input": false,
    "jupyter": {
     "source_hidden": true
    },
    "slideshow": {
     "slide_type": "-"
    },
    "tags": [
     "remove-input"
    ]
   },
   "outputs": [],
   "source": [
    "display(Markdown(htmlFig(\"../images/src/SLS_TheMachine.svg\", width=\"60%\")))"
   ]
  },
  {
   "cell_type": "markdown",
   "id": "0a97b7b8",
   "metadata": {
    "slideshow": {
     "slide_type": "notes"
    }
   },
   "source": [
    "- We will learn much more later but for the moment we need a working model:\n",
    "    - three core components \n",
    "        - CPU \n",
    "            - the smart bits that \"execute\" the instructions of software -- performs calculations\n",
    "        - Memory \n",
    "            - the devices that hold the instructions and data that make up the running software\n",
    "            - physically directly connected to the CPU -- often referred to as RAM and ROM, main memory, etc\n",
    "            - fast, power hungry. and volatile\n",
    "        - I/O devices - for the moment two main categories\n",
    "            - Storage devices\n",
    "                - hard drives, ssd's, flash memory, flash drives/usb sticks, etc\n",
    "                - slow and large compared to main memory\n",
    "                - non-volatile\n",
    "            - Communication devices\n",
    "                - allow connections to the outside world \n",
    "                - networks, terminals, usb devices -- keyboards, mice, etc.\n",
    "                "
   ]
  },
  {
   "cell_type": "markdown",
   "id": "352f7490",
   "metadata": {
    "slideshow": {
     "slide_type": "slide"
    }
   },
   "source": [
    "<center>\n",
    "    \n",
    "## Useful?\n",
    "    \n",
    "</center>"
   ]
  },
  {
   "cell_type": "markdown",
   "id": "68ab914f",
   "metadata": {
    "slideshow": {
     "slide_type": "notes"
    }
   },
   "source": [
    "- Hardware is like the raw parts \n",
    "    - not really useful until we add software to have it do stuff\n",
    "        - aka run programs/apps\n",
    "        - but what stuff\n",
    "- For most people they want to run programs that allow them to use the computer to:\n",
    "    - surf the web\n",
    "    - read and write email\n",
    "    - record, view and edit audio, pictures and video\n",
    "    - compose documents\n",
    "    - analyze and visualize data\n",
    "    - play games\n",
    "    - etc ...\n",
    "- but for some of us, programmers, our primary goal is to write programs "
   ]
  },
  {
   "cell_type": "markdown",
   "id": "23d65cb6",
   "metadata": {
    "slideshow": {
     "slide_type": "slide"
    }
   },
   "source": [
    "## The Operating system (OS) the first layers of software towards useful\n",
    "\n",
    "Broken down into two categories\n",
    "\n",
    "1. The Kernel\n",
    "2. User Programs"
   ]
  },
  {
   "cell_type": "markdown",
   "id": "704a47fc",
   "metadata": {
    "slideshow": {
     "slide_type": "slide"
    }
   },
   "source": [
    "### The \"Kernel\" -- Unique to Every OS"
   ]
  },
  {
   "cell_type": "code",
   "execution_count": null,
   "id": "4403fea6",
   "metadata": {
    "cell_style": "split",
    "hide_input": true,
    "jupyter": {
     "source_hidden": true
    },
    "slideshow": {
     "slide_type": "-"
    },
    "tags": [
     "remove-input"
    ]
   },
   "outputs": [],
   "source": [
    "display(Markdown(htmlFig(\"../images/kerneldef.png\")))"
   ]
  },
  {
   "cell_type": "markdown",
   "id": "9260a616",
   "metadata": {
    "cell_style": "split",
    "slideshow": {
     "slide_type": "-"
    }
   },
   "source": [
    "1. Bootstraps the HW and has direct access to all of it\n",
    "1. Bottom layer that enables other programs to run\n",
    "2. A unique collection of functions that programs can invoke\n",
    "\n",
    "Not useful on its own only useful and accessed by running other programs."
   ]
  },
  {
   "cell_type": "markdown",
   "id": "3f674efd",
   "metadata": {
    "slideshow": {
     "slide_type": "slide"
    }
   },
   "source": [
    "## Hardware + Kernel"
   ]
  },
  {
   "cell_type": "code",
   "execution_count": null,
   "id": "c5eb96a0",
   "metadata": {
    "hide_input": true,
    "jupyter": {
     "source_hidden": true
    },
    "slideshow": {
     "slide_type": "-"
    },
    "tags": [
     "remove-input"
    ]
   },
   "outputs": [],
   "source": [
    "display(Markdown(htmlFig([\"../images/src/SLS_WPIM.svg\", \"../images/src/SLS_TheMachine.svg\"],width=\"60%\")))"
   ]
  },
  {
   "cell_type": "markdown",
   "id": "fa2cfb35",
   "metadata": {
    "cell_style": "center",
    "hide_input": true,
    "slideshow": {
     "slide_type": "notes"
    }
   },
   "source": [
    "- bottom layer of the software that has direct access to all the hardware\n",
    "- single instance that bootstraps the hardware\n",
    "- provides means for starting application/user programs\n",
    "    - enables several to run at a time\n",
    "    - keeps them isolated from each other\n",
    "    - program can start and end  \n",
    "        - but kernel is always present and running \n",
    "        - facilities for managing the running user programs\n",
    "            - listing, pausing, terminating, etc.\n",
    "- a collection of ever present functions and objects that programs/programmers can rely on\n",
    "    - provides core \"software\" \"abstraction\" such as files \n",
    "        - makes it easier for programs to use the hardware \n",
    "        - consistent across different hardware \n",
    "    - programs / programmers need not worry about the details of the hardware \n",
    "- programs NOT humans interact with the kernel"
   ]
  },
  {
   "cell_type": "markdown",
   "id": "3abcb194",
   "metadata": {
    "cell_style": "center",
    "slideshow": {
     "slide_type": "slide"
    }
   },
   "source": [
    "### User Programs\n",
    "\n",
    "Programs that come with the Kernel -- all the other stuff\n",
    "\n",
    "1. Display / Interface Mangers\n",
    "2. Finders/Explores \n",
    "3. All the Other Apps/Utilities\n",
    "\n",
    "This collection is unique to every OS and depends on its target audience."
   ]
  },
  {
   "cell_type": "markdown",
   "id": "e6100436",
   "metadata": {
    "cell_style": "center",
    "hide_input": true,
    "slideshow": {
     "slide_type": "notes"
    }
   },
   "source": [
    "- a collection of programs that come pre-packaged with the OS\n",
    "    - one or more interface programs \n",
    "        - provides a human with a way of interacting with the OS to use the other programs installed. Eg. \n",
    "            - the graphical front-end of your OS aka the \"desktop\", the \"home\" screen, the car menu system\n",
    "            - text based command line\n",
    "    - programs for exploring and finding information about the other programs and data installed\n",
    "        - eg. The Windows File Explore, OSX Finder, etc.\n",
    "    - Many other utilities depending of different categories depending on the OS\n",
    "        - personal computers -- media programs, web-browsers, productivity apps, etc.\n",
    "        - tools for developing new programs:\n",
    "            - program editors\n",
    "            - programming language software: python, ruby, etc.\n",
    "            - debuggers\n",
    "    - The nature and feel of these programs is specific to the goals or target audience of the OS\n",
    "        - Most of commodity OS's are targeted at non-programmers\n",
    "        - assumes ease of use is primary and programability is secondary"
   ]
  },
  {
   "cell_type": "markdown",
   "id": "b2c4f1be",
   "metadata": {
    "slideshow": {
     "slide_type": "slide"
    }
   },
   "source": [
    "## Hardware + Kernel + User Programs"
   ]
  },
  {
   "cell_type": "code",
   "execution_count": null,
   "id": "230f8121",
   "metadata": {
    "hide_input": true,
    "jupyter": {
     "source_hidden": true
    },
    "tags": [
     "remove-input"
    ]
   },
   "outputs": [],
   "source": [
    "display(Markdown(htmlFig(\"../images/UnixRunning.png\",\n",
    "             width=\"55%\", align=\"center\", \n",
    "             margin=\"auto auto auto auto\"))) "
   ]
  },
  {
   "cell_type": "markdown",
   "id": "6f36fe7e",
   "metadata": {
    "slideshow": {
     "slide_type": "slide"
    }
   },
   "source": [
    "## Why Unix?\n",
    "\n",
    "By programmers for programmers -- teaches you to think like a programmer.\n",
    "\n",
    "- automation is the name of the game -- every aspect is programmable\n",
    "- text oriented interfaces and utilities makes it easy to write programs that translate and transform information\n",
    "- it is easy to access and see what other OS's purposely hide\n",
    "\n",
    "A lot of the world around you runs on some form of Unix!"
   ]
  },
  {
   "cell_type": "markdown",
   "id": "7c4ed083",
   "metadata": {
    "slideshow": {
     "slide_type": "notes"
    }
   },
   "source": [
    "### Benefits to understanding/learning  Unix\n",
    "Unix's terminal interface and program development environment became the gold standard for university CS education\n",
    "- A programmer oriented model for interacting and using the computer -- The Shell\n",
    "- A collection of composable and extensible tools for processing ASCII documents\n",
    "  - Making it easy to write new programs \n",
    "    - including programs that translate ASCII documents into new programs\n",
    "- While it takes some effort to learn: \n",
    "  - it teaches you to think like a programmer\n",
    "    - writing little re-usable programs  \n",
    "    - incrementally evolving those as needed\n",
    "    - makes the value in decomposing and reusing existing programs obvious \n",
    "  - it unleashes your creativity by providing simple building blocks\n",
    "    - minimizes time and effort from idea to prototype \n",
    "    - provide a environment where everything can be customized and programmed\n",
    "    - automation is the name of the game\n",
    "  - it only has a few small core ideas that you need to understand to get going\n",
    "    - files, processes, I/O redirection\n",
    "  - Rich body of existing software for program development \n",
    "  - The computers of the Internet and Cloud primarily runs some form of Unix\n",
    "  - The embedded systems around you often run Unix\n",
    "  - Foundation of Open Source software is Unix based -- ala Linux"
   ]
  },
  {
   "cell_type": "markdown",
   "id": "43127c61",
   "metadata": {
    "slideshow": {
     "slide_type": "slide"
    }
   },
   "source": [
    "## UNIX Preliminaries \n",
    "1. Files and Directories\n",
    "2. ASCII\n",
    "3. The Terminal and the Shell"
   ]
  },
  {
   "cell_type": "markdown",
   "id": "681aa32d",
   "metadata": {
    "cell_style": "split",
    "slideshow": {
     "slide_type": "slide"
    }
   },
   "source": [
    "### Files and directories (folders)?\n",
    "\n",
    "OS converts HW into an information management and processing system\n",
    "\n",
    "- primitive for representing information: The File\n",
    "- primitive for organize the information:  Hierarchy of Directories"
   ]
  },
  {
   "cell_type": "code",
   "execution_count": null,
   "id": "a9a42e03",
   "metadata": {
    "cell_style": "split",
    "hide_input": true,
    "jupyter": {
     "source_hidden": true
    },
    "tags": [
     "remove-input"
    ]
   },
   "outputs": [],
   "source": [
    "display(Markdown(htmlFig(\"../images/Files-Cabinets.jpg\")))"
   ]
  },
  {
   "cell_type": "markdown",
   "id": "34e9ade2",
   "metadata": {
    "cell_style": "center",
    "slideshow": {
     "slide_type": "slide"
    }
   },
   "source": [
    "### Files - But first the Byte and some notation\n",
    "- The byte \n",
    "    - basic unit of information the hardware can store and manipulate \n",
    "\n",
    "<center>\n",
    "<img  src=\"../images/8switches.png\" width=\"30%\"> \n",
    "</center>"
   ]
  },
  {
   "cell_type": "markdown",
   "id": "0a2dd204",
   "metadata": {
    "cell_style": "center",
    "slideshow": {
     "slide_type": "fragment"
    }
   },
   "source": [
    "<center>\n",
    "A byte: 8 switches that form a single location of memory/storage\n",
    "</center>"
   ]
  },
  {
   "cell_type": "markdown",
   "id": "3fe042ef",
   "metadata": {
    "cell_style": "center",
    "slideshow": {
     "slide_type": "fragment"
    }
   },
   "source": [
    "<center>\n",
    "We measure capacity or size of memory/storage in units of bytes\n",
    "</center>"
   ]
  },
  {
   "cell_type": "markdown",
   "id": "9135657c",
   "metadata": {
    "cell_style": "center",
    "slideshow": {
     "slide_type": "fragment"
    }
   },
   "source": [
    "<center>\n",
    "    We think of each byte of memory or data as a vector of 8 bits\n",
    "</center>"
   ]
  },
  {
   "cell_type": "markdown",
   "id": "9ea98b08",
   "metadata": {
    "cell_style": "center",
    "slideshow": {
     "slide_type": "fragment"
    }
   },
   "source": [
    "<center>\n",
    "$[b_7 b_6 b_5 b_4 b_3 b_2 b_1 b_0]$ where each $b_i$ is ${0,1}$    \n",
    "</center>"
   ]
  },
  {
   "cell_type": "code",
   "execution_count": null,
   "id": "8708bdfe",
   "metadata": {
    "hide_input": true,
    "jupyter": {
     "source_hidden": true
    },
    "tags": [
     "remove-input"
    ]
   },
   "outputs": [],
   "source": [
    "displayBytes([[0x00],[0xff]], labels=[\"ALL OFF\", \"ALL ON\"])"
   ]
  },
  {
   "cell_type": "markdown",
   "id": "5157fe25",
   "metadata": {
    "cell_style": "center",
    "slideshow": {
     "slide_type": "fragment"
    }
   },
   "source": [
    "<center>\n",
    "A byte : can take on 256 unique values -- $2^8 = 256$ possible values\n",
    "</center>"
   ]
  },
  {
   "cell_type": "markdown",
   "id": "14282cfb",
   "metadata": {
    "cell_style": "center",
    "slideshow": {
     "slide_type": "slide"
    }
   },
   "source": [
    "#### Hexadecimal \n",
    "\n",
    "- often times we see base 16 (hexadecimal) used to express a particular binary byte value\n",
    "  - it is easier to write down 2 base hex digits than 8 binary digits\n",
    "\n",
    "We prefix a hex value with `0x` to distinguish base 16 values (eg. `0x11`)\n",
    "\n",
    "And we use `0b` to distinguish base 2 value (eg. `0b11`).\n",
    "\n",
    "If we don't prefix we will assume it is obvious from context or we are assuming base 10."
   ]
  },
  {
   "cell_type": "code",
   "execution_count": null,
   "id": "12ead6e8",
   "metadata": {
    "hide_input": false,
    "slideshow": {
     "slide_type": "slide"
    },
    "tags": [
     "remove-input"
    ]
   },
   "outputs": [],
   "source": [
    "X=np.uint8(0xae)\n",
    "XL=np.bitwise_and(X,0xf)\n",
    "XH=np.bitwise_and(np.right_shift(X,4),0xf)\n",
    "displayBytes(bytes=[[X]])\n"
   ]
  },
  {
   "cell_type": "code",
   "execution_count": null,
   "id": "e72ae8e3",
   "metadata": {
    "cell_style": "split",
    "hide_input": false,
    "jupyter": {
     "source_hidden": true
    },
    "slideshow": {
     "slide_type": "-"
    },
    "tags": [
     "remove-input"
    ]
   },
   "outputs": [],
   "source": [
    "displayBytes(bytes=[[XH]], numbits=4,columns=[\"[$b_7$\", \"$b_6$\", \"$b_5$\", \"$b_4$]\"])"
   ]
  },
  {
   "cell_type": "code",
   "execution_count": null,
   "id": "7d7cdb44",
   "metadata": {
    "cell_style": "split",
    "hide_input": false,
    "jupyter": {
     "source_hidden": true
    },
    "tags": [
     "remove-input"
    ]
   },
   "outputs": [],
   "source": [
    "displayBytes(bytes=[[XL]], numbits=4,columns=[\"[$b_3$\", \"$b_2$\", \"$b_1$\", \"$b_0$]\"])"
   ]
  },
  {
   "cell_type": "code",
   "execution_count": null,
   "id": "79e76a93",
   "metadata": {
    "cell_style": "split",
    "hide_input": false,
    "jupyter": {
     "source_hidden": true
    },
    "tags": [
     "remove-input"
    ]
   },
   "outputs": [],
   "source": [
    "displayStr(format(XH,\"1X\"), size=\"2em\", align=\"center\")"
   ]
  },
  {
   "cell_type": "code",
   "execution_count": null,
   "id": "d8a9d7ce",
   "metadata": {
    "cell_style": "split",
    "hide_input": false,
    "jupyter": {
     "source_hidden": true
    },
    "tags": [
     "remove-input"
    ]
   },
   "outputs": [],
   "source": [
    "displayStr(format(XL,\"1X\"), size=\"2em\", align=\"center\")"
   ]
  },
  {
   "cell_type": "code",
   "execution_count": null,
   "id": "0ddc6b92",
   "metadata": {
    "hide_input": false,
    "jupyter": {
     "source_hidden": true
    },
    "tags": [
     "remove-input"
    ]
   },
   "outputs": [],
   "source": [
    "displayStr(\"0x\"+format(X,\"02X\"), size=\"2em\", align=\"center\")"
   ]
  },
  {
   "cell_type": "markdown",
   "id": "b8d36feb",
   "metadata": {
    "cell_style": "center",
    "slideshow": {
     "slide_type": "notes"
    }
   },
   "source": [
    "In base 16 (hexadecimal) each digit has 16 possible values.  The following table shows how we map all 16 possible patterns of 4 bits to a single hex digit.  This allows us to easily express any byte value as two hex digits.  We simply rewrite the two groups of 4 bits of a byte as two hex digits.\n",
    "Use chalkboard to illustrate \n",
    "- `bin2Hex(0b00010000)` : 0b00010000 $\\rightarrow$ 0x10\n",
    "- `bin2Hex(0b10000001)` : 0b10000001 $\\rightarrow$ 0x81\n",
    "- `bin2Hex(0b10111001)` : 0b10111001 $\\rightarrow$ 0xb9\n",
    "- `bin2Hex(0b10101010)` : 0b10101010 $\\rightarrow$ 0xaa\n",
    "- `bin2Hex(0b01010101)` : 0b01010101 $\\rightarrow$ 0x55\n",
    "- `bin2Hex(0b11110111)` : 0b11110111 $\\rightarrow$ 0xf7"
   ]
  },
  {
   "cell_type": "code",
   "execution_count": null,
   "id": "b138a97e",
   "metadata": {
    "cell_style": "split",
    "hide_input": false,
    "jupyter": {
     "source_hidden": true
    },
    "slideshow": {
     "slide_type": "-"
    },
    "tags": [
     "remove-input"
    ]
   },
   "outputs": [],
   "source": [
    "displayBytes(bytes=[[i] for i in range(16)],td_font_size=\"2.5em\", th_font_size=\"1.5em\", numbits=4, columns=[\"[$b_3$\", \"$b_2$\", \"$b_1$\", \"$b_0$]\"], labels=[format(i,\"1X\")for i in range(16)], labelstitle=\"HEX\", center=True)"
   ]
  },
  {
   "cell_type": "markdown",
   "id": "317c4c84",
   "metadata": {
    "cell_style": "split",
    "slideshow": {
     "slide_type": "-"
    }
   },
   "source": [
    "<font size=\"5vw\">\n",
    "    \n",
    "- 0b00010000 $\\rightarrow$ 0x ?\n",
    "- 0b10000001 $\\rightarrow$ 0x ?\n",
    "- 0b10111001 $\\rightarrow$  0x ?\n",
    "- 0b10101010 $\\rightarrow$ 0x ? \n",
    "- 0b01010101 $\\rightarrow$ 0x ?\n",
    "- 0b11110111 $\\rightarrow$ 0x ?\n",
    "    \n",
    "</font>"
   ]
  },
  {
   "cell_type": "code",
   "execution_count": null,
   "id": "4d2d8a27",
   "metadata": {
    "jupyter": {
     "source_hidden": true
    },
    "slideshow": {
     "slide_type": "skip"
    }
   },
   "outputs": [],
   "source": []
  },
  {
   "cell_type": "code",
   "execution_count": null,
   "id": "84505c13",
   "metadata": {
    "cell_style": "split",
    "hide_input": false,
    "jupyter": {
     "source_hidden": true
    },
    "slideshow": {
     "slide_type": "skip"
    },
    "tags": [
     "output_scroll",
     "remove-input"
    ]
   },
   "outputs": [],
   "source": [
    "displayBytes(bytes=[[i] for i in range(256)], labelstitle=\"HEX (DEC)\", labels=[\"0x\"+format(i,\"02x\")+ \" (\" + format(i,\"03d\") +\")\" for i in range(256)], center=True)"
   ]
  },
  {
   "cell_type": "markdown",
   "id": "773547a6",
   "metadata": {
    "cell_style": "split",
    "slideshow": {
     "slide_type": "skip"
    }
   },
   "source": [
    "This table shows all 256 patterns of bits that a single byte could have.  On the left is how we would refer to the value in both Hex and (decimal)"
   ]
  },
  {
   "cell_type": "markdown",
   "id": "3608f838",
   "metadata": {
    "slideshow": {
     "slide_type": "slide"
    }
   },
   "source": [
    "### Files - Data"
   ]
  },
  {
   "cell_type": "markdown",
   "id": "481a6841",
   "metadata": {
    "cell_style": "split",
    "hide_input": false,
    "slideshow": {
     "slide_type": "-"
    }
   },
   "source": [
    "<center>\n",
    "<img align=\"center\" width=\"80%\" src=\"../images/file.png\">\n",
    "    </center>"
   ]
  },
  {
   "cell_type": "markdown",
   "id": "5dfa55b0",
   "metadata": {
    "cell_style": "split",
    "hide_input": false,
    "slideshow": {
     "slide_type": "-"
    }
   },
   "source": [
    "The information a file contains is its data\n",
    "\n",
    "**Data:** is a collection of bytes:\n",
    "\n",
    "In Unix there is no explicit type that tells us what\n",
    "      the bytes \"are\" <br>\n",
    "- they could be human readable program code\n",
    "- they could be pixel data of an image\n",
    "\n",
    "We are free to try and interpret the bytes in any way we like depending on what programs we use to process them. "
   ]
  },
  {
   "cell_type": "markdown",
   "id": "0afee1a7",
   "metadata": {
    "cell_style": "center",
    "slideshow": {
     "slide_type": "-"
    }
   },
   "source": [
    "UNIX assumes we know what we are doing!\n",
    "\n",
    "There are many tools that let us just work with raw bytes so we can always use these tools with any file! (eg dump its data as hexadecimal values)"
   ]
  },
  {
   "cell_type": "markdown",
   "id": "1e63650a",
   "metadata": {
    "cell_style": "split",
    "slideshow": {
     "slide_type": "slide"
    }
   },
   "source": [
    "### Files - Meta Data\n",
    "<center>\n",
    "<img align=\"center\" width=\"80%\" src=\"../images/file.png\">\n",
    "    </center>"
   ]
  },
  {
   "cell_type": "markdown",
   "id": "a2cdd380",
   "metadata": {
    "cell_style": "split"
   },
   "source": [
    "**Meta-data:** Bytes that encode extra descriptive facts beyond the data.  Eg\n",
    " - who owns the file \n",
    " - the length of the file (measured in bytes)\n",
    " - who has permissions to read or write its contents \n",
    " - the time the contents was last modified\n",
    " - the time that it was last read\n",
    " - the time that the descriptive facts where last changed (eg the file permissions were modified)"
   ]
  },
  {
   "cell_type": "code",
   "execution_count": null,
   "id": "87d2dcb4",
   "metadata": {
    "hide_input": true,
    "jupyter": {
     "source_hidden": true
    },
    "slideshow": {
     "slide_type": "skip"
    }
   },
   "outputs": [],
   "source": []
  },
  {
   "cell_type": "markdown",
   "id": "5c633613",
   "metadata": {
    "cell_style": "split",
    "slideshow": {
     "slide_type": "slide"
    }
   },
   "source": [
    "<center>\n",
    "<img align=\"center\" width=\"80%\" src=\"../images/359px-ENC_SYSTEME_FIGURE.jpeg\"> \n",
    "</center>"
   ]
  },
  {
   "cell_type": "markdown",
   "id": "dd42c25c",
   "metadata": {
    "cell_style": "split",
    "slideshow": {
     "slide_type": "-"
    }
   },
   "source": [
    "## Hierarchy -- Trees and Directories"
   ]
  },
  {
   "cell_type": "markdown",
   "id": "ad4e88c5",
   "metadata": {
    "cell_style": "split"
   },
   "source": [
    "Files are a good start but not enough to stay organized\n",
    "\n",
    "Must have a way for naming and finding files that flexible and can be easily understood and organized by the users\n",
    "\n",
    "**Directory:** a list of names each name identifies either a single file or another directory. Entries of this are *in* the directory.\n",
    "\n",
    "**Sub-directory:** contained with a parent directory\n",
    "\n",
    "Like files directories have meta-data but the data is just its list of entries. Results in a tree and the name of any file is a path within the tree.\n",
    "\n",
    "Users are empowered to organized their files as they see fit both in names and directory structure.  \n",
    "\n",
    "\n",
    "\n",
    "\n"
   ]
  },
  {
   "cell_type": "markdown",
   "id": "c55bf30b",
   "metadata": {
    "cell_style": "center",
    "slideshow": {
     "slide_type": "slide"
    }
   },
   "source": [
    "### PATHS and the ROOT"
   ]
  },
  {
   "cell_type": "code",
   "execution_count": null,
   "id": "dd352d14",
   "metadata": {
    "cell_style": "split",
    "hide_input": true,
    "jupyter": {
     "source_hidden": true
    },
    "slideshow": {
     "slide_type": "-"
    },
    "tags": [
     "remove-input"
    ]
   },
   "outputs": [],
   "source": [
    "display(Markdown(htmlFig(\"../images/dirtree.png\", width=\"80%\")))"
   ]
  },
  {
   "cell_type": "markdown",
   "id": "b00878c8",
   "metadata": {
    "cell_style": "split",
    "slideshow": {
     "slide_type": "-"
    }
   },
   "source": [
    "`/` $+$ `home` $+$ `jonathan` $+$ `Classes` $+$ `CS` $+$ `210` $+$ `Assignment 1` $+$ `Problem 1`     \n",
    "\n",
    "`/` $+$ `home` $+$ `jonathan` $+$ `Classes` $+$ `CS` $+$ `210` $+$ `Assignment 2` $+$ `Problem 1` \n",
    "\n",
    "`/` $+$ `home` $+$ `jonathan` $+$ `Classes` $+$ `CS` $+$ `210` $+$ `Assignment 3` $+$ `Problem 1` \n",
    "\n",
    "\"Full\" path name: join independent components with the \"/\" character.  So the above three files as proper unix path names would be:\n",
    "\n",
    "`/home/jonathan/Classes/CS/210/Assignment 1/Problem 1\n",
    "/home/jonathan/Classes/CS/210/Assignment 2/Problem 1\n",
    "/home/jonathan/Classes/CS/210/Assignment 3/Problem 1`"
   ]
  },
  {
   "cell_type": "markdown",
   "id": "1a2e90fe",
   "metadata": {
    "cell_style": "center",
    "slideshow": {
     "slide_type": "notes"
    }
   },
   "source": [
    "- Talk through the example draw as necessary to highlight idea of a path\n",
    "- note the notion of root as an anchor\n",
    "- later we will get to relative paths and lack of constraints on file names"
   ]
  },
  {
   "cell_type": "markdown",
   "id": "f1ebd5d5",
   "metadata": {
    "cell_style": "center",
    "slideshow": {
     "slide_type": "slide"
    }
   },
   "source": [
    "### ASCII - One more thing\n",
    "- An important encoding of bytes that many Unix tools assume is ASCII\n",
    "<img src=\"../images/ascii.png\" width=\"100%\">\n",
    "- ASCII provides a simple code that maps bytes to English letters, numbers, punctuation, and some text orient controls. "
   ]
  },
  {
   "cell_type": "markdown",
   "id": "9cd1fb0e",
   "metadata": {
    "slideshow": {
     "slide_type": "slide"
    }
   },
   "source": [
    "## Terminal and the Shell - Here we go\n",
    "\n",
    "Finally ready to get on with it \n",
    "- a computer - the hardware\n",
    "- with the Unix kernel booted and running on it waiting for us!"
   ]
  },
  {
   "cell_type": "markdown",
   "id": "058c076a",
   "metadata": {
    "cell_style": "center",
    "hide_input": false,
    "slideshow": {
     "slide_type": "notes"
    }
   },
   "source": [
    "### Shell: One program to \"rule/run\" them all\n",
    "- Every story has to start somewhere\n",
    "  - every new terminal connection made to the UNIX system starts a shell and directs its input and output to the the terminal\n",
    "  - Shell is designed to have a text based conversation with a programmer --\n",
    "      - the conversation is exchanges between the programmer and the shell - eg.  \n",
    "```\n",
    "SHLL -> READY\n",
    "PGMR -> <enter> '\\n'\n",
    "SHLL -> READY\n",
    "SHLL -> #<enter> \n",
    "SHLL -> READY\n",
    "PGMR -> echo \"Hello\"\n",
    "SHLL -> Hello\n",
    "SHLL -> READY\n",
    "PGMR -> for ((i=0; i<3; i++)); do echo $i; done\n",
    "SHLL -> 0 \n",
    "SHLL -> 1\n",
    "SHLL -> 2\n",
    "SHLL -> READY\n",
    "PGMR -> Bye \n",
    "SHLL EXITS AND KERNELENDS THE TERMINAL SESSION\n",
    "          \n",
    "      - the shell begins the conversation by send a prompt \"string\" to the terminal\n",
    "      - the programmer sends requests to the shell in a \"line oriented\" way \n",
    "          - A line is a set of ASCII characters terminated by a single \"newline\" character\n",
    "              - '10', '0x0a', '\\n'\n",
    "              - the terminal sends this character when the programmer presses the \"return\" or \"enter\" key\n",
    "          \n",
    "  - Internal vs External command"
   ]
  },
  {
   "cell_type": "code",
   "execution_count": null,
   "id": "9ce69851",
   "metadata": {
    "cell_style": "center",
    "hide_input": true,
    "jupyter": {
     "source_hidden": true
    },
    "slideshow": {
     "slide_type": "-"
    },
    "tags": [
     "remove-input"
    ]
   },
   "outputs": [],
   "source": [
    "display(Markdown(htmlFig(\"../images/UnixL01_SHCHT/00SHLLChat.png\", width=\"55%\")))"
   ]
  },
  {
   "cell_type": "markdown",
   "id": "441e7cd2",
   "metadata": {
    "cell_style": "split",
    "slideshow": {
     "slide_type": "slide"
    }
   },
   "source": [
    "<img src=\"../images/UnixL01_SHCHT/01SHLLChat.png\" width=\"100%\" style=\"border:0px; margin: 0px 0px; background-color: #191919; display: block; margin-left: auto; margin-right: auto;\">"
   ]
  },
  {
   "cell_type": "markdown",
   "id": "1d622e6f",
   "metadata": {
    "cell_style": "split",
    "slideshow": {
     "slide_type": "-"
    }
   },
   "source": [
    "### Connect a Terminal\n",
    "\n",
    "- Connect a terminal so that the system can communicate with a user via ASCII data\n",
    "- Unix kernel awaits for a user to login on the terminal"
   ]
  },
  {
   "cell_type": "code",
   "execution_count": null,
   "id": "5eff4265",
   "metadata": {
    "hide_input": true,
    "jupyter": {
     "source_hidden": true
    },
    "slideshow": {
     "slide_type": "skip"
    }
   },
   "outputs": [],
   "source": []
  },
  {
   "cell_type": "markdown",
   "id": "9fa17d67",
   "metadata": {
    "cell_style": "split",
    "slideshow": {
     "slide_type": "slide"
    }
   },
   "source": [
    "<img src=\"../images/UnixL01_SHCHT/02SHLLChat.png\" width=\"100%\" style=\"vertical-align:middle; border:0px; margin: 0px 0px; background-color: #191919; display: block; margin-left: auto; margin-right: auto;\">"
   ]
  },
  {
   "cell_type": "markdown",
   "id": "2c368e6f",
   "metadata": {
    "cell_style": "split",
    "slideshow": {
     "slide_type": "-"
    }
   },
   "source": [
    "### Start a Shell \n",
    "\n",
    "- Terminal prints/displays ASCII sent\n",
    "    - ASCII Byte $\\rightarrow$ character image on screen\n",
    "- User presses keys terminals sends ASCII byte\n",
    "    - key press $\\rightarrow$ ASCII Byte\n",
    "- After Login\n",
    "  - Kernel Starts users specified shell\n",
    "- The Kernel will ensure that:\n",
    "    1. Shell output $\\rightarrow$ Terminal\n",
    "    2. Terminal $\\rightarrow$ Shell "
   ]
  },
  {
   "cell_type": "markdown",
   "id": "f465348e",
   "metadata": {
    "slideshow": {
     "slide_type": "notes"
    }
   },
   "source": [
    "- Terminal prints ASCII sent to on the screen as appropriate images of the corresponding characters\n",
    "- User presses keys on the keyboard to have the Terminal send the corresponding ASCII values to the Kernel\n",
    "- After Login the kernel launches an instance of the user's chosen shell program\n",
    "- Default on Linux is Bash (Bourne Again Shell), however, there are others (eg. csh, ksh, zsh, sh, ...) \n",
    "- The Kernel will ensure that:\n",
    "    1. Shell's output will be sent to the Terminal \n",
    "    2. and values sent by the Terminal will be available to the Shell as input "
   ]
  },
  {
   "cell_type": "markdown",
   "id": "662c93e8",
   "metadata": {
    "cell_style": "split",
    "slideshow": {
     "slide_type": "slide"
    }
   },
   "source": [
    "<img src=\"../images/UnixL01_SHCHT/03SHLLChat.png\" width=\"100%\" style=\"vertical-align:middle; float:middle; border:0px; margin: 0px 0px; background-color: #191919;\">"
   ]
  },
  {
   "cell_type": "markdown",
   "id": "18586703",
   "metadata": {
    "cell_style": "split"
   },
   "source": [
    "## Shell Conversation    \n",
    "\n",
    "Exchanges:\n",
    "\n",
    "1. Request -- Command <b>line</b> sent by the user \n",
    "2. Reply -- Response sent by shell\n",
    "\n",
    "Shell Loop:\n",
    "\n",
    "``` \n",
    "while true:\n",
    "    Wait for a command \"line\"\n",
    "    Process line sending output as reply\n",
    "```\n",
    "\n",
    "Newlines `\\n` -- `0xa` mark end-of-line\n",
    "```\n",
    "hello\\n\n",
    "```"
   ]
  },
  {
   "cell_type": "markdown",
   "id": "ab8d7a22",
   "metadata": {
    "slideshow": {
     "slide_type": "notes"
    }
   },
   "source": [
    "    \n",
    "- The shell is an ASCII line oriented interface program\n",
    "- Communication is structured as a conversation between the user and the shell\n",
    "   1. Request -- Command <b>line</b> sent by the user \n",
    "   2. Reply -- Response sent by shell\n",
    "\n",
    "``` \n",
    "while true:\n",
    "    Wait for a command \"line\"\n",
    "    Process line sending output as reply\n",
    "```\n",
    "\n",
    "Lines are a sequence of ASCII characters terminated by a `\\n` -- `0xa` eg.\n",
    "```\n",
    "hello\\n\n",
    "```"
   ]
  },
  {
   "cell_type": "markdown",
   "id": "2f566e57",
   "metadata": {
    "cell_style": "split",
    "slideshow": {
     "slide_type": "slide"
    }
   },
   "source": [
    "<img src=\"../images/UnixL01_SHCHT/04SHLLChat.png\" width=\"150%\" style=\"vertical-align:top; float:middle; border:0px; margin: 0px 0px; background-color: #191919;\">"
   ]
  },
  {
   "cell_type": "markdown",
   "id": "178e5f54",
   "metadata": {
    "cell_style": "split"
   },
   "source": [
    "## The Prompt\n",
    "- The prompt a string of characters that the shell sends when it is ready for input \n",
    "- It is the responsibility of the user to recognize that the shell is Ready for the their next request.\n",
    "- Here we assume the Prompt is set to be dollar sign followed by a space `$ ` or there byte values in hex `0x24,0x20` \n",
    "   - We will see later how you can customize the prompt string to your liking "
   ]
  },
  {
   "cell_type": "markdown",
   "id": "bdb46e7e",
   "metadata": {
    "slideshow": {
     "slide_type": "slide"
    }
   },
   "source": [
    "## Terminals vs Terminal Emulators "
   ]
  },
  {
   "cell_type": "markdown",
   "id": "3700b396",
   "metadata": {
    "cell_style": "split",
    "slideshow": {
     "slide_type": "-"
    }
   },
   "source": [
    "<img src=\"../images/UnixL01_SHCHT/041SHLLChat.png\" width=\"80%\" align=\"right\" style=\"vertical-align:top; float:right; border:0px; margin: 0px 0px; background-color: #191919;\">"
   ]
  },
  {
   "cell_type": "markdown",
   "id": "448e5730",
   "metadata": {
    "cell_style": "split",
    "slideshow": {
     "slide_type": "-"
    }
   },
   "source": [
    "\n",
    "<img src=\"../images/terminalroom.jpg\" width=\"120%\" align=\"left\" style=\"vertical-align:bottom; float:left; border:0px; margin: 0px 0px; background-color: #191919;\">"
   ]
  },
  {
   "cell_type": "markdown",
   "id": "5bf48b60",
   "metadata": {
    "cell_style": "split",
    "hide_input": false,
    "slideshow": {
     "slide_type": "fragment"
    }
   },
   "source": [
    "<img src=\"../images/UnixL01_SHCHT/042SHLLChat.png\" width=\"80%\" align=\"right\" style=\"vertical-align:top; float:right; border:0px; margin: 0px 0px; background-color: #191919;\">"
   ]
  },
  {
   "cell_type": "code",
   "execution_count": null,
   "id": "a0b92440",
   "metadata": {
    "cell_style": "split",
    "hide_input": false,
    "jupyter": {
     "source_hidden": true
    },
    "tags": [
     "remove-cell"
    ]
   },
   "outputs": [],
   "source": [
    "## SMALLTERM1=mkTerm()\n",
    "display(showTerm(EXTERM1,\"\",\"100%\",\"120px\"))"
   ]
  },
  {
   "cell_type": "code",
   "execution_count": null,
   "id": "83937bb0",
   "metadata": {
    "cell_style": "split",
    "hide_input": true,
    "jupyter": {
     "source_hidden": true
    },
    "slideshow": {
     "slide_type": "-"
    },
    "tags": [
     "remove-cell"
    ]
   },
   "outputs": [],
   "source": [
    "#SMALLTERM2=mkTerm()\n",
    "display(showTerm(EXTERM2,\"\",\"100%\",\"120\"))"
   ]
  },
  {
   "cell_type": "code",
   "execution_count": null,
   "id": "2b5e54b7",
   "metadata": {
    "cell_style": "split",
    "hide_input": true,
    "jupyter": {
     "source_hidden": true
    },
    "slideshow": {
     "slide_type": "-"
    },
    "tags": [
     "remove-cell"
    ]
   },
   "outputs": [],
   "source": [
    "#SMALLTERM3=mkTerm()\n",
    "display(showTerm(EXTERM3,\"\",\"100%\",\"120\"))"
   ]
  },
  {
   "cell_type": "markdown",
   "id": "a7241ebc",
   "metadata": {
    "hide_input": false,
    "slideshow": {
     "slide_type": "fragment"
    }
   },
   "source": [
    "- Today a single user can create many \"terminal\" connections to organize their work.  Eg.\n",
    "   1. One to run arbitrary shell commands\n",
    "   2. One to run an ascii text editor \n",
    "   3. One to run an ascii email client\n",
    "- A Terminal is now just a program called a Terminal Emulator:\n",
    "   - You can run one to create a terminal \"session/connection\" on  your personal computers:\n",
    "       - [\"Terminal\"](https://en.wikipedia.org/wiki/Terminal_(macOS)) App on OSX\n",
    "       - [\"Windows Terminal\"](https://docs.microsoft.com/en-us/windows/terminal/) on Windows\n",
    "       - [\"xterm\"](https://en.wikipedia.org/wiki/Xterm) on Linux\n",
    "       - Or as in our case [xterm.js](https://xtermjs.org) which lets us run terminals within a web-browser (as above) -- nice thing is then that we don't need any extra software"
   ]
  },
  {
   "cell_type": "markdown",
   "id": "0212e77e",
   "metadata": {
    "slideshow": {
     "slide_type": "slide"
    }
   },
   "source": [
    "## Shell: Lets have a conversation\n",
    "\n",
    "Lets build up our understanding by poking around a little"
   ]
  },
  {
   "cell_type": "code",
   "execution_count": null,
   "id": "2edd1524",
   "metadata": {
    "cell_style": "split",
    "hide_input": true,
    "jupyter": {
     "source_hidden": true
    },
    "slideshow": {
     "slide_type": "slide"
    },
    "tags": [
     "remove-input"
    ]
   },
   "outputs": [],
   "source": [
    "display(mkImgsAnimateBox(dir=\"../images/UnixL01_SHCHT\",\n",
    "#                         force=True,\n",
    "                         saveto=\"save1.html\",\n",
    "    files=['05SHLLChat.png',\n",
    "     '06SHLLChat.png',\n",
    "     '08SHLLChat.png',\n",
    "     '09SHLLChat.png',\n",
    "     '11SHLLChat.png',\n",
    "     '12SHLLChat.png',\n",
    "     '13SHLLChat.png',\n",
    "     '14SHLLChat.png',\n",
    "     '15SHLLChat.png',\n",
    "     '16SHLLChat.png',\n",
    "     '17SHLLChat.png',\n",
    "     '18SHLLChat.png',\n",
    "     '19SHLLChat.png']))"
   ]
  },
  {
   "cell_type": "code",
   "execution_count": null,
   "id": "8ba9e789",
   "metadata": {
    "cell_style": "split",
    "hide_input": false,
    "jupyter": {
     "source_hidden": true
    },
    "slideshow": {
     "slide_type": "-"
    },
    "tags": [
     "remove-cell"
    ]
   },
   "outputs": [],
   "source": [
    "display(showET(title=\"\"))"
   ]
  },
  {
   "cell_type": "markdown",
   "id": "c282873a",
   "metadata": {
    "slideshow": {
     "slide_type": "slide"
    }
   },
   "source": [
    "## Shell: Built-ins\n",
    "\n",
    "- So we can see that there is some  \"built-in\" behavior\n",
    "    - Actually \"built-in\" syntax forms an entire programming language ;-)\n",
    "    - more on these commands and language later\n",
    "- Lets dig deeper into the shell's inherent loop as there is more going on than you might think"
   ]
  },
  {
   "cell_type": "markdown",
   "id": "0761fe3f",
   "metadata": {
    "slideshow": {
     "slide_type": "slide"
    }
   },
   "source": [
    "### Shell: Processing a command line ... so far\n",
    "\n",
    "1. Splits line into blank (space or tab) separated `words`\n",
    "    - first word is the **Simple** Command to execute eg. `echo foo bar`,   `echo` is command\n",
    "        - later we will see that simple commands can be chained in interesting ways on one line\n",
    "        - optionally prefixing the command with some variable assignments\n",
    "    - remaining words are treated as arguments to the command   eg `echo foo bar`, arguments are `foo` and `bar`\n",
    "    - see [Shell Grammer](https://man7.org/linux/man-pages/man1/bash.1.html#SHELL_GRAMMAR) for the gory details \n",
    "2. Does expansions -- so far we have only seen one kind\n",
    "    - But there are actually 9 kinds of expansion \n",
    "        - we will cover aspects as we need to\n",
    "3. Execute the command\n",
    "    - If the simple command is one of the known built-ins then execute it\n",
    "    - But what happens if it is not"
   ]
  },
  {
   "cell_type": "code",
   "execution_count": null,
   "id": "0f5076ac",
   "metadata": {
    "hide_input": true,
    "jupyter": {
     "source_hidden": true
    },
    "slideshow": {
     "slide_type": "slide"
    },
    "tags": [
     "remove-input"
    ]
   },
   "outputs": [],
   "source": [
    "TermShellCmd('hello')"
   ]
  },
  {
   "cell_type": "markdown",
   "id": "f1a44a0d",
   "metadata": {
    "slideshow": {
     "slide_type": "fragment"
    }
   },
   "source": [
    "### This is where things get interesting\n",
    "### Its not quite as obvious as you might think"
   ]
  },
  {
   "cell_type": "markdown",
   "id": "b82433f0",
   "metadata": {
    "cell_style": "center",
    "hide_input": true,
    "slideshow": {
     "slide_type": "slide"
    }
   },
   "source": [
    "## Shell: Externals\n",
    "\n",
    "So what happens if the first `word` of what you type does NOT match the name of a built in?\n",
    "First off what are the built-ins?\n"
   ]
  },
  {
   "cell_type": "markdown",
   "id": "a0cf9c3e",
   "metadata": {
    "slideshow": {
     "slide_type": "fragment"
    }
   },
   "source": [
    "### Bash: Built in `help` command \n",
    "\n",
    "Lets figure it out using the bash `help` built-in"
   ]
  },
  {
   "cell_type": "code",
   "execution_count": null,
   "id": "e52e0349",
   "metadata": {
    "hide_input": false,
    "jupyter": {
     "source_hidden": true
    },
    "slideshow": {
     "slide_type": "fragment"
    },
    "tags": [
     "remove-input"
    ]
   },
   "outputs": [],
   "source": [
    "TermShellCmd(\"help\")"
   ]
  },
  {
   "cell_type": "markdown",
   "id": "9be1f98f",
   "metadata": {},
   "source": [
    "No surprise we don't see a command called `hello` ... we also don't see `ls` but ..."
   ]
  },
  {
   "cell_type": "code",
   "execution_count": null,
   "id": "b5d360a5",
   "metadata": {
    "hide_input": false,
    "jupyter": {
     "source_hidden": true
    },
    "slideshow": {
     "slide_type": "fragment"
    },
    "tags": [
     "remove-input"
    ]
   },
   "outputs": [],
   "source": [
    "TermShellCmd(\"ls\")"
   ]
  },
  {
   "cell_type": "code",
   "execution_count": null,
   "id": "22886aac",
   "metadata": {
    "hide_input": true,
    "jupyter": {
     "source_hidden": true
    },
    "slideshow": {
     "slide_type": "fragment"
    },
    "tags": [
     "remove-input"
    ]
   },
   "outputs": [],
   "source": [
    "TermShellCmd(\"help ls\")"
   ]
  },
  {
   "cell_type": "markdown",
   "id": "4d7b4351",
   "metadata": {
    "slideshow": {
     "slide_type": "fragment"
    }
   },
   "source": [
    "What's going? If 'ls' is not an built-in?"
   ]
  },
  {
   "cell_type": "code",
   "execution_count": null,
   "id": "1b7ebf8b",
   "metadata": {
    "cell_style": "split",
    "hide_input": false,
    "jupyter": {
     "source_hidden": true
    },
    "slideshow": {
     "slide_type": "slide"
    }
   },
   "outputs": [],
   "source": [
    "display(mkImgsAnimateBox(\n",
    "    \"../images/UnixL01_SHCHT\", \n",
    "#    force=True,\n",
    "    saveto=\"save2.html\",\n",
    "    files=['05SHLLChat.png',\n",
    "     '30SHLLChat.png',\n",
    "     '31SHLLChat.png',\n",
    "     '32SHLLChat.png',\n",
    "     '33SHLLChat.png',\n",
    "     '34SHLLChat.png']))"
   ]
  },
  {
   "cell_type": "markdown",
   "id": "c84d4b14",
   "metadata": {
    "cell_style": "split",
    "hide_input": false,
    "slideshow": {
     "slide_type": "-"
    }
   },
   "source": [
    "1. Shell searches for Simple Command in PATH"
   ]
  },
  {
   "cell_type": "code",
   "execution_count": null,
   "id": "43337591",
   "metadata": {
    "cell_style": "split",
    "hide_input": true,
    "jupyter": {
     "source_hidden": true
    },
    "slideshow": {
     "slide_type": "fragment"
    },
    "tags": [
     "remove-input"
    ]
   },
   "outputs": [],
   "source": [
    "TermShellCmd(\"echo $PATH\")"
   ]
  },
  {
   "cell_type": "markdown",
   "id": "00fe66ee",
   "metadata": {
    "cell_style": "split",
    "slideshow": {
     "slide_type": "fragment"
    }
   },
   "source": [
    "2. if matching name of executable \"in PATH\" with the help of the kernel **start program** connecting its output\n",
    "    - wait until it exits"
   ]
  },
  {
   "cell_type": "markdown",
   "id": "a83c6a98",
   "metadata": {
    "cell_style": "split",
    "slideshow": {
     "slide_type": "fragment"
    }
   },
   "source": [
    "3. `/bin/ls` runs - more about `ls` later\n",
    "   - output goes to the terminal"
   ]
  },
  {
   "cell_type": "code",
   "execution_count": null,
   "id": "2ce7b79e",
   "metadata": {
    "cell_style": "split",
    "hide_input": true,
    "jupyter": {
     "source_hidden": true
    },
    "slideshow": {
     "slide_type": "skip"
    }
   },
   "outputs": [],
   "source": []
  },
  {
   "cell_type": "markdown",
   "id": "c50d88d2",
   "metadata": {
    "cell_style": "split",
    "hide_input": true,
    "slideshow": {
     "slide_type": "fragment"
    }
   },
   "source": [
    "4. Exits and gets cleaned up by Kernel\n",
    "   - shell wake's up \n",
    "   - shell picks up return value"
   ]
  },
  {
   "cell_type": "code",
   "execution_count": null,
   "id": "2a81d980",
   "metadata": {
    "cell_style": "split",
    "hide_input": true,
    "jupyter": {
     "source_hidden": true
    },
    "slideshow": {
     "slide_type": "skip"
    }
   },
   "outputs": [],
   "source": []
  },
  {
   "cell_type": "markdown",
   "id": "43484250",
   "metadata": {
    "cell_style": "split",
    "slideshow": {
     "slide_type": "fragment"
    }
   },
   "source": [
    "5. Shell sets special variable `?` to return value\n",
    "   - prints prompt \n",
    "   \n",
    "This cartoon is actually missing a couple of steps but we are going to punt on those till much later in the course"
   ]
  },
  {
   "cell_type": "markdown",
   "id": "f6280f54",
   "metadata": {
    "slideshow": {
     "slide_type": "slide"
    }
   },
   "source": [
    "### PATH Variable and Alternative\n",
    "\n",
    "- PATH environment variable is\n",
    "   - colon ':' separated list of directories \n",
    "   - the shell search list, **in order**,  for an <u>*executable*</u> file who's name matches the command name entered.\n",
    "     - more about what an <u>*executable*</u> file is later\n",
    "       - and how to mark one as such\n",
    "     - first match is used so order of directories matters"
   ]
  },
  {
   "cell_type": "markdown",
   "id": "caf3225d",
   "metadata": {
    "slideshow": {
     "slide_type": "fragment"
    }
   },
   "source": [
    "- Alternatively if the command name has a slash anywhere in it Eg. `/home/joyvan/bin/foobar`\n",
    "   - then PATH search is skipped\n",
    "   - if there is an <u>*executable*</u> who's name matches run it"
   ]
  },
  {
   "cell_type": "markdown",
   "id": "defefbb4",
   "metadata": {
    "slideshow": {
     "slide_type": "fragment"
    }
   },
   "source": [
    "Two ways to get the shell to execute programs:\n",
    "1. Modify path so shell finds it\n",
    "2. Explicitly specify the full path name of the program as if it where a command\n",
    "\n",
    "Notes: \n",
    " - Current environment variables and their values are \"copied into the new program\"\n",
    " - extra arguments on the command line are \"copied into the new program command line arguments\""
   ]
  },
  {
   "cell_type": "markdown",
   "id": "c1a6afa5",
   "metadata": {
    "cell_style": "center",
    "hide_input": true,
    "slideshow": {
     "slide_type": "slide"
    }
   },
   "source": [
    "<center>\n",
    "    \n",
    "## PAY ATTENTION\n",
    "\n",
    "</center>\n",
    "\n",
    "\n",
    "- This is where a lot of the magic and confusion about the shell and Unix comes in."
   ]
  },
  {
   "cell_type": "markdown",
   "id": "3b376865",
   "metadata": {
    "cell_style": "center",
    "hide_input": true,
    "slideshow": {
     "slide_type": "fragment"
    }
   },
   "source": [
    "1. We now see how the shell is the program we use to find and run other programs!"
   ]
  },
  {
   "cell_type": "markdown",
   "id": "fcd7d1b1",
   "metadata": {
    "cell_style": "center",
    "hide_input": true,
    "slideshow": {
     "slide_type": "fragment"
    }
   },
   "source": [
    "2. Other programs, if written in the UNIX way, will feel like they are commands of the shell\n",
    "    - technically externals are not part of the shell\n",
    "    - but there is a whole set of standard external programs that come with UNIX that one relies on to do anything \n",
    "        - including navigating the file system\n",
    "            - see what files and programs exist\n",
    "            - adding, remove and organizing\n",
    "    - by initializing PATH these standard programs *'become'* shell commands\n",
    "    "
   ]
  },
  {
   "cell_type": "markdown",
   "id": "6bd1c7b4",
   "metadata": {
    "cell_style": "center",
    "hide_input": true,
    "slideshow": {
     "slide_type": "fragment"
    }
   },
   "source": [
    "3. A user's programs can naturally extend and customize their command line experience\n",
    "    - place your own programs in to directories eg. put `hello` into `$HOME/bin`\n",
    "    - add these directories to the `PATH` variable eg. `export PATH=$PATH:$HOME/bin`\n",
    "    - foobar is now a 'shell command'"
   ]
  },
  {
   "cell_type": "markdown",
   "id": "96d3ab50",
   "metadata": {
    "cell_style": "center",
    "hide_input": false,
    "slideshow": {
     "slide_type": "slide"
    }
   },
   "source": [
    "    \n",
    "## The UNIX Way\n",
    "\n",
    "<center>\n",
    "\n",
    "### Don't  *Hard code* - Decompose and put the power in the hands of programmers!\n",
    "\n",
    "</center>\n",
    "\n",
    "- break things down into little independent units \n",
    "    - building blocks eg. programs like `ls`, `grep`, and `wc` (even `bash`)\n",
    "        - that compose with what exists \n",
    "        - naturally extends the current environment \n",
    "        - can also be easily over-ridden or customized\n",
    "    - make everything programmable!\n",
    "\n",
    "Pay attention and you will constantly see examples of the above as we explore Unix\n",
    "    "
   ]
  },
  {
   "cell_type": "markdown",
   "id": "d4390865",
   "metadata": {
    "slideshow": {
     "slide_type": "notes"
    }
   },
   "source": [
    "- ls : reads the contents of one or more directories and prints them out\n",
    "- grep : searches ascii data for specified target patterns \n",
    "- wc: can count characters, words and lines of ascii data"
   ]
  },
  {
   "cell_type": "code",
   "execution_count": null,
   "id": "2d81df0e",
   "metadata": {
    "cell_style": "center",
    "hide_input": false,
    "jupyter": {
     "source_hidden": true
    },
    "slideshow": {
     "slide_type": "slide"
    },
    "tags": [
     "remove-input",
     "remove-cell"
    ]
   },
   "outputs": [],
   "source": [
    "display(showTerm(HHTERM,\"\",\"100%\",\"400\"))"
   ]
  },
  {
   "cell_type": "code",
   "execution_count": null,
   "id": "af2db70a",
   "metadata": {
    "hide_input": true,
    "jupyter": {
     "source_hidden": true
    },
    "tags": [
     "remove-input",
     "remove-cell"
    ]
   },
   "outputs": [],
   "source": [
    "display(Markdown(MDBox(w=\"100%\", h=\"200px\", \n",
    "#                       title=\"### The Shell Way\",\n",
    "                       contents='''\n",
    "# The Shell Way\n",
    "\n",
    "## lots of little programs that naturally feel like built-ins\n",
    "- `echo $PATH`\n",
    "   - `ls /bin`\n",
    "      - see `ls` there?\n",
    "      - notice `bash` ;-)\n",
    "   - how can we figure out where `ls` is coming from\n",
    "      - bash has handy built in called `type`\n",
    "        - `help type`\n",
    "        - `type -a ls`\n",
    "   - by tradition all preinstalled programs should have a manual page\n",
    "     - `man ls`\n",
    "     - `man bash`\n",
    "     - `man <something in /bin>`\n",
    "   - many programs also have a help flag \n",
    "        - `ls --help` \n",
    "\n",
    "## extending the shell is easy\n",
    "- set `PATH=\"$HOME/bin:$PATH`\n",
    "  - putting a program or script called `hello` in `$HOME/bin`\n",
    "    - now `$ hello` will feel like a built-in\n",
    "\n",
    "## overide what's there\n",
    "- putting `ls` in `$HOME/bin` will now overide the others\n",
    "- Even override a built in\n",
    "  - `function echo() { builtin echo -n \"myecho: \"; builtin echo $@ }`\n",
    "  - will talk about this one later\n",
    "\n",
    "## natural ways of composing and extending via programming\n",
    "Two important ones:\n",
    "\n",
    "1. shell scripts\n",
    "2. command pipelines\n",
    "\n",
    "### shell provide natural model for composition\n",
    "\n",
    "- put shell commands in a file : eg put this in `hello`\n",
    "``` bash\n",
    "#!/bin/bash\n",
    "echo \"My first shell script\"\n",
    "echo \"hello\"\n",
    "```\n",
    "- mark as executable\n",
    "- now shell will be able to run `hello`\n",
    "\n",
    "### pipeline: allow programs to be easily composed\n",
    "\n",
    "- `ls -1` list files - one per line\n",
    "- `wc -l` counts lines\n",
    "- `ls -l | wc -l` - tells us how man files in this direcotyr\n",
    "- `ls -l /bin | wc -l`\n",
    "-  or to get really fancy\n",
    "  - exploit more knowledge about shell expansion abilities\n",
    "  - `echo $PATH`\n",
    "  - `echo ${PATH//:/ }`\n",
    "  - `ls -1 ${PATH//:/ } | wc -l`\n",
    "     - what do you think this did?  \n",
    "''')))"
   ]
  },
  {
   "cell_type": "markdown",
   "id": "127aa088",
   "metadata": {
    "slideshow": {
     "slide_type": "skip"
    }
   },
   "source": [
    "## The Shell Way\n",
    "\n",
    "### lots of little programs that naturally feel like built-ins\n",
    "- `echo $PATH`\n",
    "   - `ls /bin`\n",
    "      - see `ls` there?\n",
    "      - notice `bash` ;-)\n",
    "   - how can we figure out where `ls` is coming from\n",
    "      - bash has handy built in called `type`\n",
    "        - `help type`\n",
    "        - `type -a ls`\n",
    "   - by tradition all preinstalled programs should have a manual page\n",
    "     - `man ls`\n",
    "     - `man bash`\n",
    "     - `man <something in /bin>`\n",
    "   - many programs also have a help flag \n",
    "        - `ls --help` \n",
    "\n",
    "### extending the shell is easy\n",
    "- set `PATH=\"$HOME/bin:$PATH`\n",
    "  - putting a program or script called `hello` in `$HOME/bin`\n",
    "    - now `$ hello` will feel like a built-in\n",
    "\n",
    "### overide what's there\n",
    "- putting `ls` in `$HOME/bin` will now overide the others\n",
    "- Even override a built in\n",
    "  - `function echo() { builtin echo -n \"myecho: \"; builtin echo $@ }`\n",
    "  - will talk about this one later\n",
    "\n",
    "#### natural ways of composing and extending via programming\n",
    "Two important ones:\n",
    "\n",
    "1. shell scripts\n",
    "2. command pipelines\n",
    "\n",
    "#### shell provide natural model for composition\n",
    "\n",
    "- put shell commands in a file : eg put this in `hello`\n",
    "``` bash\n",
    "#!/bin/bash\n",
    "echo \"My first shell script\"\n",
    "echo \"hello\"\n",
    "```\n",
    "- mark as executable\n",
    "- now shell will be able to run `hello`\n",
    "\n",
    "#### pipeline: allow programs to be easily composed\n",
    "\n",
    "- `ls -1` list files - one per line\n",
    "- `wc -l` counts lines\n",
    "- `ls -l | wc -l` - tells us how man files in this direcotyr\n",
    "- `ls -l /bin | wc -l`\n",
    "-  or to get really fancy\n",
    "  - exploit more knowledge about shell expansion abilities\n",
    "  - `echo $PATH`\n",
    "  - `echo ${PATH//:/ }`\n",
    "  - `ls -1 ${PATH//:/ } | wc -l`\n",
    "     - what do you think this did?  "
   ]
  },
  {
   "cell_type": "markdown",
   "id": "5a9887c3",
   "metadata": {
    "slideshow": {
     "slide_type": "fragment"
    }
   },
   "source": [
    "A lot of the above are just teasers we will be covering these topics in more detail now that we have a more general idea of how things work"
   ]
  },
  {
   "cell_type": "markdown",
   "id": "51037765",
   "metadata": {
    "slideshow": {
     "slide_type": "slide"
    }
   },
   "source": [
    "## Before we end lets reveal more of the Shell  Loop \n",
    "\n",
    "- explore aspects over the next few lectures and the rest of our lives ;-)\n",
    "\n",
    "\n"
   ]
  },
  {
   "cell_type": "markdown",
   "id": "374776f1",
   "metadata": {
    "slideshow": {
     "slide_type": "slide"
    }
   },
   "source": [
    "### Bash Processing Loop for simple commands\n",
    "\n",
    "0. Read input line"
   ]
  },
  {
   "cell_type": "markdown",
   "id": "de3c7c01",
   "metadata": {
    "slideshow": {
     "slide_type": "fragment"
    }
   },
   "source": [
    "1. Splits line into `words` and operators \n",
    "   - applies **quoting** rules as part of this step\n",
    "     - we will cover as much of this as we need to\n",
    "       - eg. examples of when to use `\"\"`, `''`, `/` and no quotes or escapes"
   ]
  },
  {
   "cell_type": "markdown",
   "id": "50653be7",
   "metadata": {
    "slideshow": {
     "slide_type": "fragment"
    }
   },
   "source": [
    "2. **Expansions**: Nine of them we will primarily focus on core aspect of these 3\n",
    "- tilde\n",
    "- variable\n",
    "- filename\n",
    "\n",
    "See notes for more info"
   ]
  },
  {
   "cell_type": "markdown",
   "id": "a2d3e3af",
   "metadata": {
    "slideshow": {
     "slide_type": "notes"
    }
   },
   "source": [
    "    1. Brace Expansion: useful but you can wait to learn about it\n",
    "    2. **Tilde Expansion** : simple and worth knowing\n",
    "    3. *Parameter and Variable Expansion*: really useful to know basics - rest can wait till later\n",
    "    4. Command Substitutions: useful but you can wait to learn about it\n",
    "    5. Arithmetic Expansion: useful but you can wait to learn about it \n",
    "    6. Process Substitutions: subtle you can really wait on this one\n",
    "    7. Word Splitting on expansion results: subtle you can wait on this one\n",
    "    8. **Filename expansion**: basics are a must know\n",
    "    9. Quote removal: nothing really fancy here just removal of left over quotes\n",
    "      - eg. echo \"hello\"\n",
    "      \n",
    "See https://www.gnu.org/software/bash/manual/bash.html#Command-Search-and-Execution\n",
    "\n",
    "See https://www.gnu.org/software/bash/manual/bash.html#Shell-Operation"
   ]
  },
  {
   "cell_type": "markdown",
   "id": "cd1beef1",
   "metadata": {
    "slideshow": {
     "slide_type": "fragment"
    }
   },
   "source": [
    "3. **Redirections**:  how we control where input and output goes\n",
    "   - very important we will cover the basics"
   ]
  },
  {
   "cell_type": "markdown",
   "id": "009bece8",
   "metadata": {
    "slideshow": {
     "slide_type": "fragment"
    }
   },
   "source": [
    "4. Execute the command: (steps 1, 2 and 3 affect how the execution will happen) \n",
    "    1. if command has no slashes '/'\n",
    "      - if there is a 'shell function' who's name matches invoke it: **DONE**\n",
    "      - else look for a matching built-in and invoke it: **DONE**\n",
    "      - else look for matching file in path\n",
    "        - if found then carry on to B\n",
    "        - else print error : **DONE**\n",
    "    2. External program execution: either command had a slash or was found in path\n",
    "      - ask kernel to run program passing copy of arguments and environment variables\n",
    "        - a command can be prefixed with some extra variable assignments\n",
    "      - if kernel request fails\n",
    "        - if failure was due to file not being executable (and it is not a directory)\n",
    "           - then try attempt to run it as a shell script (eg. bash /tmp/hello) : **DONE**\n",
    "        - else print error: **DONE**\n",
    "        \n",
    "5. Optionally waits for command to complete and get return code\n",
    "   - update `$?`  \n",
    " \n",
    "6. Print prompt if Interactive"
   ]
  },
  {
   "cell_type": "markdown",
   "id": "afdcc5b3",
   "metadata": {
    "cell_style": "split",
    "slideshow": {
     "slide_type": "slide"
    }
   },
   "source": [
    "#### Two basic modes\n",
    "1. Interactive:\n",
    "   - Command lines are read from the terminal connection\n",
    "   \n",
    "2. Non-Interactive: \n",
    "   1. Command lines read from a file (Shell scripts)\n",
    "      - explicit: \n",
    "   2. Command line passed "
   ]
  },
  {
   "cell_type": "markdown",
   "id": "0b2e62f1",
   "metadata": {
    "hide_input": true,
    "slideshow": {
     "slide_type": "notes"
    }
   },
   "source": [
    "## NEXT\n",
    "\n",
    "### Now that we understand some basic Terminal and Shell concepts we can get on with learning some more factual / functional information\n",
    "\n",
    "- Syntax of the shell as a programming language: \n",
    "  - What the shell does beyond simple commands:\n",
    "     - loops, if, case, functions, more about variables\n",
    "- More about some the expansions the shell performs\n",
    "- Working with files and directories\n",
    "  - current working directory\n",
    "  - changing directory\n",
    "  - relative vs full path\n",
    "- I/O redirection. \n",
    "- Processes and Process control\n",
    "\n",
    "### After that we will focus on some particular Programming Tools\n"
   ]
  },
  {
   "cell_type": "markdown",
   "id": "1151a7b0",
   "metadata": {
    "slideshow": {
     "slide_type": "slide"
    }
   },
   "source": [
    "## Things worth looking at.\n",
    "\n",
    "- `help`\n",
    "- `man intro`\n",
    "- `man man`\n",
    "- `man bash`  This is very big and detailed. Best to skim it and see what catches you eye. Eg.\n",
    "  - Definitions\n",
    "  - Reserved Words\n",
    "  - Shell Grammar\n",
    "    - Simple Commands\n",
    "    - Pipelines\n",
    "    - Lists\n",
    "    - Compound Commands\n",
    "  - Shell Function Definitions\n",
    "  - Shell Variables\n",
    "  - Expansion \n",
    "- `man ls`\n",
    "- `man wc`\n",
    "- `man grep`\n",
    "- `man <cmd>`\n",
    "\n",
    "- Online official bash manual: https://www.gnu.org/software/bash/manual/bash.html\n",
    "- `whatis` display one-line manual page descriptions\n",
    "  - `man whatis` \n",
    "  - eg.  `whatis ls`\n",
    "- `apropos` search the manual page names and descriptions\n",
    "  - `man apropos` \n",
    "  - eg `apropos games`"
   ]
  }
 ],
 "metadata": {
  "celltoolbar": "Slideshow",
  "hide_input": true,
  "kernelspec": {
   "display_name": "Python 3 (ipykernel)",
   "language": "python",
   "name": "python3"
  },
  "language_info": {
   "codemirror_mode": {
    "name": "ipython",
    "version": 3
   },
   "file_extension": ".py",
   "mimetype": "text/x-python",
   "name": "python",
   "nbconvert_exporter": "python",
   "pygments_lexer": "ipython3",
   "version": "3.9.6"
  },
  "rise": {
   "autolaunch": false,
   "enable_chalkboard": true,
   "footer": "SLS -- Lecture 1",
   "header": "Unix and Shell Intro",
   "height": "100%",
   "scroll": true,
   "start_slideshow_at": "selected",
   "theme": "black",
   "transition": "none",
   "width": "100%"
  }
 },
 "nbformat": 4,
 "nbformat_minor": 5
}
