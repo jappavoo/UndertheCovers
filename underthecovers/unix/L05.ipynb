{
 "cells": [
  {
   "cell_type": "code",
   "execution_count": null,
   "id": "03a8465e",
   "metadata": {
    "hide_input": false,
    "slideshow": {
     "slide_type": "slide"
    },
    "tags": [
     "remove-cell"
    ]
   },
   "outputs": [],
   "source": [
    "%run -i ../python/common.py\n",
    "%run -i ../python/ln_preamble.py\n",
    "mkibox=True"
   ]
  },
  {
   "cell_type": "markdown",
   "id": "e1d6e5e5-b59c-4ca9-b8ae-7bd6d6137ddc",
   "metadata": {},
   "source": [
    "# SLS Lecture 5 : Version Control and GIT: The Basics"
   ]
  },
  {
   "cell_type": "code",
   "execution_count": null,
   "id": "42b64035",
   "metadata": {
    "hide_input": false,
    "tags": [
     "remove-input"
    ]
   },
   "outputs": [],
   "source": [
    "if mkibox: display(mkImgsAnimateBox(dir=\"../images/VersionControl1\"))"
   ]
  },
  {
   "cell_type": "code",
   "execution_count": null,
   "id": "3adf70dc",
   "metadata": {
    "hide_input": true,
    "tags": [
     "remove-cell"
    ]
   },
   "outputs": [],
   "source": [
    "display(showTerm(EDITORTERM,\"\",\"100%\",\"400\"))\n",
    "display(showTerm(DEBUGGERTERM,\"\",\"100%\",\"400\"))"
   ]
  },
  {
   "cell_type": "code",
   "execution_count": null,
   "id": "dfac2a89",
   "metadata": {},
   "outputs": [],
   "source": []
  }
 ],
 "metadata": {
  "celltoolbar": "Tags",
  "hide_input": true,
  "kernelspec": {
   "display_name": "Python 3 (ipykernel)",
   "language": "python",
   "name": "python3"
  },
  "language_info": {
   "codemirror_mode": {
    "name": "ipython",
    "version": 3
   },
   "file_extension": ".py",
   "mimetype": "text/x-python",
   "name": "python",
   "nbconvert_exporter": "python",
   "pygments_lexer": "ipython3",
   "version": "3.10.5"
  },
  "rise": {
   "autolaunch": false,
   "enable_chalkboard": true,
   "footer": "SLS -- Lecture 5",
   "header": "Version Control: GIT Part I",
   "height": "100%",
   "scroll": true,
   "start_slideshow_at": "selected",
   "theme": "black",
   "transition": "none",
   "width": "100%"
  }
 },
 "nbformat": 4,
 "nbformat_minor": 5
}
