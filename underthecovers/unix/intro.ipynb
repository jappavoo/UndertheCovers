{
 "cells": [
  {
   "cell_type": "code",
   "execution_count": null,
   "id": "6fbb11ba",
   "metadata": {
    "hide_input": false,
    "tags": [
     "remove-cell"
    ]
   },
   "outputs": [],
   "source": [
    "%run -i ../python/common.py"
   ]
  },
  {
   "cell_type": "markdown",
   "id": "533047c6",
   "metadata": {},
   "source": [
    "# Operating Systems and UNIX\n",
    "\n",
    "We call the collection of software that we use to make a \"computer\"  \"useful\" an operating system.  But what exactly does this mean?\n",
    "\n",
    "\n",
    "## Computer\n",
    "\n",
    "Today a computer can take many forms from desktop Personal Computers (PCs), laptops, mobile phones, tablets, building scale super-computers, etc.  In some sense the defining property we care about is that the device supports a classic model for programming it -- we call this model the von Neumann architecture.  We will discuss this model in much more detail when we start considering exactly how software and hardware work with respect to [assembly language](../assembly/intro.ipynb).   Below illustrates how we will visually represent a generic von Neumann based computer and summarizes what we need to know for now."
   ]
  },
  {
   "cell_type": "code",
   "execution_count": null,
   "id": "57509ec0",
   "metadata": {
    "cell_style": "center",
    "hide_input": true,
    "tags": [
     "remove-input"
    ]
   },
   "outputs": [],
   "source": [
    "display(Markdown(htmlFig(\"../images/SLS_TheMachine.png\", \n",
    "              align=\"left\", \n",
    "              margin=\"auto 3em 0 auto\", \n",
    "              width=\"100%\", id=\"fig:vnm\", \n",
    "             caption=\"Figure: Our illustration of a von Neumann computer\")))"
   ]
  },
  {
   "cell_type": "markdown",
   "id": "be7d785b",
   "metadata": {
    "cell_style": "center",
    "hide_input": true
   },
   "source": [
    "**Central Processing Unit (CPU):** \n",
    "- the smart bits that \"execute\" the instructions of software, also called the processor.\n",
    "\n",
    "**Memory**\n",
    "- the devices that hold the instructions and data that make up the running software\n",
    "- physically connected to the CPU via direct wiring -- often referred to as RAM, main memory, etc\n",
    "- fast, power hungry and volatile (values are lost when electricity is lost)\n",
    "\n",
    "**I/O devices** -- for the moment we only consider two categories\n",
    "- Storage devices:\n",
    "  - hard drives, ssd's, flash memory, flash drives/usb sticks, etc\n",
    "  - slow and large compared to main memory\n",
    "  - requires much more complicated programming to access its data compared to Memory\n",
    "  - non-volatile (keep their values even when they don't have electricity)\n",
    "- Communication devices:\n",
    "  - allow connections to the outside world \n",
    "  - networks, terminals, usb devices -- keyboards, mice, etc.\n",
    "\n",
    "For the moment it suffices to say that programming a computer means being able to apply your knowledge of a programming language and existing software to have the computer do something you want it to.  For example, edit photos, play music, maintain a list of grocery items, calculate PI, send email, browse the web, test if a molecule might have promise as a new vaccine, automatically adjust the temperature of your home, control a car, etc. \n",
    "\n",
    "\n",
    "\n",
    "### Programmer vs User\n",
    "\n",
    "To be honest many people simply care that the computer can run existing programs -- we will call these folks \"Users\". However, \"Programmers\" are a special type of user.  Programmers use Operating Systems, and other software tools to create new programs themselves.  As a matter of fact some programmers simply focus on developing programs that make writing programs easier -- like the folks that develop the operating system software, programming languages, editors, etc.  \n",
    "In reality, many people simply care that the computer can run existing programs -- we will call these folks \"Users\". However, \"Programmers\" are a special type of user.  Programmers use Operating Systems, and other software tools to create new programs themselves.  As a matter of fact some programmers simply focus on developing programs that make writing programs easier -- like the folks that develop the operating system software, programming languages, editors, etc.  \n",
    "\n",
    "## Useful\n",
    "\n",
    "So from our perspective, the main aspects of the operating system, that we care about, is that it makes it easy for programmers to create new programs.  In addition, we would like an operating system that does not hide things from us so that we can explore how programs (and computers) work.  \n",
    "\n",
    "Operating Systems are designed and created with specific uses and hardware in mind.  Some are designed for special purpose computers and the programs that are expected to run on them like computers built into an airplane to control its various parts or a super-computer which is expected to run complex and large scientific simulation programs.  While other operating systems are designed primarily to enable users to install and run commercial-grade programs on their personal devices.  These operating systems while they do enable programmers to write new programs, they are designed to hide most of these aspects from their \"normal\" target user.  Those users mainly just want to use programs written by others.  The interface of these operating systems tends to focus on graphics and visually oriented ways of interacting with programs.\n",
    "\n",
    "## UNIX\n",
    "\n",
    "<img align=\"right\" src=\"../images/Unix.gif\" width=\"25%\" style=\"margin: auto auto auto auto\"> \n",
    "UNIX on the other hand assumes that its users are primarily programmers.  Its design and collection of tools are not meant to be particularly user friendly.   Rather UNIX is designed to allow programmers to be very productive and to support a broad range of programming tools.  Many of the concepts and mechanisms of UNIX underly, are in, other operating systems but have been hidden or obscured to make things easier for their non-programmer users.  \n",
    "\n",
    "\n",
    "\n",
    "### An operating System Built by Programmers for Programmers\n",
    "\n",
    "The [UNIX](https://www.opengroup.org/membership/forums/platform/unix) operating system was built by master programmers who valued programmability and productivity.  In some sense, learning to work on the UNIX systems is a right of passage that not only teaches you how to be productive on a computer running the UNIX operating system but teaches you to think and act like a programmer.\n",
    "\n",
    "Given its programming focus UNIX is organized around two categories of software -- kernel and user.  The kernel is a component of the UNIX that users of UNIX do not directly interact with.  It is the core software that is used to manage the various devices of the computer and construct an environment that allows programmers to create new users programs.  The idea is that very little is really built into UNIX rather its users are encouraged to write lots of small programs that build on the functionality of the kernel to do useful things.  The kernel's main job is to provide the ability to run new program, provide those programs with access to the hardware, and provide common ways for programs to interconnect, work together.   \n",
    "\n",
    "I know this all sounds a bit recursive -- welcome to computer science.  As we start interacting with UNIX it will make more sense. \n",
    "\n",
    "> <img style=\"margin: 1em auto 0 0;\" align=\"left\" width=\"60px\" src=\"../images/history.png\"> <p style=\"background-color:powderblue;\"> Unix recently celebrated its 50th year Anniversary. <br>\n",
    "    [50 Years of Unix](https://www.bell-labs.com/about/history/innovation-stories/50-years-unix/#gref) <br>\n",
    "The people and its history are a fascinating journey into how we have gotten to where we are today. <br>\n",
    "  [The Strange birth and long life of Unix](https://spectrum.ieee.org/the-strange-birth-and-long-life-of-unix#toggle-gdpr) <br>\n",
    "  UNIX and it's children literally make our digital world go around and will likely continue to do so for the quite some time. \n",
    "</p>\n",
    "\n",
    "<a id='UnixKernel_sec'></a>\n",
    "### The Kernel\n",
    "\n",
    "The Kernel is the bottom layer of software that has direct access to all the hardware.  There is a single instance of the kernel that bootstraps the hardware.  It provides a means for starting application programs (often also called user programs).  The kernel performs and provides several important abilities.\n",
    "\n",
    "1. The kernel enables several user programs to run at the same time.\n",
    "2. The kernel keeps each running user program isolated from each other -- such that each program can behave as if it is the only program running.\n",
    "3. The kernel provides facilities for managing the running programs, eg. listing, pausing, terminating, etc.\n",
    "4. While user programs can be started and can end the kernel is always present and running.  If it ends it means the your computer has crashed!\n",
    "5. The kernel provides a collection of ever present functions and objects that programs/programmers can rely on:\n",
    "4. While user programs can be started and can end the kernel is always present and running.  If it ends, it means your computer has crashed!\n",
    "5. The kernel provides a collection of ever-present functions and objects that programs/programmers can rely on:\n",
    "    - It provides core \"software\" \"abstractions\" packaged in the form of a library of kernel functions.\n",
    "        - These functions make it easier for programs to use the hardware.\n",
    "        - The kernel ensures that these functions behave consistently across different hardware.\n",
    "    - These functions hide the details and complexity of the hardware devices from the programs and thus the programmers who wrote them.  For example, a Unix kernel provides programs with the generic abstraction of a [\"file\"](../unix/files.ipynb) that allows programs to create, store, and recall data on storage devices without ever needing to know any details of the devices themselves. \n",
    "\n",
    "<img style=\"margin: 10px 0px 0px 0px;\" align=\"left\" width=\"60\" src=\"../images/warning.svg\"> <p style=\"background-color:rgb(255, 250, 230);\"> A critical point of the Unix design: **Humans do not and cannot directly interact with the kernel, only User Programs can interact with the kernel by invoking kernel functions**.  This design promotes and encourages that the rest of the operating systems and for that matter all other software be viewed as separated from the kernel.  As such it encourages a building block approach where several alternatives for any given OS feature, like human interface programs, can be added, supported and explored while the kernel remains without change.  The goal is to empower programmers to grow and extend the system in a natural and seamless way. \n",
    "\n",
    "It is worth noting most modern operating systems have adopted this basic organization where there is a base kernel component and a large collection of pre-packaged user programs.  \n",
    "\n",
    "<a id='UnixUser_sec'></a>\n",
    "### User Programs \n",
    "\n",
    "Largely what most people think of when they think of an OS is the large body of pre-packaged user programs that can be installed with the kernel of the OS.   Typically there are at least three categories of user programs, including:\n",
    "1. Display Servers:  These are collections of programs designed to operate specific devices for human interaction such as graphical screens, keyboards, mice, touch pads, touch screens, etc.  The first layer of this software (after the kernel) is typically some form of [Windowing System](https://en.wikipedia.org/wiki/Windowing_system#Display_server).  Examples include Microsoft's [Desktop Window Manager](https://en.wikipedia.org/wiki/Desktop_Window_Manager), Apple's [Quartz Compositor](https://en.wikipedia.org/wiki/Quartz_Compositor) and the [X Window System](https://en.wikipedia.org/wiki/X_Window_System) traditionally used by Unix operating systems. Today we are also seeing the rise of using web-browsers to present a graphical interface system this includes [Jupyter Lab](https://en.wikipedia.org/wiki/Project_Jupyter#JupyterLab) which we make use of.   However, as in the case of Unix, older systems they typically retain support for their rich older [ASCII terminal devices](../unix/terminal.ipynb) in the form of command line shell programs ([Shell](../unix/shellintro.ipynb)). \n",
    "\n",
    "1. Display Servers:  These are collections of programs designed to operate specific devices for human interaction such as graphical screens, keyboards, mice, touch pads, touch screens, etc.  The first layer of this software (after the kernel) is typically some form of [Windowing System](https://en.wikipedia.org/wiki/Windowing_system#Display_server).  Examples include Microsoft's [Desktop Window Manager](https://en.wikipedia.org/wiki/Desktop_Window_Manager), Apple's [Quartz Compositor](https://en.wikipedia.org/wiki/Quartz_Compositor) and the [X Window System](https://en.wikipedia.org/wiki/X_Window_System) traditionally used by Unix operating systems. Today we are also seeing the rise of using web-browsers to present a graphical interface system this includes [Jupyter Lab](https://en.wikipedia.org/wiki/Project_Jupyter#JupyterLab) which we make use of.   However, as in the case of Unix, older systems they typically retain support for their rich older [ASCII terminal devices](../unix/terminal.ipynb) in the form of command line shell programs ([Shell](../unix/shellintro.ipynb)).\n",
    "\n",
    "2. [File Managers](https://en.wikipedia.org/wiki/File_manager):  Programs that work with a Display Server and provide a human the ability to explore and find information about the other programs and data installed.  Examples include Apple's [Finder](https://en.wikipedia.org/wiki/Finder_(software)) and Microsoft's [File Manager](https://en.wikipedia.org/wiki/File_Manager_(Windows)).\n",
    "\n",
    "3. Other: There is a highly variable collection of software that form the rest of the user programs.  This body largely depending on the OS and its intended target audience.   In the case of OS's that are geared to personal computers this set of software includes:  media programs, web-browsers, productivity applications and more.  While not always standard, the tools for developing new programs also fall in this category.   These include program editors, programming languages and debuggers.  A hallmark of Unix is the rich body of programming tools associated with it (including the tools to rebuild the kernel itself).    \n",
    "\n",
    "One of the distinguishing features of Unix is its standard user command line programs that are geared towards programmers (https://en.wikipedia.org/wiki/List_of_Unix_commands).  While they lack graphical interfaces and are [ASCII](../unix/terminal.ipynb#ASCII_sec)/command line oriented they form a very rich and powerful set of building blocks that allow a knowledgeable programmer to rapidly create turnkey solutions including the; text searching and transformation, data wrangling, automation, as well as the development and debugging of large applications. "
   ]
  },
  {
   "cell_type": "markdown",
   "id": "da17ab91",
   "metadata": {},
   "source": [
    "<a id='UnixViz_sec'></a>\n",
    "### Visualizing a Unix system"
   ]
  },
  {
   "cell_type": "code",
   "execution_count": null,
   "id": "765f6c5a",
   "metadata": {
    "hide_input": false,
    "tags": [
     "remove-input"
    ]
   },
   "outputs": [],
   "source": [
    "display(Markdown(htmlFig(\"../images/UnixRunning.png\",\n",
    "             caption=\"Figure: Running Unix system.\", \n",
    "             width=\"50%\", align=\"right\", \n",
    "             id=\"fig:runningunix\",\n",
    "             margin=\"auto auto auto 1.5em\") + '''          \n",
    "We visualized a running Unix system with the Hardware of the computer at the bottom, shaded \n",
    "blue, and the running software, shaded in green, above it.  The Unix Kernel is a persistent \n",
    "program that forms the foundation for launching and running instances of user programs and \n",
    "is illustrated as the green oval labeled \"UNIX Kernel\".  The smaller green circles represent \n",
    "the currently running programs that have been started. Each time a program is started we \n",
    "visualize a new circle representing a new running instances of the program.   In the diagram \n",
    "each is labeled with the program that was used to start it. Each instance is independent and \n",
    "has its own \"life-time\".   If a specific running instance of a program ends, crashes or is \n",
    "terminated (killed) by the user we would remove its circle.  So while in reality we can't \n",
    "physically see the programs running we none the less think of the running software as forming \n",
    "a world of its own, inside the machine, with the kernel enabling its construction and management.\n",
    "'''))"
   ]
  },
  {
   "cell_type": "markdown",
   "id": "d9698029-b5c0-40c7-b45a-6349ade7642c",
   "metadata": {},
   "source": [
    "#### Processes and Executables\n",
    "\n",
    "In UNIX, a running program is called a **process**. A program that a process can be created from is called and **executable**.   In some sense, this book is a journey into understanding what exactly these are, how they relate to each other, the operating system, and ultimately the hardware.   "
   ]
  },
  {
   "cell_type": "markdown",
   "id": "2c31714c",
   "metadata": {
    "hide_input": false
   },
   "source": [
    "### Benefits to studying UNIX\n",
    "\n",
    "UNIX's terminal interface and program development environment became the gold standard for university Computer Science education.  The following are some of the reasons it became so and why it continues to be critical both academically, scientifically, and industrially. \n",
    "\n",
    "The most basic interface it presents, the [Shell](../unix/shellintro.ipynb), is a programmer-oriented model for interacting with the computer.  Furthermore, Unix comes with a large collection of composable and extensible tools for processing ASCII documents that naturally integrate and extend the power of the Shell.  These tools make it easy to write new programs including programs that translate ASCII documents from source code in one language into source code of another language.\n",
    "\n",
    "While it takes some effort to learn its strange command line interface, doing so teaches you to think like a programmer.  Where you are encouraged to write little re-usable programs that you incrementally evolve as needed and combine with others to get big tasks done.  Generally trying to avoid any particular program from getting too complicated.  \n",
    "\n",
    "UNIX also does is not prescriptive on how you should do things.  Rather, it provides a large collection of simple building blocks that you can learn to creatively use to meet your needs.  The investment in learning its building blocks and models for composing them minimizes time and effort in going from an idea to a prototype.  UNIX's programming-oriented nature leads to an environment in which almost anything about the OS and user experience can be customized and programmed.  UNIX makes automation the name of the game -- largely everything you can do manually can be turned into a program that automates the task. \n",
    "\n",
    "UNIX has instilled in generations of computer scientists a basic aesthetic for how to design and structure complicated collections of software.  In particular one learns that the designers of UNIX tried to structure the system around a small core set of ideas, \"abstractions\", that once understood allows a programmer to understand the rest of the system and how to get things done.   In UNIX, this set includes: Files, Processes, I/O redirection, Users, and Groups.  All of which we will cover late in this book.  \n",
    "\n",
    "UNIX's programming friendly nature has lead to the development of a very large and rich body of existing software for UNIX.    With contributions coming from researchers, industry, students and hobbyists  alike.  This body of software has come to be a large scale shared human repository that we rely on heavily.  The computer servers that form the core of the Internet and the Cloud largely run a UNIX variant called Linux.  Many of the computers embedded in the devices that surround us from wifi routers, medical devices, automobiles, and everything else also often run a version of Linux.  But perhaps most critically UNIX, in the form of Linux, is a corner stone of the Open Source software ecosystem.\n",
    "\n",
    "\n",
    "\n",
    "## Bottomline\n",
    "\n",
    "UNIX comes with the kernel and a large collection of existing programs that permit a programmer to write more programs, that they and others can use.   In this book, we will focus on what a program really is, how they are constructed and along the way the core tools, skills and ideas that underly all of computing.  Given UNIX's programmer focus and transparency it is a good choice for us. Furthermore, learning how to be productive in the UNIX environment will teach us a lot about being productive programmers period.\n",
    "    \n",
    "> <img style=\"display: inline; margin: 1em auto auto auto;\" align=\"left\" width=\"60px\" src=\"../images/fyi.png\"> <p style=\"background-color:powderblue;\"> \n",
    "    *What is LINUX?*: Linux or more formally GNU/Linux is an open source variant of the UNIX operating system that is in heavy use today. Every imaginable type of computer runs Linux.  In some sense, it has become the computing equivalent of both \"The Force\" and \"Duct Tape\".    It is worth noting that Linux began its life because a University student got interested in Operating Systems and was frustrated with the current \"Closed\" state of the art. \n",
    "   <img align=\"right\" width=\"60\" src=\"../images/tux.png\">\n",
    "</p>"
   ]
  },
  {
   "cell_type": "markdown",
   "id": "e53718c2",
   "metadata": {
    "hide_input": true,
    "tags": [
     "remove-cell"
    ]
   },
   "source": [
    "## HIDDEN FROM BOOK\n",
    "This Markdown that I want to hide from the juputer book"
   ]
  }
 ],
 "metadata": {
  "celltoolbar": "Tags",
  "hide_input": true,
  "kernelspec": {
   "language": "python",
   "name": "python3"
  },
  "language_info": {
   "codemirror_mode": {
    "name": "ipython",
    "version": 3
   },
   "file_extension": ".py",
   "mimetype": "text/x-python",
   "name": "python",
   "nbconvert_exporter": "python",
   "pygments_lexer": "ipython3",
   "version": "3.10.5"
  }
 },
 "nbformat": 4,
 "nbformat_minor": 5
}
