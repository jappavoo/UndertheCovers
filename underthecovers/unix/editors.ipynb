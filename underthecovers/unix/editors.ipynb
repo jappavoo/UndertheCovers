{
 "cells": [
  {
   "cell_type": "markdown",
   "id": "92873fb0-b7c2-4964-8d9c-e75ea6340254",
   "metadata": {},
   "source": [
    "# Editors\n",
    "This chapter is under construction, accompanying lecture material can be found [here](https://jappavoo.github.io/UndertheCovers/lecturenotes/unix/L04.html)\n",
    "\n",
    "[How to view the lecture notes](https://jappavoo.github.io/UndertheCovers/lecturenotes/lnhowto.html)"
   ]
  },
  {
   "cell_type": "code",
   "execution_count": null,
   "id": "3ede76cc-a47d-4655-ac23-5fe825949f7a",
   "metadata": {},
   "outputs": [],
   "source": []
  }
 ],
 "metadata": {
  "kernelspec": {
   "display_name": "Python 3 (ipykernel)",
   "language": "python",
   "name": "python3"
  },
  "language_info": {
   "codemirror_mode": {
    "name": "ipython",
    "version": 3
   },
   "file_extension": ".py",
   "mimetype": "text/x-python",
   "name": "python",
   "nbconvert_exporter": "python",
   "pygments_lexer": "ipython3",
   "version": "3.9.6"
  }
 },
 "nbformat": 4,
 "nbformat_minor": 5
}
